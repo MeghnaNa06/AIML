





<!DOCTYPE html>
<html lang="en" data-color-mode="auto" data-light-theme="light" data-dark-theme="dark"  data-a11y-animated-images="system" data-a11y-link-underlines="true">



  <head>
    <meta charset="utf-8">
  <link rel="dns-prefetch" href="https://github.githubassets.com">
  <link rel="dns-prefetch" href="https://avatars.githubusercontent.com">
  <link rel="dns-prefetch" href="https://github-cloud.s3.amazonaws.com">
  <link rel="dns-prefetch" href="https://user-images.githubusercontent.com/">
  <link rel="preconnect" href="https://github.githubassets.com" crossorigin>
  <link rel="preconnect" href="https://avatars.githubusercontent.com">

  


  <link crossorigin="anonymous" media="all" rel="stylesheet" href="https://github.githubassets.com/assets/light-b92e9647318f.css" /><link crossorigin="anonymous" media="all" rel="stylesheet" href="https://github.githubassets.com/assets/dark-5d486a4ede8e.css" /><link data-color-theme="dark_dimmed" crossorigin="anonymous" media="all" rel="stylesheet" data-href="https://github.githubassets.com/assets/dark_dimmed-27c8d635e4e5.css" /><link data-color-theme="dark_high_contrast" crossorigin="anonymous" media="all" rel="stylesheet" data-href="https://github.githubassets.com/assets/dark_high_contrast-8438e75afd36.css" /><link data-color-theme="dark_colorblind" crossorigin="anonymous" media="all" rel="stylesheet" data-href="https://github.githubassets.com/assets/dark_colorblind-bf5665b96628.css" /><link data-color-theme="light_colorblind" crossorigin="anonymous" media="all" rel="stylesheet" data-href="https://github.githubassets.com/assets/light_colorblind-c414b5ba1dce.css" /><link data-color-theme="light_high_contrast" crossorigin="anonymous" media="all" rel="stylesheet" data-href="https://github.githubassets.com/assets/light_high_contrast-e5868b7374db.css" /><link data-color-theme="light_tritanopia" crossorigin="anonymous" media="all" rel="stylesheet" data-href="https://github.githubassets.com/assets/light_tritanopia-299ac9c64ec0.css" /><link data-color-theme="dark_tritanopia" crossorigin="anonymous" media="all" rel="stylesheet" data-href="https://github.githubassets.com/assets/dark_tritanopia-3a26e78ad0ff.css" />
    <link crossorigin="anonymous" media="all" rel="stylesheet" href="https://github.githubassets.com/assets/primer-primitives-363ec1831c26.css" />
    <link crossorigin="anonymous" media="all" rel="stylesheet" href="https://github.githubassets.com/assets/primer-0cdc607a5517.css" />
    <link crossorigin="anonymous" media="all" rel="stylesheet" href="https://github.githubassets.com/assets/global-812f905e26ae.css" />
    <link crossorigin="anonymous" media="all" rel="stylesheet" href="https://github.githubassets.com/assets/github-1d0d18e4c55d.css" />
  <link crossorigin="anonymous" media="all" rel="stylesheet" href="https://github.githubassets.com/assets/code-6fabf4042dbb.css" />

  

  <script type="application/json" id="client-env">{"locale":"en","featureFlags":["copilot_conversational_ux_streaming","failbot_handle_non_errors","geojson_azure_maps","image_metric_tracking","navigation_intercepts","repository_suggester_elastic_search","turbo_experiment_risky","sample_network_conn_type","upload_manifest_status","initial_emu_login_experience"]}</script>
<script crossorigin="anonymous" defer="defer" type="application/javascript" src="https://github.githubassets.com/assets/wp-runtime-e27716b31ef3.js"></script>
<script crossorigin="anonymous" defer="defer" type="application/javascript" src="https://github.githubassets.com/assets/vendors-node_modules_dompurify_dist_purify_js-6890e890956f.js"></script>
<script crossorigin="anonymous" defer="defer" type="application/javascript" src="https://github.githubassets.com/assets/vendors-node_modules_stacktrace-parser_dist_stack-trace-parser_esm_js-node_modules_github_bro-a4c183-79f9611c275b.js"></script>
<script crossorigin="anonymous" defer="defer" type="application/javascript" src="https://github.githubassets.com/assets/ui_packages_soft-nav_soft-nav_ts-6a5fadd2ef71.js"></script>
<script crossorigin="anonymous" defer="defer" type="application/javascript" src="https://github.githubassets.com/assets/environment-569829d98e9a.js"></script>
<script crossorigin="anonymous" defer="defer" type="application/javascript" src="https://github.githubassets.com/assets/vendors-node_modules_github_selector-observer_dist_index_esm_js-9f960d9b217c.js"></script>
<script crossorigin="anonymous" defer="defer" type="application/javascript" src="https://github.githubassets.com/assets/vendors-node_modules_primer_behaviors_dist_esm_focus-zone_js-d9ce45da2851.js"></script>
<script crossorigin="anonymous" defer="defer" type="application/javascript" src="https://github.githubassets.com/assets/vendors-node_modules_github_relative-time-element_dist_index_js-c6fd49e3fd28.js"></script>
<script crossorigin="anonymous" defer="defer" type="application/javascript" src="https://github.githubassets.com/assets/vendors-node_modules_fzy_js_index_js-node_modules_github_combobox-nav_dist_index_js-node_modu-344bff-421f7a8c1008.js"></script>
<script crossorigin="anonymous" defer="defer" type="application/javascript" src="https://github.githubassets.com/assets/vendors-node_modules_delegated-events_dist_index_js-node_modules_github_details-dialog-elemen-29dc30-a2a71f11a507.js"></script>
<script crossorigin="anonymous" defer="defer" type="application/javascript" src="https://github.githubassets.com/assets/vendors-node_modules_github_filter-input-element_dist_index_js-node_modules_github_remote-inp-59c459-e74bf552c5b7.js"></script>
<script crossorigin="anonymous" defer="defer" type="application/javascript" src="https://github.githubassets.com/assets/vendors-node_modules_github_file-attachment-element_dist_index_js-node_modules_primer_view-co-2c6968-7efe64de2a90.js"></script>
<script crossorigin="anonymous" defer="defer" type="application/javascript" src="https://github.githubassets.com/assets/github-elements-ba6b32e5a9a8.js"></script>
<script crossorigin="anonymous" defer="defer" type="application/javascript" src="https://github.githubassets.com/assets/element-registry-063a0c168bc0.js"></script>
<script crossorigin="anonymous" defer="defer" type="application/javascript" src="https://github.githubassets.com/assets/vendors-node_modules_github_catalyst_lib_index_js-node_modules_github_hydro-analytics-client_-978abc0-15861e0630b6.js"></script>
<script crossorigin="anonymous" defer="defer" type="application/javascript" src="https://github.githubassets.com/assets/vendors-node_modules_lit-html_lit-html_js-5b376145beff.js"></script>
<script crossorigin="anonymous" defer="defer" type="application/javascript" src="https://github.githubassets.com/assets/vendors-node_modules_github_mini-throttle_dist_index_js-node_modules_github_alive-client_dist-bf5aa2-1b562c29ab8e.js"></script>
<script crossorigin="anonymous" defer="defer" type="application/javascript" src="https://github.githubassets.com/assets/vendors-node_modules_morphdom_dist_morphdom-esm_js-5bff297a06de.js"></script>
<script crossorigin="anonymous" defer="defer" type="application/javascript" src="https://github.githubassets.com/assets/vendors-node_modules_github_turbo_dist_turbo_es2017-esm_js-ec51a0f6e881.js"></script>
<script crossorigin="anonymous" defer="defer" type="application/javascript" src="https://github.githubassets.com/assets/vendors-node_modules_color-convert_index_js-72c9fbde5ad4.js"></script>
<script crossorigin="anonymous" defer="defer" type="application/javascript" src="https://github.githubassets.com/assets/vendors-node_modules_primer_behaviors_dist_esm_dimensions_js-node_modules_github_hotkey_dist_-8755d2-ec4637d64646.js"></script>
<script crossorigin="anonymous" defer="defer" type="application/javascript" src="https://github.githubassets.com/assets/vendors-node_modules_github_session-resume_dist_index_js-node_modules_primer_behaviors_dist_e-ac74c6-637fd908cfc1.js"></script>
<script crossorigin="anonymous" defer="defer" type="application/javascript" src="https://github.githubassets.com/assets/vendors-node_modules_github_paste-markdown_dist_index_esm_js-node_modules_github_quote-select-854ff4-b51f787f0875.js"></script>
<script crossorigin="anonymous" defer="defer" type="application/javascript" src="https://github.githubassets.com/assets/ui_packages_details-dialog_details-dialog_ts-ui_packages_fetch-utils_fetch-utils_ts-78f25ba16cd9.js"></script>
<script crossorigin="anonymous" defer="defer" type="application/javascript" src="https://github.githubassets.com/assets/app_assets_modules_github_updatable-content_ts-ui_packages_hydro-analytics_hydro-analytics_ts-6ab1a34074c8.js"></script>
<script crossorigin="anonymous" defer="defer" type="application/javascript" src="https://github.githubassets.com/assets/app_assets_modules_github_behaviors_task-list_ts-app_assets_modules_github_onfocus_ts-app_ass-079b43-23f6fa8625a3.js"></script>
<script crossorigin="anonymous" defer="defer" type="application/javascript" src="https://github.githubassets.com/assets/app_assets_modules_github_sticky-scroll-into-view_ts-f982282c5c39.js"></script>
<script crossorigin="anonymous" defer="defer" type="application/javascript" src="https://github.githubassets.com/assets/app_assets_modules_github_behaviors_ajax-error_ts-app_assets_modules_github_behaviors_include-2e2258-178d980b559e.js"></script>
<script crossorigin="anonymous" defer="defer" type="application/javascript" src="https://github.githubassets.com/assets/app_assets_modules_github_behaviors_commenting_edit_ts-app_assets_modules_github_behaviors_ht-83c235-b85e9f4f1304.js"></script>
<script crossorigin="anonymous" defer="defer" type="application/javascript" src="https://github.githubassets.com/assets/behaviors-6ef4f561d19c.js"></script>
<script crossorigin="anonymous" defer="defer" type="application/javascript" src="https://github.githubassets.com/assets/vendors-node_modules_delegated-events_dist_index_js-node_modules_github_catalyst_lib_index_js-d0256ebff5cd.js"></script>
<script crossorigin="anonymous" defer="defer" type="application/javascript" src="https://github.githubassets.com/assets/notifications-global-99d196517b1b.js"></script>
<script crossorigin="anonymous" defer="defer" type="application/javascript" src="https://github.githubassets.com/assets/code-menu-9ea38b1fd5ad.js"></script>
  
  <script crossorigin="anonymous" defer="defer" type="application/javascript" src="https://github.githubassets.com/assets/react-lib-1fbfc5be2c18.js"></script>
<script crossorigin="anonymous" defer="defer" type="application/javascript" src="https://github.githubassets.com/assets/vendors-node_modules_primer_octicons-react_dist_index_esm_js-node_modules_primer_react_lib-es-2e8e7c-247c295eeaf1.js"></script>
<script crossorigin="anonymous" defer="defer" type="application/javascript" src="https://github.githubassets.com/assets/vendors-node_modules_primer_react_lib-esm_Box_Box_js-ebfceb11fb57.js"></script>
<script crossorigin="anonymous" defer="defer" type="application/javascript" src="https://github.githubassets.com/assets/vendors-node_modules_primer_react_lib-esm_Button_Button_js-2c03574279a4.js"></script>
<script crossorigin="anonymous" defer="defer" type="application/javascript" src="https://github.githubassets.com/assets/vendors-node_modules_primer_react_node_modules_primer_octicons-react_dist_index_esm_js-b7ee689f7e82.js"></script>
<script crossorigin="anonymous" defer="defer" type="application/javascript" src="https://github.githubassets.com/assets/vendors-node_modules_primer_react_lib-esm_ActionList_index_js-05af137c5ad6.js"></script>
<script crossorigin="anonymous" defer="defer" type="application/javascript" src="https://github.githubassets.com/assets/vendors-node_modules_primer_react_lib-esm_Overlay_Overlay_js-node_modules_primer_react_lib-es-fa1130-93cd4ad2134b.js"></script>
<script crossorigin="anonymous" defer="defer" type="application/javascript" src="https://github.githubassets.com/assets/vendors-node_modules_primer_react_lib-esm_Text_Text_js-node_modules_primer_react_lib-esm_Text-85a14b-ca4d6b3260ee.js"></script>
<script crossorigin="anonymous" defer="defer" type="application/javascript" src="https://github.githubassets.com/assets/vendors-node_modules_primer_react_lib-esm_ActionMenu_ActionMenu_js-96f432e90dd7.js"></script>
<script crossorigin="anonymous" defer="defer" type="application/javascript" src="https://github.githubassets.com/assets/vendors-node_modules_primer_react_lib-esm_FormControl_FormControl_js-5131bd7eeb33.js"></script>
<script crossorigin="anonymous" defer="defer" type="application/javascript" src="https://github.githubassets.com/assets/vendors-node_modules_react-router-dom_dist_index_js-6df0edbb3b11.js"></script>
<script crossorigin="anonymous" defer="defer" type="application/javascript" src="https://github.githubassets.com/assets/vendors-node_modules_primer_react_lib-esm_PageLayout_PageLayout_js-24d6ba8d558a.js"></script>
<script crossorigin="anonymous" defer="defer" type="application/javascript" src="https://github.githubassets.com/assets/vendors-node_modules_primer_react_lib-esm_Dialog_js-node_modules_primer_react_lib-esm_Flash_F-09301c-ec9e680afcb9.js"></script>
<script crossorigin="anonymous" defer="defer" type="application/javascript" src="https://github.githubassets.com/assets/vendors-node_modules_primer_react_lib-esm_UnderlineNav_index_js-20b50c38337d.js"></script>
<script crossorigin="anonymous" defer="defer" type="application/javascript" src="https://github.githubassets.com/assets/vendors-node_modules_primer_react_lib-esm_Avatar_Avatar_js-node_modules_primer_react_lib-esm_-9bd36c-820ec65fc8a7.js"></script>
<script crossorigin="anonymous" defer="defer" type="application/javascript" src="https://github.githubassets.com/assets/vendors-node_modules_primer_react_lib-esm_AvatarStack_AvatarStack_js-node_modules_primer_reac-6d3540-2062f6d23588.js"></script>
<script crossorigin="anonymous" defer="defer" type="application/javascript" src="https://github.githubassets.com/assets/vendors-node_modules_primer_react_lib-esm_Breadcrumbs_Breadcrumbs_js-node_modules_primer_reac-f6e577-f60e7c5b589b.js"></script>
<script crossorigin="anonymous" defer="defer" type="application/javascript" src="https://github.githubassets.com/assets/ui_packages_react-core_create-browser-history_ts-ui_packages_react-core_deferred-registry_ts--ebbb92-f862877dad23.js"></script>
<script crossorigin="anonymous" defer="defer" type="application/javascript" src="https://github.githubassets.com/assets/ui_packages_react-core_register-app_ts-cfbfe681ee6a.js"></script>
<script crossorigin="anonymous" defer="defer" type="application/javascript" src="https://github.githubassets.com/assets/ui_packages_paths_index_ts-fcb72307957b.js"></script>
<script crossorigin="anonymous" defer="defer" type="application/javascript" src="https://github.githubassets.com/assets/ui_packages_ref-selector_RefSelector_tsx-1b0b3577eaae.js"></script>
<script crossorigin="anonymous" defer="defer" type="application/javascript" src="https://github.githubassets.com/assets/app_assets_modules_github_blob-anchor_ts-app_assets_modules_github_filter-sort_ts-app_assets_-681869-8a5ee1cd58b5.js"></script>
<script crossorigin="anonymous" defer="defer" type="application/javascript" src="https://github.githubassets.com/assets/ui_packages_commit-attribution_index_ts-ui_packages_commit-checks-status_index_ts-ui_packages-907665-1d9a6ee0c9ce.js"></script>
<script crossorigin="anonymous" defer="defer" type="application/javascript" src="https://github.githubassets.com/assets/app_assets_modules_react-code-view_pages_CodeView_tsx-537683b89705.js"></script>
<script crossorigin="anonymous" defer="defer" type="application/javascript" src="https://github.githubassets.com/assets/react-code-view-c4d7fd2ecec5.js"></script>


  <title>Handwritten_digit_classification/MNIST_Digit_Classification.ipynb at main · harshitasaini469/Handwritten_digit_classification</title>



  <meta name="route-pattern" content="/:user_id/:repository/blob/*name(/*path)">

    
  <meta name="current-catalog-service-hash" content="82c569b93da5c18ed649ebd4c2c79437db4611a6a1373e805a3cb001c64130b7">


  <meta name="request-id" content="21C2:6FA19:82548F:8BFF3A:655B4FF0" data-turbo-transient="true" /><meta name="html-safe-nonce" content="b57a4821d0d2394df1fdc6ebbbcf3bb342e44a9e0c18648a94dc89cb45ca143b" data-turbo-transient="true" /><meta name="visitor-payload" content="eyJyZWZlcnJlciI6Imh0dHBzOi8vZ2l0aHViLmNvbS9oYXJzaGl0YXNhaW5pNDY5L0hhbmR3cml0dGVuX2RpZ2l0X2NsYXNzaWZpY2F0aW9uIiwicmVxdWVzdF9pZCI6IjIxQzI6NkZBMTk6ODI1NDhGOjhCRkYzQTo2NTVCNEZGMCIsInZpc2l0b3JfaWQiOiI0OTU1NzQ4ODIzNjI3ODQwMjExIiwicmVnaW9uX2VkZ2UiOiJjZW50cmFsaW5kaWEiLCJyZWdpb25fcmVuZGVyIjoiaWFkIn0=" data-turbo-transient="true" /><meta name="visitor-hmac" content="7f16cedb53eb2f4164f367874a77d70d819932c30b9da4ed3af1f76f0da1ad9f" data-turbo-transient="true" />


    <meta name="hovercard-subject-tag" content="repository:559847298" data-turbo-transient>


  <meta name="github-keyboard-shortcuts" content="repository,source-code,file-tree" data-turbo-transient="true" />
  

  <meta name="selected-link" value="repo_source" data-turbo-transient>
  <link rel="assets" href="https://github.githubassets.com/">

    <meta name="google-site-verification" content="c1kuD-K2HIVF635lypcsWPoD4kilo5-jA_wBFyT4uMY">
  <meta name="google-site-verification" content="KT5gs8h0wvaagLKAVWq8bbeNwnZZK1r1XQysX3xurLU">
  <meta name="google-site-verification" content="ZzhVyEFwb7w3e0-uOTltm8Jsck2F5StVihD0exw2fsA">
  <meta name="google-site-verification" content="GXs5KoUUkNCoaAZn7wPN-t01Pywp9M3sEjnt_3_ZWPc">
  <meta name="google-site-verification" content="Apib7-x98H0j5cPqHWwSMm6dNU4GmODRoqxLiDzdx9I">

<meta name="octolytics-url" content="https://collector.github.com/github/collect" /><meta name="octolytics-actor-id" content="104413637" /><meta name="octolytics-actor-login" content="MeghnaNa06" /><meta name="octolytics-actor-hash" content="4b69cf38fe856a57561678f053f4e47e151c91f522d884bdedb73949a04aff54" />

  <meta name="analytics-location" content="/&lt;user-name&gt;/&lt;repo-name&gt;/blob/show" data-turbo-transient="true" />

  




  

    <meta name="user-login" content="MeghnaNa06">

  <link rel="sudo-modal" href="/sessions/sudo_modal">

    <meta name="viewport" content="width=device-width">
    
      <meta name="description" content="Contribute to harshitasaini469/Handwritten_digit_classification development by creating an account on GitHub.">
      <link rel="search" type="application/opensearchdescription+xml" href="/opensearch.xml" title="GitHub">
    <link rel="fluid-icon" href="https://github.com/fluidicon.png" title="GitHub">
    <meta property="fb:app_id" content="1401488693436528">
    <meta name="apple-itunes-app" content="app-id=1477376905, app-argument=https://github.com/harshitasaini469/Handwritten_digit_classification/blob/main/MNIST_Digit_Classification.ipynb" />
      <meta name="twitter:image:src" content="https://avatars.githubusercontent.com/u/91948987?s=400&amp;v=4" /><meta name="twitter:site" content="@github" /><meta name="twitter:card" content="summary" /><meta name="twitter:title" content="Handwritten_digit_classification/MNIST_Digit_Classification.ipynb at main · harshitasaini469/Handwritten_digit_classification" /><meta name="twitter:description" content="Contribute to harshitasaini469/Handwritten_digit_classification development by creating an account on GitHub." />
      <meta property="og:image" content="https://avatars.githubusercontent.com/u/91948987?s=400&amp;v=4" /><meta property="og:image:alt" content="Contribute to harshitasaini469/Handwritten_digit_classification development by creating an account on GitHub." /><meta property="og:site_name" content="GitHub" /><meta property="og:type" content="object" /><meta property="og:title" content="Handwritten_digit_classification/MNIST_Digit_Classification.ipynb at main · harshitasaini469/Handwritten_digit_classification" /><meta property="og:url" content="https://github.com/harshitasaini469/Handwritten_digit_classification/blob/main/MNIST_Digit_Classification.ipynb" /><meta property="og:description" content="Contribute to harshitasaini469/Handwritten_digit_classification development by creating an account on GitHub." />
      

      <link rel="shared-web-socket" href="wss://alive.github.com/_sockets/u/104413637/ws?session=eyJ2IjoiVjMiLCJ1IjoxMDQ0MTM2MzcsInMiOjEyNTA1NDc0NDcsImMiOjIwNzY1MDMwODUsInQiOjE3MDA0ODMwNTZ9--a39d67267b618ae89039dbae7f049c8540c16bc23b2392fd804b381cd921b997" data-refresh-url="/_alive" data-session-id="de6e049459d70b6509f4cd6ba31e34465850ee379378fe1ac9aa4a33332c5d8b">
      <link rel="shared-web-socket-src" href="/assets-cdn/worker/socket-worker-9cc1149b224c.js">


        <meta name="hostname" content="github.com">


      <meta name="keyboard-shortcuts-preference" content="all">

        <meta name="expected-hostname" content="github.com">


  <meta http-equiv="x-pjax-version" content="ad5733cb543cf116dd5f6ee63e000c23ef97f6d8c523292d2ce3b0a028a452fd" data-turbo-track="reload">
  <meta http-equiv="x-pjax-csp-version" content="9b5ad58eebbf477e6c2b5d47b42dd4c8a9f84009f1ecddd9661dce01b224f7e2" data-turbo-track="reload">
  <meta http-equiv="x-pjax-css-version" content="41e04b7f83620faf6f5e5a1a214d0df678f5dd6a5ee2c3429209d4f0e4075e23" data-turbo-track="reload">
  <meta http-equiv="x-pjax-js-version" content="b8056024bb2fafcacc57cd4c2ecfb2e2645d72697d6ba562bbc4e2702e198f83" data-turbo-track="reload">

  <meta name="turbo-cache-control" content="no-preview" data-turbo-transient="">

      <meta name="turbo-cache-control" content="no-cache" data-turbo-transient>
    <meta data-hydrostats="publish">

  <meta name="go-import" content="github.com/harshitasaini469/Handwritten_digit_classification git https://github.com/harshitasaini469/Handwritten_digit_classification.git">

  <meta name="octolytics-dimension-user_id" content="91948987" /><meta name="octolytics-dimension-user_login" content="harshitasaini469" /><meta name="octolytics-dimension-repository_id" content="559847298" /><meta name="octolytics-dimension-repository_nwo" content="harshitasaini469/Handwritten_digit_classification" /><meta name="octolytics-dimension-repository_public" content="false" /><meta name="octolytics-dimension-repository_is_fork" content="false" /><meta name="octolytics-dimension-repository_network_root_id" content="559847298" /><meta name="octolytics-dimension-repository_network_root_nwo" content="harshitasaini469/Handwritten_digit_classification" />



  <meta name="turbo-body-classes" content="logged-in env-production page-responsive">


  <meta name="browser-stats-url" content="https://api.github.com/_private/browser/stats">

  <meta name="browser-errors-url" content="https://api.github.com/_private/browser/errors">

  <meta name="browser-optimizely-client-errors-url" content="https://api.github.com/_private/browser/optimizely_client/errors">

  <link rel="mask-icon" href="https://github.githubassets.com/assets/pinned-octocat-093da3e6fa40.svg" color="#000000">
  <link rel="alternate icon" class="js-site-favicon" type="image/png" href="https://github.githubassets.com/favicons/favicon.png">
  <link rel="icon" class="js-site-favicon" type="image/svg+xml" href="https://github.githubassets.com/favicons/favicon.svg">

<meta name="theme-color" content="#1e2327">
<meta name="color-scheme" content="light dark" />


  <link rel="manifest" href="/manifest.json" crossOrigin="use-credentials">

  </head>

  <body class="logged-in env-production page-responsive" style="word-wrap: break-word;">
    <div data-turbo-body class="logged-in env-production page-responsive" style="word-wrap: break-word;">
      


    <div class="position-relative js-header-wrapper ">
      <a href="#start-of-content" class="p-3 color-bg-accent-emphasis color-fg-on-emphasis show-on-focus js-skip-to-content">Skip to content</a>
      <span data-view-component="true" class="progress-pjax-loader Progress position-fixed width-full">
    <span style="width: 0%;" data-view-component="true" class="Progress-item progress-pjax-loader-bar left-0 top-0 color-bg-accent-emphasis"></span>
</span>      
      


      

        <script crossorigin="anonymous" defer="defer" type="application/javascript" src="https://github.githubassets.com/assets/vendors-node_modules_allex_crc32_lib_crc32_esm_js-node_modules_github_mini-throttle_dist_deco-b38cad-748e74df23ce.js"></script>
<script crossorigin="anonymous" defer="defer" type="application/javascript" src="https://github.githubassets.com/assets/vendors-node_modules_github_clipboard-copy-element_dist_index_esm_js-node_modules_delegated-e-b37f7d-671dd1307711.js"></script>
<script crossorigin="anonymous" defer="defer" type="application/javascript" src="https://github.githubassets.com/assets/app_assets_modules_github_command-palette_items_help-item_ts-app_assets_modules_github_comman-48ad9d-18e29694b13b.js"></script>
<script crossorigin="anonymous" defer="defer" type="application/javascript" src="https://github.githubassets.com/assets/command-palette-04e8be9c3229.js"></script>

            <header class="AppHeader">
    

    <div class="AppHeader-globalBar pb-2 js-global-bar">
      <div class="AppHeader-globalBar-start">
          <deferred-side-panel data-url="/_side-panels/global">
  <include-fragment data-target="deferred-side-panel.fragment">
      
  <button aria-label="Open global navigation menu" data-action="click:deferred-side-panel#loadPanel click:deferred-side-panel#panelOpened" data-show-dialog-id="dialog-d9b3f7ae-f35b-4690-bfaa-23b8cb3e4310" id="dialog-show-dialog-d9b3f7ae-f35b-4690-bfaa-23b8cb3e4310" type="button" data-view-component="true" class="Button Button--iconOnly Button--secondary Button--medium AppHeader-button color-bg-transparent p-0 color-fg-muted">    <svg aria-hidden="true" height="16" viewBox="0 0 16 16" version="1.1" width="16" data-view-component="true" class="octicon octicon-three-bars Button-visual">
    <path d="M1 2.75A.75.75 0 0 1 1.75 2h12.5a.75.75 0 0 1 0 1.5H1.75A.75.75 0 0 1 1 2.75Zm0 5A.75.75 0 0 1 1.75 7h12.5a.75.75 0 0 1 0 1.5H1.75A.75.75 0 0 1 1 7.75ZM1.75 12h12.5a.75.75 0 0 1 0 1.5H1.75a.75.75 0 0 1 0-1.5Z"></path>
</svg>
</button>  

<div class="Overlay--hidden Overlay-backdrop--side Overlay-backdrop--placement-left" data-modal-dialog-overlay>
  <modal-dialog data-target="deferred-side-panel.panel" role="dialog" id="dialog-d9b3f7ae-f35b-4690-bfaa-23b8cb3e4310" aria-modal="true" aria-disabled="true" aria-labelledby="dialog-d9b3f7ae-f35b-4690-bfaa-23b8cb3e4310-title" aria-describedby="dialog-d9b3f7ae-f35b-4690-bfaa-23b8cb3e4310-description" data-view-component="true" class="Overlay Overlay-whenNarrow Overlay--size-small-portrait Overlay--motion-scaleFade SidePanel">
    <div styles="flex-direction: row;" data-view-component="true" class="Overlay-header">
  <div class="Overlay-headerContentWrap">
    <div class="Overlay-titleWrap">
      <h1 class="Overlay-title sr-only" id="dialog-d9b3f7ae-f35b-4690-bfaa-23b8cb3e4310-title">
        Global navigation
      </h1>
            <div data-view-component="true" class="d-flex">
      <div data-view-component="true" class="AppHeader-logo position-relative">
        <svg aria-hidden="true" height="24" viewBox="0 0 16 16" version="1.1" width="24" data-view-component="true" class="octicon octicon-mark-github">
    <path d="M8 0c4.42 0 8 3.58 8 8a8.013 8.013 0 0 1-5.45 7.59c-.4.08-.55-.17-.55-.38 0-.27.01-1.13.01-2.2 0-.75-.25-1.23-.54-1.48 1.78-.2 3.65-.88 3.65-3.95 0-.88-.31-1.59-.82-2.15.08-.2.36-1.02-.08-2.12 0 0-.67-.22-2.2.82-.64-.18-1.32-.27-2-.27-.68 0-1.36.09-2 .27-1.53-1.03-2.2-.82-2.2-.82-.44 1.1-.16 1.92-.08 2.12-.51.56-.82 1.28-.82 2.15 0 3.06 1.86 3.75 3.64 3.95-.23.2-.44.55-.51 1.07-.46.21-1.61.55-2.33-.66-.15-.24-.6-.83-1.23-.82-.67.01-.27.38.01.53.34.19.73.9.82 1.13.16.45.68 1.31 2.69.94 0 .67.01 1.3.01 1.49 0 .21-.15.45-.55.38A7.995 7.995 0 0 1 0 8c0-4.42 3.58-8 8-8Z"></path>
</svg>
</div></div>
    </div>
    <div class="Overlay-actionWrap">
      <button data-close-dialog-id="dialog-d9b3f7ae-f35b-4690-bfaa-23b8cb3e4310" aria-label="Close" type="button" data-view-component="true" class="close-button Overlay-closeButton"><svg aria-hidden="true" height="16" viewBox="0 0 16 16" version="1.1" width="16" data-view-component="true" class="octicon octicon-x">
    <path d="M3.72 3.72a.75.75 0 0 1 1.06 0L8 6.94l3.22-3.22a.749.749 0 0 1 1.275.326.749.749 0 0 1-.215.734L9.06 8l3.22 3.22a.749.749 0 0 1-.326 1.275.749.749 0 0 1-.734-.215L8 9.06l-3.22 3.22a.751.751 0 0 1-1.042-.018.751.751 0 0 1-.018-1.042L6.94 8 3.72 4.78a.75.75 0 0 1 0-1.06Z"></path>
</svg></button>
    </div>
  </div>
</div>
      <div data-view-component="true" class="Overlay-body d-flex flex-column px-2">    <div data-view-component="true" class="d-flex flex-column mb-3">
        <nav aria-label="Site navigation" data-view-component="true" class="ActionList">
  
  <nav-list>
    <ul data-view-component="true" class="ActionListWrap">
        
          
<li data-item-id="" data-targets="nav-list.items" data-view-component="true" class="ActionListItem">
    
    <a data-hotkey="g d" data-analytics-event="{&quot;category&quot;:&quot;Global navigation&quot;,&quot;action&quot;:&quot;HOME&quot;,&quot;label&quot;:null}" id="item-1bb3dee1-2259-4e10-981e-2e8044f8096f" href="/dashboard" data-view-component="true" class="ActionListContent ActionListContent--visual16">
        <span class="ActionListItem-visual ActionListItem-visual--leading">
          <svg aria-hidden="true" height="16" viewBox="0 0 16 16" version="1.1" width="16" data-view-component="true" class="octicon octicon-home">
    <path d="M6.906.664a1.749 1.749 0 0 1 2.187 0l5.25 4.2c.415.332.657.835.657 1.367v7.019A1.75 1.75 0 0 1 13.25 15h-3.5a.75.75 0 0 1-.75-.75V9H7v5.25a.75.75 0 0 1-.75.75h-3.5A1.75 1.75 0 0 1 1 13.25V6.23c0-.531.242-1.034.657-1.366l5.25-4.2Zm1.25 1.171a.25.25 0 0 0-.312 0l-5.25 4.2a.25.25 0 0 0-.094.196v7.019c0 .138.112.25.25.25H5.5V8.25a.75.75 0 0 1 .75-.75h3.5a.75.75 0 0 1 .75.75v5.25h2.75a.25.25 0 0 0 .25-.25V6.23a.25.25 0 0 0-.094-.195Z"></path>
</svg>
        </span>
      
        <span data-view-component="true" class="ActionListItem-label">
          Home
</span></a>
  
  
</li>

        
          
<li data-item-id="" data-targets="nav-list.items" data-view-component="true" class="ActionListItem">
    
    <a data-hotkey="g i" data-analytics-event="{&quot;category&quot;:&quot;Global navigation&quot;,&quot;action&quot;:&quot;ISSUES&quot;,&quot;label&quot;:null}" id="item-d863c4f0-131e-4746-961d-ad2cc5934444" href="/issues" data-view-component="true" class="ActionListContent ActionListContent--visual16">
        <span class="ActionListItem-visual ActionListItem-visual--leading">
          <svg aria-hidden="true" height="16" viewBox="0 0 16 16" version="1.1" width="16" data-view-component="true" class="octicon octicon-issue-opened">
    <path d="M8 9.5a1.5 1.5 0 1 0 0-3 1.5 1.5 0 0 0 0 3Z"></path><path d="M8 0a8 8 0 1 1 0 16A8 8 0 0 1 8 0ZM1.5 8a6.5 6.5 0 1 0 13 0 6.5 6.5 0 0 0-13 0Z"></path>
</svg>
        </span>
      
        <span data-view-component="true" class="ActionListItem-label">
          Issues
</span></a>
  
  
</li>

        
          
<li data-item-id="" data-targets="nav-list.items" data-view-component="true" class="ActionListItem">
    
    <a data-hotkey="g p" data-analytics-event="{&quot;category&quot;:&quot;Global navigation&quot;,&quot;action&quot;:&quot;PULL_REQUESTS&quot;,&quot;label&quot;:null}" id="item-44c43955-76bb-404e-ac99-58fd35b49f26" href="/pulls" data-view-component="true" class="ActionListContent ActionListContent--visual16">
        <span class="ActionListItem-visual ActionListItem-visual--leading">
          <svg aria-hidden="true" height="16" viewBox="0 0 16 16" version="1.1" width="16" data-view-component="true" class="octicon octicon-git-pull-request">
    <path d="M1.5 3.25a2.25 2.25 0 1 1 3 2.122v5.256a2.251 2.251 0 1 1-1.5 0V5.372A2.25 2.25 0 0 1 1.5 3.25Zm5.677-.177L9.573.677A.25.25 0 0 1 10 .854V2.5h1A2.5 2.5 0 0 1 13.5 5v5.628a2.251 2.251 0 1 1-1.5 0V5a1 1 0 0 0-1-1h-1v1.646a.25.25 0 0 1-.427.177L7.177 3.427a.25.25 0 0 1 0-.354ZM3.75 2.5a.75.75 0 1 0 0 1.5.75.75 0 0 0 0-1.5Zm0 9.5a.75.75 0 1 0 0 1.5.75.75 0 0 0 0-1.5Zm8.25.75a.75.75 0 1 0 1.5 0 .75.75 0 0 0-1.5 0Z"></path>
</svg>
        </span>
      
        <span data-view-component="true" class="ActionListItem-label">
          Pull requests
</span></a>
  
  
</li>

        
          
<li data-item-id="" data-targets="nav-list.items" data-view-component="true" class="ActionListItem">
    
    <a data-analytics-event="{&quot;category&quot;:&quot;Global navigation&quot;,&quot;action&quot;:&quot;DISCUSSIONS&quot;,&quot;label&quot;:null}" id="item-4c96cb27-8cc1-41aa-a264-5a2c2cc97952" href="/discussions" data-view-component="true" class="ActionListContent ActionListContent--visual16">
        <span class="ActionListItem-visual ActionListItem-visual--leading">
          <svg aria-hidden="true" height="16" viewBox="0 0 16 16" version="1.1" width="16" data-view-component="true" class="octicon octicon-comment-discussion">
    <path d="M1.75 1h8.5c.966 0 1.75.784 1.75 1.75v5.5A1.75 1.75 0 0 1 10.25 10H7.061l-2.574 2.573A1.458 1.458 0 0 1 2 11.543V10h-.25A1.75 1.75 0 0 1 0 8.25v-5.5C0 1.784.784 1 1.75 1ZM1.5 2.75v5.5c0 .138.112.25.25.25h1a.75.75 0 0 1 .75.75v2.19l2.72-2.72a.749.749 0 0 1 .53-.22h3.5a.25.25 0 0 0 .25-.25v-5.5a.25.25 0 0 0-.25-.25h-8.5a.25.25 0 0 0-.25.25Zm13 2a.25.25 0 0 0-.25-.25h-.5a.75.75 0 0 1 0-1.5h.5c.966 0 1.75.784 1.75 1.75v5.5A1.75 1.75 0 0 1 14.25 12H14v1.543a1.458 1.458 0 0 1-2.487 1.03L9.22 12.28a.749.749 0 0 1 .326-1.275.749.749 0 0 1 .734.215l2.22 2.22v-2.19a.75.75 0 0 1 .75-.75h1a.25.25 0 0 0 .25-.25Z"></path>
</svg>
        </span>
      
        <span data-view-component="true" class="ActionListItem-label">
          Discussions
</span></a>
  
  
</li>

        
          
<li data-item-id="" data-targets="nav-list.items" data-view-component="true" class="ActionListItem">
    
    <a data-analytics-event="{&quot;category&quot;:&quot;Global navigation&quot;,&quot;action&quot;:&quot;CODESPACES&quot;,&quot;label&quot;:null}" id="item-1336cb40-ab2c-42a7-9ee8-f3cf518a5199" href="https://github.com/codespaces" data-view-component="true" class="ActionListContent ActionListContent--visual16">
        <span class="ActionListItem-visual ActionListItem-visual--leading">
          <svg aria-hidden="true" height="16" viewBox="0 0 16 16" version="1.1" width="16" data-view-component="true" class="octicon octicon-codespaces">
    <path d="M0 11.25c0-.966.784-1.75 1.75-1.75h12.5c.966 0 1.75.784 1.75 1.75v3A1.75 1.75 0 0 1 14.25 16H1.75A1.75 1.75 0 0 1 0 14.25Zm2-9.5C2 .784 2.784 0 3.75 0h8.5C13.216 0 14 .784 14 1.75v5a1.75 1.75 0 0 1-1.75 1.75h-8.5A1.75 1.75 0 0 1 2 6.75Zm1.75-.25a.25.25 0 0 0-.25.25v5c0 .138.112.25.25.25h8.5a.25.25 0 0 0 .25-.25v-5a.25.25 0 0 0-.25-.25Zm-2 9.5a.25.25 0 0 0-.25.25v3c0 .138.112.25.25.25h12.5a.25.25 0 0 0 .25-.25v-3a.25.25 0 0 0-.25-.25Z"></path><path d="M7 12.75a.75.75 0 0 1 .75-.75h4.5a.75.75 0 0 1 0 1.5h-4.5a.75.75 0 0 1-.75-.75Zm-4 0a.75.75 0 0 1 .75-.75h.5a.75.75 0 0 1 0 1.5h-.5a.75.75 0 0 1-.75-.75Z"></path>
</svg>
        </span>
      
        <span data-view-component="true" class="ActionListItem-label">
          Codespaces
</span></a>
  
  
</li>

        
          <li role="presentation" aria-hidden="true" data-view-component="true" class="ActionList-sectionDivider"></li>
        
          
<li data-item-id="" data-targets="nav-list.items" data-view-component="true" class="ActionListItem">
    
    <a data-analytics-event="{&quot;category&quot;:&quot;Global navigation&quot;,&quot;action&quot;:&quot;EXPLORE&quot;,&quot;label&quot;:null}" id="item-4742e47c-a0f9-4638-a938-6dfae9dee686" href="/explore" data-view-component="true" class="ActionListContent ActionListContent--visual16">
        <span class="ActionListItem-visual ActionListItem-visual--leading">
          <svg aria-hidden="true" height="16" viewBox="0 0 16 16" version="1.1" width="16" data-view-component="true" class="octicon octicon-telescope">
    <path d="M14.184 1.143v-.001l1.422 2.464a1.75 1.75 0 0 1-.757 2.451L3.104 11.713a1.75 1.75 0 0 1-2.275-.702l-.447-.775a1.75 1.75 0 0 1 .53-2.32L11.682.573a1.748 1.748 0 0 1 2.502.57Zm-4.709 9.32h-.001l2.644 3.863a.75.75 0 1 1-1.238.848l-1.881-2.75v2.826a.75.75 0 0 1-1.5 0v-2.826l-1.881 2.75a.75.75 0 1 1-1.238-.848l2.049-2.992a.746.746 0 0 1 .293-.253l1.809-.87a.749.749 0 0 1 .944.252ZM9.436 3.92h-.001l-4.97 3.39.942 1.63 5.42-2.61Zm3.091-2.108h.001l-1.85 1.26 1.505 2.605 2.016-.97a.247.247 0 0 0 .13-.151.247.247 0 0 0-.022-.199l-1.422-2.464a.253.253 0 0 0-.161-.119.254.254 0 0 0-.197.038ZM1.756 9.157a.25.25 0 0 0-.075.33l.447.775a.25.25 0 0 0 .325.1l1.598-.769-.83-1.436-1.465 1Z"></path>
</svg>
        </span>
      
        <span data-view-component="true" class="ActionListItem-label">
          Explore
</span></a>
  
  
</li>

        
          
<li data-item-id="" data-targets="nav-list.items" data-view-component="true" class="ActionListItem">
    
    <a data-analytics-event="{&quot;category&quot;:&quot;Global navigation&quot;,&quot;action&quot;:&quot;MARKETPLACE&quot;,&quot;label&quot;:null}" id="item-92df6d8a-0bd7-4761-a265-a883fd63cd0f" href="/marketplace" data-view-component="true" class="ActionListContent ActionListContent--visual16">
        <span class="ActionListItem-visual ActionListItem-visual--leading">
          <svg aria-hidden="true" height="16" viewBox="0 0 16 16" version="1.1" width="16" data-view-component="true" class="octicon octicon-gift">
    <path d="M2 2.75A2.75 2.75 0 0 1 4.75 0c.983 0 1.873.42 2.57 1.232.268.318.497.668.68 1.042.183-.375.411-.725.68-1.044C9.376.42 10.266 0 11.25 0a2.75 2.75 0 0 1 2.45 4h.55c.966 0 1.75.784 1.75 1.75v2c0 .698-.409 1.301-1 1.582v4.918A1.75 1.75 0 0 1 13.25 16H2.75A1.75 1.75 0 0 1 1 14.25V9.332C.409 9.05 0 8.448 0 7.75v-2C0 4.784.784 4 1.75 4h.55c-.192-.375-.3-.8-.3-1.25ZM7.25 9.5H2.5v4.75c0 .138.112.25.25.25h4.5Zm1.5 0v5h4.5a.25.25 0 0 0 .25-.25V9.5Zm0-4V8h5.5a.25.25 0 0 0 .25-.25v-2a.25.25 0 0 0-.25-.25Zm-7 0a.25.25 0 0 0-.25.25v2c0 .138.112.25.25.25h5.5V5.5h-5.5Zm3-4a1.25 1.25 0 0 0 0 2.5h2.309c-.233-.818-.542-1.401-.878-1.793-.43-.502-.915-.707-1.431-.707ZM8.941 4h2.309a1.25 1.25 0 0 0 0-2.5c-.516 0-1 .205-1.43.707-.337.392-.646.975-.879 1.793Z"></path>
</svg>
        </span>
      
        <span data-view-component="true" class="ActionListItem-label">
          Marketplace
</span></a>
  
  
</li>

</ul>  </nav-list>
</nav>

        <div data-view-component="true" class="my-3 d-flex flex-justify-center height-full">
          <svg style="box-sizing: content-box; color: var(--color-icon-primary);" width="16" height="16" viewBox="0 0 16 16" fill="none" data-view-component="true" class="anim-rotate">
  <circle cx="8" cy="8" r="7" stroke="currentColor" stroke-opacity="0.25" stroke-width="2" vector-effect="non-scaling-stroke" fill="none" />
  <path d="M15 8a7.002 7.002 0 00-7-7" stroke="currentColor" stroke-width="2" stroke-linecap="round" vector-effect="non-scaling-stroke" />
</svg>
</div>
</div>
      <div data-view-component="true" class="flex-1"></div>


      <div data-view-component="true" class="px-2">      <p class="color-fg-subtle text-small text-light">&copy; 2023 GitHub, Inc.</p>

      <div data-view-component="true" class="d-flex text-small text-light">
          <a target="_blank" href="/about" data-view-component="true" class="Link mr-2">About</a>
          <a target="_blank" href="https://github.blog" data-view-component="true" class="Link mr-2">Blog</a>
          <a target="_blank" href="https://docs.github.com/site-policy/github-terms/github-terms-of-service" data-view-component="true" class="Link mr-2">Terms</a>
          <a target="_blank" href="https://docs.github.com/site-policy/privacy-policies/github-privacy-statement" data-view-component="true" class="Link mr-2">Privacy</a>
          <a target="_blank" href="/security" data-view-component="true" class="Link mr-2">Security</a>
        <a target="_blank" href="https://www.githubstatus.com/" data-view-component="true" class="Link mr-3">Status</a>
</div></div>
</div>
      
</modal-dialog></div>

  </include-fragment>
</deferred-side-panel>

        <a
          class="AppHeader-logo ml-2"
          href="https://github.com/"
          data-hotkey="g d"
          aria-label="Homepage "
          data-turbo="false"
          data-analytics-event="{&quot;category&quot;:&quot;Header&quot;,&quot;action&quot;:&quot;go to dashboard&quot;,&quot;label&quot;:&quot;icon:logo&quot;}"
        >
          <svg height="32" aria-hidden="true" viewBox="0 0 16 16" version="1.1" width="32" data-view-component="true" class="octicon octicon-mark-github v-align-middle color-fg-default">
    <path d="M8 0c4.42 0 8 3.58 8 8a8.013 8.013 0 0 1-5.45 7.59c-.4.08-.55-.17-.55-.38 0-.27.01-1.13.01-2.2 0-.75-.25-1.23-.54-1.48 1.78-.2 3.65-.88 3.65-3.95 0-.88-.31-1.59-.82-2.15.08-.2.36-1.02-.08-2.12 0 0-.67-.22-2.2.82-.64-.18-1.32-.27-2-.27-.68 0-1.36.09-2 .27-1.53-1.03-2.2-.82-2.2-.82-.44 1.1-.16 1.92-.08 2.12-.51.56-.82 1.28-.82 2.15 0 3.06 1.86 3.75 3.64 3.95-.23.2-.44.55-.51 1.07-.46.21-1.61.55-2.33-.66-.15-.24-.6-.83-1.23-.82-.67.01-.27.38.01.53.34.19.73.9.82 1.13.16.45.68 1.31 2.69.94 0 .67.01 1.3.01 1.49 0 .21-.15.45-.55.38A7.995 7.995 0 0 1 0 8c0-4.42 3.58-8 8-8Z"></path>
</svg>
        </a>

          <div class="AppHeader-context" >
  <div class="AppHeader-context-compact">
        <button aria-expanded="false" aria-haspopup="dialog" aria-label="Page context: harshitasaini469 / Handwritten_digit_classification" id="dialog-show-context-region-dialog" data-show-dialog-id="context-region-dialog" type="button" data-view-component="true" class="AppHeader-context-compact-trigger Truncate Button--secondary Button--medium Button box-shadow-none">    <span class="Button-content">
      <span class="Button-label"><span class="AppHeader-context-compact-lead">
                <span class="AppHeader-context-compact-parentItem">harshitasaini469</span>
                <span class="no-wrap">&nbsp;/</span>

            </span>

            <strong class="AppHeader-context-compact-mainItem d-flex flex-items-center Truncate" >
  <span class="Truncate-text ">Handwritten_digit_classification</span>

    <svg aria-hidden="true" height="12" viewBox="0 0 16 16" version="1.1" width="12" data-view-component="true" class="octicon octicon-lock ml-1">
    <path d="M4 4a4 4 0 0 1 8 0v2h.25c.966 0 1.75.784 1.75 1.75v5.5A1.75 1.75 0 0 1 12.25 15h-8.5A1.75 1.75 0 0 1 2 13.25v-5.5C2 6.784 2.784 6 3.75 6H4Zm8.25 3.5h-8.5a.25.25 0 0 0-.25.25v5.5c0 .138.112.25.25.25h8.5a.25.25 0 0 0 .25-.25v-5.5a.25.25 0 0 0-.25-.25ZM10.5 6V4a2.5 2.5 0 1 0-5 0v2Z"></path>
</svg>
</strong></span>
    </span>
</button>  

<div class="Overlay--hidden Overlay-backdrop--center" data-modal-dialog-overlay>
  <modal-dialog role="dialog" id="context-region-dialog" aria-modal="true" aria-disabled="true" aria-labelledby="context-region-dialog-title" aria-describedby="context-region-dialog-description" data-view-component="true" class="Overlay Overlay-whenNarrow Overlay--size-medium Overlay--motion-scaleFade">
    <div data-view-component="true" class="Overlay-header">
  <div class="Overlay-headerContentWrap">
    <div class="Overlay-titleWrap">
      <h1 class="Overlay-title " id="context-region-dialog-title">
        Navigate back to
      </h1>
    </div>
    <div class="Overlay-actionWrap">
      <button data-close-dialog-id="context-region-dialog" aria-label="Close" type="button" data-view-component="true" class="close-button Overlay-closeButton"><svg aria-hidden="true" height="16" viewBox="0 0 16 16" version="1.1" width="16" data-view-component="true" class="octicon octicon-x">
    <path d="M3.72 3.72a.75.75 0 0 1 1.06 0L8 6.94l3.22-3.22a.749.749 0 0 1 1.275.326.749.749 0 0 1-.215.734L9.06 8l3.22 3.22a.749.749 0 0 1-.326 1.275.749.749 0 0 1-.734-.215L8 9.06l-3.22 3.22a.751.751 0 0 1-1.042-.018.751.751 0 0 1-.018-1.042L6.94 8 3.72 4.78a.75.75 0 0 1 0-1.06Z"></path>
</svg></button>
    </div>
  </div>
</div>
      <div data-view-component="true" class="Overlay-body">          <ul role="list" class="list-style-none" >
    <li>
      <a data-analytics-event="{&quot;category&quot;:&quot;SiteHeaderComponent&quot;,&quot;action&quot;:&quot;context_region_crumb&quot;,&quot;label&quot;:&quot;harshitasaini469&quot;,&quot;screen_size&quot;:&quot;compact&quot;}" href="/harshitasaini469" data-view-component="true" class="Link--primary Truncate d-flex flex-items-center py-1">
        <span class="AppHeader-context-item-label Truncate-text ">
            <svg aria-hidden="true" height="12" viewBox="0 0 16 16" version="1.1" width="12" data-view-component="true" class="octicon octicon-person mr-1">
    <path d="M10.561 8.073a6.005 6.005 0 0 1 3.432 5.142.75.75 0 1 1-1.498.07 4.5 4.5 0 0 0-8.99 0 .75.75 0 0 1-1.498-.07 6.004 6.004 0 0 1 3.431-5.142 3.999 3.999 0 1 1 5.123 0ZM10.5 5a2.5 2.5 0 1 0-5 0 2.5 2.5 0 0 0 5 0Z"></path>
</svg>

          harshitasaini469
        </span>

</a>
    </li>
    <li>
      <a data-analytics-event="{&quot;category&quot;:&quot;SiteHeaderComponent&quot;,&quot;action&quot;:&quot;context_region_crumb&quot;,&quot;label&quot;:&quot;Handwritten_digit_classification&quot;,&quot;screen_size&quot;:&quot;compact&quot;}" href="/harshitasaini469/Handwritten_digit_classification" data-view-component="true" class="Link--primary Truncate d-flex flex-items-center py-1">
        <span class="AppHeader-context-item-label Truncate-text ">
            <svg aria-hidden="true" height="12" viewBox="0 0 16 16" version="1.1" width="12" data-view-component="true" class="octicon octicon-repo mr-1">
    <path d="M2 2.5A2.5 2.5 0 0 1 4.5 0h8.75a.75.75 0 0 1 .75.75v12.5a.75.75 0 0 1-.75.75h-2.5a.75.75 0 0 1 0-1.5h1.75v-2h-8a1 1 0 0 0-.714 1.7.75.75 0 1 1-1.072 1.05A2.495 2.495 0 0 1 2 11.5Zm10.5-1h-8a1 1 0 0 0-1 1v6.708A2.486 2.486 0 0 1 4.5 9h8ZM5 12.25a.25.25 0 0 1 .25-.25h3.5a.25.25 0 0 1 .25.25v3.25a.25.25 0 0 1-.4.2l-1.45-1.087a.249.249 0 0 0-.3 0L5.4 15.7a.25.25 0 0 1-.4-.2Z"></path>
</svg>

          Handwritten_digit_classification
        </span>

          <svg aria-hidden="true" height="12" viewBox="0 0 16 16" version="1.1" width="12" data-view-component="true" class="octicon octicon-lock ml-1">
    <path d="M4 4a4 4 0 0 1 8 0v2h.25c.966 0 1.75.784 1.75 1.75v5.5A1.75 1.75 0 0 1 12.25 15h-8.5A1.75 1.75 0 0 1 2 13.25v-5.5C2 6.784 2.784 6 3.75 6H4Zm8.25 3.5h-8.5a.25.25 0 0 0-.25.25v5.5c0 .138.112.25.25.25h8.5a.25.25 0 0 0 .25-.25v-5.5a.25.25 0 0 0-.25-.25ZM10.5 6V4a2.5 2.5 0 1 0-5 0v2Z"></path>
</svg>
</a>
    </li>
</ul>

</div>
      
</modal-dialog></div>
  </div>

  <div class="AppHeader-context-full">
    <nav role="navigation" aria-label="Page context">
      <ul role="list" class="list-style-none" >
    <li>
      <a data-analytics-event="{&quot;category&quot;:&quot;SiteHeaderComponent&quot;,&quot;action&quot;:&quot;context_region_crumb&quot;,&quot;label&quot;:&quot;harshitasaini469&quot;,&quot;screen_size&quot;:&quot;full&quot;}" data-hovercard-type="user" data-hovercard-url="/users/harshitasaini469/hovercard" data-octo-click="hovercard-link-click" data-octo-dimensions="link_type:self" href="/harshitasaini469" data-view-component="true" class="AppHeader-context-item">
        <span class="AppHeader-context-item-label  ">

          harshitasaini469
        </span>

</a>
        <span class="AppHeader-context-item-separator">/</span>
    </li>
    <li>
      <a data-analytics-event="{&quot;category&quot;:&quot;SiteHeaderComponent&quot;,&quot;action&quot;:&quot;context_region_crumb&quot;,&quot;label&quot;:&quot;Handwritten_digit_classification&quot;,&quot;screen_size&quot;:&quot;full&quot;}" href="/harshitasaini469/Handwritten_digit_classification" data-view-component="true" class="AppHeader-context-item">
        <span class="AppHeader-context-item-label  ">

          Handwritten_digit_classification
        </span>

          <svg aria-hidden="true" height="12" viewBox="0 0 16 16" version="1.1" width="12" data-view-component="true" class="octicon octicon-lock ml-1">
    <path d="M4 4a4 4 0 0 1 8 0v2h.25c.966 0 1.75.784 1.75 1.75v5.5A1.75 1.75 0 0 1 12.25 15h-8.5A1.75 1.75 0 0 1 2 13.25v-5.5C2 6.784 2.784 6 3.75 6H4Zm8.25 3.5h-8.5a.25.25 0 0 0-.25.25v5.5c0 .138.112.25.25.25h8.5a.25.25 0 0 0 .25-.25v-5.5a.25.25 0 0 0-.25-.25ZM10.5 6V4a2.5 2.5 0 1 0-5 0v2Z"></path>
</svg>
</a>
    </li>
</ul>

    </nav>
  </div>
</div>

      </div>
      <div class="AppHeader-globalBar-end">
          <div class="AppHeader-search" >
              


<qbsearch-input class="search-input" data-scope="repo:harshitasaini469/Handwritten_digit_classification" data-custom-scopes-path="/search/custom_scopes" data-delete-custom-scopes-csrf="zCCsyfR21B2AfAEiXTZ3JFiCk8oWDSUfBTvYwnhuH-ywRYfV-N6ibohI76Q1bItzhLDPajVcyGwJ-tntwstGgg" data-max-custom-scopes="10" data-header-redesign-enabled="true" data-initial-value="" data-blackbird-suggestions-path="/search/suggestions" data-jump-to-suggestions-path="/_graphql/GetSuggestedNavigationDestinations" data-current-repository="harshitasaini469/Handwritten_digit_classification" data-current-org="" data-current-owner="harshitasaini469" data-logged-in="true">
  <div
    class="search-input-container search-with-dialog position-relative d-flex flex-row flex-items-center height-auto color-bg-transparent border-0 color-fg-subtle mx-0"
    data-action="click:qbsearch-input#searchInputContainerClicked"
  >
      
            <button type="button" data-action="click:qbsearch-input#handleExpand" class="AppHeader-button AppHeader-search-whenNarrow" aria-label="Search or jump to…" aria-expanded="false" aria-haspopup="dialog">
            <svg aria-hidden="true" height="16" viewBox="0 0 16 16" version="1.1" width="16" data-view-component="true" class="octicon octicon-search">
    <path d="M10.68 11.74a6 6 0 0 1-7.922-8.982 6 6 0 0 1 8.982 7.922l3.04 3.04a.749.749 0 0 1-.326 1.275.749.749 0 0 1-.734-.215ZM11.5 7a4.499 4.499 0 1 0-8.997 0A4.499 4.499 0 0 0 11.5 7Z"></path>
</svg>
          </button>


<div class="AppHeader-search-whenRegular">
  <div class="AppHeader-search-wrap AppHeader-search-wrap--hasTrailing">
    <div class="AppHeader-search-control">
      <label
        for="AppHeader-searchInput"
        aria-label="Search or jump to…"
        class="AppHeader-search-visual--leading"
      >
        <svg aria-hidden="true" height="16" viewBox="0 0 16 16" version="1.1" width="16" data-view-component="true" class="octicon octicon-search">
    <path d="M10.68 11.74a6 6 0 0 1-7.922-8.982 6 6 0 0 1 8.982 7.922l3.04 3.04a.749.749 0 0 1-.326 1.275.749.749 0 0 1-.734-.215ZM11.5 7a4.499 4.499 0 1 0-8.997 0A4.499 4.499 0 0 0 11.5 7Z"></path>
</svg>
      </label>

                <button
            type="button"
            data-target="qbsearch-input.inputButton"
            data-action="click:qbsearch-input#handleExpand"
            class="AppHeader-searchButton form-control input-contrast text-left color-fg-subtle no-wrap"
            data-hotkey="s,/"
            data-analytics-event="{&quot;category&quot;:&quot;Global navigation&quot;,&quot;action&quot;:&quot;SEARCH&quot;,&quot;label&quot;:null}"
          >
            <div class="overflow-hidden">
              <span id="qb-input-query" data-target="qbsearch-input.inputButtonText">
                  Type <kbd class="AppHeader-search-kbd">/</kbd> to search
              </span>
            </div>
          </button>

    </div>


      <button type="button" id="AppHeader-commandPalette-button" class="AppHeader-search-action--trailing js-activate-command-palette" data-analytics-event="{&quot;category&quot;:&quot;SiteHeaderComponent&quot;,&quot;action&quot;:&quot;command_palette&quot;,&quot;label&quot;:&quot;open command palette&quot;}">
        <svg aria-hidden="true" height="16" viewBox="0 0 16 16" version="1.1" width="16" data-view-component="true" class="octicon octicon-command-palette">
    <path d="m6.354 8.04-4.773 4.773a.75.75 0 1 0 1.061 1.06L7.945 8.57a.75.75 0 0 0 0-1.06L2.642 2.206a.75.75 0 0 0-1.06 1.061L6.353 8.04ZM8.75 11.5a.75.75 0 0 0 0 1.5h5.5a.75.75 0 0 0 0-1.5h-5.5Z"></path>
</svg>
      </button>

      <tool-tip id="tooltip-181ab540-d182-447d-a16d-60ffd35effc5" for="AppHeader-commandPalette-button" popover="manual" data-direction="s" data-type="label" data-view-component="true" class="sr-only position-absolute">Command palette</tool-tip>
  </div>
</div>

    <input type="hidden" name="type" class="js-site-search-type-field">

    
<div class="Overlay--hidden " data-modal-dialog-overlay>
  <modal-dialog data-action="close:qbsearch-input#handleClose cancel:qbsearch-input#handleClose" data-target="qbsearch-input.searchSuggestionsDialog" role="dialog" id="search-suggestions-dialog" aria-modal="true" aria-labelledby="search-suggestions-dialog-header" data-view-component="true" class="Overlay Overlay--width-medium Overlay--height-auto">
      <h1 id="search-suggestions-dialog-header" class="sr-only">Search code, repositories, users, issues, pull requests...</h1>
    <div class="Overlay-body Overlay-body--paddingNone">
      
          <div data-view-component="true">        <div class="search-suggestions position-absolute width-full color-shadow-large border color-fg-default color-bg-default overflow-hidden d-flex flex-column query-builder-container"
          style="border-radius: 12px;"
          data-target="qbsearch-input.queryBuilderContainer"
          hidden
        >
          <!-- '"` --><!-- </textarea></xmp> --></option></form><form id="query-builder-test-form" action="" accept-charset="UTF-8" method="get">
  <query-builder data-target="qbsearch-input.queryBuilder" id="query-builder-query-builder-test" data-filter-key=":" data-view-component="true" class="QueryBuilder search-query-builder">
    <div class="FormControl FormControl--fullWidth">
      <label id="query-builder-test-label" for="query-builder-test" class="FormControl-label sr-only">
        Search
      </label>
      <div
        class="QueryBuilder-StyledInput width-fit "
        data-target="query-builder.styledInput"
      >
          <span id="query-builder-test-leadingvisual-wrap" class="FormControl-input-leadingVisualWrap QueryBuilder-leadingVisualWrap">
            <svg aria-hidden="true" height="16" viewBox="0 0 16 16" version="1.1" width="16" data-view-component="true" class="octicon octicon-search FormControl-input-leadingVisual">
    <path d="M10.68 11.74a6 6 0 0 1-7.922-8.982 6 6 0 0 1 8.982 7.922l3.04 3.04a.749.749 0 0 1-.326 1.275.749.749 0 0 1-.734-.215ZM11.5 7a4.499 4.499 0 1 0-8.997 0A4.499 4.499 0 0 0 11.5 7Z"></path>
</svg>
          </span>
        <div data-target="query-builder.styledInputContainer" class="QueryBuilder-StyledInputContainer">
          <div
            aria-hidden="true"
            class="QueryBuilder-StyledInputContent"
            data-target="query-builder.styledInputContent"
          ></div>
          <div class="QueryBuilder-InputWrapper">
            <div aria-hidden="true" class="QueryBuilder-Sizer" data-target="query-builder.sizer"></div>
            <input id="query-builder-test" name="query-builder-test" value="" autocomplete="off" type="text" role="combobox" spellcheck="false" aria-expanded="false" aria-describedby="validation-c9912ba1-89a5-477f-b2ad-d443a5b5e02a" data-target="query-builder.input" data-action="
          input:query-builder#inputChange
          blur:query-builder#inputBlur
          keydown:query-builder#inputKeydown
          focus:query-builder#inputFocus
        " data-view-component="true" class="FormControl-input QueryBuilder-Input FormControl-medium" />
          </div>
        </div>
          <span class="sr-only" id="query-builder-test-clear">Clear</span>
          
  <button role="button" id="query-builder-test-clear-button" aria-labelledby="query-builder-test-clear query-builder-test-label" data-target="query-builder.clearButton" data-action="
                click:query-builder#clear
                focus:query-builder#clearButtonFocus
                blur:query-builder#clearButtonBlur
              " variant="small" hidden="hidden" type="button" data-view-component="true" class="Button Button--iconOnly Button--invisible Button--medium mr-1 px-2 py-0 d-flex flex-items-center rounded-1 color-fg-muted">    <svg aria-hidden="true" height="16" viewBox="0 0 16 16" version="1.1" width="16" data-view-component="true" class="octicon octicon-x-circle-fill Button-visual">
    <path d="M2.343 13.657A8 8 0 1 1 13.658 2.343 8 8 0 0 1 2.343 13.657ZM6.03 4.97a.751.751 0 0 0-1.042.018.751.751 0 0 0-.018 1.042L6.94 8 4.97 9.97a.749.749 0 0 0 .326 1.275.749.749 0 0 0 .734-.215L8 9.06l1.97 1.97a.749.749 0 0 0 1.275-.326.749.749 0 0 0-.215-.734L9.06 8l1.97-1.97a.749.749 0 0 0-.326-1.275.749.749 0 0 0-.734.215L8 6.94Z"></path>
</svg>
</button>  

      </div>
      <template id="search-icon">
  <svg aria-hidden="true" height="16" viewBox="0 0 16 16" version="1.1" width="16" data-view-component="true" class="octicon octicon-search">
    <path d="M10.68 11.74a6 6 0 0 1-7.922-8.982 6 6 0 0 1 8.982 7.922l3.04 3.04a.749.749 0 0 1-.326 1.275.749.749 0 0 1-.734-.215ZM11.5 7a4.499 4.499 0 1 0-8.997 0A4.499 4.499 0 0 0 11.5 7Z"></path>
</svg>
</template>

<template id="code-icon">
  <svg aria-hidden="true" height="16" viewBox="0 0 16 16" version="1.1" width="16" data-view-component="true" class="octicon octicon-code">
    <path d="m11.28 3.22 4.25 4.25a.75.75 0 0 1 0 1.06l-4.25 4.25a.749.749 0 0 1-1.275-.326.749.749 0 0 1 .215-.734L13.94 8l-3.72-3.72a.749.749 0 0 1 .326-1.275.749.749 0 0 1 .734.215Zm-6.56 0a.751.751 0 0 1 1.042.018.751.751 0 0 1 .018 1.042L2.06 8l3.72 3.72a.749.749 0 0 1-.326 1.275.749.749 0 0 1-.734-.215L.47 8.53a.75.75 0 0 1 0-1.06Z"></path>
</svg>
</template>

<template id="file-code-icon">
  <svg aria-hidden="true" height="16" viewBox="0 0 16 16" version="1.1" width="16" data-view-component="true" class="octicon octicon-file-code">
    <path d="M4 1.75C4 .784 4.784 0 5.75 0h5.586c.464 0 .909.184 1.237.513l2.914 2.914c.329.328.513.773.513 1.237v8.586A1.75 1.75 0 0 1 14.25 15h-9a.75.75 0 0 1 0-1.5h9a.25.25 0 0 0 .25-.25V6h-2.75A1.75 1.75 0 0 1 10 4.25V1.5H5.75a.25.25 0 0 0-.25.25v2.5a.75.75 0 0 1-1.5 0Zm1.72 4.97a.75.75 0 0 1 1.06 0l2 2a.75.75 0 0 1 0 1.06l-2 2a.749.749 0 0 1-1.275-.326.749.749 0 0 1 .215-.734l1.47-1.47-1.47-1.47a.75.75 0 0 1 0-1.06ZM3.28 7.78 1.81 9.25l1.47 1.47a.751.751 0 0 1-.018 1.042.751.751 0 0 1-1.042.018l-2-2a.75.75 0 0 1 0-1.06l2-2a.751.751 0 0 1 1.042.018.751.751 0 0 1 .018 1.042Zm8.22-6.218V4.25c0 .138.112.25.25.25h2.688l-.011-.013-2.914-2.914-.013-.011Z"></path>
</svg>
</template>

<template id="history-icon">
  <svg aria-hidden="true" height="16" viewBox="0 0 16 16" version="1.1" width="16" data-view-component="true" class="octicon octicon-history">
    <path d="m.427 1.927 1.215 1.215a8.002 8.002 0 1 1-1.6 5.685.75.75 0 1 1 1.493-.154 6.5 6.5 0 1 0 1.18-4.458l1.358 1.358A.25.25 0 0 1 3.896 6H.25A.25.25 0 0 1 0 5.75V2.104a.25.25 0 0 1 .427-.177ZM7.75 4a.75.75 0 0 1 .75.75v2.992l2.028.812a.75.75 0 0 1-.557 1.392l-2.5-1A.751.751 0 0 1 7 8.25v-3.5A.75.75 0 0 1 7.75 4Z"></path>
</svg>
</template>

<template id="repo-icon">
  <svg aria-hidden="true" height="16" viewBox="0 0 16 16" version="1.1" width="16" data-view-component="true" class="octicon octicon-repo">
    <path d="M2 2.5A2.5 2.5 0 0 1 4.5 0h8.75a.75.75 0 0 1 .75.75v12.5a.75.75 0 0 1-.75.75h-2.5a.75.75 0 0 1 0-1.5h1.75v-2h-8a1 1 0 0 0-.714 1.7.75.75 0 1 1-1.072 1.05A2.495 2.495 0 0 1 2 11.5Zm10.5-1h-8a1 1 0 0 0-1 1v6.708A2.486 2.486 0 0 1 4.5 9h8ZM5 12.25a.25.25 0 0 1 .25-.25h3.5a.25.25 0 0 1 .25.25v3.25a.25.25 0 0 1-.4.2l-1.45-1.087a.249.249 0 0 0-.3 0L5.4 15.7a.25.25 0 0 1-.4-.2Z"></path>
</svg>
</template>

<template id="bookmark-icon">
  <svg aria-hidden="true" height="16" viewBox="0 0 16 16" version="1.1" width="16" data-view-component="true" class="octicon octicon-bookmark">
    <path d="M3 2.75C3 1.784 3.784 1 4.75 1h6.5c.966 0 1.75.784 1.75 1.75v11.5a.75.75 0 0 1-1.227.579L8 11.722l-3.773 3.107A.751.751 0 0 1 3 14.25Zm1.75-.25a.25.25 0 0 0-.25.25v9.91l3.023-2.489a.75.75 0 0 1 .954 0l3.023 2.49V2.75a.25.25 0 0 0-.25-.25Z"></path>
</svg>
</template>

<template id="plus-circle-icon">
  <svg aria-hidden="true" height="16" viewBox="0 0 16 16" version="1.1" width="16" data-view-component="true" class="octicon octicon-plus-circle">
    <path d="M8 0a8 8 0 1 1 0 16A8 8 0 0 1 8 0ZM1.5 8a6.5 6.5 0 1 0 13 0 6.5 6.5 0 0 0-13 0Zm7.25-3.25v2.5h2.5a.75.75 0 0 1 0 1.5h-2.5v2.5a.75.75 0 0 1-1.5 0v-2.5h-2.5a.75.75 0 0 1 0-1.5h2.5v-2.5a.75.75 0 0 1 1.5 0Z"></path>
</svg>
</template>

<template id="circle-icon">
  <svg aria-hidden="true" height="16" viewBox="0 0 16 16" version="1.1" width="16" data-view-component="true" class="octicon octicon-dot-fill">
    <path d="M8 4a4 4 0 1 1 0 8 4 4 0 0 1 0-8Z"></path>
</svg>
</template>

<template id="trash-icon">
  <svg aria-hidden="true" height="16" viewBox="0 0 16 16" version="1.1" width="16" data-view-component="true" class="octicon octicon-trash">
    <path d="M11 1.75V3h2.25a.75.75 0 0 1 0 1.5H2.75a.75.75 0 0 1 0-1.5H5V1.75C5 .784 5.784 0 6.75 0h2.5C10.216 0 11 .784 11 1.75ZM4.496 6.675l.66 6.6a.25.25 0 0 0 .249.225h5.19a.25.25 0 0 0 .249-.225l.66-6.6a.75.75 0 0 1 1.492.149l-.66 6.6A1.748 1.748 0 0 1 10.595 15h-5.19a1.75 1.75 0 0 1-1.741-1.575l-.66-6.6a.75.75 0 1 1 1.492-.15ZM6.5 1.75V3h3V1.75a.25.25 0 0 0-.25-.25h-2.5a.25.25 0 0 0-.25.25Z"></path>
</svg>
</template>

<template id="team-icon">
  <svg aria-hidden="true" height="16" viewBox="0 0 16 16" version="1.1" width="16" data-view-component="true" class="octicon octicon-people">
    <path d="M2 5.5a3.5 3.5 0 1 1 5.898 2.549 5.508 5.508 0 0 1 3.034 4.084.75.75 0 1 1-1.482.235 4 4 0 0 0-7.9 0 .75.75 0 0 1-1.482-.236A5.507 5.507 0 0 1 3.102 8.05 3.493 3.493 0 0 1 2 5.5ZM11 4a3.001 3.001 0 0 1 2.22 5.018 5.01 5.01 0 0 1 2.56 3.012.749.749 0 0 1-.885.954.752.752 0 0 1-.549-.514 3.507 3.507 0 0 0-2.522-2.372.75.75 0 0 1-.574-.73v-.352a.75.75 0 0 1 .416-.672A1.5 1.5 0 0 0 11 5.5.75.75 0 0 1 11 4Zm-5.5-.5a2 2 0 1 0-.001 3.999A2 2 0 0 0 5.5 3.5Z"></path>
</svg>
</template>

<template id="project-icon">
  <svg aria-hidden="true" height="16" viewBox="0 0 16 16" version="1.1" width="16" data-view-component="true" class="octicon octicon-project">
    <path d="M1.75 0h12.5C15.216 0 16 .784 16 1.75v12.5A1.75 1.75 0 0 1 14.25 16H1.75A1.75 1.75 0 0 1 0 14.25V1.75C0 .784.784 0 1.75 0ZM1.5 1.75v12.5c0 .138.112.25.25.25h12.5a.25.25 0 0 0 .25-.25V1.75a.25.25 0 0 0-.25-.25H1.75a.25.25 0 0 0-.25.25ZM11.75 3a.75.75 0 0 1 .75.75v7.5a.75.75 0 0 1-1.5 0v-7.5a.75.75 0 0 1 .75-.75Zm-8.25.75a.75.75 0 0 1 1.5 0v5.5a.75.75 0 0 1-1.5 0ZM8 3a.75.75 0 0 1 .75.75v3.5a.75.75 0 0 1-1.5 0v-3.5A.75.75 0 0 1 8 3Z"></path>
</svg>
</template>

<template id="pencil-icon">
  <svg aria-hidden="true" height="16" viewBox="0 0 16 16" version="1.1" width="16" data-view-component="true" class="octicon octicon-pencil">
    <path d="M11.013 1.427a1.75 1.75 0 0 1 2.474 0l1.086 1.086a1.75 1.75 0 0 1 0 2.474l-8.61 8.61c-.21.21-.47.364-.756.445l-3.251.93a.75.75 0 0 1-.927-.928l.929-3.25c.081-.286.235-.547.445-.758l8.61-8.61Zm.176 4.823L9.75 4.81l-6.286 6.287a.253.253 0 0 0-.064.108l-.558 1.953 1.953-.558a.253.253 0 0 0 .108-.064Zm1.238-3.763a.25.25 0 0 0-.354 0L10.811 3.75l1.439 1.44 1.263-1.263a.25.25 0 0 0 0-.354Z"></path>
</svg>
</template>

        <div class="position-relative">
                <ul
                  role="listbox"
                  class="ActionListWrap QueryBuilder-ListWrap"
                  aria-label="Suggestions"
                  data-action="
                    combobox-commit:query-builder#comboboxCommit
                    mousedown:query-builder#resultsMousedown
                  "
                  data-target="query-builder.resultsList"
                  data-persist-list=false
                  id="query-builder-test-results"
                ></ul>
        </div>
      <div class="FormControl-inlineValidation" id="validation-c9912ba1-89a5-477f-b2ad-d443a5b5e02a" hidden="hidden">
        <span class="FormControl-inlineValidation--visual">
          <svg aria-hidden="true" height="12" viewBox="0 0 12 12" version="1.1" width="12" data-view-component="true" class="octicon octicon-alert-fill">
    <path d="M4.855.708c.5-.896 1.79-.896 2.29 0l4.675 8.351a1.312 1.312 0 0 1-1.146 1.954H1.33A1.313 1.313 0 0 1 .183 9.058ZM7 7V3H5v4Zm-1 3a1 1 0 1 0 0-2 1 1 0 0 0 0 2Z"></path>
</svg>
        </span>
        <span></span>
</div>    </div>
    <div data-target="query-builder.screenReaderFeedback" aria-live="polite" aria-atomic="true" class="sr-only"></div>
</query-builder></form>
          <div class="d-flex flex-row color-fg-muted px-3 text-small color-bg-default search-feedback-prompt">
            <a target="_blank" href="https://docs.github.com/en/search-github/github-code-search/understanding-github-code-search-syntax" data-view-component="true" class="Link color-fg-accent text-normal ml-2">
              Search syntax tips
</a>            <div class="d-flex flex-1"></div>
                <button data-action="click:qbsearch-input#showFeedbackDialog" type="button" data-view-component="true" class="Button--link Button--medium Button color-fg-accent text-normal ml-2">    <span class="Button-content">
      <span class="Button-label">Give feedback</span>
    </span>
</button>  
          </div>
        </div>
</div>

    </div>
</modal-dialog></div>
  </div>
  <div data-action="click:qbsearch-input#retract" class="dark-backdrop position-fixed" hidden data-target="qbsearch-input.darkBackdrop"></div>
  <div class="color-fg-default">
    
<div class="Overlay--hidden Overlay-backdrop--center" data-modal-dialog-overlay>
  <modal-dialog data-target="qbsearch-input.feedbackDialog" data-action="close:qbsearch-input#handleDialogClose cancel:qbsearch-input#handleDialogClose" role="dialog" id="feedback-dialog" aria-modal="true" aria-disabled="true" aria-labelledby="feedback-dialog-title" aria-describedby="feedback-dialog-description" data-view-component="true" class="Overlay Overlay-whenNarrow Overlay--size-medium Overlay--motion-scaleFade">
    <div data-view-component="true" class="Overlay-header">
  <div class="Overlay-headerContentWrap">
    <div class="Overlay-titleWrap">
      <h1 class="Overlay-title " id="feedback-dialog-title">
        Provide feedback
      </h1>
    </div>
    <div class="Overlay-actionWrap">
      <button data-close-dialog-id="feedback-dialog" aria-label="Close" type="button" data-view-component="true" class="close-button Overlay-closeButton"><svg aria-hidden="true" height="16" viewBox="0 0 16 16" version="1.1" width="16" data-view-component="true" class="octicon octicon-x">
    <path d="M3.72 3.72a.75.75 0 0 1 1.06 0L8 6.94l3.22-3.22a.749.749 0 0 1 1.275.326.749.749 0 0 1-.215.734L9.06 8l3.22 3.22a.749.749 0 0 1-.326 1.275.749.749 0 0 1-.734-.215L8 9.06l-3.22 3.22a.751.751 0 0 1-1.042-.018.751.751 0 0 1-.018-1.042L6.94 8 3.72 4.78a.75.75 0 0 1 0-1.06Z"></path>
</svg></button>
    </div>
  </div>
</div>
      <div data-view-component="true" class="Overlay-body">        <!-- '"` --><!-- </textarea></xmp> --></option></form><form id="code-search-feedback-form" data-turbo="false" action="/search/feedback" accept-charset="UTF-8" method="post"><input type="hidden" name="authenticity_token" value="oTqUSmKheGb94jkn5GeBfIHryHBvxevX7wOeiJgKixHRMaUnsGpkWrJ6YeWIb2KrRDDIBv3MYediF1a8G5rz9Q" />
          <p>We read every piece of feedback, and take your input very seriously.</p>
          <textarea name="feedback" class="form-control width-full mb-2" style="height: 120px" id="feedback"></textarea>
          <input name="include_email" id="include_email" aria-label="Include my email address so I can be contacted" class="form-control mr-2" type="checkbox">
          <label for="include_email" style="font-weight: normal">Include my email address so I can be contacted</label>
</form></div>
      <div data-view-component="true" class="Overlay-footer Overlay-footer--alignEnd">          <button data-close-dialog-id="feedback-dialog" type="button" data-view-component="true" class="btn">    Cancel
</button>
          <button form="code-search-feedback-form" data-action="click:qbsearch-input#submitFeedback" type="submit" data-view-component="true" class="btn-primary btn">    Submit feedback
</button>
</div>
</modal-dialog></div>

    <custom-scopes data-target="qbsearch-input.customScopesManager">
    
<div class="Overlay--hidden Overlay-backdrop--center" data-modal-dialog-overlay>
  <modal-dialog data-target="custom-scopes.customScopesModalDialog" data-action="close:qbsearch-input#handleDialogClose cancel:qbsearch-input#handleDialogClose" role="dialog" id="custom-scopes-dialog" aria-modal="true" aria-disabled="true" aria-labelledby="custom-scopes-dialog-title" aria-describedby="custom-scopes-dialog-description" data-view-component="true" class="Overlay Overlay-whenNarrow Overlay--size-medium Overlay--motion-scaleFade">
    <div data-view-component="true" class="Overlay-header Overlay-header--divided">
  <div class="Overlay-headerContentWrap">
    <div class="Overlay-titleWrap">
      <h1 class="Overlay-title " id="custom-scopes-dialog-title">
        Saved searches
      </h1>
        <h2 id="custom-scopes-dialog-description" class="Overlay-description">Use saved searches to filter your results more quickly</h2>
    </div>
    <div class="Overlay-actionWrap">
      <button data-close-dialog-id="custom-scopes-dialog" aria-label="Close" type="button" data-view-component="true" class="close-button Overlay-closeButton"><svg aria-hidden="true" height="16" viewBox="0 0 16 16" version="1.1" width="16" data-view-component="true" class="octicon octicon-x">
    <path d="M3.72 3.72a.75.75 0 0 1 1.06 0L8 6.94l3.22-3.22a.749.749 0 0 1 1.275.326.749.749 0 0 1-.215.734L9.06 8l3.22 3.22a.749.749 0 0 1-.326 1.275.749.749 0 0 1-.734-.215L8 9.06l-3.22 3.22a.751.751 0 0 1-1.042-.018.751.751 0 0 1-.018-1.042L6.94 8 3.72 4.78a.75.75 0 0 1 0-1.06Z"></path>
</svg></button>
    </div>
  </div>
</div>
      <div data-view-component="true" class="Overlay-body">        <div data-target="custom-scopes.customScopesModalDialogFlash"></div>

        <div hidden class="create-custom-scope-form" data-target="custom-scopes.createCustomScopeForm">
        <!-- '"` --><!-- </textarea></xmp> --></option></form><form id="custom-scopes-dialog-form" data-turbo="false" action="/search/custom_scopes" accept-charset="UTF-8" method="post"><input type="hidden" name="authenticity_token" value="sYv97xD1etIQcmFBNzLlP9Fh4e6SwaNH96ueboIK-eb6hwuoB5Mc1l6yIaw5Yw5QiSE9AVt6xQ4buNcy7HWYnA" />
          <div data-target="custom-scopes.customScopesModalDialogFlash"></div>

          <input type="hidden" id="custom_scope_id" name="custom_scope_id" data-target="custom-scopes.customScopesIdField">

          <div class="form-group">
            <label for="custom_scope_name">Name</label>
            <auto-check src="/search/custom_scopes/check_name" required>
              <input
                type="text"
                name="custom_scope_name"
                id="custom_scope_name"
                data-target="custom-scopes.customScopesNameField"
                class="form-control"
                autocomplete="off"
                placeholder="github-ruby"
                required
                maxlength="50">
              <input type="hidden" value="86-jB5CXYEXVwU7bDPn71zbRP_oCm2749eK4259Fouu1IJAXzUKcteUoJ0frHmggyGWdf-NHeuc_6pyJKWW3GA" data-csrf="true" />
            </auto-check>
          </div>

          <div class="form-group">
            <label for="custom_scope_query">Query</label>
            <input
              type="text"
              name="custom_scope_query"
              id="custom_scope_query"
              data-target="custom-scopes.customScopesQueryField"
              class="form-control"
              autocomplete="off"
              placeholder="(repo:mona/a OR repo:mona/b) AND lang:python"
              required
              maxlength="500">
          </div>

          <p class="text-small color-fg-muted">
            To see all available qualifiers, see our <a class="Link--inTextBlock" href="https://docs.github.com/en/search-github/github-code-search/understanding-github-code-search-syntax">documentation</a>.
          </p>
</form>        </div>

        <div data-target="custom-scopes.manageCustomScopesForm">
          <div data-target="custom-scopes.list"></div>
        </div>

</div>
      <div data-view-component="true" class="Overlay-footer Overlay-footer--alignEnd Overlay-footer--divided">          <button data-action="click:custom-scopes#customScopesCancel" type="button" data-view-component="true" class="btn">    Cancel
</button>
          <button form="custom-scopes-dialog-form" data-action="click:custom-scopes#customScopesSubmit" data-target="custom-scopes.customScopesSubmitButton" type="submit" data-view-component="true" class="btn-primary btn">    Create saved search
</button>
</div>
</modal-dialog></div>
    </custom-scopes>
  </div>
</qbsearch-input><input type="hidden" value="NUASPyGucTxywd8sfbtOF-Fj4fKhnVBms4O_g63jH6MoA424SF2IlNpcVBsqoavx75ZCap_Qbpvu_CNyKOPaoA" data-csrf="true" class="js-data-jump-to-suggestions-path-csrf" />

          </div>

        <div class="AppHeader-actions position-relative">
          <action-menu data-select-variant="none" data-view-component="true">
  <focus-group direction="vertical" mnemonics retain>
    <div data-view-component="true" class="Button-withTooltip">  <button id="global-create-menu-button" popovertarget="global-create-menu-overlay" aria-label="Create something new" aria-controls="global-create-menu-list" aria-haspopup="true" type="button" data-view-component="true" class="AppHeader-button Button--secondary Button--small Button width-auto color-fg-muted">    <span class="Button-content">
        <span class="Button-visual Button-leadingVisual">
          <svg aria-hidden="true" height="16" viewBox="0 0 16 16" version="1.1" width="16" data-view-component="true" class="octicon octicon-plus">
    <path d="M7.75 2a.75.75 0 0 1 .75.75V7h4.25a.75.75 0 0 1 0 1.5H8.5v4.25a.75.75 0 0 1-1.5 0V8.5H2.75a.75.75 0 0 1 0-1.5H7V2.75A.75.75 0 0 1 7.75 2Z"></path>
</svg>
        </span>
      <span class="Button-label"><svg aria-hidden="true" height="16" viewBox="0 0 16 16" version="1.1" width="16" data-view-component="true" class="octicon octicon-triangle-down">
    <path d="m4.427 7.427 3.396 3.396a.25.25 0 0 0 .354 0l3.396-3.396A.25.25 0 0 0 11.396 7H4.604a.25.25 0 0 0-.177.427Z"></path>
</svg></span>
    </span>
</button>  <tool-tip id="tooltip-29d779fa-9a60-463c-b006-3e7db112d4ad" for="global-create-menu-button" popover="manual" data-direction="s" data-type="description" data-view-component="true" class="sr-only position-absolute">Create new...</tool-tip>
</div>

<anchored-position id="global-create-menu-overlay" anchor="global-create-menu-button" align="end" side="outside-bottom" anchor-offset="normal" popover="auto" data-view-component="true">
  <div data-view-component="true" class="Overlay Overlay--size-auto">
    
      
        <div data-view-component="true">
  <ul aria-labelledby="global-create-menu-button" id="global-create-menu-list" role="menu" data-view-component="true" class="ActionListWrap--inset ActionListWrap">
      <li data-analytics-event="{&quot;category&quot;:&quot;SiteHeaderComponent&quot;,&quot;action&quot;:&quot;add_dropdown&quot;,&quot;label&quot;:&quot;new repository&quot;}" data-targets="action-list.items" role="none" data-view-component="true" class="ActionListItem">
    
    <a href="/new" tabindex="-1" id="item-32d37dd1-a4c9-4a0d-b8b3-341b890386ed" role="menuitem" data-view-component="true" class="ActionListContent ActionListContent--visual16">
        <span class="ActionListItem-visual ActionListItem-visual--leading">
          <svg aria-hidden="true" height="16" viewBox="0 0 16 16" version="1.1" width="16" data-view-component="true" class="octicon octicon-repo">
    <path d="M2 2.5A2.5 2.5 0 0 1 4.5 0h8.75a.75.75 0 0 1 .75.75v12.5a.75.75 0 0 1-.75.75h-2.5a.75.75 0 0 1 0-1.5h1.75v-2h-8a1 1 0 0 0-.714 1.7.75.75 0 1 1-1.072 1.05A2.495 2.495 0 0 1 2 11.5Zm10.5-1h-8a1 1 0 0 0-1 1v6.708A2.486 2.486 0 0 1 4.5 9h8ZM5 12.25a.25.25 0 0 1 .25-.25h3.5a.25.25 0 0 1 .25.25v3.25a.25.25 0 0 1-.4.2l-1.45-1.087a.249.249 0 0 0-.3 0L5.4 15.7a.25.25 0 0 1-.4-.2Z"></path>
</svg>
        </span>
      
        <span data-view-component="true" class="ActionListItem-label">
              New repository

</span></a>
  
  
</li>
      <li data-analytics-event="{&quot;category&quot;:&quot;SiteHeaderComponent&quot;,&quot;action&quot;:&quot;add_dropdown&quot;,&quot;label&quot;:&quot;import repository&quot;}" data-targets="action-list.items" role="none" data-view-component="true" class="ActionListItem">
    
    <a href="/new/import" tabindex="-1" id="item-a53b50bd-b317-441d-ab3e-1352a878cbec" role="menuitem" data-view-component="true" class="ActionListContent ActionListContent--visual16">
        <span class="ActionListItem-visual ActionListItem-visual--leading">
          <svg aria-hidden="true" height="16" viewBox="0 0 16 16" version="1.1" width="16" data-view-component="true" class="octicon octicon-repo-push">
    <path d="M1 2.5A2.5 2.5 0 0 1 3.5 0h8.75a.75.75 0 0 1 .75.75v3.5a.75.75 0 0 1-1.5 0V1.5h-8a1 1 0 0 0-1 1v6.708A2.493 2.493 0 0 1 3.5 9h3.25a.75.75 0 0 1 0 1.5H3.5a1 1 0 0 0 0 2h5.75a.75.75 0 0 1 0 1.5H3.5A2.5 2.5 0 0 1 1 11.5Zm13.23 7.79h-.001l-1.224-1.224v6.184a.75.75 0 0 1-1.5 0V9.066L10.28 10.29a.75.75 0 0 1-1.06-1.061l2.505-2.504a.75.75 0 0 1 1.06 0L15.29 9.23a.751.751 0 0 1-.018 1.042.751.751 0 0 1-1.042.018Z"></path>
</svg>
        </span>
      
        <span data-view-component="true" class="ActionListItem-label">
                Import repository

</span></a>
  
  
</li>
      <li role="presentation" aria-hidden="true" data-view-component="true" class="ActionList-sectionDivider"></li>
      <li data-analytics-event="{&quot;category&quot;:&quot;SiteHeaderComponent&quot;,&quot;action&quot;:&quot;add_dropdown&quot;,&quot;label&quot;:&quot;new codespace&quot;}" data-targets="action-list.items" role="none" data-view-component="true" class="ActionListItem">
    
    <a href="/codespaces/new" tabindex="-1" id="item-a13c107c-9f5e-4ea8-8644-a88ad39fed4d" role="menuitem" data-view-component="true" class="ActionListContent ActionListContent--visual16">
        <span class="ActionListItem-visual ActionListItem-visual--leading">
          <svg aria-hidden="true" height="16" viewBox="0 0 16 16" version="1.1" width="16" data-view-component="true" class="octicon octicon-codespaces">
    <path d="M0 11.25c0-.966.784-1.75 1.75-1.75h12.5c.966 0 1.75.784 1.75 1.75v3A1.75 1.75 0 0 1 14.25 16H1.75A1.75 1.75 0 0 1 0 14.25Zm2-9.5C2 .784 2.784 0 3.75 0h8.5C13.216 0 14 .784 14 1.75v5a1.75 1.75 0 0 1-1.75 1.75h-8.5A1.75 1.75 0 0 1 2 6.75Zm1.75-.25a.25.25 0 0 0-.25.25v5c0 .138.112.25.25.25h8.5a.25.25 0 0 0 .25-.25v-5a.25.25 0 0 0-.25-.25Zm-2 9.5a.25.25 0 0 0-.25.25v3c0 .138.112.25.25.25h12.5a.25.25 0 0 0 .25-.25v-3a.25.25 0 0 0-.25-.25Z"></path><path d="M7 12.75a.75.75 0 0 1 .75-.75h4.5a.75.75 0 0 1 0 1.5h-4.5a.75.75 0 0 1-.75-.75Zm-4 0a.75.75 0 0 1 .75-.75h.5a.75.75 0 0 1 0 1.5h-.5a.75.75 0 0 1-.75-.75Z"></path>
</svg>
        </span>
      
        <span data-view-component="true" class="ActionListItem-label">
                New codespace

</span></a>
  
  
</li>
      <li data-analytics-event="{&quot;category&quot;:&quot;SiteHeaderComponent&quot;,&quot;action&quot;:&quot;add_dropdown&quot;,&quot;label&quot;:&quot;new gist&quot;}" data-targets="action-list.items" role="none" data-view-component="true" class="ActionListItem">
    
    <a href="https://gist.github.com/" tabindex="-1" id="item-5d3e6db3-94a4-4f8d-87ff-4fd4b5b75d76" role="menuitem" data-view-component="true" class="ActionListContent ActionListContent--visual16">
        <span class="ActionListItem-visual ActionListItem-visual--leading">
          <svg aria-hidden="true" height="16" viewBox="0 0 16 16" version="1.1" width="16" data-view-component="true" class="octicon octicon-code">
    <path d="m11.28 3.22 4.25 4.25a.75.75 0 0 1 0 1.06l-4.25 4.25a.749.749 0 0 1-1.275-.326.749.749 0 0 1 .215-.734L13.94 8l-3.72-3.72a.749.749 0 0 1 .326-1.275.749.749 0 0 1 .734.215Zm-6.56 0a.751.751 0 0 1 1.042.018.751.751 0 0 1 .018 1.042L2.06 8l3.72 3.72a.749.749 0 0 1-.326 1.275.749.749 0 0 1-.734-.215L.47 8.53a.75.75 0 0 1 0-1.06Z"></path>
</svg>
        </span>
      
        <span data-view-component="true" class="ActionListItem-label">
                New gist

</span></a>
  
  
</li>
      <li role="presentation" aria-hidden="true" data-view-component="true" class="ActionList-sectionDivider"></li>
      <li data-targets="action-list.items" role="none" data-view-component="true" class="ActionListItem">
    
    <a href="/account/organizations/new" tabindex="-1" data-dont-follow-via-test="true" data-analytics-event="{&quot;category&quot;:&quot;SiteHeaderComponent&quot;,&quot;action&quot;:&quot;add_dropdown&quot;,&quot;label&quot;:&quot;new organization&quot;}" id="item-829a50c6-6f49-47ba-957f-a44fba76e7a0" role="menuitem" data-view-component="true" class="ActionListContent ActionListContent--visual16">
        <span class="ActionListItem-visual ActionListItem-visual--leading">
          <svg aria-hidden="true" height="16" viewBox="0 0 16 16" version="1.1" width="16" data-view-component="true" class="octicon octicon-organization">
    <path d="M1.75 16A1.75 1.75 0 0 1 0 14.25V1.75C0 .784.784 0 1.75 0h8.5C11.216 0 12 .784 12 1.75v12.5c0 .085-.006.168-.018.25h2.268a.25.25 0 0 0 .25-.25V8.285a.25.25 0 0 0-.111-.208l-1.055-.703a.749.749 0 1 1 .832-1.248l1.055.703c.487.325.779.871.779 1.456v5.965A1.75 1.75 0 0 1 14.25 16h-3.5a.766.766 0 0 1-.197-.026c-.099.017-.2.026-.303.026h-3a.75.75 0 0 1-.75-.75V14h-1v1.25a.75.75 0 0 1-.75.75Zm-.25-1.75c0 .138.112.25.25.25H4v-1.25a.75.75 0 0 1 .75-.75h2.5a.75.75 0 0 1 .75.75v1.25h2.25a.25.25 0 0 0 .25-.25V1.75a.25.25 0 0 0-.25-.25h-8.5a.25.25 0 0 0-.25.25ZM3.75 6h.5a.75.75 0 0 1 0 1.5h-.5a.75.75 0 0 1 0-1.5ZM3 3.75A.75.75 0 0 1 3.75 3h.5a.75.75 0 0 1 0 1.5h-.5A.75.75 0 0 1 3 3.75Zm4 3A.75.75 0 0 1 7.75 6h.5a.75.75 0 0 1 0 1.5h-.5A.75.75 0 0 1 7 6.75ZM7.75 3h.5a.75.75 0 0 1 0 1.5h-.5a.75.75 0 0 1 0-1.5ZM3 9.75A.75.75 0 0 1 3.75 9h.5a.75.75 0 0 1 0 1.5h-.5A.75.75 0 0 1 3 9.75ZM7.75 9h.5a.75.75 0 0 1 0 1.5h-.5a.75.75 0 0 1 0-1.5Z"></path>
</svg>
        </span>
      
        <span data-view-component="true" class="ActionListItem-label">
                New organization

</span></a>
  
  
</li>
</ul>  
</div>

</div></anchored-position>  </focus-group>
</action-menu>


          <div data-view-component="true" class="Button-withTooltip">
  <a href="/issues" data-analytics-event="{&quot;category&quot;:&quot;Global navigation&quot;,&quot;action&quot;:&quot;ISSUES_HEADER&quot;,&quot;label&quot;:null}" id="icon-button-f23091fa-715b-409b-a90c-1cafed01b2bf" aria-labelledby="tooltip-cba12f5e-8da1-4493-b1a4-bf5f1030e072" data-view-component="true" class="Button Button--iconOnly Button--secondary Button--medium AppHeader-button color-fg-muted">    <svg aria-hidden="true" height="16" viewBox="0 0 16 16" version="1.1" width="16" data-view-component="true" class="octicon octicon-issue-opened Button-visual">
    <path d="M8 9.5a1.5 1.5 0 1 0 0-3 1.5 1.5 0 0 0 0 3Z"></path><path d="M8 0a8 8 0 1 1 0 16A8 8 0 0 1 8 0ZM1.5 8a6.5 6.5 0 1 0 13 0 6.5 6.5 0 0 0-13 0Z"></path>
</svg>
</a>  <tool-tip id="tooltip-cba12f5e-8da1-4493-b1a4-bf5f1030e072" for="icon-button-f23091fa-715b-409b-a90c-1cafed01b2bf" popover="manual" data-direction="s" data-type="label" data-view-component="true" class="sr-only position-absolute">Issues</tool-tip>
</div>
          <div data-view-component="true" class="Button-withTooltip">
  <a href="/pulls" data-analytics-event="{&quot;category&quot;:&quot;Global navigation&quot;,&quot;action&quot;:&quot;PULL_REQUESTS_HEADER&quot;,&quot;label&quot;:null}" id="icon-button-e996041f-4095-4ec1-9e9f-c89cb03a2cd6" aria-labelledby="tooltip-b602bdd0-f604-4190-90df-c73de89ce57e" data-view-component="true" class="Button Button--iconOnly Button--secondary Button--medium AppHeader-button color-fg-muted">    <svg aria-hidden="true" height="16" viewBox="0 0 16 16" version="1.1" width="16" data-view-component="true" class="octicon octicon-git-pull-request Button-visual">
    <path d="M1.5 3.25a2.25 2.25 0 1 1 3 2.122v5.256a2.251 2.251 0 1 1-1.5 0V5.372A2.25 2.25 0 0 1 1.5 3.25Zm5.677-.177L9.573.677A.25.25 0 0 1 10 .854V2.5h1A2.5 2.5 0 0 1 13.5 5v5.628a2.251 2.251 0 1 1-1.5 0V5a1 1 0 0 0-1-1h-1v1.646a.25.25 0 0 1-.427.177L7.177 3.427a.25.25 0 0 1 0-.354ZM3.75 2.5a.75.75 0 1 0 0 1.5.75.75 0 0 0 0-1.5Zm0 9.5a.75.75 0 1 0 0 1.5.75.75 0 0 0 0-1.5Zm8.25.75a.75.75 0 1 0 1.5 0 .75.75 0 0 0-1.5 0Z"></path>
</svg>
</a>  <tool-tip id="tooltip-b602bdd0-f604-4190-90df-c73de89ce57e" for="icon-button-e996041f-4095-4ec1-9e9f-c89cb03a2cd6" popover="manual" data-direction="s" data-type="label" data-view-component="true" class="sr-only position-absolute">Pull requests</tool-tip>
</div>

        </div>

        
<notification-indicator data-channel="eyJjIjoibm90aWZpY2F0aW9uLWNoYW5nZWQ6MTA0NDEzNjM3IiwidCI6MTcwMDQ4MzA1Nn0=--0c17254289cb9de89bba7fb5cc085f702bdb0af77fefc3ad0706a6b5e1da83c9" data-indicator-mode="none" data-tooltip-global="You have unread notifications" data-tooltip-unavailable="Notifications are unavailable at the moment." data-tooltip-none="You have no unread notifications" data-header-redesign-enabled="true" data-fetch-indicator-src="/notifications/indicator" data-fetch-indicator-enabled="true" data-view-component="true" class="js-socket-channel">
    
  <a id="AppHeader-notifications-button" href="/notifications" aria-label="Notifications" data-target="notification-indicator.link" data-analytics-event="{&quot;category&quot;:&quot;Global navigation&quot;,&quot;action&quot;:&quot;NOTIFICATIONS_HEADER&quot;,&quot;label&quot;:null}" data-view-component="true" class="Button Button--iconOnly Button--secondary Button--medium AppHeader-button  color-fg-muted">    <svg aria-hidden="true" height="16" viewBox="0 0 16 16" version="1.1" width="16" data-view-component="true" class="octicon octicon-inbox Button-visual">
    <path d="M2.8 2.06A1.75 1.75 0 0 1 4.41 1h7.18c.7 0 1.333.417 1.61 1.06l2.74 6.395c.04.093.06.194.06.295v4.5A1.75 1.75 0 0 1 14.25 15H1.75A1.75 1.75 0 0 1 0 13.25v-4.5c0-.101.02-.202.06-.295Zm1.61.44a.25.25 0 0 0-.23.152L1.887 8H4.75a.75.75 0 0 1 .6.3L6.625 10h2.75l1.275-1.7a.75.75 0 0 1 .6-.3h2.863L11.82 2.652a.25.25 0 0 0-.23-.152Zm10.09 7h-2.875l-1.275 1.7a.75.75 0 0 1-.6.3h-3.5a.75.75 0 0 1-.6-.3L4.375 9.5H1.5v3.75c0 .138.112.25.25.25h12.5a.25.25 0 0 0 .25-.25Z"></path>
</svg>
</a>  

    <tool-tip data-target="notification-indicator.tooltip" id="tooltip-b4f13a4a-41a6-4850-97f7-5570fca742a2" for="AppHeader-notifications-button" popover="manual" data-direction="s" data-type="description" data-view-component="true" class="sr-only position-absolute">Notifications</tool-tip>
</notification-indicator>

        

        <div class="AppHeader-user">
          <deferred-side-panel data-url="/_side-panels/user?repository_id=559847298">
  <include-fragment data-target="deferred-side-panel.fragment">
      <user-drawer-side-panel>
      <button aria-label="Open user account menu" data-action="click:deferred-side-panel#loadPanel click:deferred-side-panel#panelOpened" data-show-dialog-id="dialog-dccd694e-53ca-43c8-ae40-dc1b48c0287e" id="dialog-show-dialog-dccd694e-53ca-43c8-ae40-dc1b48c0287e" type="button" data-view-component="true" class="AppHeader-logo Button--invisible Button--medium Button Button--invisible-noVisuals color-bg-transparent p-0">    <span class="Button-content">
      <span class="Button-label"><img src="https://avatars.githubusercontent.com/u/104413637?v=4" alt="" size="32" height="32" width="32" data-view-component="true" class="avatar circle" /></span>
    </span>
</button>  

<div class="Overlay--hidden Overlay-backdrop--side Overlay-backdrop--placement-right" data-modal-dialog-overlay>
  <modal-dialog data-target="deferred-side-panel.panel" role="dialog" id="dialog-dccd694e-53ca-43c8-ae40-dc1b48c0287e" aria-modal="true" aria-disabled="true" aria-labelledby="dialog-dccd694e-53ca-43c8-ae40-dc1b48c0287e-title" aria-describedby="dialog-dccd694e-53ca-43c8-ae40-dc1b48c0287e-description" data-view-component="true" class="Overlay Overlay-whenNarrow Overlay--size-small-portrait Overlay--motion-scaleFade SidePanel">
    <div styles="flex-direction: row;" data-view-component="true" class="Overlay-header">
  <div class="Overlay-headerContentWrap">
    <div class="Overlay-titleWrap">
      <h1 class="Overlay-title sr-only" id="dialog-dccd694e-53ca-43c8-ae40-dc1b48c0287e-title">
        Account menu
      </h1>
            <div data-view-component="true" class="d-flex">
      <div data-view-component="true" class="AppHeader-logo position-relative">
        <img src="https://avatars.githubusercontent.com/u/104413637?v=4" alt="" size="32" height="32" width="32" data-view-component="true" class="avatar circle" />
</div>        <div data-view-component="true" class="overflow-hidden d-flex width-full">        <div data-view-component="true" class="lh-condensed overflow-hidden d-flex flex-column flex-justify-center ml-2 f5 mr-auto width-full">
          <span data-view-component="true" class="Truncate text-bold">
    <span data-view-component="true" class="Truncate-text">
            MeghnaNa06
</span>
</span>          </div>
        <action-menu data-select-variant="none" data-view-component="true" class="d-sm-none d-md-none d-lg-none">
  <focus-group direction="vertical" mnemonics retain>
    <div data-view-component="true" class="Button-withTooltip">  <button id="user-create-menu-button" popovertarget="user-create-menu-overlay" aria-label="Create something new" aria-controls="user-create-menu-list" aria-haspopup="true" type="button" data-view-component="true" class="AppHeader-button Button--secondary Button--small Button width-auto color-fg-muted">    <span class="Button-content">
        <span class="Button-visual Button-leadingVisual">
          <svg aria-hidden="true" height="16" viewBox="0 0 16 16" version="1.1" width="16" data-view-component="true" class="octicon octicon-plus">
    <path d="M7.75 2a.75.75 0 0 1 .75.75V7h4.25a.75.75 0 0 1 0 1.5H8.5v4.25a.75.75 0 0 1-1.5 0V8.5H2.75a.75.75 0 0 1 0-1.5H7V2.75A.75.75 0 0 1 7.75 2Z"></path>
</svg>
        </span>
      <span class="Button-label"><svg aria-hidden="true" height="16" viewBox="0 0 16 16" version="1.1" width="16" data-view-component="true" class="octicon octicon-triangle-down">
    <path d="m4.427 7.427 3.396 3.396a.25.25 0 0 0 .354 0l3.396-3.396A.25.25 0 0 0 11.396 7H4.604a.25.25 0 0 0-.177.427Z"></path>
</svg></span>
    </span>
</button>  <tool-tip id="tooltip-b2a6024c-39b5-43fb-abb2-3d6049d0898d" for="user-create-menu-button" popover="manual" data-direction="s" data-type="description" data-view-component="true" class="sr-only position-absolute">Create new...</tool-tip>
</div>

<anchored-position id="user-create-menu-overlay" anchor="user-create-menu-button" align="end" side="outside-bottom" anchor-offset="normal" popover="auto" data-view-component="true">
  <div data-view-component="true" class="Overlay Overlay--size-auto">
    
      
        <div data-view-component="true">
  <ul aria-labelledby="user-create-menu-button" id="user-create-menu-list" role="menu" data-view-component="true" class="ActionListWrap--inset ActionListWrap">
      <li data-analytics-event="{&quot;category&quot;:&quot;SiteHeaderComponent&quot;,&quot;action&quot;:&quot;add_dropdown&quot;,&quot;label&quot;:&quot;new repository&quot;}" data-targets="action-list.items" role="none" data-view-component="true" class="ActionListItem">
    
    <a href="/new" tabindex="-1" id="item-b6ad2446-8fdc-459d-8a2a-b09ee6e85835" role="menuitem" data-view-component="true" class="ActionListContent ActionListContent--visual16">
        <span class="ActionListItem-visual ActionListItem-visual--leading">
          <svg aria-hidden="true" height="16" viewBox="0 0 16 16" version="1.1" width="16" data-view-component="true" class="octicon octicon-repo">
    <path d="M2 2.5A2.5 2.5 0 0 1 4.5 0h8.75a.75.75 0 0 1 .75.75v12.5a.75.75 0 0 1-.75.75h-2.5a.75.75 0 0 1 0-1.5h1.75v-2h-8a1 1 0 0 0-.714 1.7.75.75 0 1 1-1.072 1.05A2.495 2.495 0 0 1 2 11.5Zm10.5-1h-8a1 1 0 0 0-1 1v6.708A2.486 2.486 0 0 1 4.5 9h8ZM5 12.25a.25.25 0 0 1 .25-.25h3.5a.25.25 0 0 1 .25.25v3.25a.25.25 0 0 1-.4.2l-1.45-1.087a.249.249 0 0 0-.3 0L5.4 15.7a.25.25 0 0 1-.4-.2Z"></path>
</svg>
        </span>
      
        <span data-view-component="true" class="ActionListItem-label">
              New repository

</span></a>
  
  
</li>
      <li data-analytics-event="{&quot;category&quot;:&quot;SiteHeaderComponent&quot;,&quot;action&quot;:&quot;add_dropdown&quot;,&quot;label&quot;:&quot;import repository&quot;}" data-targets="action-list.items" role="none" data-view-component="true" class="ActionListItem">
    
    <a href="/new/import" tabindex="-1" id="item-b10a3881-22d6-466c-8cee-872fcd0a5692" role="menuitem" data-view-component="true" class="ActionListContent ActionListContent--visual16">
        <span class="ActionListItem-visual ActionListItem-visual--leading">
          <svg aria-hidden="true" height="16" viewBox="0 0 16 16" version="1.1" width="16" data-view-component="true" class="octicon octicon-repo-push">
    <path d="M1 2.5A2.5 2.5 0 0 1 3.5 0h8.75a.75.75 0 0 1 .75.75v3.5a.75.75 0 0 1-1.5 0V1.5h-8a1 1 0 0 0-1 1v6.708A2.493 2.493 0 0 1 3.5 9h3.25a.75.75 0 0 1 0 1.5H3.5a1 1 0 0 0 0 2h5.75a.75.75 0 0 1 0 1.5H3.5A2.5 2.5 0 0 1 1 11.5Zm13.23 7.79h-.001l-1.224-1.224v6.184a.75.75 0 0 1-1.5 0V9.066L10.28 10.29a.75.75 0 0 1-1.06-1.061l2.505-2.504a.75.75 0 0 1 1.06 0L15.29 9.23a.751.751 0 0 1-.018 1.042.751.751 0 0 1-1.042.018Z"></path>
</svg>
        </span>
      
        <span data-view-component="true" class="ActionListItem-label">
                Import repository

</span></a>
  
  
</li>
      <li role="presentation" aria-hidden="true" data-view-component="true" class="ActionList-sectionDivider"></li>
      <li data-analytics-event="{&quot;category&quot;:&quot;SiteHeaderComponent&quot;,&quot;action&quot;:&quot;add_dropdown&quot;,&quot;label&quot;:&quot;new codespace&quot;}" data-targets="action-list.items" role="none" data-view-component="true" class="ActionListItem">
    
    <a href="/codespaces/new" tabindex="-1" id="item-2b5159c4-93bc-4ca5-bd99-7ba73bce19c4" role="menuitem" data-view-component="true" class="ActionListContent ActionListContent--visual16">
        <span class="ActionListItem-visual ActionListItem-visual--leading">
          <svg aria-hidden="true" height="16" viewBox="0 0 16 16" version="1.1" width="16" data-view-component="true" class="octicon octicon-codespaces">
    <path d="M0 11.25c0-.966.784-1.75 1.75-1.75h12.5c.966 0 1.75.784 1.75 1.75v3A1.75 1.75 0 0 1 14.25 16H1.75A1.75 1.75 0 0 1 0 14.25Zm2-9.5C2 .784 2.784 0 3.75 0h8.5C13.216 0 14 .784 14 1.75v5a1.75 1.75 0 0 1-1.75 1.75h-8.5A1.75 1.75 0 0 1 2 6.75Zm1.75-.25a.25.25 0 0 0-.25.25v5c0 .138.112.25.25.25h8.5a.25.25 0 0 0 .25-.25v-5a.25.25 0 0 0-.25-.25Zm-2 9.5a.25.25 0 0 0-.25.25v3c0 .138.112.25.25.25h12.5a.25.25 0 0 0 .25-.25v-3a.25.25 0 0 0-.25-.25Z"></path><path d="M7 12.75a.75.75 0 0 1 .75-.75h4.5a.75.75 0 0 1 0 1.5h-4.5a.75.75 0 0 1-.75-.75Zm-4 0a.75.75 0 0 1 .75-.75h.5a.75.75 0 0 1 0 1.5h-.5a.75.75 0 0 1-.75-.75Z"></path>
</svg>
        </span>
      
        <span data-view-component="true" class="ActionListItem-label">
                New codespace

</span></a>
  
  
</li>
      <li data-analytics-event="{&quot;category&quot;:&quot;SiteHeaderComponent&quot;,&quot;action&quot;:&quot;add_dropdown&quot;,&quot;label&quot;:&quot;new gist&quot;}" data-targets="action-list.items" role="none" data-view-component="true" class="ActionListItem">
    
    <a href="https://gist.github.com/" tabindex="-1" id="item-c9e13aba-39d2-45ef-b801-de00f834da41" role="menuitem" data-view-component="true" class="ActionListContent ActionListContent--visual16">
        <span class="ActionListItem-visual ActionListItem-visual--leading">
          <svg aria-hidden="true" height="16" viewBox="0 0 16 16" version="1.1" width="16" data-view-component="true" class="octicon octicon-code">
    <path d="m11.28 3.22 4.25 4.25a.75.75 0 0 1 0 1.06l-4.25 4.25a.749.749 0 0 1-1.275-.326.749.749 0 0 1 .215-.734L13.94 8l-3.72-3.72a.749.749 0 0 1 .326-1.275.749.749 0 0 1 .734.215Zm-6.56 0a.751.751 0 0 1 1.042.018.751.751 0 0 1 .018 1.042L2.06 8l3.72 3.72a.749.749 0 0 1-.326 1.275.749.749 0 0 1-.734-.215L.47 8.53a.75.75 0 0 1 0-1.06Z"></path>
</svg>
        </span>
      
        <span data-view-component="true" class="ActionListItem-label">
                New gist

</span></a>
  
  
</li>
      <li role="presentation" aria-hidden="true" data-view-component="true" class="ActionList-sectionDivider"></li>
      <li data-targets="action-list.items" role="none" data-view-component="true" class="ActionListItem">
    
    <a href="/account/organizations/new" tabindex="-1" data-dont-follow-via-test="true" data-analytics-event="{&quot;category&quot;:&quot;SiteHeaderComponent&quot;,&quot;action&quot;:&quot;add_dropdown&quot;,&quot;label&quot;:&quot;new organization&quot;}" id="item-6a6dccc1-5e97-4545-942e-91a339fa5774" role="menuitem" data-view-component="true" class="ActionListContent ActionListContent--visual16">
        <span class="ActionListItem-visual ActionListItem-visual--leading">
          <svg aria-hidden="true" height="16" viewBox="0 0 16 16" version="1.1" width="16" data-view-component="true" class="octicon octicon-organization">
    <path d="M1.75 16A1.75 1.75 0 0 1 0 14.25V1.75C0 .784.784 0 1.75 0h8.5C11.216 0 12 .784 12 1.75v12.5c0 .085-.006.168-.018.25h2.268a.25.25 0 0 0 .25-.25V8.285a.25.25 0 0 0-.111-.208l-1.055-.703a.749.749 0 1 1 .832-1.248l1.055.703c.487.325.779.871.779 1.456v5.965A1.75 1.75 0 0 1 14.25 16h-3.5a.766.766 0 0 1-.197-.026c-.099.017-.2.026-.303.026h-3a.75.75 0 0 1-.75-.75V14h-1v1.25a.75.75 0 0 1-.75.75Zm-.25-1.75c0 .138.112.25.25.25H4v-1.25a.75.75 0 0 1 .75-.75h2.5a.75.75 0 0 1 .75.75v1.25h2.25a.25.25 0 0 0 .25-.25V1.75a.25.25 0 0 0-.25-.25h-8.5a.25.25 0 0 0-.25.25ZM3.75 6h.5a.75.75 0 0 1 0 1.5h-.5a.75.75 0 0 1 0-1.5ZM3 3.75A.75.75 0 0 1 3.75 3h.5a.75.75 0 0 1 0 1.5h-.5A.75.75 0 0 1 3 3.75Zm4 3A.75.75 0 0 1 7.75 6h.5a.75.75 0 0 1 0 1.5h-.5A.75.75 0 0 1 7 6.75ZM7.75 3h.5a.75.75 0 0 1 0 1.5h-.5a.75.75 0 0 1 0-1.5ZM3 9.75A.75.75 0 0 1 3.75 9h.5a.75.75 0 0 1 0 1.5h-.5A.75.75 0 0 1 3 9.75ZM7.75 9h.5a.75.75 0 0 1 0 1.5h-.5a.75.75 0 0 1 0-1.5Z"></path>
</svg>
        </span>
      
        <span data-view-component="true" class="ActionListItem-label">
                New organization

</span></a>
  
  
</li>
</ul>  
</div>

</div></anchored-position>  </focus-group>
</action-menu>

</div>
</div>
    </div>
    <div class="Overlay-actionWrap">
      <button data-close-dialog-id="dialog-dccd694e-53ca-43c8-ae40-dc1b48c0287e" aria-label="Close" type="button" data-view-component="true" class="close-button Overlay-closeButton"><svg aria-hidden="true" height="16" viewBox="0 0 16 16" version="1.1" width="16" data-view-component="true" class="octicon octicon-x">
    <path d="M3.72 3.72a.75.75 0 0 1 1.06 0L8 6.94l3.22-3.22a.749.749 0 0 1 1.275.326.749.749 0 0 1-.215.734L9.06 8l3.22 3.22a.749.749 0 0 1-.326 1.275.749.749 0 0 1-.734-.215L8 9.06l-3.22 3.22a.751.751 0 0 1-1.042-.018.751.751 0 0 1-.018-1.042L6.94 8 3.72 4.78a.75.75 0 0 1 0-1.06Z"></path>
</svg></button>
    </div>
  </div>
</div>
      <div data-view-component="true" class="Overlay-body d-flex flex-column px-2">    <div data-view-component="true" class="d-flex flex-column mb-3">
        <nav aria-label="User navigation" data-view-component="true" class="ActionList">
  
  <nav-list>
    <ul data-view-component="true" class="ActionListWrap">
        
          
<li data-item-id="" data-targets="nav-list.items" data-view-component="true" class="ActionListItem">
    
    <button id="item-76d59efa-e32a-48e8-9e20-8716a35430f0" type="button" data-view-component="true" class="ActionListContent ActionListContent--visual16">
        <span class="ActionListItem-visual ActionListItem-visual--leading">
          <span data-view-component="true" class="d-flex flex-items-center">    <svg style="box-sizing: content-box; color: var(--color-icon-primary);" width="16" height="16" viewBox="0 0 16 16" fill="none" data-view-component="true" class="anim-rotate">
  <circle cx="8" cy="8" r="7" stroke="currentColor" stroke-opacity="0.25" stroke-width="2" vector-effect="non-scaling-stroke" fill="none" />
  <path d="M15 8a7.002 7.002 0 00-7-7" stroke="currentColor" stroke-width="2" stroke-linecap="round" vector-effect="non-scaling-stroke" />
</svg>
</span>
        </span>
      
        <span data-view-component="true" class="ActionListItem-label">
          

  <span class="color-fg-muted">
    Loading...
  </span>

</span></button>
  
  
</li>

        
          <li role="presentation" aria-hidden="true" data-view-component="true" class="ActionList-sectionDivider"></li>
        
          
<li data-item-id="" data-targets="nav-list.items" data-view-component="true" class="ActionListItem">
    
    <a data-analytics-event="{&quot;category&quot;:&quot;Global navigation&quot;,&quot;action&quot;:&quot;PROFILE&quot;,&quot;label&quot;:null}" id="item-1c06960d-b2ae-4544-a48b-cc6f19cc5d7e" href="https://github.com/MeghnaNa06" data-view-component="true" class="ActionListContent ActionListContent--visual16">
        <span class="ActionListItem-visual ActionListItem-visual--leading">
          <svg aria-hidden="true" height="16" viewBox="0 0 16 16" version="1.1" width="16" data-view-component="true" class="octicon octicon-person">
    <path d="M10.561 8.073a6.005 6.005 0 0 1 3.432 5.142.75.75 0 1 1-1.498.07 4.5 4.5 0 0 0-8.99 0 .75.75 0 0 1-1.498-.07 6.004 6.004 0 0 1 3.431-5.142 3.999 3.999 0 1 1 5.123 0ZM10.5 5a2.5 2.5 0 1 0-5 0 2.5 2.5 0 0 0 5 0Z"></path>
</svg>
        </span>
      
        <span data-view-component="true" class="ActionListItem-label">
          Your profile
</span></a>
  
  
</li>

        
          
<li data-item-id="" data-targets="nav-list.items" data-view-component="true" class="ActionListItem">
    
    <button id="item-b0b78057-b4cf-4a8d-b7cc-b69ff07988c7" type="button" data-view-component="true" class="ActionListContent ActionListContent--visual16">
        <span class="ActionListItem-visual ActionListItem-visual--leading">
          <span data-view-component="true" class="d-flex flex-items-center">    <svg style="box-sizing: content-box; color: var(--color-icon-primary);" width="16" height="16" viewBox="0 0 16 16" fill="none" data-view-component="true" class="anim-rotate">
  <circle cx="8" cy="8" r="7" stroke="currentColor" stroke-opacity="0.25" stroke-width="2" vector-effect="non-scaling-stroke" fill="none" />
  <path d="M15 8a7.002 7.002 0 00-7-7" stroke="currentColor" stroke-width="2" stroke-linecap="round" vector-effect="non-scaling-stroke" />
</svg>
</span>
        </span>
      
        <span data-view-component="true" class="ActionListItem-label">
          

  <span class="color-fg-muted">
    Loading...
  </span>

</span></button>
  
  
</li>

        
          <li role="presentation" aria-hidden="true" data-view-component="true" class="ActionList-sectionDivider"></li>
        
          
<li data-item-id="" data-targets="nav-list.items" data-view-component="true" class="ActionListItem">
    
    <a data-analytics-event="{&quot;category&quot;:&quot;Global navigation&quot;,&quot;action&quot;:&quot;YOUR_REPOSITORIES&quot;,&quot;label&quot;:null}" id="item-2ceeae8a-ba3f-4bdc-9cb7-8fea261af94a" href="/MeghnaNa06?tab=repositories" data-view-component="true" class="ActionListContent ActionListContent--visual16">
        <span class="ActionListItem-visual ActionListItem-visual--leading">
          <svg aria-hidden="true" height="16" viewBox="0 0 16 16" version="1.1" width="16" data-view-component="true" class="octicon octicon-repo">
    <path d="M2 2.5A2.5 2.5 0 0 1 4.5 0h8.75a.75.75 0 0 1 .75.75v12.5a.75.75 0 0 1-.75.75h-2.5a.75.75 0 0 1 0-1.5h1.75v-2h-8a1 1 0 0 0-.714 1.7.75.75 0 1 1-1.072 1.05A2.495 2.495 0 0 1 2 11.5Zm10.5-1h-8a1 1 0 0 0-1 1v6.708A2.486 2.486 0 0 1 4.5 9h8ZM5 12.25a.25.25 0 0 1 .25-.25h3.5a.25.25 0 0 1 .25.25v3.25a.25.25 0 0 1-.4.2l-1.45-1.087a.249.249 0 0 0-.3 0L5.4 15.7a.25.25 0 0 1-.4-.2Z"></path>
</svg>
        </span>
      
        <span data-view-component="true" class="ActionListItem-label">
          Your repositories
</span></a>
  
  
</li>

        
          
<li data-item-id="" data-targets="nav-list.items" data-view-component="true" class="ActionListItem">
    
    <a data-analytics-event="{&quot;category&quot;:&quot;Global navigation&quot;,&quot;action&quot;:&quot;YOUR_PROJECTS&quot;,&quot;label&quot;:null}" id="item-5ffee4e1-ffae-4bd6-9585-1999bc78cff4" href="/MeghnaNa06?tab=projects" data-view-component="true" class="ActionListContent ActionListContent--visual16">
        <span class="ActionListItem-visual ActionListItem-visual--leading">
          <svg aria-hidden="true" height="16" viewBox="0 0 16 16" version="1.1" width="16" data-view-component="true" class="octicon octicon-project">
    <path d="M1.75 0h12.5C15.216 0 16 .784 16 1.75v12.5A1.75 1.75 0 0 1 14.25 16H1.75A1.75 1.75 0 0 1 0 14.25V1.75C0 .784.784 0 1.75 0ZM1.5 1.75v12.5c0 .138.112.25.25.25h12.5a.25.25 0 0 0 .25-.25V1.75a.25.25 0 0 0-.25-.25H1.75a.25.25 0 0 0-.25.25ZM11.75 3a.75.75 0 0 1 .75.75v7.5a.75.75 0 0 1-1.5 0v-7.5a.75.75 0 0 1 .75-.75Zm-8.25.75a.75.75 0 0 1 1.5 0v5.5a.75.75 0 0 1-1.5 0ZM8 3a.75.75 0 0 1 .75.75v3.5a.75.75 0 0 1-1.5 0v-3.5A.75.75 0 0 1 8 3Z"></path>
</svg>
        </span>
      
        <span data-view-component="true" class="ActionListItem-label">
          Your projects
</span></a>
  
  
</li>

        
          
<li data-item-id="" data-targets="nav-list.items" data-view-component="true" class="ActionListItem">
    
    <button id="item-a9c02c10-3bee-4b3b-923a-81b8ff9475d7" type="button" data-view-component="true" class="ActionListContent ActionListContent--visual16">
        <span class="ActionListItem-visual ActionListItem-visual--leading">
          <span data-view-component="true" class="d-flex flex-items-center">    <svg style="box-sizing: content-box; color: var(--color-icon-primary);" width="16" height="16" viewBox="0 0 16 16" fill="none" data-view-component="true" class="anim-rotate">
  <circle cx="8" cy="8" r="7" stroke="currentColor" stroke-opacity="0.25" stroke-width="2" vector-effect="non-scaling-stroke" fill="none" />
  <path d="M15 8a7.002 7.002 0 00-7-7" stroke="currentColor" stroke-width="2" stroke-linecap="round" vector-effect="non-scaling-stroke" />
</svg>
</span>
        </span>
      
        <span data-view-component="true" class="ActionListItem-label">
          

  <span class="color-fg-muted">
    Loading...
  </span>

</span></button>
  
  
</li>

        
          
<li data-item-id="" data-targets="nav-list.items" data-view-component="true" class="ActionListItem">
    
    <a data-analytics-event="{&quot;category&quot;:&quot;Global navigation&quot;,&quot;action&quot;:&quot;YOUR_STARS&quot;,&quot;label&quot;:null}" id="item-0ede8319-1bde-4f72-bb50-5737393211f5" href="/MeghnaNa06?tab=stars" data-view-component="true" class="ActionListContent ActionListContent--visual16">
        <span class="ActionListItem-visual ActionListItem-visual--leading">
          <svg aria-hidden="true" height="16" viewBox="0 0 16 16" version="1.1" width="16" data-view-component="true" class="octicon octicon-star">
    <path d="M8 .25a.75.75 0 0 1 .673.418l1.882 3.815 4.21.612a.75.75 0 0 1 .416 1.279l-3.046 2.97.719 4.192a.751.751 0 0 1-1.088.791L8 12.347l-3.766 1.98a.75.75 0 0 1-1.088-.79l.72-4.194L.818 6.374a.75.75 0 0 1 .416-1.28l4.21-.611L7.327.668A.75.75 0 0 1 8 .25Zm0 2.445L6.615 5.5a.75.75 0 0 1-.564.41l-3.097.45 2.24 2.184a.75.75 0 0 1 .216.664l-.528 3.084 2.769-1.456a.75.75 0 0 1 .698 0l2.77 1.456-.53-3.084a.75.75 0 0 1 .216-.664l2.24-2.183-3.096-.45a.75.75 0 0 1-.564-.41L8 2.694Z"></path>
</svg>
        </span>
      
        <span data-view-component="true" class="ActionListItem-label">
          Your stars
</span></a>
  
  
</li>

        
          
<li data-item-id="" data-targets="nav-list.items" data-view-component="true" class="ActionListItem">
    
    <a data-analytics-event="{&quot;category&quot;:&quot;Global navigation&quot;,&quot;action&quot;:&quot;SPONSORS&quot;,&quot;label&quot;:null}" id="item-1bdbf2ba-e855-477f-bfbb-3ec346f43e21" href="/sponsors/accounts" data-view-component="true" class="ActionListContent ActionListContent--visual16">
        <span class="ActionListItem-visual ActionListItem-visual--leading">
          <svg aria-hidden="true" height="16" viewBox="0 0 16 16" version="1.1" width="16" data-view-component="true" class="octicon octicon-heart">
    <path d="m8 14.25.345.666a.75.75 0 0 1-.69 0l-.008-.004-.018-.01a7.152 7.152 0 0 1-.31-.17 22.055 22.055 0 0 1-3.434-2.414C2.045 10.731 0 8.35 0 5.5 0 2.836 2.086 1 4.25 1 5.797 1 7.153 1.802 8 3.02 8.847 1.802 10.203 1 11.75 1 13.914 1 16 2.836 16 5.5c0 2.85-2.045 5.231-3.885 6.818a22.066 22.066 0 0 1-3.744 2.584l-.018.01-.006.003h-.002ZM4.25 2.5c-1.336 0-2.75 1.164-2.75 3 0 2.15 1.58 4.144 3.365 5.682A20.58 20.58 0 0 0 8 13.393a20.58 20.58 0 0 0 3.135-2.211C12.92 9.644 14.5 7.65 14.5 5.5c0-1.836-1.414-3-2.75-3-1.373 0-2.609.986-3.029 2.456a.749.749 0 0 1-1.442 0C6.859 3.486 5.623 2.5 4.25 2.5Z"></path>
</svg>
        </span>
      
        <span data-view-component="true" class="ActionListItem-label">
          Your sponsors
</span></a>
  
  
</li>

        
          
<li data-item-id="" data-targets="nav-list.items" data-view-component="true" class="ActionListItem">
    
    <a data-analytics-event="{&quot;category&quot;:&quot;Global navigation&quot;,&quot;action&quot;:&quot;YOUR_GISTS&quot;,&quot;label&quot;:null}" id="item-778c73da-c549-43fa-9e4f-ab64cadcbead" href="https://gist.github.com/mine" data-view-component="true" class="ActionListContent ActionListContent--visual16">
        <span class="ActionListItem-visual ActionListItem-visual--leading">
          <svg aria-hidden="true" height="16" viewBox="0 0 16 16" version="1.1" width="16" data-view-component="true" class="octicon octicon-code-square">
    <path d="M0 1.75C0 .784.784 0 1.75 0h12.5C15.216 0 16 .784 16 1.75v12.5A1.75 1.75 0 0 1 14.25 16H1.75A1.75 1.75 0 0 1 0 14.25Zm1.75-.25a.25.25 0 0 0-.25.25v12.5c0 .138.112.25.25.25h12.5a.25.25 0 0 0 .25-.25V1.75a.25.25 0 0 0-.25-.25Zm7.47 3.97a.75.75 0 0 1 1.06 0l2 2a.75.75 0 0 1 0 1.06l-2 2a.749.749 0 0 1-1.275-.326.749.749 0 0 1 .215-.734L10.69 8 9.22 6.53a.75.75 0 0 1 0-1.06ZM6.78 6.53 5.31 8l1.47 1.47a.749.749 0 0 1-.326 1.275.749.749 0 0 1-.734-.215l-2-2a.75.75 0 0 1 0-1.06l2-2a.751.751 0 0 1 1.042.018.751.751 0 0 1 .018 1.042Z"></path>
</svg>
        </span>
      
        <span data-view-component="true" class="ActionListItem-label">
          Your gists
</span></a>
  
  
</li>

        
          <li role="presentation" aria-hidden="true" data-view-component="true" class="ActionList-sectionDivider"></li>
        
          
<li data-item-id="" data-targets="nav-list.items" data-view-component="true" class="ActionListItem">
    
    <button id="item-efe065b5-22e1-4b8e-b106-40a2fb950625" type="button" data-view-component="true" class="ActionListContent ActionListContent--visual16">
        <span class="ActionListItem-visual ActionListItem-visual--leading">
          <span data-view-component="true" class="d-flex flex-items-center">    <svg style="box-sizing: content-box; color: var(--color-icon-primary);" width="16" height="16" viewBox="0 0 16 16" fill="none" data-view-component="true" class="anim-rotate">
  <circle cx="8" cy="8" r="7" stroke="currentColor" stroke-opacity="0.25" stroke-width="2" vector-effect="non-scaling-stroke" fill="none" />
  <path d="M15 8a7.002 7.002 0 00-7-7" stroke="currentColor" stroke-width="2" stroke-linecap="round" vector-effect="non-scaling-stroke" />
</svg>
</span>
        </span>
      
        <span data-view-component="true" class="ActionListItem-label">
          

  <span class="color-fg-muted">
    Loading...
  </span>

</span></button>
  
  
</li>

        
          
<li data-item-id="" data-targets="nav-list.items" data-view-component="true" class="ActionListItem">
    
    <button id="item-61ea26da-708e-41ed-887d-b2563b498c66" type="button" data-view-component="true" class="ActionListContent ActionListContent--visual16">
        <span class="ActionListItem-visual ActionListItem-visual--leading">
          <span data-view-component="true" class="d-flex flex-items-center">    <svg style="box-sizing: content-box; color: var(--color-icon-primary);" width="16" height="16" viewBox="0 0 16 16" fill="none" data-view-component="true" class="anim-rotate">
  <circle cx="8" cy="8" r="7" stroke="currentColor" stroke-opacity="0.25" stroke-width="2" vector-effect="non-scaling-stroke" fill="none" />
  <path d="M15 8a7.002 7.002 0 00-7-7" stroke="currentColor" stroke-width="2" stroke-linecap="round" vector-effect="non-scaling-stroke" />
</svg>
</span>
        </span>
      
        <span data-view-component="true" class="ActionListItem-label">
          

  <span class="color-fg-muted">
    Loading...
  </span>

</span></button>
  
  
</li>

        
          
<li data-item-id="" data-targets="nav-list.items" data-view-component="true" class="ActionListItem">
    
    <button id="item-3f35a9f6-a07b-4639-86e8-c159ce003ab3" type="button" data-view-component="true" class="ActionListContent ActionListContent--visual16">
        <span class="ActionListItem-visual ActionListItem-visual--leading">
          <span data-view-component="true" class="d-flex flex-items-center">    <svg style="box-sizing: content-box; color: var(--color-icon-primary);" width="16" height="16" viewBox="0 0 16 16" fill="none" data-view-component="true" class="anim-rotate">
  <circle cx="8" cy="8" r="7" stroke="currentColor" stroke-opacity="0.25" stroke-width="2" vector-effect="non-scaling-stroke" fill="none" />
  <path d="M15 8a7.002 7.002 0 00-7-7" stroke="currentColor" stroke-width="2" stroke-linecap="round" vector-effect="non-scaling-stroke" />
</svg>
</span>
        </span>
      
        <span data-view-component="true" class="ActionListItem-label">
          

  <span class="color-fg-muted">
    Loading...
  </span>

</span></button>
  
  
</li>

        
          
<li data-item-id="" data-targets="nav-list.items" data-view-component="true" class="ActionListItem">
    
    <a data-analytics-event="{&quot;category&quot;:&quot;Global navigation&quot;,&quot;action&quot;:&quot;SETTINGS&quot;,&quot;label&quot;:null}" id="item-9861d045-2d8d-4f70-a46d-a7ae6e6d3dca" href="/settings/profile" data-view-component="true" class="ActionListContent ActionListContent--visual16">
        <span class="ActionListItem-visual ActionListItem-visual--leading">
          <svg aria-hidden="true" height="16" viewBox="0 0 16 16" version="1.1" width="16" data-view-component="true" class="octicon octicon-gear">
    <path d="M8 0a8.2 8.2 0 0 1 .701.031C9.444.095 9.99.645 10.16 1.29l.288 1.107c.018.066.079.158.212.224.231.114.454.243.668.386.123.082.233.09.299.071l1.103-.303c.644-.176 1.392.021 1.82.63.27.385.506.792.704 1.218.315.675.111 1.422-.364 1.891l-.814.806c-.049.048-.098.147-.088.294.016.257.016.515 0 .772-.01.147.038.246.088.294l.814.806c.475.469.679 1.216.364 1.891a7.977 7.977 0 0 1-.704 1.217c-.428.61-1.176.807-1.82.63l-1.102-.302c-.067-.019-.177-.011-.3.071a5.909 5.909 0 0 1-.668.386c-.133.066-.194.158-.211.224l-.29 1.106c-.168.646-.715 1.196-1.458 1.26a8.006 8.006 0 0 1-1.402 0c-.743-.064-1.289-.614-1.458-1.26l-.289-1.106c-.018-.066-.079-.158-.212-.224a5.738 5.738 0 0 1-.668-.386c-.123-.082-.233-.09-.299-.071l-1.103.303c-.644.176-1.392-.021-1.82-.63a8.12 8.12 0 0 1-.704-1.218c-.315-.675-.111-1.422.363-1.891l.815-.806c.05-.048.098-.147.088-.294a6.214 6.214 0 0 1 0-.772c.01-.147-.038-.246-.088-.294l-.815-.806C.635 6.045.431 5.298.746 4.623a7.92 7.92 0 0 1 .704-1.217c.428-.61 1.176-.807 1.82-.63l1.102.302c.067.019.177.011.3-.071.214-.143.437-.272.668-.386.133-.066.194-.158.211-.224l.29-1.106C6.009.645 6.556.095 7.299.03 7.53.01 7.764 0 8 0Zm-.571 1.525c-.036.003-.108.036-.137.146l-.289 1.105c-.147.561-.549.967-.998 1.189-.173.086-.34.183-.5.29-.417.278-.97.423-1.529.27l-1.103-.303c-.109-.03-.175.016-.195.045-.22.312-.412.644-.573.99-.014.031-.021.11.059.19l.815.806c.411.406.562.957.53 1.456a4.709 4.709 0 0 0 0 .582c.032.499-.119 1.05-.53 1.456l-.815.806c-.081.08-.073.159-.059.19.162.346.353.677.573.989.02.03.085.076.195.046l1.102-.303c.56-.153 1.113-.008 1.53.27.161.107.328.204.501.29.447.222.85.629.997 1.189l.289 1.105c.029.109.101.143.137.146a6.6 6.6 0 0 0 1.142 0c.036-.003.108-.036.137-.146l.289-1.105c.147-.561.549-.967.998-1.189.173-.086.34-.183.5-.29.417-.278.97-.423 1.529-.27l1.103.303c.109.029.175-.016.195-.045.22-.313.411-.644.573-.99.014-.031.021-.11-.059-.19l-.815-.806c-.411-.406-.562-.957-.53-1.456a4.709 4.709 0 0 0 0-.582c-.032-.499.119-1.05.53-1.456l.815-.806c.081-.08.073-.159.059-.19a6.464 6.464 0 0 0-.573-.989c-.02-.03-.085-.076-.195-.046l-1.102.303c-.56.153-1.113.008-1.53-.27a4.44 4.44 0 0 0-.501-.29c-.447-.222-.85-.629-.997-1.189l-.289-1.105c-.029-.11-.101-.143-.137-.146a6.6 6.6 0 0 0-1.142 0ZM11 8a3 3 0 1 1-6 0 3 3 0 0 1 6 0ZM9.5 8a1.5 1.5 0 1 0-3.001.001A1.5 1.5 0 0 0 9.5 8Z"></path>
</svg>
        </span>
      
        <span data-view-component="true" class="ActionListItem-label">
          Settings
</span></a>
  
  
</li>

        
          <li role="presentation" aria-hidden="true" data-view-component="true" class="ActionList-sectionDivider"></li>
        
          
<li data-item-id="" data-targets="nav-list.items" data-view-component="true" class="ActionListItem">
    
    <a data-analytics-event="{&quot;category&quot;:&quot;Global navigation&quot;,&quot;action&quot;:&quot;DOCS&quot;,&quot;label&quot;:null}" id="item-b4b79c0b-4828-4d31-8281-2cd023c2db3f" href="https://docs.github.com" data-view-component="true" class="ActionListContent ActionListContent--visual16">
        <span class="ActionListItem-visual ActionListItem-visual--leading">
          <svg aria-hidden="true" height="16" viewBox="0 0 16 16" version="1.1" width="16" data-view-component="true" class="octicon octicon-book">
    <path d="M0 1.75A.75.75 0 0 1 .75 1h4.253c1.227 0 2.317.59 3 1.501A3.743 3.743 0 0 1 11.006 1h4.245a.75.75 0 0 1 .75.75v10.5a.75.75 0 0 1-.75.75h-4.507a2.25 2.25 0 0 0-1.591.659l-.622.621a.75.75 0 0 1-1.06 0l-.622-.621A2.25 2.25 0 0 0 5.258 13H.75a.75.75 0 0 1-.75-.75Zm7.251 10.324.004-5.073-.002-2.253A2.25 2.25 0 0 0 5.003 2.5H1.5v9h3.757a3.75 3.75 0 0 1 1.994.574ZM8.755 4.75l-.004 7.322a3.752 3.752 0 0 1 1.992-.572H14.5v-9h-3.495a2.25 2.25 0 0 0-2.25 2.25Z"></path>
</svg>
        </span>
      
        <span data-view-component="true" class="ActionListItem-label">
          GitHub Docs
</span></a>
  
  
</li>

        
          
<li data-item-id="" data-targets="nav-list.items" data-view-component="true" class="ActionListItem">
    
    <a data-analytics-event="{&quot;category&quot;:&quot;Global navigation&quot;,&quot;action&quot;:&quot;SUPPORT&quot;,&quot;label&quot;:null}" id="item-2dee28c0-972f-4486-875c-01dd538c4b73" href="https://support.github.com" data-view-component="true" class="ActionListContent ActionListContent--visual16">
        <span class="ActionListItem-visual ActionListItem-visual--leading">
          <svg aria-hidden="true" height="16" viewBox="0 0 16 16" version="1.1" width="16" data-view-component="true" class="octicon octicon-people">
    <path d="M2 5.5a3.5 3.5 0 1 1 5.898 2.549 5.508 5.508 0 0 1 3.034 4.084.75.75 0 1 1-1.482.235 4 4 0 0 0-7.9 0 .75.75 0 0 1-1.482-.236A5.507 5.507 0 0 1 3.102 8.05 3.493 3.493 0 0 1 2 5.5ZM11 4a3.001 3.001 0 0 1 2.22 5.018 5.01 5.01 0 0 1 2.56 3.012.749.749 0 0 1-.885.954.752.752 0 0 1-.549-.514 3.507 3.507 0 0 0-2.522-2.372.75.75 0 0 1-.574-.73v-.352a.75.75 0 0 1 .416-.672A1.5 1.5 0 0 0 11 5.5.75.75 0 0 1 11 4Zm-5.5-.5a2 2 0 1 0-.001 3.999A2 2 0 0 0 5.5 3.5Z"></path>
</svg>
        </span>
      
        <span data-view-component="true" class="ActionListItem-label">
          GitHub Support
</span></a>
  
  
</li>

        
          <li role="presentation" aria-hidden="true" data-view-component="true" class="ActionList-sectionDivider"></li>
        
          
<li data-item-id="" data-targets="nav-list.items" data-view-component="true" class="ActionListItem">
    
    <a data-analytics-event="{&quot;category&quot;:&quot;Global navigation&quot;,&quot;action&quot;:&quot;LOGOUT&quot;,&quot;label&quot;:null}" id="item-acea06e3-cb61-4a15-a05e-92646c484c3a" href="/logout" data-view-component="true" class="ActionListContent">
      
        <span data-view-component="true" class="ActionListItem-label">
          Sign out
</span></a>
  
  
</li>

</ul>  </nav-list>
</nav>


</div>
</div>
      
</modal-dialog></div>
  </user-drawer-side-panel>

  </include-fragment>
</deferred-side-panel>
          
        </div>

        <div class="position-absolute mt-2">
            
<site-header-logged-in-user-menu>

</site-header-logged-in-user-menu>

        </div>
      </div>
    </div>


      <div class="AppHeader-localBar" >
        <nav data-pjax="#js-repo-pjax-container" aria-label="Repository" data-view-component="true" class="js-repo-nav js-sidenav-container-pjax js-responsive-underlinenav overflow-hidden UnderlineNav">

  <ul data-view-component="true" class="UnderlineNav-body list-style-none">
      <li data-view-component="true" class="d-inline-flex">
  <a id="code-tab" href="/harshitasaini469/Handwritten_digit_classification" data-tab-item="i0code-tab" data-selected-links="repo_source repo_downloads repo_commits repo_releases repo_tags repo_branches repo_packages repo_deployments repo_attestations /harshitasaini469/Handwritten_digit_classification" data-pjax="#repo-content-pjax-container" data-turbo-frame="repo-content-turbo-frame" data-hotkey="g c" data-analytics-event="{&quot;category&quot;:&quot;Underline navbar&quot;,&quot;action&quot;:&quot;Click tab&quot;,&quot;label&quot;:&quot;Code&quot;,&quot;target&quot;:&quot;UNDERLINE_NAV.TAB&quot;}" data-view-component="true" class="UnderlineNav-item no-wrap js-responsive-underlinenav-item js-selected-navigation-item">
    
              <svg aria-hidden="true" height="16" viewBox="0 0 16 16" version="1.1" width="16" data-view-component="true" class="octicon octicon-code UnderlineNav-octicon d-none d-sm-inline">
    <path d="m11.28 3.22 4.25 4.25a.75.75 0 0 1 0 1.06l-4.25 4.25a.749.749 0 0 1-1.275-.326.749.749 0 0 1 .215-.734L13.94 8l-3.72-3.72a.749.749 0 0 1 .326-1.275.749.749 0 0 1 .734.215Zm-6.56 0a.751.751 0 0 1 1.042.018.751.751 0 0 1 .018 1.042L2.06 8l3.72 3.72a.749.749 0 0 1-.326 1.275.749.749 0 0 1-.734-.215L.47 8.53a.75.75 0 0 1 0-1.06Z"></path>
</svg>
        <span data-content="Code">Code</span>
          <span id="code-repo-tab-count" data-pjax-replace="" data-turbo-replace="" title="Not available" data-view-component="true" class="Counter"></span>


    
</a></li>
      <li data-view-component="true" class="d-inline-flex">
  <a id="issues-tab" href="/harshitasaini469/Handwritten_digit_classification/issues" data-tab-item="i1issues-tab" data-selected-links="repo_issues repo_labels repo_milestones /harshitasaini469/Handwritten_digit_classification/issues" data-pjax="#repo-content-pjax-container" data-turbo-frame="repo-content-turbo-frame" data-hotkey="g i" data-analytics-event="{&quot;category&quot;:&quot;Underline navbar&quot;,&quot;action&quot;:&quot;Click tab&quot;,&quot;label&quot;:&quot;Issues&quot;,&quot;target&quot;:&quot;UNDERLINE_NAV.TAB&quot;}" data-view-component="true" class="UnderlineNav-item no-wrap js-responsive-underlinenav-item js-selected-navigation-item">
    
              <svg aria-hidden="true" height="16" viewBox="0 0 16 16" version="1.1" width="16" data-view-component="true" class="octicon octicon-issue-opened UnderlineNav-octicon d-none d-sm-inline">
    <path d="M8 9.5a1.5 1.5 0 1 0 0-3 1.5 1.5 0 0 0 0 3Z"></path><path d="M8 0a8 8 0 1 1 0 16A8 8 0 0 1 8 0ZM1.5 8a6.5 6.5 0 1 0 13 0 6.5 6.5 0 0 0-13 0Z"></path>
</svg>
        <span data-content="Issues">Issues</span>
          <span id="issues-repo-tab-count" data-pjax-replace="" data-turbo-replace="" title="0" hidden="hidden" data-view-component="true" class="Counter">0</span>


    
</a></li>
      <li data-view-component="true" class="d-inline-flex">
  <a id="pull-requests-tab" href="/harshitasaini469/Handwritten_digit_classification/pulls" data-tab-item="i2pull-requests-tab" data-selected-links="repo_pulls checks /harshitasaini469/Handwritten_digit_classification/pulls" data-pjax="#repo-content-pjax-container" data-turbo-frame="repo-content-turbo-frame" data-hotkey="g p" data-analytics-event="{&quot;category&quot;:&quot;Underline navbar&quot;,&quot;action&quot;:&quot;Click tab&quot;,&quot;label&quot;:&quot;Pull requests&quot;,&quot;target&quot;:&quot;UNDERLINE_NAV.TAB&quot;}" data-view-component="true" class="UnderlineNav-item no-wrap js-responsive-underlinenav-item js-selected-navigation-item">
    
              <svg aria-hidden="true" height="16" viewBox="0 0 16 16" version="1.1" width="16" data-view-component="true" class="octicon octicon-git-pull-request UnderlineNav-octicon d-none d-sm-inline">
    <path d="M1.5 3.25a2.25 2.25 0 1 1 3 2.122v5.256a2.251 2.251 0 1 1-1.5 0V5.372A2.25 2.25 0 0 1 1.5 3.25Zm5.677-.177L9.573.677A.25.25 0 0 1 10 .854V2.5h1A2.5 2.5 0 0 1 13.5 5v5.628a2.251 2.251 0 1 1-1.5 0V5a1 1 0 0 0-1-1h-1v1.646a.25.25 0 0 1-.427.177L7.177 3.427a.25.25 0 0 1 0-.354ZM3.75 2.5a.75.75 0 1 0 0 1.5.75.75 0 0 0 0-1.5Zm0 9.5a.75.75 0 1 0 0 1.5.75.75 0 0 0 0-1.5Zm8.25.75a.75.75 0 1 0 1.5 0 .75.75 0 0 0-1.5 0Z"></path>
</svg>
        <span data-content="Pull requests">Pull requests</span>
          <span id="pull-requests-repo-tab-count" data-pjax-replace="" data-turbo-replace="" title="0" hidden="hidden" data-view-component="true" class="Counter">0</span>


    
</a></li>
      <li data-view-component="true" class="d-inline-flex">
  <a id="actions-tab" href="/harshitasaini469/Handwritten_digit_classification/actions" data-tab-item="i3actions-tab" data-selected-links="repo_actions /harshitasaini469/Handwritten_digit_classification/actions" data-pjax="#repo-content-pjax-container" data-turbo-frame="repo-content-turbo-frame" data-hotkey="g a" data-analytics-event="{&quot;category&quot;:&quot;Underline navbar&quot;,&quot;action&quot;:&quot;Click tab&quot;,&quot;label&quot;:&quot;Actions&quot;,&quot;target&quot;:&quot;UNDERLINE_NAV.TAB&quot;}" data-view-component="true" class="UnderlineNav-item no-wrap js-responsive-underlinenav-item js-selected-navigation-item">
    
              <svg aria-hidden="true" height="16" viewBox="0 0 16 16" version="1.1" width="16" data-view-component="true" class="octicon octicon-play UnderlineNav-octicon d-none d-sm-inline">
    <path d="M8 0a8 8 0 1 1 0 16A8 8 0 0 1 8 0ZM1.5 8a6.5 6.5 0 1 0 13 0 6.5 6.5 0 0 0-13 0Zm4.879-2.773 4.264 2.559a.25.25 0 0 1 0 .428l-4.264 2.559A.25.25 0 0 1 6 10.559V5.442a.25.25 0 0 1 .379-.215Z"></path>
</svg>
        <span data-content="Actions">Actions</span>
          <span id="actions-repo-tab-count" data-pjax-replace="" data-turbo-replace="" title="Not available" data-view-component="true" class="Counter"></span>


    
</a></li>
      <li data-view-component="true" class="d-inline-flex">
  <a id="projects-tab" href="/harshitasaini469/Handwritten_digit_classification/projects" data-tab-item="i4projects-tab" data-selected-links="repo_projects new_repo_project repo_project /harshitasaini469/Handwritten_digit_classification/projects" data-pjax="#repo-content-pjax-container" data-turbo-frame="repo-content-turbo-frame" data-hotkey="g b" data-analytics-event="{&quot;category&quot;:&quot;Underline navbar&quot;,&quot;action&quot;:&quot;Click tab&quot;,&quot;label&quot;:&quot;Projects&quot;,&quot;target&quot;:&quot;UNDERLINE_NAV.TAB&quot;}" data-view-component="true" class="UnderlineNav-item no-wrap js-responsive-underlinenav-item js-selected-navigation-item">
    
              <svg aria-hidden="true" height="16" viewBox="0 0 16 16" version="1.1" width="16" data-view-component="true" class="octicon octicon-table UnderlineNav-octicon d-none d-sm-inline">
    <path d="M0 1.75C0 .784.784 0 1.75 0h12.5C15.216 0 16 .784 16 1.75v12.5A1.75 1.75 0 0 1 14.25 16H1.75A1.75 1.75 0 0 1 0 14.25ZM6.5 6.5v8h7.75a.25.25 0 0 0 .25-.25V6.5Zm8-1.5V1.75a.25.25 0 0 0-.25-.25H6.5V5Zm-13 1.5v7.75c0 .138.112.25.25.25H5v-8ZM5 5V1.5H1.75a.25.25 0 0 0-.25.25V5Z"></path>
</svg>
        <span data-content="Projects">Projects</span>
          <span id="projects-repo-tab-count" data-pjax-replace="" data-turbo-replace="" title="0" hidden="hidden" data-view-component="true" class="Counter">0</span>


    
</a></li>
      <li data-view-component="true" class="d-inline-flex">
  <a id="security-tab" href="/harshitasaini469/Handwritten_digit_classification/security" data-tab-item="i5security-tab" data-selected-links="security overview alerts policy token_scanning code_scanning /harshitasaini469/Handwritten_digit_classification/security" data-pjax="#repo-content-pjax-container" data-turbo-frame="repo-content-turbo-frame" data-hotkey="g s" data-analytics-event="{&quot;category&quot;:&quot;Underline navbar&quot;,&quot;action&quot;:&quot;Click tab&quot;,&quot;label&quot;:&quot;Security&quot;,&quot;target&quot;:&quot;UNDERLINE_NAV.TAB&quot;}" data-view-component="true" class="UnderlineNav-item no-wrap js-responsive-underlinenav-item js-selected-navigation-item">
    
              <svg aria-hidden="true" height="16" viewBox="0 0 16 16" version="1.1" width="16" data-view-component="true" class="octicon octicon-shield UnderlineNav-octicon d-none d-sm-inline">
    <path d="M7.467.133a1.748 1.748 0 0 1 1.066 0l5.25 1.68A1.75 1.75 0 0 1 15 3.48V7c0 1.566-.32 3.182-1.303 4.682-.983 1.498-2.585 2.813-5.032 3.855a1.697 1.697 0 0 1-1.33 0c-2.447-1.042-4.049-2.357-5.032-3.855C1.32 10.182 1 8.566 1 7V3.48a1.75 1.75 0 0 1 1.217-1.667Zm.61 1.429a.25.25 0 0 0-.153 0l-5.25 1.68a.25.25 0 0 0-.174.238V7c0 1.358.275 2.666 1.057 3.86.784 1.194 2.121 2.34 4.366 3.297a.196.196 0 0 0 .154 0c2.245-.956 3.582-2.104 4.366-3.298C13.225 9.666 13.5 8.36 13.5 7V3.48a.251.251 0 0 0-.174-.237l-5.25-1.68ZM8.75 4.75v3a.75.75 0 0 1-1.5 0v-3a.75.75 0 0 1 1.5 0ZM9 10.5a1 1 0 1 1-2 0 1 1 0 0 1 2 0Z"></path>
</svg>
        <span data-content="Security">Security</span>
          <include-fragment src="/harshitasaini469/Handwritten_digit_classification/security/overall-count" accept="text/fragment+html"></include-fragment>

    
</a></li>
      <li data-view-component="true" class="d-inline-flex">
  <a id="insights-tab" href="/harshitasaini469/Handwritten_digit_classification/network/dependencies" data-tab-item="i6insights-tab" data-selected-links="repo_graphs repo_contributors dependency_graph dependabot_updates pulse people community /harshitasaini469/Handwritten_digit_classification/network/dependencies" data-pjax="#repo-content-pjax-container" data-turbo-frame="repo-content-turbo-frame" data-analytics-event="{&quot;category&quot;:&quot;Underline navbar&quot;,&quot;action&quot;:&quot;Click tab&quot;,&quot;label&quot;:&quot;Insights&quot;,&quot;target&quot;:&quot;UNDERLINE_NAV.TAB&quot;}" data-view-component="true" class="UnderlineNav-item no-wrap js-responsive-underlinenav-item js-selected-navigation-item">
    
              <svg aria-hidden="true" height="16" viewBox="0 0 16 16" version="1.1" width="16" data-view-component="true" class="octicon octicon-graph UnderlineNav-octicon d-none d-sm-inline">
    <path d="M1.5 1.75V13.5h13.75a.75.75 0 0 1 0 1.5H.75a.75.75 0 0 1-.75-.75V1.75a.75.75 0 0 1 1.5 0Zm14.28 2.53-5.25 5.25a.75.75 0 0 1-1.06 0L7 7.06 4.28 9.78a.751.751 0 0 1-1.042-.018.751.751 0 0 1-.018-1.042l3.25-3.25a.75.75 0 0 1 1.06 0L10 7.94l4.72-4.72a.751.751 0 0 1 1.042.018.751.751 0 0 1 .018 1.042Z"></path>
</svg>
        <span data-content="Insights">Insights</span>
          <span id="insights-repo-tab-count" data-pjax-replace="" data-turbo-replace="" title="Not available" data-view-component="true" class="Counter"></span>


    
</a></li>
</ul>
    <div style="visibility:hidden;" data-view-component="true" class="UnderlineNav-actions js-responsive-underlinenav-overflow position-absolute pr-3 pr-md-4 pr-lg-5 right-0">      <action-menu data-select-variant="none" data-view-component="true">
  <focus-group direction="vertical" mnemonics retain>
    <div data-view-component="true" class="Button-withTooltip">
  <button id="action-menu-23151273-cc62-4ae2-b3f8-def24b0e12e5-button" popovertarget="action-menu-23151273-cc62-4ae2-b3f8-def24b0e12e5-overlay" aria-controls="action-menu-23151273-cc62-4ae2-b3f8-def24b0e12e5-list" aria-haspopup="true" aria-labelledby="tooltip-5f320dd8-e173-408c-96ff-78c2b4813f41" type="button" data-view-component="true" class="Button Button--iconOnly Button--secondary Button--medium UnderlineNav-item">    <svg aria-hidden="true" height="16" viewBox="0 0 16 16" version="1.1" width="16" data-view-component="true" class="octicon octicon-kebab-horizontal Button-visual">
    <path d="M8 9a1.5 1.5 0 1 0 0-3 1.5 1.5 0 0 0 0 3ZM1.5 9a1.5 1.5 0 1 0 0-3 1.5 1.5 0 0 0 0 3Zm13 0a1.5 1.5 0 1 0 0-3 1.5 1.5 0 0 0 0 3Z"></path>
</svg>
</button>  <tool-tip id="tooltip-5f320dd8-e173-408c-96ff-78c2b4813f41" for="action-menu-23151273-cc62-4ae2-b3f8-def24b0e12e5-button" popover="manual" data-direction="s" data-type="label" data-view-component="true" class="sr-only position-absolute">Additional navigation options</tool-tip>
</div>

<anchored-position id="action-menu-23151273-cc62-4ae2-b3f8-def24b0e12e5-overlay" anchor="action-menu-23151273-cc62-4ae2-b3f8-def24b0e12e5-button" align="start" side="outside-bottom" anchor-offset="normal" popover="auto" data-view-component="true">
  <div data-view-component="true" class="Overlay Overlay--size-auto">
    
      
        <div data-view-component="true">
  <ul aria-labelledby="action-menu-23151273-cc62-4ae2-b3f8-def24b0e12e5-button" id="action-menu-23151273-cc62-4ae2-b3f8-def24b0e12e5-list" role="menu" data-view-component="true" class="ActionListWrap--inset ActionListWrap">
      <li data-menu-item="i0code-tab" data-targets="action-list.items" hidden="hidden" role="none" data-view-component="true" class="ActionListItem">
    
    <a tabindex="-1" id="item-23b1f71c-16dc-4430-9f60-9a0b1cc4a6b2" href="/harshitasaini469/Handwritten_digit_classification" role="menuitem" data-view-component="true" class="ActionListContent ActionListContent--visual16">
        <span class="ActionListItem-visual ActionListItem-visual--leading">
          <svg aria-hidden="true" height="16" viewBox="0 0 16 16" version="1.1" width="16" data-view-component="true" class="octicon octicon-code">
    <path d="m11.28 3.22 4.25 4.25a.75.75 0 0 1 0 1.06l-4.25 4.25a.749.749 0 0 1-1.275-.326.749.749 0 0 1 .215-.734L13.94 8l-3.72-3.72a.749.749 0 0 1 .326-1.275.749.749 0 0 1 .734.215Zm-6.56 0a.751.751 0 0 1 1.042.018.751.751 0 0 1 .018 1.042L2.06 8l3.72 3.72a.749.749 0 0 1-.326 1.275.749.749 0 0 1-.734-.215L.47 8.53a.75.75 0 0 1 0-1.06Z"></path>
</svg>
        </span>
      
        <span data-view-component="true" class="ActionListItem-label">
          Code
</span></a>
  
  
</li>
      <li data-menu-item="i1issues-tab" data-targets="action-list.items" hidden="hidden" role="none" data-view-component="true" class="ActionListItem">
    
    <a tabindex="-1" id="item-4373502d-aa8d-4492-aa71-f99432e65f48" href="/harshitasaini469/Handwritten_digit_classification/issues" role="menuitem" data-view-component="true" class="ActionListContent ActionListContent--visual16">
        <span class="ActionListItem-visual ActionListItem-visual--leading">
          <svg aria-hidden="true" height="16" viewBox="0 0 16 16" version="1.1" width="16" data-view-component="true" class="octicon octicon-issue-opened">
    <path d="M8 9.5a1.5 1.5 0 1 0 0-3 1.5 1.5 0 0 0 0 3Z"></path><path d="M8 0a8 8 0 1 1 0 16A8 8 0 0 1 8 0ZM1.5 8a6.5 6.5 0 1 0 13 0 6.5 6.5 0 0 0-13 0Z"></path>
</svg>
        </span>
      
        <span data-view-component="true" class="ActionListItem-label">
          Issues
</span></a>
  
  
</li>
      <li data-menu-item="i2pull-requests-tab" data-targets="action-list.items" hidden="hidden" role="none" data-view-component="true" class="ActionListItem">
    
    <a tabindex="-1" id="item-daf3d5a4-390b-4921-b9c1-adeb019fdd04" href="/harshitasaini469/Handwritten_digit_classification/pulls" role="menuitem" data-view-component="true" class="ActionListContent ActionListContent--visual16">
        <span class="ActionListItem-visual ActionListItem-visual--leading">
          <svg aria-hidden="true" height="16" viewBox="0 0 16 16" version="1.1" width="16" data-view-component="true" class="octicon octicon-git-pull-request">
    <path d="M1.5 3.25a2.25 2.25 0 1 1 3 2.122v5.256a2.251 2.251 0 1 1-1.5 0V5.372A2.25 2.25 0 0 1 1.5 3.25Zm5.677-.177L9.573.677A.25.25 0 0 1 10 .854V2.5h1A2.5 2.5 0 0 1 13.5 5v5.628a2.251 2.251 0 1 1-1.5 0V5a1 1 0 0 0-1-1h-1v1.646a.25.25 0 0 1-.427.177L7.177 3.427a.25.25 0 0 1 0-.354ZM3.75 2.5a.75.75 0 1 0 0 1.5.75.75 0 0 0 0-1.5Zm0 9.5a.75.75 0 1 0 0 1.5.75.75 0 0 0 0-1.5Zm8.25.75a.75.75 0 1 0 1.5 0 .75.75 0 0 0-1.5 0Z"></path>
</svg>
        </span>
      
        <span data-view-component="true" class="ActionListItem-label">
          Pull requests
</span></a>
  
  
</li>
      <li data-menu-item="i3actions-tab" data-targets="action-list.items" hidden="hidden" role="none" data-view-component="true" class="ActionListItem">
    
    <a tabindex="-1" id="item-e0b07b2e-b004-4ede-90ae-c2c71dbbacc2" href="/harshitasaini469/Handwritten_digit_classification/actions" role="menuitem" data-view-component="true" class="ActionListContent ActionListContent--visual16">
        <span class="ActionListItem-visual ActionListItem-visual--leading">
          <svg aria-hidden="true" height="16" viewBox="0 0 16 16" version="1.1" width="16" data-view-component="true" class="octicon octicon-play">
    <path d="M8 0a8 8 0 1 1 0 16A8 8 0 0 1 8 0ZM1.5 8a6.5 6.5 0 1 0 13 0 6.5 6.5 0 0 0-13 0Zm4.879-2.773 4.264 2.559a.25.25 0 0 1 0 .428l-4.264 2.559A.25.25 0 0 1 6 10.559V5.442a.25.25 0 0 1 .379-.215Z"></path>
</svg>
        </span>
      
        <span data-view-component="true" class="ActionListItem-label">
          Actions
</span></a>
  
  
</li>
      <li data-menu-item="i4projects-tab" data-targets="action-list.items" hidden="hidden" role="none" data-view-component="true" class="ActionListItem">
    
    <a tabindex="-1" id="item-5c56cd04-37a0-415f-a9bf-8dacdb36cae4" href="/harshitasaini469/Handwritten_digit_classification/projects" role="menuitem" data-view-component="true" class="ActionListContent ActionListContent--visual16">
        <span class="ActionListItem-visual ActionListItem-visual--leading">
          <svg aria-hidden="true" height="16" viewBox="0 0 16 16" version="1.1" width="16" data-view-component="true" class="octicon octicon-table">
    <path d="M0 1.75C0 .784.784 0 1.75 0h12.5C15.216 0 16 .784 16 1.75v12.5A1.75 1.75 0 0 1 14.25 16H1.75A1.75 1.75 0 0 1 0 14.25ZM6.5 6.5v8h7.75a.25.25 0 0 0 .25-.25V6.5Zm8-1.5V1.75a.25.25 0 0 0-.25-.25H6.5V5Zm-13 1.5v7.75c0 .138.112.25.25.25H5v-8ZM5 5V1.5H1.75a.25.25 0 0 0-.25.25V5Z"></path>
</svg>
        </span>
      
        <span data-view-component="true" class="ActionListItem-label">
          Projects
</span></a>
  
  
</li>
      <li data-menu-item="i5security-tab" data-targets="action-list.items" hidden="hidden" role="none" data-view-component="true" class="ActionListItem">
    
    <a tabindex="-1" id="item-f384557c-862a-498e-8575-04ec58b66a45" href="/harshitasaini469/Handwritten_digit_classification/security" role="menuitem" data-view-component="true" class="ActionListContent ActionListContent--visual16">
        <span class="ActionListItem-visual ActionListItem-visual--leading">
          <svg aria-hidden="true" height="16" viewBox="0 0 16 16" version="1.1" width="16" data-view-component="true" class="octicon octicon-shield">
    <path d="M7.467.133a1.748 1.748 0 0 1 1.066 0l5.25 1.68A1.75 1.75 0 0 1 15 3.48V7c0 1.566-.32 3.182-1.303 4.682-.983 1.498-2.585 2.813-5.032 3.855a1.697 1.697 0 0 1-1.33 0c-2.447-1.042-4.049-2.357-5.032-3.855C1.32 10.182 1 8.566 1 7V3.48a1.75 1.75 0 0 1 1.217-1.667Zm.61 1.429a.25.25 0 0 0-.153 0l-5.25 1.68a.25.25 0 0 0-.174.238V7c0 1.358.275 2.666 1.057 3.86.784 1.194 2.121 2.34 4.366 3.297a.196.196 0 0 0 .154 0c2.245-.956 3.582-2.104 4.366-3.298C13.225 9.666 13.5 8.36 13.5 7V3.48a.251.251 0 0 0-.174-.237l-5.25-1.68ZM8.75 4.75v3a.75.75 0 0 1-1.5 0v-3a.75.75 0 0 1 1.5 0ZM9 10.5a1 1 0 1 1-2 0 1 1 0 0 1 2 0Z"></path>
</svg>
        </span>
      
        <span data-view-component="true" class="ActionListItem-label">
          Security
</span></a>
  
  
</li>
      <li data-menu-item="i6insights-tab" data-targets="action-list.items" hidden="hidden" role="none" data-view-component="true" class="ActionListItem">
    
    <a tabindex="-1" id="item-5784e843-3144-41e8-bfd6-b67e4d37e506" href="/harshitasaini469/Handwritten_digit_classification/network/dependencies" role="menuitem" data-view-component="true" class="ActionListContent ActionListContent--visual16">
        <span class="ActionListItem-visual ActionListItem-visual--leading">
          <svg aria-hidden="true" height="16" viewBox="0 0 16 16" version="1.1" width="16" data-view-component="true" class="octicon octicon-graph">
    <path d="M1.5 1.75V13.5h13.75a.75.75 0 0 1 0 1.5H.75a.75.75 0 0 1-.75-.75V1.75a.75.75 0 0 1 1.5 0Zm14.28 2.53-5.25 5.25a.75.75 0 0 1-1.06 0L7 7.06 4.28 9.78a.751.751 0 0 1-1.042-.018.751.751 0 0 1-.018-1.042l3.25-3.25a.75.75 0 0 1 1.06 0L10 7.94l4.72-4.72a.751.751 0 0 1 1.042.018.751.751 0 0 1 .018 1.042Z"></path>
</svg>
        </span>
      
        <span data-view-component="true" class="ActionListItem-label">
          Insights
</span></a>
  
  
</li>
</ul>  
</div>

</div></anchored-position>  </focus-group>
</action-menu></div>
</nav>
      </div>
</header>


      <div hidden="hidden" data-view-component="true" class="js-stale-session-flash stale-session-flash flash flash-warn mb-3">
  
        <svg aria-hidden="true" height="16" viewBox="0 0 16 16" version="1.1" width="16" data-view-component="true" class="octicon octicon-alert">
    <path d="M6.457 1.047c.659-1.234 2.427-1.234 3.086 0l6.082 11.378A1.75 1.75 0 0 1 14.082 15H1.918a1.75 1.75 0 0 1-1.543-2.575Zm1.763.707a.25.25 0 0 0-.44 0L1.698 13.132a.25.25 0 0 0 .22.368h12.164a.25.25 0 0 0 .22-.368Zm.53 3.996v2.5a.75.75 0 0 1-1.5 0v-2.5a.75.75 0 0 1 1.5 0ZM9 11a1 1 0 1 1-2 0 1 1 0 0 1 2 0Z"></path>
</svg>
        <span class="js-stale-session-flash-signed-in" hidden>You signed in with another tab or window. <a class="Link--inTextBlock" href="">Reload</a> to refresh your session.</span>
        <span class="js-stale-session-flash-signed-out" hidden>You signed out in another tab or window. <a class="Link--inTextBlock" href="">Reload</a> to refresh your session.</span>
        <span class="js-stale-session-flash-switched" hidden>You switched accounts on another tab or window. <a class="Link--inTextBlock" href="">Reload</a> to refresh your session.</span>

    <div data-view-component="true" class="flash-close">
  <button id="icon-button-51a62796-a07c-43fa-a9b9-ac4a7392d4e1" aria-labelledby="tooltip-8de86ec3-9ee5-479e-a016-eee7a3512d20" type="button" data-view-component="true" class="Button Button--iconOnly Button--invisible Button--medium js-flash-close">    <svg aria-hidden="true" height="16" viewBox="0 0 16 16" version="1.1" width="16" data-view-component="true" class="octicon octicon-x Button-visual">
    <path d="M3.72 3.72a.75.75 0 0 1 1.06 0L8 6.94l3.22-3.22a.749.749 0 0 1 1.275.326.749.749 0 0 1-.215.734L9.06 8l3.22 3.22a.749.749 0 0 1-.326 1.275.749.749 0 0 1-.734-.215L8 9.06l-3.22 3.22a.751.751 0 0 1-1.042-.018.751.751 0 0 1-.018-1.042L6.94 8 3.72 4.78a.75.75 0 0 1 0-1.06Z"></path>
</svg>
</button>  <tool-tip id="tooltip-8de86ec3-9ee5-479e-a016-eee7a3512d20" for="icon-button-51a62796-a07c-43fa-a9b9-ac4a7392d4e1" popover="manual" data-direction="s" data-type="label" data-view-component="true" class="sr-only position-absolute">Dismiss alert</tool-tip>
</div>

  
</div>
          
    </div>

  <div id="start-of-content" class="show-on-focus"></div>








    <div id="js-flash-container" data-turbo-replace>





  <template class="js-flash-template">
    
<div class="flash flash-full   {{ className }}">
  <div class="px-2" >
    <button autofocus class="flash-close js-flash-close" type="button" aria-label="Dismiss this message">
      <svg aria-hidden="true" height="16" viewBox="0 0 16 16" version="1.1" width="16" data-view-component="true" class="octicon octicon-x">
    <path d="M3.72 3.72a.75.75 0 0 1 1.06 0L8 6.94l3.22-3.22a.749.749 0 0 1 1.275.326.749.749 0 0 1-.215.734L9.06 8l3.22 3.22a.749.749 0 0 1-.326 1.275.749.749 0 0 1-.734-.215L8 9.06l-3.22 3.22a.751.751 0 0 1-1.042-.018.751.751 0 0 1-.018-1.042L6.94 8 3.72 4.78a.75.75 0 0 1 0-1.06Z"></path>
</svg>
    </button>
    <div aria-atomic="true" role="alert" class="js-flash-alert">
      
      <div>{{ message }}</div>

    </div>
  </div>
</div>
  </template>
</div>


    
    <notification-shelf-watcher data-base-url="https://github.com/notifications/beta/shelf" data-channel="eyJjIjoibm90aWZpY2F0aW9uLWNoYW5nZWQ6MTA0NDEzNjM3IiwidCI6MTcwMDQ4MzA1Nn0=--0c17254289cb9de89bba7fb5cc085f702bdb0af77fefc3ad0706a6b5e1da83c9" data-view-component="true" class="js-socket-channel"></notification-shelf-watcher>
  <div hidden data-initial data-target="notification-shelf-watcher.placeholder"></div>






      <details
  class="details-reset details-overlay details-overlay-dark js-command-palette-dialog"
  id="command-palette-pjax-container"
  data-turbo-replace
>
  <summary aria-label="Command palette trigger" tabindex="-1"></summary>
  <details-dialog class="command-palette-details-dialog d-flex flex-column flex-justify-center height-fit" aria-label="Command palette">
    <command-palette
      class="command-palette color-bg-default rounded-3 border color-shadow-small"
      return-to=/harshitasaini469/Handwritten_digit_classification/blob/main/MNIST_Digit_Classification.ipynb
      user-id="104413637"
      activation-hotkey="Mod+k,Mod+Alt+k"
      command-mode-hotkey="Mod+Shift+k"
      data-action="
        command-palette-input-ready:command-palette#inputReady
        command-palette-page-stack-updated:command-palette#updateInputScope
        itemsUpdated:command-palette#itemsUpdated
        keydown:command-palette#onKeydown
        loadingStateChanged:command-palette#loadingStateChanged
        selectedItemChanged:command-palette#selectedItemChanged
        pageFetchError:command-palette#pageFetchError
      ">

        <command-palette-mode
          data-char="#"
            data-scope-types="[&quot;&quot;]"
            data-placeholder="Search issues and pull requests"
        ></command-palette-mode>
        <command-palette-mode
          data-char="#"
            data-scope-types="[&quot;owner&quot;,&quot;repository&quot;]"
            data-placeholder="Search issues, pull requests, discussions, and projects"
        ></command-palette-mode>
        <command-palette-mode
          data-char="!"
            data-scope-types="[&quot;owner&quot;,&quot;repository&quot;]"
            data-placeholder="Search projects"
        ></command-palette-mode>
        <command-palette-mode
          data-char="@"
            data-scope-types="[&quot;&quot;]"
            data-placeholder="Search or jump to a user, organization, or repository"
        ></command-palette-mode>
        <command-palette-mode
          data-char="@"
            data-scope-types="[&quot;owner&quot;]"
            data-placeholder="Search or jump to a repository"
        ></command-palette-mode>
        <command-palette-mode
          data-char="/"
            data-scope-types="[&quot;repository&quot;]"
            data-placeholder="Search files"
        ></command-palette-mode>
        <command-palette-mode
          data-char="?"
        ></command-palette-mode>
        <command-palette-mode
          data-char="&gt;"
            data-placeholder="Run a command"
        ></command-palette-mode>
        <command-palette-mode
          data-char=""
            data-scope-types="[&quot;&quot;]"
            data-placeholder="Search or jump to..."
        ></command-palette-mode>
        <command-palette-mode
          data-char=""
            data-scope-types="[&quot;owner&quot;]"
            data-placeholder="Search or jump to..."
        ></command-palette-mode>
      <command-palette-mode
        class="js-command-palette-default-mode"
        data-char=""
        data-placeholder="Search or jump to..."
      ></command-palette-mode>

      <command-palette-input placeholder="Search or jump to..."

        data-action="
          command-palette-input:command-palette#onInput
          command-palette-select:command-palette#onSelect
          command-palette-descope:command-palette#onDescope
          command-palette-cleared:command-palette#onInputClear
        "
      >
        <div class="js-search-icon d-flex flex-items-center mr-2" style="height: 26px">
          <svg aria-hidden="true" height="16" viewBox="0 0 16 16" version="1.1" width="16" data-view-component="true" class="octicon octicon-search color-fg-muted">
    <path d="M10.68 11.74a6 6 0 0 1-7.922-8.982 6 6 0 0 1 8.982 7.922l3.04 3.04a.749.749 0 0 1-.326 1.275.749.749 0 0 1-.734-.215ZM11.5 7a4.499 4.499 0 1 0-8.997 0A4.499 4.499 0 0 0 11.5 7Z"></path>
</svg>
        </div>
        <div class="js-spinner d-flex flex-items-center mr-2 color-fg-muted" hidden>
          <svg aria-label="Loading" class="anim-rotate" viewBox="0 0 16 16" fill="none" width="16" height="16">
            <circle
              cx="8"
              cy="8"
              r="7"
              stroke="currentColor"
              stroke-opacity="0.25"
              stroke-width="2"
              vector-effect="non-scaling-stroke"
            ></circle>
            <path
              d="M15 8a7.002 7.002 0 00-7-7"
              stroke="currentColor"
              stroke-width="2"
              stroke-linecap="round"
              vector-effect="non-scaling-stroke"
            ></path>
          </svg>
        </div>
        <command-palette-scope >
          <div data-target="command-palette-scope.placeholder" hidden class="color-fg-subtle">/&nbsp;&nbsp;<span class="text-semibold color-fg-default">...</span>&nbsp;&nbsp;/&nbsp;&nbsp;</div>
              <command-palette-token
                data-text="harshitasaini469"
                data-id="U_kgDOBXsHuw"
                data-type="owner"
                data-value="harshitasaini469"
                data-targets="command-palette-scope.tokens"
                class="color-fg-default text-semibold"
                style="white-space:nowrap;line-height:20px;"
                >harshitasaini469<span class="color-fg-subtle text-normal">&nbsp;&nbsp;/&nbsp;&nbsp;</span></command-palette-token>
              <command-palette-token
                data-text="Handwritten_digit_classification"
                data-id="R_kgDOIV6Xgg"
                data-type="repository"
                data-value="Handwritten_digit_classification"
                data-targets="command-palette-scope.tokens"
                class="color-fg-default text-semibold"
                style="white-space:nowrap;line-height:20px;"
                >Handwritten_digit...<span class="color-fg-subtle text-normal">&nbsp;&nbsp;/&nbsp;&nbsp;</span></command-palette-token>
        </command-palette-scope>
        <div class="command-palette-input-group flex-1 form-control border-0 box-shadow-none" style="z-index: 0">
          <div class="command-palette-typeahead position-absolute d-flex flex-items-center Truncate">
            <span class="typeahead-segment input-mirror" data-target="command-palette-input.mirror"></span>
            <span class="Truncate-text" data-target="command-palette-input.typeaheadText"></span>
            <span class="typeahead-segment" data-target="command-palette-input.typeaheadPlaceholder"></span>
          </div>
          <input
            class="js-overlay-input typeahead-input d-none"
            disabled
            tabindex="-1"
            aria-label="Hidden input for typeahead"
          >
          <input
            type="text"
            autocomplete="off"
            autocorrect="off"
            autocapitalize="off"
            spellcheck="false"
            class="js-input typeahead-input form-control border-0 box-shadow-none input-block width-full no-focus-indicator"
            aria-label="Command palette input"
            aria-haspopup="listbox"
            aria-expanded="false"
            aria-autocomplete="list"
            aria-controls="command-palette-page-stack"
            role="combobox"
            data-action="
              input:command-palette-input#onInput
              keydown:command-palette-input#onKeydown
            "
          >
        </div>
          <div data-view-component="true" class="position-relative d-inline-block">
    <button aria-keyshortcuts="Control+Backspace" data-action="click:command-palette-input#onClear keypress:command-palette-input#onClear" data-target="command-palette-input.clearButton" id="command-palette-clear-button" hidden="hidden" type="button" data-view-component="true" class="btn-octicon command-palette-input-clear-button">      <svg aria-hidden="true" height="16" viewBox="0 0 16 16" version="1.1" width="16" data-view-component="true" class="octicon octicon-x-circle-fill">
    <path d="M2.343 13.657A8 8 0 1 1 13.658 2.343 8 8 0 0 1 2.343 13.657ZM6.03 4.97a.751.751 0 0 0-1.042.018.751.751 0 0 0-.018 1.042L6.94 8 4.97 9.97a.749.749 0 0 0 .326 1.275.749.749 0 0 0 .734-.215L8 9.06l1.97 1.97a.749.749 0 0 0 1.275-.326.749.749 0 0 0-.215-.734L9.06 8l1.97-1.97a.749.749 0 0 0-.326-1.275.749.749 0 0 0-.734.215L8 6.94Z"></path>
</svg>
</button>    <tool-tip id="tooltip-8114a179-4cf2-486b-9b2a-bab3070ccbe0" for="command-palette-clear-button" popover="manual" data-direction="w" data-type="label" data-view-component="true" class="sr-only position-absolute">Clear Command Palette</tool-tip>
</div>
      </command-palette-input>

      <command-palette-page-stack
        data-default-scope-id="R_kgDOIV6Xgg"
        data-default-scope-type="Repository"
        data-action="command-palette-page-octicons-cached:command-palette-page-stack#cacheOcticons"
      >
          <command-palette-tip
            class="color-fg-muted f6 px-3 py-1 my-2"
              data-scope-types="[&quot;&quot;,&quot;owner&quot;,&quot;repository&quot;]"
            data-mode=""
            data-value="">
            <div class="d-flex flex-items-start flex-justify-between">
              <div>
                <span class="text-bold">Tip:</span>
                  Type <kbd class="hx_kbd">#</kbd> to search pull requests
              </div>
              <div class="ml-2 flex-shrink-0">
                Type <kbd class="hx_kbd">?</kbd> for help and tips
              </div>
            </div>
          </command-palette-tip>
          <command-palette-tip
            class="color-fg-muted f6 px-3 py-1 my-2"
              data-scope-types="[&quot;&quot;,&quot;owner&quot;,&quot;repository&quot;]"
            data-mode=""
            data-value="">
            <div class="d-flex flex-items-start flex-justify-between">
              <div>
                <span class="text-bold">Tip:</span>
                  Type <kbd class="hx_kbd">#</kbd> to search issues
              </div>
              <div class="ml-2 flex-shrink-0">
                Type <kbd class="hx_kbd">?</kbd> for help and tips
              </div>
            </div>
          </command-palette-tip>
          <command-palette-tip
            class="color-fg-muted f6 px-3 py-1 my-2"
              data-scope-types="[&quot;owner&quot;,&quot;repository&quot;]"
            data-mode=""
            data-value="">
            <div class="d-flex flex-items-start flex-justify-between">
              <div>
                <span class="text-bold">Tip:</span>
                  Type <kbd class="hx_kbd">#</kbd> to search discussions
              </div>
              <div class="ml-2 flex-shrink-0">
                Type <kbd class="hx_kbd">?</kbd> for help and tips
              </div>
            </div>
          </command-palette-tip>
          <command-palette-tip
            class="color-fg-muted f6 px-3 py-1 my-2"
              data-scope-types="[&quot;owner&quot;,&quot;repository&quot;]"
            data-mode=""
            data-value="">
            <div class="d-flex flex-items-start flex-justify-between">
              <div>
                <span class="text-bold">Tip:</span>
                  Type <kbd class="hx_kbd">!</kbd> to search projects
              </div>
              <div class="ml-2 flex-shrink-0">
                Type <kbd class="hx_kbd">?</kbd> for help and tips
              </div>
            </div>
          </command-palette-tip>
          <command-palette-tip
            class="color-fg-muted f6 px-3 py-1 my-2"
              data-scope-types="[&quot;owner&quot;]"
            data-mode=""
            data-value="">
            <div class="d-flex flex-items-start flex-justify-between">
              <div>
                <span class="text-bold">Tip:</span>
                  Type <kbd class="hx_kbd">@</kbd> to search teams
              </div>
              <div class="ml-2 flex-shrink-0">
                Type <kbd class="hx_kbd">?</kbd> for help and tips
              </div>
            </div>
          </command-palette-tip>
          <command-palette-tip
            class="color-fg-muted f6 px-3 py-1 my-2"
              data-scope-types="[&quot;&quot;]"
            data-mode=""
            data-value="">
            <div class="d-flex flex-items-start flex-justify-between">
              <div>
                <span class="text-bold">Tip:</span>
                  Type <kbd class="hx_kbd">@</kbd> to search people and organizations
              </div>
              <div class="ml-2 flex-shrink-0">
                Type <kbd class="hx_kbd">?</kbd> for help and tips
              </div>
            </div>
          </command-palette-tip>
          <command-palette-tip
            class="color-fg-muted f6 px-3 py-1 my-2"
              data-scope-types="[&quot;&quot;,&quot;owner&quot;,&quot;repository&quot;]"
            data-mode=""
            data-value="">
            <div class="d-flex flex-items-start flex-justify-between">
              <div>
                <span class="text-bold">Tip:</span>
                  Type <kbd class="hx_kbd">&gt;</kbd> to activate command mode
              </div>
              <div class="ml-2 flex-shrink-0">
                Type <kbd class="hx_kbd">?</kbd> for help and tips
              </div>
            </div>
          </command-palette-tip>
          <command-palette-tip
            class="color-fg-muted f6 px-3 py-1 my-2"
              data-scope-types="[&quot;&quot;,&quot;owner&quot;,&quot;repository&quot;]"
            data-mode=""
            data-value="">
            <div class="d-flex flex-items-start flex-justify-between">
              <div>
                <span class="text-bold">Tip:</span>
                  Go to your accessibility settings to change your keyboard shortcuts
              </div>
              <div class="ml-2 flex-shrink-0">
                Type <kbd class="hx_kbd">?</kbd> for help and tips
              </div>
            </div>
          </command-palette-tip>
          <command-palette-tip
            class="color-fg-muted f6 px-3 py-1 my-2"
              data-scope-types="[&quot;&quot;,&quot;owner&quot;,&quot;repository&quot;]"
            data-mode="#"
            data-value="">
            <div class="d-flex flex-items-start flex-justify-between">
              <div>
                <span class="text-bold">Tip:</span>
                  Type author:@me to search your content
              </div>
              <div class="ml-2 flex-shrink-0">
                Type <kbd class="hx_kbd">?</kbd> for help and tips
              </div>
            </div>
          </command-palette-tip>
          <command-palette-tip
            class="color-fg-muted f6 px-3 py-1 my-2"
              data-scope-types="[&quot;&quot;,&quot;owner&quot;,&quot;repository&quot;]"
            data-mode="#"
            data-value="">
            <div class="d-flex flex-items-start flex-justify-between">
              <div>
                <span class="text-bold">Tip:</span>
                  Type is:pr to filter to pull requests
              </div>
              <div class="ml-2 flex-shrink-0">
                Type <kbd class="hx_kbd">?</kbd> for help and tips
              </div>
            </div>
          </command-palette-tip>
          <command-palette-tip
            class="color-fg-muted f6 px-3 py-1 my-2"
              data-scope-types="[&quot;&quot;,&quot;owner&quot;,&quot;repository&quot;]"
            data-mode="#"
            data-value="">
            <div class="d-flex flex-items-start flex-justify-between">
              <div>
                <span class="text-bold">Tip:</span>
                  Type is:issue to filter to issues
              </div>
              <div class="ml-2 flex-shrink-0">
                Type <kbd class="hx_kbd">?</kbd> for help and tips
              </div>
            </div>
          </command-palette-tip>
          <command-palette-tip
            class="color-fg-muted f6 px-3 py-1 my-2"
              data-scope-types="[&quot;owner&quot;,&quot;repository&quot;]"
            data-mode="#"
            data-value="">
            <div class="d-flex flex-items-start flex-justify-between">
              <div>
                <span class="text-bold">Tip:</span>
                  Type is:project to filter to projects
              </div>
              <div class="ml-2 flex-shrink-0">
                Type <kbd class="hx_kbd">?</kbd> for help and tips
              </div>
            </div>
          </command-palette-tip>
          <command-palette-tip
            class="color-fg-muted f6 px-3 py-1 my-2"
              data-scope-types="[&quot;&quot;,&quot;owner&quot;,&quot;repository&quot;]"
            data-mode="#"
            data-value="">
            <div class="d-flex flex-items-start flex-justify-between">
              <div>
                <span class="text-bold">Tip:</span>
                  Type is:open to filter to open content
              </div>
              <div class="ml-2 flex-shrink-0">
                Type <kbd class="hx_kbd">?</kbd> for help and tips
              </div>
            </div>
          </command-palette-tip>
        <command-palette-tip class="mx-3 my-2 flash flash-error d-flex flex-items-center" data-scope-types="*" data-on-error>
          <div>
            <svg aria-hidden="true" height="16" viewBox="0 0 16 16" version="1.1" width="16" data-view-component="true" class="octicon octicon-alert">
    <path d="M6.457 1.047c.659-1.234 2.427-1.234 3.086 0l6.082 11.378A1.75 1.75 0 0 1 14.082 15H1.918a1.75 1.75 0 0 1-1.543-2.575Zm1.763.707a.25.25 0 0 0-.44 0L1.698 13.132a.25.25 0 0 0 .22.368h12.164a.25.25 0 0 0 .22-.368Zm.53 3.996v2.5a.75.75 0 0 1-1.5 0v-2.5a.75.75 0 0 1 1.5 0ZM9 11a1 1 0 1 1-2 0 1 1 0 0 1 2 0Z"></path>
</svg>
          </div>
          <div class="px-2">
            We’ve encountered an error and some results aren't available at this time. Type a new search or try again later.
          </div>
        </command-palette-tip>
        <command-palette-tip class="h4 color-fg-default pl-3 pb-2 pt-3" data-on-empty data-scope-types="*" data-match-mode="[^?]|^$">
          No results matched your search
        </command-palette-tip>

        <div hidden>

            <div data-targets="command-palette-page-stack.localOcticons" data-octicon-id="arrow-right-color-fg-muted">
              <svg height="16" class="octicon octicon-arrow-right color-fg-muted" viewBox="0 0 16 16" version="1.1" width="16" aria-hidden="true"><path d="M8.22 2.97a.75.75 0 0 1 1.06 0l4.25 4.25a.75.75 0 0 1 0 1.06l-4.25 4.25a.751.751 0 0 1-1.042-.018.751.751 0 0 1-.018-1.042l2.97-2.97H3.75a.75.75 0 0 1 0-1.5h7.44L8.22 4.03a.75.75 0 0 1 0-1.06Z"></path></svg>
            </div>
            <div data-targets="command-palette-page-stack.localOcticons" data-octicon-id="arrow-right-color-fg-default">
              <svg height="16" class="octicon octicon-arrow-right color-fg-default" viewBox="0 0 16 16" version="1.1" width="16" aria-hidden="true"><path d="M8.22 2.97a.75.75 0 0 1 1.06 0l4.25 4.25a.75.75 0 0 1 0 1.06l-4.25 4.25a.751.751 0 0 1-1.042-.018.751.751 0 0 1-.018-1.042l2.97-2.97H3.75a.75.75 0 0 1 0-1.5h7.44L8.22 4.03a.75.75 0 0 1 0-1.06Z"></path></svg>
            </div>
            <div data-targets="command-palette-page-stack.localOcticons" data-octicon-id="codespaces-color-fg-muted">
              <svg height="16" class="octicon octicon-codespaces color-fg-muted" viewBox="0 0 16 16" version="1.1" width="16" aria-hidden="true"><path d="M0 11.25c0-.966.784-1.75 1.75-1.75h12.5c.966 0 1.75.784 1.75 1.75v3A1.75 1.75 0 0 1 14.25 16H1.75A1.75 1.75 0 0 1 0 14.25Zm2-9.5C2 .784 2.784 0 3.75 0h8.5C13.216 0 14 .784 14 1.75v5a1.75 1.75 0 0 1-1.75 1.75h-8.5A1.75 1.75 0 0 1 2 6.75Zm1.75-.25a.25.25 0 0 0-.25.25v5c0 .138.112.25.25.25h8.5a.25.25 0 0 0 .25-.25v-5a.25.25 0 0 0-.25-.25Zm-2 9.5a.25.25 0 0 0-.25.25v3c0 .138.112.25.25.25h12.5a.25.25 0 0 0 .25-.25v-3a.25.25 0 0 0-.25-.25Z"></path><path d="M7 12.75a.75.75 0 0 1 .75-.75h4.5a.75.75 0 0 1 0 1.5h-4.5a.75.75 0 0 1-.75-.75Zm-4 0a.75.75 0 0 1 .75-.75h.5a.75.75 0 0 1 0 1.5h-.5a.75.75 0 0 1-.75-.75Z"></path></svg>
            </div>
            <div data-targets="command-palette-page-stack.localOcticons" data-octicon-id="copy-color-fg-muted">
              <svg height="16" class="octicon octicon-copy color-fg-muted" viewBox="0 0 16 16" version="1.1" width="16" aria-hidden="true"><path d="M0 6.75C0 5.784.784 5 1.75 5h1.5a.75.75 0 0 1 0 1.5h-1.5a.25.25 0 0 0-.25.25v7.5c0 .138.112.25.25.25h7.5a.25.25 0 0 0 .25-.25v-1.5a.75.75 0 0 1 1.5 0v1.5A1.75 1.75 0 0 1 9.25 16h-7.5A1.75 1.75 0 0 1 0 14.25Z"></path><path d="M5 1.75C5 .784 5.784 0 6.75 0h7.5C15.216 0 16 .784 16 1.75v7.5A1.75 1.75 0 0 1 14.25 11h-7.5A1.75 1.75 0 0 1 5 9.25Zm1.75-.25a.25.25 0 0 0-.25.25v7.5c0 .138.112.25.25.25h7.5a.25.25 0 0 0 .25-.25v-7.5a.25.25 0 0 0-.25-.25Z"></path></svg>
            </div>
            <div data-targets="command-palette-page-stack.localOcticons" data-octicon-id="dash-color-fg-muted">
              <svg height="16" class="octicon octicon-dash color-fg-muted" viewBox="0 0 16 16" version="1.1" width="16" aria-hidden="true"><path d="M2 7.75A.75.75 0 0 1 2.75 7h10a.75.75 0 0 1 0 1.5h-10A.75.75 0 0 1 2 7.75Z"></path></svg>
            </div>
            <div data-targets="command-palette-page-stack.localOcticons" data-octicon-id="file-color-fg-muted">
              <svg height="16" class="octicon octicon-file color-fg-muted" viewBox="0 0 16 16" version="1.1" width="16" aria-hidden="true"><path d="M2 1.75C2 .784 2.784 0 3.75 0h6.586c.464 0 .909.184 1.237.513l2.914 2.914c.329.328.513.773.513 1.237v9.586A1.75 1.75 0 0 1 13.25 16h-9.5A1.75 1.75 0 0 1 2 14.25Zm1.75-.25a.25.25 0 0 0-.25.25v12.5c0 .138.112.25.25.25h9.5a.25.25 0 0 0 .25-.25V6h-2.75A1.75 1.75 0 0 1 9 4.25V1.5Zm6.75.062V4.25c0 .138.112.25.25.25h2.688l-.011-.013-2.914-2.914-.013-.011Z"></path></svg>
            </div>
            <div data-targets="command-palette-page-stack.localOcticons" data-octicon-id="gear-color-fg-muted">
              <svg height="16" class="octicon octicon-gear color-fg-muted" viewBox="0 0 16 16" version="1.1" width="16" aria-hidden="true"><path d="M8 0a8.2 8.2 0 0 1 .701.031C9.444.095 9.99.645 10.16 1.29l.288 1.107c.018.066.079.158.212.224.231.114.454.243.668.386.123.082.233.09.299.071l1.103-.303c.644-.176 1.392.021 1.82.63.27.385.506.792.704 1.218.315.675.111 1.422-.364 1.891l-.814.806c-.049.048-.098.147-.088.294.016.257.016.515 0 .772-.01.147.038.246.088.294l.814.806c.475.469.679 1.216.364 1.891a7.977 7.977 0 0 1-.704 1.217c-.428.61-1.176.807-1.82.63l-1.102-.302c-.067-.019-.177-.011-.3.071a5.909 5.909 0 0 1-.668.386c-.133.066-.194.158-.211.224l-.29 1.106c-.168.646-.715 1.196-1.458 1.26a8.006 8.006 0 0 1-1.402 0c-.743-.064-1.289-.614-1.458-1.26l-.289-1.106c-.018-.066-.079-.158-.212-.224a5.738 5.738 0 0 1-.668-.386c-.123-.082-.233-.09-.299-.071l-1.103.303c-.644.176-1.392-.021-1.82-.63a8.12 8.12 0 0 1-.704-1.218c-.315-.675-.111-1.422.363-1.891l.815-.806c.05-.048.098-.147.088-.294a6.214 6.214 0 0 1 0-.772c.01-.147-.038-.246-.088-.294l-.815-.806C.635 6.045.431 5.298.746 4.623a7.92 7.92 0 0 1 .704-1.217c.428-.61 1.176-.807 1.82-.63l1.102.302c.067.019.177.011.3-.071.214-.143.437-.272.668-.386.133-.066.194-.158.211-.224l.29-1.106C6.009.645 6.556.095 7.299.03 7.53.01 7.764 0 8 0Zm-.571 1.525c-.036.003-.108.036-.137.146l-.289 1.105c-.147.561-.549.967-.998 1.189-.173.086-.34.183-.5.29-.417.278-.97.423-1.529.27l-1.103-.303c-.109-.03-.175.016-.195.045-.22.312-.412.644-.573.99-.014.031-.021.11.059.19l.815.806c.411.406.562.957.53 1.456a4.709 4.709 0 0 0 0 .582c.032.499-.119 1.05-.53 1.456l-.815.806c-.081.08-.073.159-.059.19.162.346.353.677.573.989.02.03.085.076.195.046l1.102-.303c.56-.153 1.113-.008 1.53.27.161.107.328.204.501.29.447.222.85.629.997 1.189l.289 1.105c.029.109.101.143.137.146a6.6 6.6 0 0 0 1.142 0c.036-.003.108-.036.137-.146l.289-1.105c.147-.561.549-.967.998-1.189.173-.086.34-.183.5-.29.417-.278.97-.423 1.529-.27l1.103.303c.109.029.175-.016.195-.045.22-.313.411-.644.573-.99.014-.031.021-.11-.059-.19l-.815-.806c-.411-.406-.562-.957-.53-1.456a4.709 4.709 0 0 0 0-.582c-.032-.499.119-1.05.53-1.456l.815-.806c.081-.08.073-.159.059-.19a6.464 6.464 0 0 0-.573-.989c-.02-.03-.085-.076-.195-.046l-1.102.303c-.56.153-1.113.008-1.53-.27a4.44 4.44 0 0 0-.501-.29c-.447-.222-.85-.629-.997-1.189l-.289-1.105c-.029-.11-.101-.143-.137-.146a6.6 6.6 0 0 0-1.142 0ZM11 8a3 3 0 1 1-6 0 3 3 0 0 1 6 0ZM9.5 8a1.5 1.5 0 1 0-3.001.001A1.5 1.5 0 0 0 9.5 8Z"></path></svg>
            </div>
            <div data-targets="command-palette-page-stack.localOcticons" data-octicon-id="lock-color-fg-muted">
              <svg height="16" class="octicon octicon-lock color-fg-muted" viewBox="0 0 16 16" version="1.1" width="16" aria-hidden="true"><path d="M4 4a4 4 0 0 1 8 0v2h.25c.966 0 1.75.784 1.75 1.75v5.5A1.75 1.75 0 0 1 12.25 15h-8.5A1.75 1.75 0 0 1 2 13.25v-5.5C2 6.784 2.784 6 3.75 6H4Zm8.25 3.5h-8.5a.25.25 0 0 0-.25.25v5.5c0 .138.112.25.25.25h8.5a.25.25 0 0 0 .25-.25v-5.5a.25.25 0 0 0-.25-.25ZM10.5 6V4a2.5 2.5 0 1 0-5 0v2Z"></path></svg>
            </div>
            <div data-targets="command-palette-page-stack.localOcticons" data-octicon-id="moon-color-fg-muted">
              <svg height="16" class="octicon octicon-moon color-fg-muted" viewBox="0 0 16 16" version="1.1" width="16" aria-hidden="true"><path d="M9.598 1.591a.749.749 0 0 1 .785-.175 7.001 7.001 0 1 1-8.967 8.967.75.75 0 0 1 .961-.96 5.5 5.5 0 0 0 7.046-7.046.75.75 0 0 1 .175-.786Zm1.616 1.945a7 7 0 0 1-7.678 7.678 5.499 5.499 0 1 0 7.678-7.678Z"></path></svg>
            </div>
            <div data-targets="command-palette-page-stack.localOcticons" data-octicon-id="person-color-fg-muted">
              <svg height="16" class="octicon octicon-person color-fg-muted" viewBox="0 0 16 16" version="1.1" width="16" aria-hidden="true"><path d="M10.561 8.073a6.005 6.005 0 0 1 3.432 5.142.75.75 0 1 1-1.498.07 4.5 4.5 0 0 0-8.99 0 .75.75 0 0 1-1.498-.07 6.004 6.004 0 0 1 3.431-5.142 3.999 3.999 0 1 1 5.123 0ZM10.5 5a2.5 2.5 0 1 0-5 0 2.5 2.5 0 0 0 5 0Z"></path></svg>
            </div>
            <div data-targets="command-palette-page-stack.localOcticons" data-octicon-id="pencil-color-fg-muted">
              <svg height="16" class="octicon octicon-pencil color-fg-muted" viewBox="0 0 16 16" version="1.1" width="16" aria-hidden="true"><path d="M11.013 1.427a1.75 1.75 0 0 1 2.474 0l1.086 1.086a1.75 1.75 0 0 1 0 2.474l-8.61 8.61c-.21.21-.47.364-.756.445l-3.251.93a.75.75 0 0 1-.927-.928l.929-3.25c.081-.286.235-.547.445-.758l8.61-8.61Zm.176 4.823L9.75 4.81l-6.286 6.287a.253.253 0 0 0-.064.108l-.558 1.953 1.953-.558a.253.253 0 0 0 .108-.064Zm1.238-3.763a.25.25 0 0 0-.354 0L10.811 3.75l1.439 1.44 1.263-1.263a.25.25 0 0 0 0-.354Z"></path></svg>
            </div>
            <div data-targets="command-palette-page-stack.localOcticons" data-octicon-id="issue-opened-open">
              <svg height="16" class="octicon octicon-issue-opened open" viewBox="0 0 16 16" version="1.1" width="16" aria-hidden="true"><path d="M8 9.5a1.5 1.5 0 1 0 0-3 1.5 1.5 0 0 0 0 3Z"></path><path d="M8 0a8 8 0 1 1 0 16A8 8 0 0 1 8 0ZM1.5 8a6.5 6.5 0 1 0 13 0 6.5 6.5 0 0 0-13 0Z"></path></svg>
            </div>
            <div data-targets="command-palette-page-stack.localOcticons" data-octicon-id="git-pull-request-draft-color-fg-muted">
              <svg height="16" class="octicon octicon-git-pull-request-draft color-fg-muted" viewBox="0 0 16 16" version="1.1" width="16" aria-hidden="true"><path d="M3.25 1A2.25 2.25 0 0 1 4 5.372v5.256a2.251 2.251 0 1 1-1.5 0V5.372A2.251 2.251 0 0 1 3.25 1Zm9.5 14a2.25 2.25 0 1 1 0-4.5 2.25 2.25 0 0 1 0 4.5ZM2.5 3.25a.75.75 0 1 0 1.5 0 .75.75 0 0 0-1.5 0ZM3.25 12a.75.75 0 1 0 0 1.5.75.75 0 0 0 0-1.5Zm9.5 0a.75.75 0 1 0 0 1.5.75.75 0 0 0 0-1.5ZM14 7.5a1.25 1.25 0 1 1-2.5 0 1.25 1.25 0 0 1 2.5 0Zm0-4.25a1.25 1.25 0 1 1-2.5 0 1.25 1.25 0 0 1 2.5 0Z"></path></svg>
            </div>
            <div data-targets="command-palette-page-stack.localOcticons" data-octicon-id="search-color-fg-muted">
              <svg height="16" class="octicon octicon-search color-fg-muted" viewBox="0 0 16 16" version="1.1" width="16" aria-hidden="true"><path d="M10.68 11.74a6 6 0 0 1-7.922-8.982 6 6 0 0 1 8.982 7.922l3.04 3.04a.749.749 0 0 1-.326 1.275.749.749 0 0 1-.734-.215ZM11.5 7a4.499 4.499 0 1 0-8.997 0A4.499 4.499 0 0 0 11.5 7Z"></path></svg>
            </div>
            <div data-targets="command-palette-page-stack.localOcticons" data-octicon-id="sun-color-fg-muted">
              <svg height="16" class="octicon octicon-sun color-fg-muted" viewBox="0 0 16 16" version="1.1" width="16" aria-hidden="true"><path d="M8 12a4 4 0 1 1 0-8 4 4 0 0 1 0 8Zm0-1.5a2.5 2.5 0 1 0 0-5 2.5 2.5 0 0 0 0 5Zm5.657-8.157a.75.75 0 0 1 0 1.061l-1.061 1.06a.749.749 0 0 1-1.275-.326.749.749 0 0 1 .215-.734l1.06-1.06a.75.75 0 0 1 1.06 0Zm-9.193 9.193a.75.75 0 0 1 0 1.06l-1.06 1.061a.75.75 0 1 1-1.061-1.06l1.06-1.061a.75.75 0 0 1 1.061 0ZM8 0a.75.75 0 0 1 .75.75v1.5a.75.75 0 0 1-1.5 0V.75A.75.75 0 0 1 8 0ZM3 8a.75.75 0 0 1-.75.75H.75a.75.75 0 0 1 0-1.5h1.5A.75.75 0 0 1 3 8Zm13 0a.75.75 0 0 1-.75.75h-1.5a.75.75 0 0 1 0-1.5h1.5A.75.75 0 0 1 16 8Zm-8 5a.75.75 0 0 1 .75.75v1.5a.75.75 0 0 1-1.5 0v-1.5A.75.75 0 0 1 8 13Zm3.536-1.464a.75.75 0 0 1 1.06 0l1.061 1.06a.75.75 0 0 1-1.06 1.061l-1.061-1.06a.75.75 0 0 1 0-1.061ZM2.343 2.343a.75.75 0 0 1 1.061 0l1.06 1.061a.751.751 0 0 1-.018 1.042.751.751 0 0 1-1.042.018l-1.06-1.06a.75.75 0 0 1 0-1.06Z"></path></svg>
            </div>
            <div data-targets="command-palette-page-stack.localOcticons" data-octicon-id="sync-color-fg-muted">
              <svg height="16" class="octicon octicon-sync color-fg-muted" viewBox="0 0 16 16" version="1.1" width="16" aria-hidden="true"><path d="M1.705 8.005a.75.75 0 0 1 .834.656 5.5 5.5 0 0 0 9.592 2.97l-1.204-1.204a.25.25 0 0 1 .177-.427h3.646a.25.25 0 0 1 .25.25v3.646a.25.25 0 0 1-.427.177l-1.38-1.38A7.002 7.002 0 0 1 1.05 8.84a.75.75 0 0 1 .656-.834ZM8 2.5a5.487 5.487 0 0 0-4.131 1.869l1.204 1.204A.25.25 0 0 1 4.896 6H1.25A.25.25 0 0 1 1 5.75V2.104a.25.25 0 0 1 .427-.177l1.38 1.38A7.002 7.002 0 0 1 14.95 7.16a.75.75 0 0 1-1.49.178A5.5 5.5 0 0 0 8 2.5Z"></path></svg>
            </div>
            <div data-targets="command-palette-page-stack.localOcticons" data-octicon-id="trash-color-fg-muted">
              <svg height="16" class="octicon octicon-trash color-fg-muted" viewBox="0 0 16 16" version="1.1" width="16" aria-hidden="true"><path d="M11 1.75V3h2.25a.75.75 0 0 1 0 1.5H2.75a.75.75 0 0 1 0-1.5H5V1.75C5 .784 5.784 0 6.75 0h2.5C10.216 0 11 .784 11 1.75ZM4.496 6.675l.66 6.6a.25.25 0 0 0 .249.225h5.19a.25.25 0 0 0 .249-.225l.66-6.6a.75.75 0 0 1 1.492.149l-.66 6.6A1.748 1.748 0 0 1 10.595 15h-5.19a1.75 1.75 0 0 1-1.741-1.575l-.66-6.6a.75.75 0 1 1 1.492-.15ZM6.5 1.75V3h3V1.75a.25.25 0 0 0-.25-.25h-2.5a.25.25 0 0 0-.25.25Z"></path></svg>
            </div>
            <div data-targets="command-palette-page-stack.localOcticons" data-octicon-id="key-color-fg-muted">
              <svg height="16" class="octicon octicon-key color-fg-muted" viewBox="0 0 16 16" version="1.1" width="16" aria-hidden="true"><path d="M10.5 0a5.499 5.499 0 1 1-1.288 10.848l-.932.932a.749.749 0 0 1-.53.22H7v.75a.749.749 0 0 1-.22.53l-.5.5a.749.749 0 0 1-.53.22H5v.75a.749.749 0 0 1-.22.53l-.5.5a.749.749 0 0 1-.53.22h-2A1.75 1.75 0 0 1 0 14.25v-2c0-.199.079-.389.22-.53l4.932-4.932A5.5 5.5 0 0 1 10.5 0Zm-4 5.5c-.001.431.069.86.205 1.269a.75.75 0 0 1-.181.768L1.5 12.56v1.69c0 .138.112.25.25.25h1.69l.06-.06v-1.19a.75.75 0 0 1 .75-.75h1.19l.06-.06v-1.19a.75.75 0 0 1 .75-.75h1.19l1.023-1.025a.75.75 0 0 1 .768-.18A4 4 0 1 0 6.5 5.5ZM11 6a1 1 0 1 1 0-2 1 1 0 0 1 0 2Z"></path></svg>
            </div>
            <div data-targets="command-palette-page-stack.localOcticons" data-octicon-id="comment-discussion-color-fg-muted">
              <svg height="16" class="octicon octicon-comment-discussion color-fg-muted" viewBox="0 0 16 16" version="1.1" width="16" aria-hidden="true"><path d="M1.75 1h8.5c.966 0 1.75.784 1.75 1.75v5.5A1.75 1.75 0 0 1 10.25 10H7.061l-2.574 2.573A1.458 1.458 0 0 1 2 11.543V10h-.25A1.75 1.75 0 0 1 0 8.25v-5.5C0 1.784.784 1 1.75 1ZM1.5 2.75v5.5c0 .138.112.25.25.25h1a.75.75 0 0 1 .75.75v2.19l2.72-2.72a.749.749 0 0 1 .53-.22h3.5a.25.25 0 0 0 .25-.25v-5.5a.25.25 0 0 0-.25-.25h-8.5a.25.25 0 0 0-.25.25Zm13 2a.25.25 0 0 0-.25-.25h-.5a.75.75 0 0 1 0-1.5h.5c.966 0 1.75.784 1.75 1.75v5.5A1.75 1.75 0 0 1 14.25 12H14v1.543a1.458 1.458 0 0 1-2.487 1.03L9.22 12.28a.749.749 0 0 1 .326-1.275.749.749 0 0 1 .734.215l2.22 2.22v-2.19a.75.75 0 0 1 .75-.75h1a.25.25 0 0 0 .25-.25Z"></path></svg>
            </div>
            <div data-targets="command-palette-page-stack.localOcticons" data-octicon-id="bell-color-fg-muted">
              <svg height="16" class="octicon octicon-bell color-fg-muted" viewBox="0 0 16 16" version="1.1" width="16" aria-hidden="true"><path d="M8 16a2 2 0 0 0 1.985-1.75c.017-.137-.097-.25-.235-.25h-3.5c-.138 0-.252.113-.235.25A2 2 0 0 0 8 16ZM3 5a5 5 0 0 1 10 0v2.947c0 .05.015.098.042.139l1.703 2.555A1.519 1.519 0 0 1 13.482 13H2.518a1.516 1.516 0 0 1-1.263-2.36l1.703-2.554A.255.255 0 0 0 3 7.947Zm5-3.5A3.5 3.5 0 0 0 4.5 5v2.947c0 .346-.102.683-.294.97l-1.703 2.556a.017.017 0 0 0-.003.01l.001.006c0 .002.002.004.004.006l.006.004.007.001h10.964l.007-.001.006-.004.004-.006.001-.007a.017.017 0 0 0-.003-.01l-1.703-2.554a1.745 1.745 0 0 1-.294-.97V5A3.5 3.5 0 0 0 8 1.5Z"></path></svg>
            </div>
            <div data-targets="command-palette-page-stack.localOcticons" data-octicon-id="bell-slash-color-fg-muted">
              <svg height="16" class="octicon octicon-bell-slash color-fg-muted" viewBox="0 0 16 16" version="1.1" width="16" aria-hidden="true"><path d="m4.182 4.31.016.011 10.104 7.316.013.01 1.375.996a.75.75 0 1 1-.88 1.214L13.626 13H2.518a1.516 1.516 0 0 1-1.263-2.36l1.703-2.554A.255.255 0 0 0 3 7.947V5.305L.31 3.357a.75.75 0 1 1 .88-1.214Zm7.373 7.19L4.5 6.391v1.556c0 .346-.102.683-.294.97l-1.703 2.556a.017.017 0 0 0-.003.01c0 .005.002.009.005.012l.006.004.007.001ZM8 1.5c-.997 0-1.895.416-2.534 1.086A.75.75 0 1 1 4.38 1.55 5 5 0 0 1 13 5v2.373a.75.75 0 0 1-1.5 0V5A3.5 3.5 0 0 0 8 1.5ZM8 16a2 2 0 0 1-1.985-1.75c-.017-.137.097-.25.235-.25h3.5c.138 0 .252.113.235.25A2 2 0 0 1 8 16Z"></path></svg>
            </div>
            <div data-targets="command-palette-page-stack.localOcticons" data-octicon-id="paintbrush-color-fg-muted">
              <svg height="16" class="octicon octicon-paintbrush color-fg-muted" viewBox="0 0 16 16" version="1.1" width="16" aria-hidden="true"><path d="M11.134 1.535c.7-.509 1.416-.942 2.076-1.155.649-.21 1.463-.267 2.069.34.603.601.568 1.411.368 2.07-.202.668-.624 1.39-1.125 2.096-1.011 1.424-2.496 2.987-3.775 4.249-1.098 1.084-2.132 1.839-3.04 2.3a3.744 3.744 0 0 1-1.055 3.217c-.431.431-1.065.691-1.657.861-.614.177-1.294.287-1.914.357A21.151 21.151 0 0 1 .797 16H.743l.007-.75H.749L.742 16a.75.75 0 0 1-.743-.742l.743-.008-.742.007v-.054a21.25 21.25 0 0 1 .13-2.284c.067-.647.187-1.287.358-1.914.17-.591.43-1.226.86-1.657a3.746 3.746 0 0 1 3.227-1.054c.466-.893 1.225-1.907 2.314-2.982 1.271-1.255 2.833-2.75 4.245-3.777ZM1.62 13.089c-.051.464-.086.929-.104 1.395.466-.018.932-.053 1.396-.104a10.511 10.511 0 0 0 1.668-.309c.526-.151.856-.325 1.011-.48a2.25 2.25 0 1 0-3.182-3.182c-.155.155-.329.485-.48 1.01a10.515 10.515 0 0 0-.309 1.67Zm10.396-10.34c-1.224.89-2.605 2.189-3.822 3.384l1.718 1.718c1.21-1.205 2.51-2.597 3.387-3.833.47-.662.78-1.227.912-1.662.134-.444.032-.551.009-.575h-.001V1.78c-.014-.014-.113-.113-.548.027-.432.14-.995.462-1.655.942Zm-4.832 7.266-.001.001a9.859 9.859 0 0 0 1.63-1.142L7.155 7.216a9.7 9.7 0 0 0-1.161 1.607c.482.302.889.71 1.19 1.192Z"></path></svg>
            </div>

            <command-palette-item-group
              data-group-id="top"
              data-group-title="Top result"
              data-group-hint=""
              data-group-limits="{}"
              data-default-priority="0"
            >
            </command-palette-item-group>
            <command-palette-item-group
              data-group-id="commands"
              data-group-title="Commands"
              data-group-hint="Type &gt; to filter"
              data-group-limits="{&quot;static_items_page&quot;:50,&quot;issue&quot;:50,&quot;pull_request&quot;:50,&quot;discussion&quot;:50}"
              data-default-priority="1"
            >
            </command-palette-item-group>
            <command-palette-item-group
              data-group-id="global_commands"
              data-group-title="Global Commands"
              data-group-hint="Type &gt; to filter"
              data-group-limits="{&quot;issue&quot;:0,&quot;pull_request&quot;:0,&quot;discussion&quot;:0}"
              data-default-priority="2"
            >
            </command-palette-item-group>
            <command-palette-item-group
              data-group-id="this_page"
              data-group-title="This Page"
              data-group-hint=""
              data-group-limits="{}"
              data-default-priority="3"
            >
            </command-palette-item-group>
            <command-palette-item-group
              data-group-id="files"
              data-group-title="Files"
              data-group-hint=""
              data-group-limits="{}"
              data-default-priority="4"
            >
            </command-palette-item-group>
            <command-palette-item-group
              data-group-id="default"
              data-group-title="Default"
              data-group-hint=""
              data-group-limits="{&quot;static_items_page&quot;:50}"
              data-default-priority="5"
            >
            </command-palette-item-group>
            <command-palette-item-group
              data-group-id="pages"
              data-group-title="Pages"
              data-group-hint=""
              data-group-limits="{&quot;repository&quot;:10}"
              data-default-priority="6"
            >
            </command-palette-item-group>
            <command-palette-item-group
              data-group-id="access_policies"
              data-group-title="Access Policies"
              data-group-hint=""
              data-group-limits="{}"
              data-default-priority="7"
            >
            </command-palette-item-group>
            <command-palette-item-group
              data-group-id="organizations"
              data-group-title="Organizations"
              data-group-hint=""
              data-group-limits="{}"
              data-default-priority="8"
            >
            </command-palette-item-group>
            <command-palette-item-group
              data-group-id="repositories"
              data-group-title="Repositories"
              data-group-hint=""
              data-group-limits="{}"
              data-default-priority="9"
            >
            </command-palette-item-group>
            <command-palette-item-group
              data-group-id="references"
              data-group-title="Issues, pull requests, and discussions"
              data-group-hint="Type # to filter"
              data-group-limits="{}"
              data-default-priority="10"
            >
            </command-palette-item-group>
            <command-palette-item-group
              data-group-id="teams"
              data-group-title="Teams"
              data-group-hint=""
              data-group-limits="{}"
              data-default-priority="11"
            >
            </command-palette-item-group>
            <command-palette-item-group
              data-group-id="users"
              data-group-title="Users"
              data-group-hint=""
              data-group-limits="{}"
              data-default-priority="12"
            >
            </command-palette-item-group>
            <command-palette-item-group
              data-group-id="memex_projects"
              data-group-title="Projects"
              data-group-hint=""
              data-group-limits="{}"
              data-default-priority="13"
            >
            </command-palette-item-group>
            <command-palette-item-group
              data-group-id="projects"
              data-group-title="Projects (classic)"
              data-group-hint=""
              data-group-limits="{}"
              data-default-priority="14"
            >
            </command-palette-item-group>
            <command-palette-item-group
              data-group-id="footer"
              data-group-title="Footer"
              data-group-hint=""
              data-group-limits="{}"
              data-default-priority="15"
            >
            </command-palette-item-group>
            <command-palette-item-group
              data-group-id="modes_help"
              data-group-title="Modes"
              data-group-hint=""
              data-group-limits="{}"
              data-default-priority="16"
            >
            </command-palette-item-group>
            <command-palette-item-group
              data-group-id="filters_help"
              data-group-title="Use filters in issues, pull requests, discussions, and projects"
              data-group-hint=""
              data-group-limits="{}"
              data-default-priority="17"
            >
            </command-palette-item-group>

            <command-palette-page
              data-page-title="harshitasaini469"
              data-scope-id="U_kgDOBXsHuw"
              data-scope-type="owner"
              data-targets="command-palette-page-stack.defaultPages"
              hidden
            >
            </command-palette-page>
            <command-palette-page
              data-page-title="Handwritten_digit_classification"
              data-scope-id="R_kgDOIV6Xgg"
              data-scope-type="repository"
              data-targets="command-palette-page-stack.defaultPages"
              hidden
            >
            </command-palette-page>
        </div>

        <command-palette-page data-is-root>
        </command-palette-page>
          <command-palette-page
            data-page-title="harshitasaini469"
            data-scope-id="U_kgDOBXsHuw"
            data-scope-type="owner"
          >
          </command-palette-page>
          <command-palette-page
            data-page-title="Handwritten_digit_classification"
            data-scope-id="R_kgDOIV6Xgg"
            data-scope-type="repository"
          >
          </command-palette-page>
      </command-palette-page-stack>

      <server-defined-provider data-type="search-links" data-targets="command-palette.serverDefinedProviderElements"></server-defined-provider>
      <server-defined-provider data-type="help" data-targets="command-palette.serverDefinedProviderElements">
          <command-palette-help
            data-group="modes_help"
              data-prefix="#"
              data-scope-types="[&quot;&quot;]"
          >
            <span data-target="command-palette-help.titleElement">Search for <strong>issues</strong> and <strong>pull requests</strong></span>
              <span data-target="command-palette-help.hintElement">
                <kbd class="hx_kbd">#</kbd>
              </span>
          </command-palette-help>
          <command-palette-help
            data-group="modes_help"
              data-prefix="#"
              data-scope-types="[&quot;owner&quot;,&quot;repository&quot;]"
          >
            <span data-target="command-palette-help.titleElement">Search for <strong>issues, pull requests, discussions,</strong> and <strong>projects</strong></span>
              <span data-target="command-palette-help.hintElement">
                <kbd class="hx_kbd">#</kbd>
              </span>
          </command-palette-help>
          <command-palette-help
            data-group="modes_help"
              data-prefix="@"
              data-scope-types="[&quot;&quot;]"
          >
            <span data-target="command-palette-help.titleElement">Search for <strong>organizations, repositories,</strong> and <strong>users</strong></span>
              <span data-target="command-palette-help.hintElement">
                <kbd class="hx_kbd">@</kbd>
              </span>
          </command-palette-help>
          <command-palette-help
            data-group="modes_help"
              data-prefix="!"
              data-scope-types="[&quot;owner&quot;,&quot;repository&quot;]"
          >
            <span data-target="command-palette-help.titleElement">Search for <strong>projects</strong></span>
              <span data-target="command-palette-help.hintElement">
                <kbd class="hx_kbd">!</kbd>
              </span>
          </command-palette-help>
          <command-palette-help
            data-group="modes_help"
              data-prefix="/"
              data-scope-types="[&quot;repository&quot;]"
          >
            <span data-target="command-palette-help.titleElement">Search for <strong>files</strong></span>
              <span data-target="command-palette-help.hintElement">
                <kbd class="hx_kbd">/</kbd>
              </span>
          </command-palette-help>
          <command-palette-help
            data-group="modes_help"
              data-prefix="&gt;"
          >
            <span data-target="command-palette-help.titleElement">Activate <strong>command mode</strong></span>
              <span data-target="command-palette-help.hintElement">
                <kbd class="hx_kbd">&gt;</kbd>
              </span>
          </command-palette-help>
          <command-palette-help
            data-group="filters_help"
              data-prefix="# author:@me"
          >
            <span data-target="command-palette-help.titleElement">Search your issues, pull requests, and discussions</span>
              <span data-target="command-palette-help.hintElement">
                <kbd class="hx_kbd"># author:@me</kbd>
              </span>
          </command-palette-help>
          <command-palette-help
            data-group="filters_help"
              data-prefix="# author:@me"
          >
            <span data-target="command-palette-help.titleElement">Search your issues, pull requests, and discussions</span>
              <span data-target="command-palette-help.hintElement">
                <kbd class="hx_kbd"># author:@me</kbd>
              </span>
          </command-palette-help>
          <command-palette-help
            data-group="filters_help"
              data-prefix="# is:pr"
          >
            <span data-target="command-palette-help.titleElement">Filter to pull requests</span>
              <span data-target="command-palette-help.hintElement">
                <kbd class="hx_kbd"># is:pr</kbd>
              </span>
          </command-palette-help>
          <command-palette-help
            data-group="filters_help"
              data-prefix="# is:issue"
          >
            <span data-target="command-palette-help.titleElement">Filter to issues</span>
              <span data-target="command-palette-help.hintElement">
                <kbd class="hx_kbd"># is:issue</kbd>
              </span>
          </command-palette-help>
          <command-palette-help
            data-group="filters_help"
              data-prefix="# is:discussion"
              data-scope-types="[&quot;owner&quot;,&quot;repository&quot;]"
          >
            <span data-target="command-palette-help.titleElement">Filter to discussions</span>
              <span data-target="command-palette-help.hintElement">
                <kbd class="hx_kbd"># is:discussion</kbd>
              </span>
          </command-palette-help>
          <command-palette-help
            data-group="filters_help"
              data-prefix="# is:project"
              data-scope-types="[&quot;owner&quot;,&quot;repository&quot;]"
          >
            <span data-target="command-palette-help.titleElement">Filter to projects</span>
              <span data-target="command-palette-help.hintElement">
                <kbd class="hx_kbd"># is:project</kbd>
              </span>
          </command-palette-help>
          <command-palette-help
            data-group="filters_help"
              data-prefix="# is:open"
          >
            <span data-target="command-palette-help.titleElement">Filter to open issues, pull requests, and discussions</span>
              <span data-target="command-palette-help.hintElement">
                <kbd class="hx_kbd"># is:open</kbd>
              </span>
          </command-palette-help>
      </server-defined-provider>

        <server-defined-provider
          data-type="commands"
          data-fetch-debounce="0"
            data-src="/command_palette/commands"
          data-supported-modes="[]"
            data-supports-commands
          
          data-targets="command-palette.serverDefinedProviderElements"
          ></server-defined-provider>
        <server-defined-provider
          data-type="prefetched"
          data-fetch-debounce="0"
            data-src="/command_palette/jump_to_page_navigation"
          data-supported-modes="[&quot;&quot;]"
            data-supported-scope-types="[&quot;&quot;,&quot;owner&quot;,&quot;repository&quot;]"
          
          data-targets="command-palette.serverDefinedProviderElements"
          ></server-defined-provider>
        <server-defined-provider
          data-type="remote"
          data-fetch-debounce="200"
            data-src="/command_palette/issues"
          data-supported-modes="[&quot;#&quot;,&quot;#&quot;]"
            data-supported-scope-types="[&quot;owner&quot;,&quot;repository&quot;,&quot;&quot;]"
          
          data-targets="command-palette.serverDefinedProviderElements"
          ></server-defined-provider>
        <server-defined-provider
          data-type="remote"
          data-fetch-debounce="200"
            data-src="/command_palette/jump_to"
          data-supported-modes="[&quot;@&quot;,&quot;@&quot;]"
            data-supported-scope-types="[&quot;&quot;,&quot;owner&quot;]"
          
          data-targets="command-palette.serverDefinedProviderElements"
          ></server-defined-provider>
        <server-defined-provider
          data-type="remote"
          data-fetch-debounce="200"
            data-src="/command_palette/jump_to_members_only"
          data-supported-modes="[&quot;@&quot;,&quot;@&quot;,&quot;&quot;,&quot;&quot;]"
            data-supported-scope-types="[&quot;&quot;,&quot;owner&quot;]"
          
          data-targets="command-palette.serverDefinedProviderElements"
          ></server-defined-provider>
        <server-defined-provider
          data-type="prefetched"
          data-fetch-debounce="0"
            data-src="/command_palette/jump_to_members_only_prefetched"
          data-supported-modes="[&quot;@&quot;,&quot;@&quot;,&quot;&quot;,&quot;&quot;]"
            data-supported-scope-types="[&quot;&quot;,&quot;owner&quot;]"
          
          data-targets="command-palette.serverDefinedProviderElements"
          ></server-defined-provider>
        <server-defined-provider
          data-type="files"
          data-fetch-debounce="0"
            data-src="/command_palette/files"
          data-supported-modes="[&quot;/&quot;]"
            data-supported-scope-types="[&quot;repository&quot;]"
          
          data-targets="command-palette.serverDefinedProviderElements"
          ></server-defined-provider>
        <server-defined-provider
          data-type="remote"
          data-fetch-debounce="200"
            data-src="/command_palette/discussions"
          data-supported-modes="[&quot;#&quot;]"
            data-supported-scope-types="[&quot;owner&quot;,&quot;repository&quot;]"
          
          data-targets="command-palette.serverDefinedProviderElements"
          ></server-defined-provider>
        <server-defined-provider
          data-type="remote"
          data-fetch-debounce="200"
            data-src="/command_palette/projects"
          data-supported-modes="[&quot;#&quot;,&quot;!&quot;]"
            data-supported-scope-types="[&quot;owner&quot;,&quot;repository&quot;]"
          
          data-targets="command-palette.serverDefinedProviderElements"
          ></server-defined-provider>
        <server-defined-provider
          data-type="prefetched"
          data-fetch-debounce="0"
            data-src="/command_palette/recent_issues"
          data-supported-modes="[&quot;#&quot;,&quot;#&quot;]"
            data-supported-scope-types="[&quot;owner&quot;,&quot;repository&quot;,&quot;&quot;]"
          
          data-targets="command-palette.serverDefinedProviderElements"
          ></server-defined-provider>
        <server-defined-provider
          data-type="remote"
          data-fetch-debounce="200"
            data-src="/command_palette/teams"
          data-supported-modes="[&quot;@&quot;,&quot;&quot;]"
            data-supported-scope-types="[&quot;owner&quot;]"
          
          data-targets="command-palette.serverDefinedProviderElements"
          ></server-defined-provider>
        <server-defined-provider
          data-type="remote"
          data-fetch-debounce="200"
            data-src="/command_palette/name_with_owner_repository"
          data-supported-modes="[&quot;@&quot;,&quot;@&quot;,&quot;&quot;,&quot;&quot;]"
            data-supported-scope-types="[&quot;&quot;,&quot;owner&quot;]"
          
          data-targets="command-palette.serverDefinedProviderElements"
          ></server-defined-provider>
    </command-palette>
  </details-dialog>
</details>

<div class="position-fixed bottom-0 left-0 ml-5 mb-5 js-command-palette-toasts" style="z-index: 1000">
  <div hidden class="Toast Toast--loading">
    <span class="Toast-icon">
      <svg class="Toast--spinner" viewBox="0 0 32 32" width="18" height="18" aria-hidden="true">
        <path
          fill="#959da5"
          d="M16 0 A16 16 0 0 0 16 32 A16 16 0 0 0 16 0 M16 4 A12 12 0 0 1 16 28 A12 12 0 0 1 16 4"
        />
        <path fill="#ffffff" d="M16 0 A16 16 0 0 1 32 16 L28 16 A12 12 0 0 0 16 4z"></path>
      </svg>
    </span>
    <span class="Toast-content"></span>
  </div>

  <div hidden class="anim-fade-in fast Toast Toast--error">
    <span class="Toast-icon">
      <svg aria-hidden="true" height="16" viewBox="0 0 16 16" version="1.1" width="16" data-view-component="true" class="octicon octicon-stop">
    <path d="M4.47.22A.749.749 0 0 1 5 0h6c.199 0 .389.079.53.22l4.25 4.25c.141.14.22.331.22.53v6a.749.749 0 0 1-.22.53l-4.25 4.25A.749.749 0 0 1 11 16H5a.749.749 0 0 1-.53-.22L.22 11.53A.749.749 0 0 1 0 11V5c0-.199.079-.389.22-.53Zm.84 1.28L1.5 5.31v5.38l3.81 3.81h5.38l3.81-3.81V5.31L10.69 1.5ZM8 4a.75.75 0 0 1 .75.75v3.5a.75.75 0 0 1-1.5 0v-3.5A.75.75 0 0 1 8 4Zm0 8a1 1 0 1 1 0-2 1 1 0 0 1 0 2Z"></path>
</svg>
    </span>
    <span class="Toast-content"></span>
  </div>

  <div hidden class="anim-fade-in fast Toast Toast--warning">
    <span class="Toast-icon">
      <svg aria-hidden="true" height="16" viewBox="0 0 16 16" version="1.1" width="16" data-view-component="true" class="octicon octicon-alert">
    <path d="M6.457 1.047c.659-1.234 2.427-1.234 3.086 0l6.082 11.378A1.75 1.75 0 0 1 14.082 15H1.918a1.75 1.75 0 0 1-1.543-2.575Zm1.763.707a.25.25 0 0 0-.44 0L1.698 13.132a.25.25 0 0 0 .22.368h12.164a.25.25 0 0 0 .22-.368Zm.53 3.996v2.5a.75.75 0 0 1-1.5 0v-2.5a.75.75 0 0 1 1.5 0ZM9 11a1 1 0 1 1-2 0 1 1 0 0 1 2 0Z"></path>
</svg>
    </span>
    <span class="Toast-content"></span>
  </div>


  <div hidden class="anim-fade-in fast Toast Toast--success">
    <span class="Toast-icon">
      <svg aria-hidden="true" height="16" viewBox="0 0 16 16" version="1.1" width="16" data-view-component="true" class="octicon octicon-check">
    <path d="M13.78 4.22a.75.75 0 0 1 0 1.06l-7.25 7.25a.75.75 0 0 1-1.06 0L2.22 9.28a.751.751 0 0 1 .018-1.042.751.751 0 0 1 1.042-.018L6 10.94l6.72-6.72a.75.75 0 0 1 1.06 0Z"></path>
</svg>
    </span>
    <span class="Toast-content"></span>
  </div>

  <div hidden class="anim-fade-in fast Toast">
    <span class="Toast-icon">
      <svg aria-hidden="true" height="16" viewBox="0 0 16 16" version="1.1" width="16" data-view-component="true" class="octicon octicon-info">
    <path d="M0 8a8 8 0 1 1 16 0A8 8 0 0 1 0 8Zm8-6.5a6.5 6.5 0 1 0 0 13 6.5 6.5 0 0 0 0-13ZM6.5 7.75A.75.75 0 0 1 7.25 7h1a.75.75 0 0 1 .75.75v2.75h.25a.75.75 0 0 1 0 1.5h-2a.75.75 0 0 1 0-1.5h.25v-2h-.25a.75.75 0 0 1-.75-.75ZM8 6a1 1 0 1 1 0-2 1 1 0 0 1 0 2Z"></path>
</svg>
    </span>
    <span class="Toast-content"></span>
  </div>
</div>


  <div
    class="application-main "
    data-commit-hovercards-enabled
    data-discussion-hovercards-enabled
    data-issue-and-pr-hovercards-enabled
  >
        <div itemscope itemtype="http://schema.org/SoftwareSourceCode" class="">
    <main id="js-repo-pjax-container" >
      
      
      






    
  <div id="repository-container-header" data-turbo-replace hidden></div>




<turbo-frame id="repo-content-turbo-frame" target="_top" data-turbo-action="advance" class="">
    <div id="repo-content-pjax-container" class="repository-content " >
      <a href="https://github.dev/" class="d-none js-github-dev-shortcut" data-hotkey=".,Alt+Meta+≥,Control+Alt+.">Open in github.dev</a>
  <a href="https://github.dev/" class="d-none js-github-dev-new-tab-shortcut" data-hotkey="Shift+.,Shift+&gt;,&gt;" target="_blank" rel="noopener noreferrer">Open in a new github.dev tab</a>
    <a class="d-none" data-hotkey=",,Alt+Meta+≤,Control+Alt+," target="_blank" href="/codespaces/new/harshitasaini469/Handwritten_digit_classification/tree/main?resume=1">Open in codespace</a>



    
      
    





<react-app
  app-name="react-code-view"
  initial-path="/harshitasaini469/Handwritten_digit_classification/blob/main/MNIST_Digit_Classification.ipynb"
  style="min-height: calc(100vh - 64px)" 
  data-ssr="true"
  data-lazy="false"
  data-alternate="false"
>
  
  <script type="application/json" data-target="react-app.embeddedData">{"payload":{"allShortcutsEnabled":true,"fileTree":{"":{"items":[{"name":"images","path":"images","contentType":"directory"},{"name":"MNIST_Digit_Classification.ipynb","path":"MNIST_Digit_Classification.ipynb","contentType":"file"},{"name":"README.md","path":"README.md","contentType":"file"},{"name":"handwritten_digit.mp4","path":"handwritten_digit.mp4","contentType":"file"}],"totalCount":4}},"fileTreeProcessingTime":2.994036,"foldersToFetch":[],"reducedMotionEnabled":"system","repo":{"id":559847298,"defaultBranch":"main","name":"Handwritten_digit_classification","ownerLogin":"harshitasaini469","currentUserCanPush":true,"isFork":false,"isEmpty":false,"createdAt":"2022-10-31T13:42:51.000+05:30","ownerAvatar":"https://avatars.githubusercontent.com/u/91948987?v=4","public":false,"private":true,"isOrgOwned":false},"symbolsExpanded":false,"treeExpanded":true,"refInfo":{"name":"main","listCacheKey":"v0:1669725177.6899378","canEdit":true,"refType":"branch","currentOid":"c790fbe1c1cb7f81717a75ff4bf2d2abe8725ed1"},"path":"MNIST_Digit_Classification.ipynb","currentUser":{"id":104413637,"login":"MeghnaNa06","userEmail":"meghna20csu193@ncuindia.edu"},"blob":{"rawLines":["{"," \"cells\": [","  {","   \"cell_type\": \"markdown\",","   \"id\": \"f76718d7\",","   \"metadata\": {},","   \"source\": [","    \"# Project on Handwritten Digit Recognition\"","   ]","  },","  {","   \"cell_type\": \"markdown\",","   \"id\": \"75971f96\",","   \"metadata\": {},","   \"source\": [","    \"The handwritten digit recognition is the ability of computers to recognize human handwritten digits. It is a hard task for the machine because handwritten digits are not perfect and can be made with many different flavors. The handwritten digit recognition is the solution to this problem which uses the image of a digit and recognizes the digit present in the image\"","   ]","  },","  {","   \"cell_type\": \"markdown\",","   \"id\": \"74390bfa\",","   \"metadata\": {},","   \"source\": [","    \"### About the Project\"","   ]","  },","  {","   \"cell_type\": \"markdown\",","   \"id\": \"a018e309\",","   \"metadata\": {},","   \"source\": [","    \"we have implemented a  handwritten digit recognisation app using MNIST dataset with a deep neural network that is Convolutional Neural Networks.\"","   ]","  },","  {","   \"cell_type\": \"markdown\",","   \"id\": \"3f7a8b05\",","   \"metadata\": {},","   \"source\": [","    \"### The MNIST dataset\"","   ]","  },","  {","   \"cell_type\": \"markdown\",","   \"id\": \"3e98b1de\",","   \"metadata\": {},","   \"source\": [","    \"This is probably one of the most popular datasets among machine learning and deep learning enthusiasts. The MNIST dataset contains 60,000 training images of handwritten digits from zero to nine and 10,000 images for testing. So, the MNIST dataset has 10 different classes. The handwritten digits images are represented as a 28×28 matrix where each cell contains grayscale pixel value\"","   ]","  },","  {","   \"cell_type\": \"markdown\",","   \"id\": \"89cae247\",","   \"metadata\": {},","   \"source\": [","    \"# Building the Project\"","   ]","  },","  {","   \"cell_type\": \"markdown\",","   \"id\": \"b9e1ac7c\",","   \"metadata\": {},","   \"source\": [","    \"#### importing the dependencies\"","   ]","  },","  {","   \"cell_type\": \"code\",","   \"execution_count\": 41,","   \"id\": \"68a8b484\",","   \"metadata\": {},","   \"outputs\": [],","   \"source\": [","    \"import keras\\n\",","    \"from keras.datasets import mnist\\n\",","    \"from keras.models import Sequential\\n\",","    \"from keras.layers import Dense, Dropout, Flatten\\n\",","    \"from keras.layers import Conv2D, MaxPooling2D\\n\",","    \"from keras import backend as K\\n\",","    \"import matplotlib.pyplot as plt\\n\",","    \"import numpy as np\\n\",","    \"import tensorflow as tf\\n\",","    \"from tensorflow.math import confusion_matrix\\n\",","    \"import seaborn as sns\\n\",","    \"import cv2\\n\",","    \"\\n\"","   ]","  },","  {","   \"cell_type\": \"markdown\",","   \"id\": \"1aba4516\",","   \"metadata\": {},","   \"source\": [","    \"Loading the MNIST data from keras.datasets and dividing into train and test data\"","   ]","  },","  {","   \"cell_type\": \"code\",","   \"execution_count\": 4,","   \"id\": \"221a5dca\",","   \"metadata\": {},","   \"outputs\": [],","   \"source\": [","    \"(X_train, Y_train), (X_test, Y_test) =  mnist.load_data()\"","   ]","  },","  {","   \"cell_type\": \"code\",","   \"execution_count\": 5,","   \"id\": \"8b87cc33\",","   \"metadata\": {},","   \"outputs\": [","    {","     \"name\": \"stdout\",","     \"output_type\": \"stream\",","     \"text\": [","      \"(60000, 28, 28) (60000,) (10000, 28, 28) (10000,)\\n\"","     ]","    }","   ],","   \"source\": [","    \"# shape of the numpy arrays\\n\",","    \"print(X_train.shape, Y_train.shape, X_test.shape, Y_test.shape)\"","   ]","  },","  {","   \"cell_type\": \"code\",","   \"execution_count\": 6,","   \"id\": \"2a845958\",","   \"metadata\": {},","   \"outputs\": [","    {","     \"data\": {","      \"text/plain\": [","       \"numpy.ndarray\"","      ]","     },","     \"execution_count\": 6,","     \"metadata\": {},","     \"output_type\": \"execute_result\"","    }","   ],","   \"source\": [","    \"type(X_train)\"","   ]","  },","  {","   \"cell_type\": \"markdown\",","   \"id\": \"88aa81a9\",","   \"metadata\": {},","   \"source\": [","    \"Training data = 60,000 Images\\n\",","    \"\\n\",","    \"Test data = 10,000 Images\"","   ]","  },","  {","   \"cell_type\": \"markdown\",","   \"id\": \"2245b053\",","   \"metadata\": {},","   \"source\": [","    \"Image dimension  --\u003e 28 x 28\\n\",","    \"\\n\",","    \"Grayscale Image  --\u003e 1 channel\"","   ]","  },","  {","   \"cell_type\": \"markdown\",","   \"id\": \"7c1fdfa8\",","   \"metadata\": {},","   \"source\": [","    \"#### Before Normalization\"","   ]","  },","  {","   \"cell_type\": \"code\",","   \"execution_count\": 7,","   \"id\": \"18326ac0\",","   \"metadata\": {},","   \"outputs\": [","    {","     \"name\": \"stdout\",","     \"output_type\": \"stream\",","     \"text\": [","      \"[[  0   0   0   0   0   0   0   0   0   0   0   0   0   0   0   0   0   0\\n\",","      \"    0   0   0   0   0   0   0   0   0   0]\\n\",","      \" [  0   0   0   0   0   0   0   0   0   0   0   0   0   0   0   0   0   0\\n\",","      \"    0   0   0   0   0   0   0   0   0   0]\\n\",","      \" [  0   0   0   0   0   0   0   0   0   0   0   0   0   0   0   0   0   0\\n\",","      \"    0   0   0   0   0   0   0   0   0   0]\\n\",","      \" [  0   0   0   0   0   0   0   0   0   0   0   0   0   0   0   0   0   0\\n\",","      \"    0   0   0   0   0   0   0   0   0   0]\\n\",","      \" [  0   0   0   0   0   0   0   0   0   0   0  42 118 219 166 118 118   6\\n\",","      \"    0   0   0   0   0   0   0   0   0   0]\\n\",","      \" [  0   0   0   0   0   0   0   0   0   0 103 242 254 254 254 254 254  66\\n\",","      \"    0   0   0   0   0   0   0   0   0   0]\\n\",","      \" [  0   0   0   0   0   0   0   0   0   0  18 232 254 254 254 254 254 238\\n\",","      \"   70   0   0   0   0   0   0   0   0   0]\\n\",","      \" [  0   0   0   0   0   0   0   0   0   0   0 104 244 254 224 254 254 254\\n\",","      \"  141   0   0   0   0   0   0   0   0   0]\\n\",","      \" [  0   0   0   0   0   0   0   0   0   0   0   0 207 254 210 254 254 254\\n\",","      \"   34   0   0   0   0   0   0   0   0   0]\\n\",","      \" [  0   0   0   0   0   0   0   0   0   0   0   0  84 206 254 254 254 254\\n\",","      \"   41   0   0   0   0   0   0   0   0   0]\\n\",","      \" [  0   0   0   0   0   0   0   0   0   0   0   0   0  24 209 254 254 254\\n\",","      \"  171   0   0   0   0   0   0   0   0   0]\\n\",","      \" [  0   0   0   0   0   0   0   0   0   0   0   0  91 137 253 254 254 254\\n\",","      \"  112   0   0   0   0   0   0   0   0   0]\\n\",","      \" [  0   0   0   0   0   0   0   0   0   0  40 214 250 254 254 254 254 254\\n\",","      \"   34   0   0   0   0   0   0   0   0   0]\\n\",","      \" [  0   0   0   0   0   0   0   0   0   0  81 247 254 254 254 254 254 254\\n\",","      \"  146   0   0   0   0   0   0   0   0   0]\\n\",","      \" [  0   0   0   0   0   0   0   0   0   0   0 110 246 254 254 254 254 254\\n\",","      \"  171   0   0   0   0   0   0   0   0   0]\\n\",","      \" [  0   0   0   0   0   0   0   0   0   0   0   0  73  89  89  93 240 254\\n\",","      \"  171   0   0   0   0   0   0   0   0   0]\\n\",","      \" [  0   0   0   0   0   0   0   0   0   0   0   0   0   0   0   1 128 254\\n\",","      \"  219  31   0   0   0   0   0   0   0   0]\\n\",","      \" [  0   0   0   0   0   0   0   0   0   0   0   0   0   0   0   7 254 254\\n\",","      \"  214  28   0   0   0   0   0   0   0   0]\\n\",","      \" [  0   0   0   0   0   0   0   0   0   0   0   0   0   0   0 138 254 254\\n\",","      \"  116   0   0   0   0   0   0   0   0   0]\\n\",","      \" [  0   0   0   0   0   0  19 177  90   0   0   0   0   0  25 240 254 254\\n\",","      \"   34   0   0   0   0   0   0   0   0   0]\\n\",","      \" [  0   0   0   0   0   0 164 254 215  63  36   0  51  89 206 254 254 139\\n\",","      \"    8   0   0   0   0   0   0   0   0   0]\\n\",","      \" [  0   0   0   0   0   0  57 197 254 254 222 180 241 254 254 253 213  11\\n\",","      \"    0   0   0   0   0   0   0   0   0   0]\\n\",","      \" [  0   0   0   0   0   0   0 140 105 254 254 254 254 254 254 236   0   0\\n\",","      \"    0   0   0   0   0   0   0   0   0   0]\\n\",","      \" [  0   0   0   0   0   0   0   0   7 117 117 165 254 254 239  50   0   0\\n\",","      \"    0   0   0   0   0   0   0   0   0   0]\\n\",","      \" [  0   0   0   0   0   0   0   0   0   0   0   0   0   0   0   0   0   0\\n\",","      \"    0   0   0   0   0   0   0   0   0   0]\\n\",","      \" [  0   0   0   0   0   0   0   0   0   0   0   0   0   0   0   0   0   0\\n\",","      \"    0   0   0   0   0   0   0   0   0   0]\\n\",","      \" [  0   0   0   0   0   0   0   0   0   0   0   0   0   0   0   0   0   0\\n\",","      \"    0   0   0   0   0   0   0   0   0   0]\\n\",","      \" [  0   0   0   0   0   0   0   0   0   0   0   0   0   0   0   0   0   0\\n\",","      \"    0   0   0   0   0   0   0   0   0   0]]\\n\"","     ]","    }","   ],","   \"source\": [","    \"# printing the 10th image\\n\",","    \"\\n\",","    \"print(X_train[10])\"","   ]","  },","  {","   \"cell_type\": \"code\",","   \"execution_count\": 8,","   \"id\": \"5019bd98\",","   \"metadata\": {},","   \"outputs\": [","    {","     \"name\": \"stdout\",","     \"output_type\": \"stream\",","     \"text\": [","      \"(28, 28)\\n\"","     ]","    }","   ],","   \"source\": [","    \"print(X_train[10].shape)\"","   ]","  },","  {","   \"cell_type\": \"code\",","   \"execution_count\": 9,","   \"id\": \"dd4b53de\",","   \"metadata\": {},","   \"outputs\": [","    {","     \"data\": {","      \"image/png\": \"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\\n\",","      \"text/plain\": [","       \"\u003cFigure size 432x288 with 1 Axes\u003e\"","      ]","     },","     \"metadata\": {","      \"needs_background\": \"light\"","     },","     \"output_type\": \"display_data\"","    },","    {","     \"name\": \"stdout\",","     \"output_type\": \"stream\",","     \"text\": [","      \"2\\n\"","     ]","    }","   ],","   \"source\": [","    \"# displaying the image\\n\",","    \"\\n\",","    \"plt.imshow(X_train[25])\\n\",","    \"plt.show()\\n\",","    \"\\n\",","    \"# print the corresponding label\\n\",","    \"print(Y_train[25])\"","   ]","  },","  {","   \"cell_type\": \"markdown\",","   \"id\": \"f2df25cd\",","   \"metadata\": {},","   \"source\": [","    \"Image Lables\"","   ]","  },","  {","   \"cell_type\": \"code\",","   \"execution_count\": 10,","   \"id\": \"d6208066\",","   \"metadata\": {},","   \"outputs\": [","    {","     \"name\": \"stdout\",","     \"output_type\": \"stream\",","     \"text\": [","      \"(60000,) (10000,)\\n\"","     ]","    }","   ],","   \"source\": [","    \"print(Y_train.shape, Y_test.shape)\"","   ]","  },","  {","   \"cell_type\": \"code\",","   \"execution_count\": 11,","   \"id\": \"5d6fd6c5\",","   \"metadata\": {},","   \"outputs\": [","    {","     \"name\": \"stdout\",","     \"output_type\": \"stream\",","     \"text\": [","      \"[0 1 2 3 4 5 6 7 8 9]\\n\",","      \"[0 1 2 3 4 5 6 7 8 9]\\n\"","     ]","    }","   ],","   \"source\": [","    \"# unique values in Y_train\\n\",","    \"print(np.unique(Y_train))\\n\",","    \"\\n\",","    \"# unique values in Y_test\\n\",","    \"print(np.unique(Y_test))\"","   ]","  },","  {","   \"cell_type\": \"markdown\",","   \"id\": \"fea0b6a6\",","   \"metadata\": {},","   \"source\": [","    \"#### Normalizing the Data\"","   ]","  },","  {","   \"cell_type\": \"code\",","   \"execution_count\": 12,","   \"id\": \"e63f54d6\",","   \"metadata\": {},","   \"outputs\": [],","   \"source\": [","    \"X_train=tf.keras.utils.normalize(X_train,axis=1)\\n\",","    \"X_test = tf.keras.utils.normalize(X_test,axis=1)\"","   ]","  },","  {","   \"cell_type\": \"markdown\",","   \"id\": \"36611790\",","   \"metadata\": {},","   \"source\": [","    \"#### After Normalization\"","   ]","  },","  {","   \"cell_type\": \"code\",","   \"execution_count\": 13,","   \"id\": \"3318ab00\",","   \"metadata\": {},","   \"outputs\": [","    {","     \"name\": \"stdout\",","     \"output_type\": \"stream\",","     \"text\": [","      \"[[0.         0.         0.         0.         0.         0.\\n\",","      \"  0.         0.         0.         0.         0.         0.\\n\",","      \"  0.         0.         0.         0.         0.         0.\\n\",","      \"  0.         0.         0.         0.         0.         0.\\n\",","      \"  0.         0.         0.         0.        ]\\n\",","      \" [0.         0.         0.         0.         0.         0.\\n\",","      \"  0.         0.         0.         0.         0.         0.\\n\",","      \"  0.         0.         0.         0.         0.         0.\\n\",","      \"  0.         0.         0.         0.         0.         0.\\n\",","      \"  0.         0.         0.         0.        ]\\n\",","      \" [0.         0.         0.         0.         0.         0.\\n\",","      \"  0.         0.         0.         0.         0.         0.\\n\",","      \"  0.         0.         0.         0.         0.         0.\\n\",","      \"  0.         0.         0.         0.         0.         0.\\n\",","      \"  0.         0.         0.         0.        ]\\n\",","      \" [0.         0.         0.         0.         0.         0.\\n\",","      \"  0.         0.         0.         0.         0.         0.\\n\",","      \"  0.         0.         0.         0.         0.         0.\\n\",","      \"  0.         0.         0.         0.         0.         0.\\n\",","      \"  0.         0.         0.         0.        ]\\n\",","      \" [0.         0.         0.         0.         0.         0.\\n\",","      \"  0.         0.         0.         0.         0.         0.06923363\\n\",","      \"  0.14712657 0.24945318 0.1796561  0.12228485 0.11590366 0.0062582\\n\",","      \"  0.         0.         0.         0.         0.         0.\\n\",","      \"  0.         0.         0.         0.        ]\\n\",","      \" [0.         0.         0.         0.         0.         0.\\n\",","      \"  0.         0.         0.         0.         0.26784526 0.3989176\\n\",","      \"  0.31669617 0.28932012 0.27489548 0.26322332 0.24948754 0.06884022\\n\",","      \"  0.         0.         0.         0.         0.         0.\\n\",","      \"  0.         0.         0.         0.        ]\\n\",","      \" [0.         0.         0.         0.         0.         0.\\n\",","      \"  0.         0.         0.         0.         0.04680791 0.3824334\\n\",","      \"  0.31669617 0.28932012 0.27489548 0.26322332 0.24948754 0.248242\\n\",","      \"  0.13760186 0.         0.         0.         0.         0.\\n\",","      \"  0.         0.         0.         0.        ]\\n\",","      \" [0.         0.         0.         0.         0.         0.\\n\",","      \"  0.         0.         0.         0.         0.         0.17143566\\n\",","      \"  0.30422781 0.28932012 0.24242751 0.26322332 0.24948754 0.26493053\\n\",","      \"  0.27716945 0.         0.         0.         0.         0.\\n\",","      \"  0.         0.         0.         0.        ]\\n\",","      \" [0.         0.         0.         0.         0.         0.\\n\",","      \"  0.         0.         0.         0.         0.         0.\\n\",","      \"  0.25809491 0.28932012 0.22727579 0.26322332 0.24948754 0.26493053\\n\",","      \"  0.06683519 0.         0.         0.         0.         0.\\n\",","      \"  0.         0.         0.         0.        ]\\n\",","      \" [0.         0.         0.         0.         0.         0.\\n\",","      \"  0.         0.         0.         0.         0.         0.\\n\",","      \"  0.10473417 0.23464545 0.27489548 0.26322332 0.24948754 0.26493053\\n\",","      \"  0.08059537 0.         0.         0.         0.         0.\\n\",","      \"  0.         0.         0.         0.        ]\\n\",","      \" [0.         0.         0.         0.         0.         0.\\n\",","      \"  0.         0.         0.         0.         0.         0.\\n\",","      \"  0.         0.02733733 0.22619352 0.26322332 0.24948754 0.26493053\\n\",","      \"  0.33614168 0.         0.         0.         0.         0.\\n\",","      \"  0.         0.         0.         0.        ]\\n\",","      \" [0.         0.         0.         0.         0.         0.\\n\",","      \"  0.         0.         0.         0.         0.         0.\\n\",","      \"  0.11346201 0.15605062 0.27381321 0.26322332 0.24948754 0.26493053\\n\",","      \"  0.22016297 0.         0.         0.         0.         0.\\n\",","      \"  0.         0.         0.         0.        ]\\n\",","      \" [0.         0.         0.         0.         0.         0.\\n\",","      \"  0.         0.         0.         0.         0.10401758 0.35276184\\n\",","      \"  0.31170883 0.28932012 0.27489548 0.26322332 0.24948754 0.26493053\\n\",","      \"  0.06683519 0.         0.         0.         0.         0.\\n\",","      \"  0.         0.         0.         0.        ]\\n\",","      \" [0.         0.         0.         0.         0.         0.\\n\",","      \"  0.         0.         0.         0.         0.2106356  0.4071597\\n\",","      \"  0.31669617 0.28932012 0.27489548 0.26322332 0.24948754 0.26493053\\n\",","      \"  0.28699816 0.         0.         0.         0.         0.\\n\",","      \"  0.         0.         0.         0.        ]\\n\",","      \" [0.         0.         0.         0.         0.         0.\\n\",","      \"  0.         0.         0.         0.         0.         0.18132618\\n\",","      \"  0.30672148 0.28932012 0.27489548 0.26322332 0.24948754 0.26493053\\n\",","      \"  0.33614168 0.         0.         0.         0.         0.\\n\",","      \"  0.         0.         0.         0.        ]\\n\",","      \" [0.         0.         0.         0.         0.         0.\\n\",","      \"  0.         0.         0.         0.         0.         0.\\n\",","      \"  0.09101898 0.10137595 0.09632164 0.09637704 0.23573625 0.26493053\\n\",","      \"  0.33614168 0.         0.         0.         0.         0.\\n\",","      \"  0.         0.         0.         0.        ]\\n\",","      \" [0.         0.         0.         0.         0.         0.\\n\",","      \"  0.         0.         0.         0.         0.         0.\\n\",","      \"  0.         0.         0.         0.00103631 0.125726   0.26493053\\n\",","      \"  0.43049724 0.74210264 0.         0.         0.         0.\\n\",","      \"  0.         0.         0.         0.        ]\\n\",","      \" [0.         0.         0.         0.         0.         0.\\n\",","      \"  0.         0.         0.         0.         0.         0.\\n\",","      \"  0.         0.         0.         0.00725419 0.24948754 0.26493053\\n\",","      \"  0.42066853 0.67028626 0.         0.         0.         0.\\n\",","      \"  0.         0.         0.         0.        ]\\n\",","      \" [0.         0.         0.         0.         0.         0.\\n\",","      \"  0.         0.         0.         0.         0.         0.\\n\",","      \"  0.         0.         0.         0.14301109 0.24948754 0.26493053\\n\",","      \"  0.22802593 0.         0.         0.         0.         0.\\n\",","      \"  0.         0.         0.         0.        ]\\n\",","      \" [0.         0.         0.         0.         0.         0.\\n\",","      \"  0.10878298 0.45066626 0.24969673 0.         0.         0.\\n\",","      \"  0.         0.         0.02705664 0.24871495 0.24948754 0.26493053\\n\",","      \"  0.06683519 0.         0.         0.         0.         0.\\n\",","      \"  0.         0.         0.         0.        ]\\n\",","      \" [0.         0.         0.         0.         0.         0.\\n\",","      \"  0.93896892 0.64671882 0.59649775 0.1644903  0.09361582 0.\\n\",","      \"  0.0635886  0.10137595 0.22294673 0.26322332 0.24948754 0.14498167\\n\",","      \"  0.01572593 0.         0.         0.         0.         0.\\n\",","      \"  0.         0.         0.         0.        ]\\n\",","      \" [0.         0.         0.         0.         0.         0.\\n\",","      \"  0.32634895 0.50158901 0.70469967 0.66318312 0.57729756 0.29671557\\n\",","      \"  0.30048731 0.28932012 0.27489548 0.26218701 0.20921593 0.01147337\\n\",","      \"  0.         0.         0.         0.         0.         0.\\n\",","      \"  0.         0.         0.         0.        ]\\n\",","      \" [0.         0.         0.         0.         0.         0.\\n\",","      \"  0.         0.35645919 0.29131286 0.66318312 0.66051162 0.41869864\\n\",","      \"  0.31669617 0.28932012 0.27489548 0.2445697  0.         0.\\n\",","      \"  0.         0.         0.         0.         0.         0.\\n\",","      \"  0.         0.         0.         0.        ]\\n\",","      \" [0.         0.         0.         0.         0.         0.\\n\",","      \"  0.         0.         0.01942086 0.30548199 0.30425142 0.27198927\\n\",","      \"  0.31669617 0.28932012 0.25866149 0.05181561 0.         0.\\n\",","      \"  0.         0.         0.         0.         0.         0.\\n\",","      \"  0.         0.         0.         0.        ]\\n\",","      \" [0.         0.         0.         0.         0.         0.\\n\",","      \"  0.         0.         0.         0.         0.         0.\\n\",","      \"  0.         0.         0.         0.         0.         0.\\n\",","      \"  0.         0.         0.         0.         0.         0.\\n\",","      \"  0.         0.         0.         0.        ]\\n\",","      \" [0.         0.         0.         0.         0.         0.\\n\",","      \"  0.         0.         0.         0.         0.         0.\\n\",","      \"  0.         0.         0.         0.         0.         0.\\n\",","      \"  0.         0.         0.         0.         0.         0.\\n\",","      \"  0.         0.         0.         0.        ]\\n\",","      \" [0.         0.         0.         0.         0.         0.\\n\",","      \"  0.         0.         0.         0.         0.         0.\\n\",","      \"  0.         0.         0.         0.         0.         0.\\n\",","      \"  0.         0.         0.         0.         0.         0.\\n\",","      \"  0.         0.         0.         0.        ]\\n\",","      \" [0.         0.         0.         0.         0.         0.\\n\",","      \"  0.         0.         0.         0.         0.         0.\\n\",","      \"  0.         0.         0.         0.         0.         0.\\n\",","      \"  0.         0.         0.         0.         0.         0.\\n\",","      \"  0.         0.         0.         0.        ]]\\n\"","     ]","    }","   ],","   \"source\": [","    \"# printing the 10th image\\n\",","    \"\\n\",","    \"print(X_train[10])\"","   ]","  },","  {","   \"cell_type\": \"markdown\",","   \"id\": \"88f7ca0a\",","   \"metadata\": {},","   \"source\": [","    \"#### Resizing the image to make it suitable for applying convolutional operation\"","   ]","  },","  {","   \"cell_type\": \"code\",","   \"execution_count\": 14,","   \"id\": \"8f91a1df\",","   \"metadata\": {},","   \"outputs\": [],","   \"source\": [","    \"X_train = X_train.reshape(X_train.shape[0], 28, 28, 1)\\n\",","    \"X_test = X_test.reshape(X_test.shape[0], 28, 28, 1)\\n\",","    \"input_shape = (28, 28, 1)\"","   ]","  },","  {","   \"cell_type\": \"code\",","   \"execution_count\": 15,","   \"id\": \"66e209fe\",","   \"metadata\": {},","   \"outputs\": [","    {","     \"name\": \"stdout\",","     \"output_type\": \"stream\",","     \"text\": [","      \"x_train shape: (60000, 28, 28, 1)\\n\",","      \"y_train shape: (10000, 28, 28, 1)\\n\"","     ]","    }","   ],","   \"source\": [","    \"print('x_train shape:', X_train.shape)\\n\",","    \"print('y_train shape:',X_test.shape)\\n\"","   ]","  },","  {","   \"cell_type\": \"code\",","   \"execution_count\": 17,","   \"id\": \"faceae94\",","   \"metadata\": {},","   \"outputs\": [","    {","     \"name\": \"stdout\",","     \"output_type\": \"stream\",","     \"text\": [","      \"60000 train samples\\n\",","      \"10000 test samples\\n\"","     ]","    }","   ],","   \"source\": [","    \"print(X_train.shape[0], 'train samples')\\n\",","    \"print(X_test.shape[0], 'test samples')\"","   ]","  },","  {","   \"cell_type\": \"markdown\",","   \"id\": \"555f652b\",","   \"metadata\": {},","   \"source\": [","    \"### Creating the model\"","   ]","  },","  {","   \"cell_type\": \"code\",","   \"execution_count\": 19,","   \"id\": \"bb8065e5\",","   \"metadata\": {},","   \"outputs\": [],","   \"source\": [","    \"batch_size = 128\\n\",","    \"num_classes = 10\\n\",","    \"epochs = 10\\n\",","    \"\\n\",","    \"model = Sequential()\\n\",","    \"model.add(Conv2D(32, kernel_size=(3, 3),activation='relu',input_shape=X_train.shape[1:]))\\n\",","    \"model.add(Conv2D(64, (3, 3), activation='relu'))\\n\",","    \"model.add(MaxPooling2D(pool_size=(2, 2)))\\n\",","    \"model.add(Dropout(0.25))\\n\",","    \"model.add(Flatten())\\n\",","    \"model.add(Dense(256, activation='relu'))\\n\",","    \"model.add(Dropout(0.5))\\n\",","    \"model.add(Dense(10, activation='softmax'))\"","   ]","  },","  {","   \"cell_type\": \"code\",","   \"execution_count\": 20,","   \"id\": \"230be8d9\",","   \"metadata\": {},","   \"outputs\": [],","   \"source\": [","    \"# compiling the Neural Network\\n\",","    \"\\n\",","    \"model.compile(optimizer='adam',\\n\",","    \"              loss = 'sparse_categorical_crossentropy',\\n\",","    \"              metrics=['accuracy'])\"","   ]","  },","  {","   \"cell_type\": \"code\",","   \"execution_count\": 21,","   \"id\": \"7bbfe6b6\",","   \"metadata\": {},","   \"outputs\": [","    {","     \"name\": \"stdout\",","     \"output_type\": \"stream\",","     \"text\": [","      \"Model: \\\"sequential_1\\\"\\n\",","      \"_________________________________________________________________\\n\",","      \" Layer (type)                Output Shape              Param #   \\n\",","      \"=================================================================\\n\",","      \" conv2d (Conv2D)             (None, 26, 26, 32)        320       \\n\",","      \"                                                                 \\n\",","      \" conv2d_1 (Conv2D)           (None, 24, 24, 64)        18496     \\n\",","      \"                                                                 \\n\",","      \" max_pooling2d (MaxPooling2D  (None, 12, 12, 64)       0         \\n\",","      \" )                                                               \\n\",","      \"                                                                 \\n\",","      \" dropout (Dropout)           (None, 12, 12, 64)        0         \\n\",","      \"                                                                 \\n\",","      \" flatten (Flatten)           (None, 9216)              0         \\n\",","      \"                                                                 \\n\",","      \" dense (Dense)               (None, 256)               2359552   \\n\",","      \"                                                                 \\n\",","      \" dropout_1 (Dropout)         (None, 256)               0         \\n\",","      \"                                                                 \\n\",","      \" dense_1 (Dense)             (None, 10)                2570      \\n\",","      \"                                                                 \\n\",","      \"=================================================================\\n\",","      \"Total params: 2,380,938\\n\",","      \"Trainable params: 2,380,938\\n\",","      \"Non-trainable params: 0\\n\",","      \"_________________________________________________________________\\n\"","     ]","    }","   ],","   \"source\": [","    \"model.summary()\"","   ]","  },","  {","   \"cell_type\": \"code\",","   \"execution_count\": 23,","   \"id\": \"90ca34fa\",","   \"metadata\": {},","   \"outputs\": [","    {","     \"name\": \"stdout\",","     \"output_type\": \"stream\",","     \"text\": [","      \"Epoch 1/10\\n\",","      \"469/469 [==============================] - 84s 176ms/step - loss: 0.2417 - accuracy: 0.9270 - val_loss: 0.0633 - val_accuracy: 0.9804\\n\",","      \"Epoch 2/10\\n\",","      \"469/469 [==============================] - 86s 183ms/step - loss: 0.0752 - accuracy: 0.9768 - val_loss: 0.0407 - val_accuracy: 0.9867\\n\",","      \"Epoch 3/10\\n\",","      \"469/469 [==============================] - 92s 196ms/step - loss: 0.0541 - accuracy: 0.9831 - val_loss: 0.0355 - val_accuracy: 0.9881\\n\",","      \"Epoch 4/10\\n\",","      \"469/469 [==============================] - 88s 188ms/step - loss: 0.0430 - accuracy: 0.9868 - val_loss: 0.0339 - val_accuracy: 0.9889\\n\",","      \"Epoch 5/10\\n\",","      \"469/469 [==============================] - 99s 211ms/step - loss: 0.0339 - accuracy: 0.9897 - val_loss: 0.0307 - val_accuracy: 0.9900\\n\",","      \"Epoch 6/10\\n\",","      \"469/469 [==============================] - 97s 208ms/step - loss: 0.0302 - accuracy: 0.9904 - val_loss: 0.0323 - val_accuracy: 0.9883\\n\",","      \"Epoch 7/10\\n\",","      \"469/469 [==============================] - 97s 206ms/step - loss: 0.0246 - accuracy: 0.9920 - val_loss: 0.0303 - val_accuracy: 0.9915\\n\",","      \"Epoch 8/10\\n\",","      \"469/469 [==============================] - 108s 229ms/step - loss: 0.0223 - accuracy: 0.9930 - val_loss: 0.0310 - val_accuracy: 0.9911\\n\",","      \"Epoch 9/10\\n\",","      \"469/469 [==============================] - 113s 240ms/step - loss: 0.0186 - accuracy: 0.9939 - val_loss: 0.0329 - val_accuracy: 0.9913\\n\",","      \"Epoch 10/10\\n\",","      \"469/469 [==============================] - 104s 221ms/step - loss: 0.0178 - accuracy: 0.9944 - val_loss: 0.0336 - val_accuracy: 0.9913\\n\",","      \"The model has successfully trained\\n\",","      \"Saving the model as mnist.h5\\n\"","     ]","    }","   ],","   \"source\": [","    \"# training the Neural Network\\n\",","    \"hist = model.fit(X_train, Y_train,batch_size=batch_size,epochs=epochs,verbose=1,validation_data=(X_test, Y_test))\\n\",","    \"print(\\\"The model has successfully trained\\\")\\n\",","    \"\\n\",","    \"model.save('mnist.h5')\\n\",","    \"print(\\\"Saving the model as mnist.h5\\\")\"","   ]","  },","  {","   \"cell_type\": \"markdown\",","   \"id\": \"11073e18\",","   \"metadata\": {},","   \"source\": [","    \"Training data accuracy = 99.4%\"","   ]","  },","  {","   \"cell_type\": \"markdown\",","   \"id\": \"ce08f87b\",","   \"metadata\": {},","   \"source\": [","    \"**Evaluating the model:**\"","   ]","  },","  {","   \"cell_type\": \"code\",","   \"execution_count\": 25,","   \"id\": \"b282d809\",","   \"metadata\": {},","   \"outputs\": [","    {","     \"name\": \"stdout\",","     \"output_type\": \"stream\",","     \"text\": [","      \"Test loss: 0.03363963961601257\\n\",","      \"Test accuracy: 0.9912999868392944\\n\"","     ]","    }","   ],","   \"source\": [","    \"score = model.evaluate(X_test, Y_test, verbose=0)\\n\",","    \"print('Test loss:', score[0])\\n\",","    \"print('Test accuracy:', score[1])\"","   ]","  },","  {","   \"cell_type\": \"markdown\",","   \"id\": \"deb11c43\",","   \"metadata\": {},","   \"source\": [","    \"Test data accuracy =99.1%\"","   ]","  },","  {","   \"cell_type\": \"markdown\",","   \"id\": \"7582fd59\",","   \"metadata\": {},","   \"source\": [","    \"predicting the outcome\"","   ]","  },","  {","   \"cell_type\": \"code\",","   \"execution_count\": 127,","   \"id\": \"d25dc732\",","   \"metadata\": {},","   \"outputs\": [","    {","     \"name\": \"stdout\",","     \"output_type\": \"stream\",","     \"text\": [","      \"(10000, 28, 28, 1)\\n\"","     ]","    }","   ],","   \"source\": [","    \"print(X_test.shape)\"","   ]","  },","  {","   \"cell_type\": \"code\",","   \"execution_count\": 128,","   \"id\": \"e0dad70a\",","   \"metadata\": {},","   \"outputs\": [","    {","     \"data\": {","      \"image/png\": \"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\\n\",","      \"text/plain\": [","       \"\u003cFigure size 432x288 with 1 Axes\u003e\"","      ]","     },","     \"metadata\": {","      \"needs_background\": \"light\"","     },","     \"output_type\": \"display_data\"","    }","   ],","   \"source\": [","    \"# first data point in X_test\\n\",","    \"plt.imshow(X_test[0])\\n\",","    \"plt.show()\"","   ]","  },","  {","   \"cell_type\": \"code\",","   \"execution_count\": 129,","   \"id\": \"717723a4\",","   \"metadata\": {},","   \"outputs\": [","    {","     \"name\": \"stdout\",","     \"output_type\": \"stream\",","     \"text\": [","      \"7\\n\"","     ]","    }","   ],","   \"source\": [","    \"print(Y_test[0])\"","   ]","  },","  {","   \"cell_type\": \"code\",","   \"execution_count\": 130,","   \"id\": \"d2c68455\",","   \"metadata\": {},","   \"outputs\": [","    {","     \"name\": \"stdout\",","     \"output_type\": \"stream\",","     \"text\": [","      \"313/313 [==============================] - 8s 27ms/step\\n\"","     ]","    }","   ],","   \"source\": [","    \"Y_pred = model.predict(X_test)\"","   ]","  },","  {","   \"cell_type\": \"code\",","   \"execution_count\": 131,","   \"id\": \"63815438\",","   \"metadata\": {},","   \"outputs\": [","    {","     \"name\": \"stdout\",","     \"output_type\": \"stream\",","     \"text\": [","      \"(10000, 10)\\n\"","     ]","    }","   ],","   \"source\": [","    \"print(Y_pred.shape)\"","   ]","  },","  {","   \"cell_type\": \"code\",","   \"execution_count\": 132,","   \"id\": \"6619f249\",","   \"metadata\": {},","   \"outputs\": [","    {","     \"name\": \"stdout\",","     \"output_type\": \"stream\",","     \"text\": [","      \"[9.4347754e-14 1.5554717e-10 9.6840050e-11 2.2079709e-08 8.5815820e-11\\n\",","      \" 1.7837601e-12 2.7238738e-17 1.0000000e+00 1.5264207e-12 7.4711330e-09]\\n\"","     ]","    }","   ],","   \"source\": [","    \"print(Y_pred[0])\"","   ]","  },","  {","   \"cell_type\": \"markdown\",","   \"id\": \"ccfdb603\",","   \"metadata\": {},","   \"source\": [","    \"model.predict() gives the prediction probability of each class for that data point\"","   ]","  },","  {","   \"cell_type\": \"code\",","   \"execution_count\": 65,","   \"id\": \"39c9f928\",","   \"metadata\": {},","   \"outputs\": [","    {","     \"name\": \"stdout\",","     \"output_type\": \"stream\",","     \"text\": [","      \"7\\n\"","     ]","    }","   ],","   \"source\": [","    \"# converting the prediction probabilities to class label\\n\",","    \"\\n\",","    \"label_for_first_test_image = np.argmax(Y_pred[0])\\n\",","    \"print(label_for_first_test_image)\"","   ]","  },","  {","   \"cell_type\": \"code\",","   \"execution_count\": 66,","   \"id\": \"0c6daa68\",","   \"metadata\": {},","   \"outputs\": [","    {","     \"name\": \"stdout\",","     \"output_type\": \"stream\",","     \"text\": [","      \"[7, 2, 1, 0, 4, 1, 4, 9, 5, 9, 0, 6, 9, 0, 1, 5, 9, 7, 8, 4, 9, 6, 6, 5, 4, 0, 7, 4, 0, 1, 3, 1, 3, 4, 7, 2, 7, 1, 2, 1, 1, 7, 4, 2, 3, 5, 1, 2, 4, 4, 6, 3, 5, 5, 6, 0, 4, 1, 9, 5, 7, 8, 9, 3, 7, 4, 6, 4, 3, 0, 7, 0, 2, 9, 1, 7, 3, 2, 9, 7, 7, 6, 2, 7, 8, 4, 7, 3, 6, 1, 3, 6, 9, 3, 1, 4, 1, 7, 6, 9, 6, 0, 5, 4, 9, 9, 2, 1, 9, 4, 8, 7, 3, 9, 7, 4, 4, 4, 9, 2, 5, 4, 7, 6, 7, 9, 0, 5, 8, 5, 6, 6, 5, 7, 8, 1, 0, 1, 6, 4, 6, 7, 3, 1, 7, 1, 8, 2, 0, 2, 9, 9, 5, 5, 1, 5, 6, 0, 3, 4, 4, 6, 5, 4, 6, 5, 4, 5, 1, 4, 4, 7, 2, 3, 2, 7, 1, 8, 1, 8, 1, 8, 5, 0, 8, 9, 2, 5, 0, 1, 1, 1, 0, 9, 0, 3, 1, 6, 4, 2, 3, 6, 1, 1, 1, 3, 9, 5, 2, 9, 4, 5, 9, 3, 9, 0, 3, 6, 5, 5, 7, 2, 2, 7, 1, 2, 8, 4, 1, 7, 3, 3, 8, 8, 7, 9, 2, 2, 4, 1, 5, 9, 8, 7, 2, 3, 0, 4, 4, 2, 4, 1, 9, 5, 7, 7, 2, 8, 2, 6, 8, 5, 7, 7, 9, 1, 8, 1, 8, 0, 3, 0, 1, 9, 9, 4, 1, 8, 2, 1, 2, 9, 7, 5, 9, 2, 6, 4, 1, 5, 8, 2, 9, 2, 0, 4, 0, 0, 2, 8, 4, 7, 1, 2, 4, 0, 2, 7, 4, 3, 3, 0, 0, 3, 1, 9, 6, 5, 2, 5, 9, 7, 9, 3, 0, 4, 2, 0, 7, 1, 1, 2, 1, 5, 3, 3, 9, 7, 8, 6, 3, 6, 1, 3, 8, 1, 0, 5, 1, 3, 1, 5, 5, 6, 1, 8, 5, 1, 7, 9, 4, 6, 2, 2, 5, 0, 6, 5, 6, 3, 7, 2, 0, 8, 8, 5, 4, 1, 1, 4, 0, 3, 3, 7, 6, 1, 6, 2, 1, 9, 2, 8, 6, 1, 9, 5, 2, 5, 4, 4, 2, 8, 3, 8, 2, 4, 5, 0, 3, 1, 7, 7, 5, 7, 9, 7, 1, 9, 2, 1, 4, 2, 9, 2, 0, 4, 9, 1, 4, 8, 1, 8, 4, 5, 9, 8, 8, 3, 7, 6, 0, 0, 3, 0, 2, 0, 6, 4, 9, 3, 3, 3, 2, 3, 9, 1, 2, 6, 8, 0, 5, 6, 6, 6, 3, 8, 8, 2, 7, 5, 8, 9, 6, 1, 8, 4, 1, 2, 5, 9, 1, 9, 7, 5, 4, 0, 8, 9, 9, 1, 0, 5, 2, 3, 7, 8, 9, 4, 0, 6, 3, 9, 5, 2, 1, 3, 1, 3, 6, 5, 7, 4, 2, 2, 6, 3, 2, 6, 5, 4, 8, 9, 7, 1, 3, 0, 3, 8, 3, 1, 9, 3, 4, 4, 6, 4, 2, 1, 8, 2, 5, 4, 8, 8, 4, 0, 0, 2, 3, 2, 7, 7, 0, 8, 7, 4, 4, 7, 9, 6, 9, 0, 9, 8, 0, 4, 6, 0, 6, 3, 5, 4, 8, 3, 3, 9, 3, 3, 3, 7, 8, 0, 2, 2, 1, 7, 0, 6, 5, 4, 3, 8, 0, 9, 6, 3, 8, 0, 9, 9, 6, 8, 6, 8, 5, 7, 8, 6, 0, 2, 4, 0, 2, 2, 3, 1, 9, 7, 5, 1, 0, 8, 4, 6, 2, 6, 7, 9, 3, 2, 9, 8, 2, 2, 9, 2, 7, 3, 5, 9, 1, 8, 0, 2, 0, 5, 2, 1, 3, 7, 6, 7, 1, 2, 5, 8, 0, 3, 7, 2, 4, 0, 9, 1, 8, 6, 7, 7, 4, 3, 4, 9, 1, 9, 5, 1, 7, 3, 9, 7, 6, 9, 1, 3, 7, 8, 3, 3, 6, 7, 2, 8, 5, 8, 5, 1, 1, 4, 4, 3, 1, 0, 7, 7, 0, 7, 9, 4, 4, 8, 5, 5, 4, 0, 8, 2, 1, 0, 8, 4, 5, 0, 4, 0, 6, 1, 7, 3, 2, 6, 7, 2, 6, 9, 3, 1, 4, 6, 2, 5, 9, 2, 0, 6, 2, 1, 7, 3, 4, 1, 0, 5, 4, 3, 1, 1, 7, 4, 9, 9, 4, 8, 4, 0, 2, 4, 5, 1, 1, 6, 4, 7, 1, 9, 4, 2, 4, 1, 5, 5, 3, 8, 3, 1, 4, 5, 6, 8, 9, 4, 1, 5, 3, 8, 0, 3, 2, 5, 1, 2, 8, 3, 4, 4, 0, 8, 8, 3, 3, 1, 7, 3, 5, 9, 6, 3, 2, 6, 1, 3, 6, 0, 7, 2, 1, 7, 1, 4, 2, 4, 2, 1, 7, 9, 6, 1, 1, 2, 4, 8, 1, 7, 7, 4, 8, 0, 7, 3, 1, 3, 1, 0, 7, 7, 0, 3, 5, 5, 2, 7, 6, 6, 9, 2, 8, 3, 5, 2, 2, 5, 6, 0, 8, 2, 9, 2, 8, 8, 8, 8, 7, 4, 9, 5, 0, 6, 6, 3, 2, 1, 3, 2, 2, 9, 3, 0, 0, 5, 7, 8, 1, 4, 4, 6, 0, 2, 9, 1, 4, 7, 4, 7, 3, 9, 8, 8, 4, 7, 1, 2, 1, 2, 2, 3, 2, 3, 2, 3, 9, 1, 7, 4, 0, 3, 5, 5, 8, 6, 5, 2, 6, 7, 6, 6, 3, 2, 7, 8, 1, 1, 7, 5, 6, 4, 9, 5, 1, 3, 3, 4, 7, 8, 9, 1, 1, 6, 9, 1, 4, 4, 5, 4, 0, 6, 2, 2, 3, 1, 5, 1, 2, 0, 3, 8, 1, 2, 6, 7, 1, 6, 2, 3, 9, 0, 1, 2, 2, 0, 8, 9, 9, 0, 2, 5, 1, 9, 7, 8, 1, 0, 4, 1, 7, 9, 5, 4, 2, 6, 8, 1, 3, 7, 5, 4, 4, 1, 8, 1, 3, 8, 1, 2, 5, 8, 0, 6, 2, 1, 1, 7, 1, 5, 3, 4, 6, 9, 5, 0, 9, 2, 2, 4, 8, 2, 1, 7, 2, 4, 9, 4, 4, 0, 3, 9, 2, 2, 3, 3, 8, 3, 5, 7, 3, 5, 8, 1, 2, 4, 4, 6, 4, 9, 5, 1, 0, 6, 9, 5, 9, 5, 9, 7, 3, 8, 0, 3, 7, 1, 3, 6, 7, 8, 5, 9, 7, 9, 6, 9, 6, 3, 7, 4, 6, 5, 3, 5, 4, 7, 8, 7, 8, 0, 7, 6, 8, 8, 7, 3, 3, 1, 9, 5, 2, 7, 3, 5, 1, 1, 2, 1, 4, 7, 4, 7, 5, 4, 5, 4, 0, 8, 3, 6, 9, 6, 0, 2, 7, 4, 4, 4, 4, 6, 6, 4, 7, 9, 3, 4, 5, 5, 8, 7, 3, 7, 2, 7, 0, 2, 4, 1, 1, 6, 6, 9, 2, 8, 7, 2, 0, 1, 5, 0, 9, 1, 7, 0, 6, 0, 8, 6, 8, 1, 8, 0, 3, 3, 7, 2, 3, 6, 2, 1, 6, 1, 1, 3, 7, 9, 0, 8, 0, 5, 4, 0, 2, 8, 2, 2, 9, 8, 4, 0, 4, 5, 8, 5, 1, 2, 1, 3, 1, 7, 4, 5, 7, 2, 0, 5, 8, 8, 6, 2, 5, 4, 1, 9, 2, 1, 5, 8, 7, 0, 2, 4, 4, 3, 6, 8, 8, 2, 4, 0, 5, 0, 4, 4, 7, 9, 3, 4, 1, 5, 9, 7, 3, 5, 8, 8, 0, 5, 3, 3, 6, 6, 0, 1, 6, 0, 3, 5, 4, 4, 1, 2, 9, 1, 4, 6, 9, 9, 3, 9, 8, 4, 4, 3, 1, 3, 1, 0, 8, 7, 9, 4, 8, 8, 7, 9, 7, 1, 4, 5, 6, 0, 5, 2, 2, 2, 1, 5, 5, 2, 4, 9, 6, 2, 7, 7, 2, 2, 1, 1, 2, 8, 3, 7, 2, 4, 1, 7, 1, 7, 6, 7, 8, 2, 7, 3, 1, 7, 5, 8, 2, 6, 2, 2, 5, 6, 5, 0, 9, 2, 4, 3, 3, 9, 7, 6, 6, 8, 0, 4, 1, 5, 8, 2, 9, 1, 8, 0, 6, 7, 2, 1, 0, 5, 5, 2, 0, 2, 2, 0, 2, 4, 4, 8, 0, 9, 9, 4, 6, 5, 4, 9, 1, 8, 3, 4, 9, 9, 1, 2, 2, 8, 1, 9, 6, 4, 0, 9, 4, 8, 3, 8, 6, 0, 2, 5, 1, 9, 6, 2, 9, 4, 0, 9, 6, 0, 6, 2, 5, 4, 2, 3, 8, 4, 5, 5, 0, 3, 8, 5, 3, 5, 8, 6, 5, 7, 6, 3, 3, 9, 6, 1, 1, 2, 9, 0, 4, 3, 3, 6, 9, 5, 7, 3, 7, 7, 7, 8, 7, 9, 8, 3, 0, 7, 2, 7, 9, 4, 5, 4, 9, 3, 2, 1, 4, 0, 2, 3, 7, 5, 9, 8, 8, 5, 0, 1, 1, 4, 7, 3, 9, 0, 0, 0, 6, 6, 2, 3, 7, 8, 4, 7, 7, 9, 2, 4, 1, 4, 5, 2, 4, 9, 9, 1, 8, 4, 0, 9, 8, 4, 8, 7, 7, 0, 7, 8, 8, 6, 0, 4, 8, 8, 2, 4, 7, 6, 6, 6, 4, 7, 1, 8, 8, 2, 3, 6, 3, 0, 0, 3, 7, 6, 9, 7, 9, 9, 5, 4, 3, 3, 6, 1, 2, 3, 7, 3, 3, 2, 0, 3, 3, 8, 4, 3, 6, 3, 5, 0, 2, 0, 9, 0, 7, 4, 6, 9, 3, 5, 1, 9, 6, 1, 4, 5, 4, 5, 0, 5, 9, 5, 2, 1, 2, 9, 1, 9, 9, 4, 0, 8, 4, 5, 2, 9, 2, 1, 2, 1, 7, 3, 6, 8, 8, 4, 9, 1, 9, 8, 5, 7, 5, 1, 1, 8, 6, 5, 2, 4, 4, 3, 2, 3, 5, 6, 8, 8, 6, 2, 3, 1, 0, 5, 8, 9, 2, 9, 6, 7, 0, 4, 8, 7, 1, 7, 4, 1, 0, 5, 7, 2, 0, 0, 9, 1, 7, 8, 7, 8, 4, 7, 2, 0, 4, 6, 0, 3, 1, 1, 3, 3, 9, 6, 7, 4, 1, 5, 3, 0, 8, 7, 3, 9, 6, 9, 3, 5, 0, 2, 7, 4, 5, 1, 7, 5, 8, 0, 8, 8, 1, 5, 0, 3, 0, 3, 1, 4, 0, 3, 7, 2, 7, 1, 8, 0, 7, 0, 4, 3, 1, 9, 8, 7, 7, 1, 4, 9, 9, 3, 7, 1, 7, 9, 0, 2, 0, 3, 3, 7, 6, 9, 2, 3, 3, 7, 7, 0, 0, 7, 5, 2, 9, 8, 7, 4, 4, 2, 6, 6, 1, 9, 6, 8, 2, 9, 0, 8, 3, 1, 1, 6, 3, 5, 1, 1, 1, 3, 1, 2, 3, 0, 2, 0, 1, 3, 5, 5, 7, 4, 8, 9, 6, 9, 6, 8, 3, 6, 6, 8, 5, 1, 4, 2, 4, 4, 5, 1, 1, 9, 0, 2, 4, 9, 5, 7, 1, 8, 8, 5, 6, 9, 8, 7, 1, 1, 6, 7, 6, 3, 2, 2, 0, 8, 9, 2, 5, 1, 0, 8, 1, 4, 5, 2, 9, 6, 9, 0, 6, 1, 5, 5, 8, 3, 8, 2, 6, 5, 0, 7, 4, 6, 1, 3, 4, 7, 3, 2, 3, 4, 2, 5, 2, 7, 1, 7, 2, 6, 4, 1, 5, 7, 8, 6, 0, 1, 8, 2, 5, 7, 7, 6, 9, 3, 5, 8, 4, 2, 4, 0, 8, 8, 3, 4, 9, 2, 7, 5, 8, 6, 5, 6, 0, 8, 6, 7, 3, 6, 4, 9, 4, 6, 6, 3, 2, 4, 1, 0, 1, 4, 6, 2, 9, 1, 1, 0, 6, 3, 9, 5, 6, 5, 6, 5, 8, 4, 6, 4, 3, 9, 1, 3, 4, 1, 9, 1, 2, 1, 1, 9, 3, 5, 4, 0, 7, 3, 6, 1, 7, 5, 5, 3, 3, 0, 1, 3, 7, 5, 8, 6, 6, 1, 0, 4, 2, 3, 4, 6, 7, 9, 8, 1, 8, 4, 9, 2, 8, 6, 2, 7, 0, 0, 6, 7, 5, 8, 6, 0, 9, 3, 7, 1, 3, 5, 4, 3, 3, 5, 5, 6, 3, 0, 2, 3, 4, 2, 3, 0, 9, 9, 4, 7, 2, 8, 4, 7, 0, 6, 2, 8, 5, 2, 8, 5, 7, 3, 0, 8, 2, 3, 2, 8, 2, 5, 5, 7, 6, 4, 0, 8, 4, 8, 2, 7, 4, 5, 2, 0, 3, 8, 9, 6, 7, 2, 5, 1, 1, 1, 2, 3, 6, 7, 8, 7, 6, 4, 8, 9, 4, 8, 6, 3, 8, 3, 1, 0, 6, 2, 2, 5, 6, 9, 5, 8, 1, 4, 1, 7, 8, 4, 6, 1, 8, 4, 3, 1, 2, 8, 0, 8, 5, 9, 3, 4, 2, 0, 2, 7, 0, 9, 0, 2, 5, 7, 6, 7, 9, 4, 2, 6, 2, 4, 4, 8, 0, 4, 4, 5, 8, 0, 6, 8, 9, 8, 5, 6, 9, 0, 4, 8, 7, 1, 3, 4, 5, 8, 0, 9, 1, 3, 3, 6, 9, 8, 7, 1, 0, 5, 7, 1, 7, 5, 2, 7, 9, 1, 8, 5, 2, 4, 9, 4, 7, 2, 2, 3, 4, 9, 1, 9, 2, 1, 7, 9, 4, 4, 1, 6, 7, 2, 7, 8, 8, 1, 9, 7, 1, 1, 7, 5, 3, 3, 5, 1, 3, 7, 6, 1, 3, 8, 7, 5, 9, 0, 0, 0, 2, 8, 8, 2, 3, 7, 1, 3, 0, 3, 4, 4, 3, 8, 9, 2, 3, 9, 7, 1, 1, 7, 0, 4, 9, 6, 5, 9, 1, 7, 0, 2, 0, 0, 4, 6, 7, 0, 7, 1, 4, 6, 4, 5, 4, 9, 9, 1, 7, 9, 5, 3, 3, 8, 2, 3, 6, 2, 2, 1, 1, 1, 1, 1, 6, 9, 8, 4, 3, 7, 1, 6, 4, 5, 0, 4, 7, 4, 2, 4, 0, 7, 0, 1, 9, 8, 8, 6, 0, 0, 4, 9, 6, 8, 2, 2, 3, 8, 4, 8, 2, 2, 1, 7, 5, 4, 4, 0, 4, 3, 8, 7, 3, 1, 0, 1, 2, 5, 4, 2, 1, 0, 1, 8, 9, 1, 6, 8, 3, 8, 9, 3, 6, 2, 8, 3, 2, 2, 1, 0, 4, 2, 9, 2, 4, 3, 7, 9, 1, 5, 2, 4, 9, 0, 3, 8, 5, 3, 6, 0, 9, 4, 6, 2, 5, 0, 0, 7, 4, 6, 6, 8, 6, 6, 8, 6, 9, 1, 7, 2, 5, 9, 9, 0, 7, 2, 7, 6, 7, 0, 6, 5, 2, 4, 7, 2, 0, 9, 9, 2, 2, 9, 4, 4, 2, 3, 3, 2, 1, 7, 0, 7, 6, 4, 1, 3, 8, 7, 4, 5, 9, 2, 5, 1, 8, 7, 3, 7, 1, 5, 5, 0, 9, 1, 4, 0, 6, 3, 3, 6, 0, 4, 9, 7, 5, 1, 6, 8, 9, 5, 5, 7, 9, 3, 8, 3, 8, 1, 5, 3, 5, 0, 5, 5, 3, 8, 6, 7, 7, 7, 3, 7, 0, 5, 9, 0, 2, 5, 5, 3, 1, 7, 7, 8, 6, 5, 9, 3, 8, 9, 5, 3, 7, 9, 1, 7, 0, 0, 3, 7, 2, 3, 8, 1, 8, 6, 2, 9, 5, 7, 5, 2, 8, 6, 2, 5, 1, 4, 8, 4, 5, 8, 3, 0, 6, 2, 7, 3, 3, 2, 1, 0, 7, 3, 4, 0, 3, 9, 3, 2, 8, 9, 0, 3, 8, 0, 7, 6, 5, 4, 7, 3, 9, 0, 8, 6, 2, 5, 1, 1, 0, 0, 4, 4, 0, 1, 2, 3, 2, 7, 7, 8, 5, 2, 5, 7, 6, 9, 1, 4, 1, 6, 4, 2, 4, 3, 5, 4, 3, 9, 5, 0, 1, 5, 3, 8, 9, 1, 9, 7, 9, 5, 5, 2, 7, 4, 6, 0, 1, 1, 1, 0, 4, 4, 7, 6, 3, 0, 0, 4, 3, 0, 6, 1, 9, 6, 1, 3, 8, 1, 2, 5, 6, 2, 7, 3, 6, 0, 1, 9, 7, 6, 6, 8, 9, 2, 9, 5, 8, 3, 1, 0, 0, 7, 6, 6, 2, 1, 6, 9, 3, 1, 8, 6, 9, 0, 6, 0, 0, 0, 6, 3, 5, 9, 3, 4, 5, 5, 8, 5, 3, 0, 4, 0, 2, 9, 6, 8, 2, 3, 1, 2, 1, 1, 5, 6, 9, 8, 0, 6, 6, 5, 5, 3, 8, 6, 2, 1, 4, 5, 4, 3, 7, 8, 5, 0, 9, 3, 5, 1, 1, 0, 4, 4, 7, 0, 1, 7, 0, 1, 6, 1, 4, 5, 6, 6, 5, 7, 8, 4, 4, 7, 2, 5, 3, 7, 0, 7, 7, 9, 6, 4, 2, 8, 5, 7, 8, 3, 9, 5, 8, 9, 9, 8, 6, 2, 8, 9, 2, 3, 6, 1, 1, 8, 9, 3, 4, 0, 7, 9, 6, 4, 1, 4, 1, 3, 4, 9, 3, 1, 4, 7, 7, 4, 7, 2, 9, 3, 0, 8, 0, 8, 4, 0, 4, 4, 1, 5, 2, 8, 3, 4, 9, 5, 2, 8, 1, 5, 3, 7, 9, 4, 2, 5, 6, 2, 5, 9, 3, 5, 9, 3, 1, 9, 5, 3, 0, 6, 9, 8, 4, 0, 4, 5, 2, 9, 0, 1, 0, 3, 1, 6, 5, 8, 1, 5, 3, 5, 0, 3, 5, 5, 9, 2, 8, 7, 0, 4, 9, 1, 9, 7, 7, 5, 5, 2, 0, 9, 1, 8, 6, 2, 3, 9, 6, 2, 1, 9, 1, 3, 5, 5, 0, 3, 8, 3, 3, 7, 6, 6, 0, 1, 4, 0, 6, 9, 8, 1, 2, 9, 9, 5, 9, 7, 3, 7, 8, 0, 1, 3, 0, 4, 6, 1, 0, 2, 5, 8, 4, 4, 1, 1, 5, 4, 0, 6, 0, 6, 9, 2, 6, 2, 7, 1, 7, 9, 4, 0, 0, 3, 8, 2, 2, 3, 1, 6, 0, 5, 7, 7, 9, 2, 6, 7, 9, 7, 8, 6, 8, 8, 4, 6, 8, 4, 1, 2, 8, 2, 3, 9, 4, 0, 3, 7, 3, 2, 3, 3, 7, 3, 4, 0, 6, 2, 0, 8, 1, 5, 3, 5, 4, 1, 7, 1, 5, 7, 5, 7, 3, 2, 2, 7, 3, 7, 3, 7, 8, 5, 4, 5, 2, 5, 6, 5, 3, 6, 7, 4, 1, 7, 1, 5, 2, 3, 6, 3, 1, 4, 2, 6, 7, 4, 3, 8, 0, 6, 2, 1, 6, 5, 3, 9, 1, 9, 3, 2, 1, 8, 4, 4, 6, 5, 8, 6, 9, 7, 7, 8, 6, 9, 7, 3, 9, 4, 0, 5, 4, 6, 4, 1, 2, 3, 0, 0, 2, 6, 6, 5, 7, 0, 8, 6, 4, 7, 9, 0, 7, 3, 4, 2, 1, 8, 8, 5, 9, 2, 7, 1, 8, 8, 8, 2, 7, 6, 0, 1, 2, 7, 1, 0, 8, 3, 6, 0, 5, 3, 6, 2, 8, 9, 0, 1, 4, 2, 1, 1, 4, 4, 4, 4, 7, 1, 6, 2, 9, 9, 0, 0, 1, 8, 8, 4, 3, 4, 2, 0, 6, 1, 6, 1, 2, 2, 2, 1, 2, 3, 7, 8, 1, 0, 0, 2, 1, 6, 6, 0, 1, 6, 2, 5, 1, 7, 4, 8, 2, 1, 4, 3, 8, 3, 9, 9, 4, 8, 3, 4, 7, 2, 7, 5, 7, 0, 4, 3, 3, 2, 6, 7, 6, 0, 0, 6, 7, 7, 0, 5, 5, 8, 1, 0, 7, 0, 2, 8, 1, 5, 0, 8, 8, 0, 3, 2, 7, 7, 2, 6, 4, 7, 5, 5, 5, 2, 9, 2, 8, 4, 6, 8, 6, 5, 0, 0, 8, 7, 6, 1, 7, 1, 1, 2, 7, 4, 0, 0, 7, 7, 6, 3, 8, 6, 4, 2, 0, 9, 4, 0, 5, 7, 8, 2, 7, 4, 7, 1, 1, 3, 6, 6, 2, 9, 1, 9, 4, 8, 3, 6, 9, 5, 9, 6, 2, 4, 6, 7, 7, 0, 6, 6, 9, 4, 8, 3, 5, 3, 4, 9, 0, 0, 5, 2, 5, 0, 7, 1, 1, 1, 0, 7, 6, 7, 9, 6, 6, 4, 1, 4, 3, 1, 1, 2, 2, 4, 1, 0, 8, 7, 6, 3, 4, 0, 0, 6, 3, 3, 0, 7, 1, 7, 1, 1, 3, 1, 0, 9, 9, 7, 5, 4, 1, 4, 8, 9, 5, 3, 5, 1, 9, 8, 2, 3, 3, 9, 9, 0, 1, 0, 2, 9, 3, 9, 3, 3, 6, 2, 4, 9, 8, 3, 7, 4, 0, 4, 7, 8, 4, 9, 8, 1, 9, 7, 5, 9, 2, 8, 2, 2, 0, 2, 2, 3, 8, 4, 6, 8, 4, 8, 2, 4, 6, 7, 9, 3, 3, 9, 4, 3, 1, 4, 4, 7, 0, 5, 9, 6, 0, 4, 4, 4, 4, 6, 1, 2, 3, 3, 6, 4, 5, 9, 6, 8, 5, 6, 5, 8, 6, 4, 1, 8, 6, 5, 2, 8, 4, 5, 5, 4, 7, 7, 0, 7, 8, 2, 2, 3, 7, 0, 1, 8, 0, 7, 1, 9, 8, 7, 5, 5, 9, 1, 7, 5, 4, 9, 1, 2, 2, 6, 6, 6, 7, 1, 1, 4, 0, 7, 4, 2, 4, 0, 6, 4, 7, 6, 9, 5, 3, 4, 6, 5, 0, 1, 8, 8, 2, 8, 3, 5, 7, 8, 0, 8, 5, 7, 1, 1, 0, 1, 3, 7, 8, 5, 0, 7, 1, 1, 0, 1, 1, 4, 5, 2, 7, 6, 2, 3, 0, 2, 8, 5, 9, 6, 9, 7, 2, 1, 3, 6, 4, 1, 8, 2, 4, 0, 5, 1, 0, 2, 2, 6, 4, 4, 3, 9, 6, 1, 6, 5, 7, 9, 2, 0, 2, 6, 0, 1, 4, 3, 5, 2, 8, 8, 0, 8, 8, 9, 0, 9, 6, 7, 6, 3, 9, 3, 4, 7, 7, 7, 4, 9, 0, 6, 4, 8, 4, 2, 7, 2, 8, 1, 0, 0, 7, 8, 3, 3, 3, 1, 3, 7, 6, 1, 3, 1, 6, 6, 5, 2, 4, 7, 5, 9, 5, 8, 4, 9, 9, 1, 6, 5, 0, 1, 3, 2, 0, 3, 4, 8, 2, 2, 0, 2, 5, 1, 8, 1, 6, 8, 8, 9, 1, 2, 1, 3, 5, 1, 0, 9, 4, 4, 8, 3, 2, 5, 9, 7, 6, 6, 2, 0, 0, 0, 5, 8, 8, 1, 5, 2, 3, 8, 5, 1, 8, 2, 0, 4, 9, 9, 6, 2, 3, 3, 5, 6, 4, 8, 0, 9, 2, 8, 3, 6, 7, 5, 7, 2, 9, 4, 9, 1, 2, 8, 6, 0, 7, 0, 9, 1, 1, 8, 7, 5, 9, 9, 1, 9, 5, 9, 2, 5, 0, 4, 1, 0, 8, 9, 0, 8, 9, 8, 9, 4, 2, 5, 7, 9, 8, 9, 8, 0, 9, 9, 6, 8, 9, 9, 5, 9, 8, 5, 1, 0, 3, 3, 5, 2, 1, 6, 5, 0, 2, 8, 2, 5, 6, 2, 3, 0, 2, 2, 6, 4, 3, 5, 5, 1, 7, 2, 1, 6, 9, 1, 9, 9, 5, 5, 1, 6, 2, 2, 8, 6, 7, 1, 4, 6, 0, 6, 0, 3, 3, 2, 2, 3, 6, 8, 9, 8, 5, 3, 8, 5, 4, 5, 2, 0, 5, 6, 3, 2, 8, 3, 9, 9, 5, 7, 9, 4, 6, 7, 1, 3, 7, 3, 6, 6, 0, 9, 0, 1, 9, 4, 2, 8, 8, 0, 1, 6, 9, 7, 5, 3, 4, 7, 4, 9, 9, 4, 3, 6, 3, 1, 1, 7, 6, 9, 1, 8, 4, 1, 1, 9, 9, 4, 3, 6, 8, 1, 6, 0, 4, 1, 3, 1, 7, 4, 9, 5, 1, 0, 0, 1, 1, 6, 2, 1, 9, 8, 4, 0, 3, 6, 4, 9, 0, 7, 1, 6, 5, 7, 5, 2, 5, 1, 8, 5, 4, 7, 0, 6, 7, 0, 2, 5, 8, 1, 0, 4, 5, 7, 1, 8, 5, 1, 9, 0, 0, 6, 0, 7, 3, 1, 8, 3, 9, 7, 0, 0, 8, 9, 5, 9, 8, 3, 2, 7, 2, 9, 7, 2, 1, 1, 3, 7, 5, 3, 1, 9, 8, 2, 2, 2, 8, 8, 5, 7, 3, 8, 9, 8, 8, 6, 8, 2, 3, 9, 7, 5, 6, 2, 9, 2, 8, 8, 1, 6, 8, 8, 7, 9, 1, 8, 0, 1, 7, 2, 0, 7, 5, 1, 9, 0, 2, 0, 9, 8, 6, 2, 3, 9, 3, 8, 0, 2, 1, 1, 1, 1, 4, 2, 9, 7, 7, 5, 1, 1, 2, 1, 9, 9, 9, 1, 0, 2, 0, 2, 1, 1, 4, 6, 4, 1, 5, 4, 9, 7, 7, 1, 5, 6, 2, 2, 2, 8, 0, 6, 9, 6, 1, 9, 7, 7, 1, 4, 8, 5, 3, 4, 3, 4, 9, 7, 5, 0, 7, 4, 8, 8, 1, 5, 3, 9, 5, 9, 7, 6, 9, 0, 3, 6, 3, 9, 8, 2, 2, 1, 2, 8, 6, 8, 5, 5, 3, 9, 4, 9, 2, 5, 1, 5, 1, 4, 4, 1, 4, 4, 3, 5, 9, 1, 2, 2, 3, 3, 0, 2, 9, 0, 0, 9, 9, 6, 0, 9, 3, 2, 8, 4, 1, 9, 9, 7, 2, 7, 9, 9, 5, 9, 5, 1, 1, 8, 3, 5, 1, 9, 5, 3, 5, 4, 9, 5, 9, 3, 1, 9, 0, 9, 7, 5, 4, 9, 2, 0, 1, 0, 5, 1, 4, 9, 3, 3, 6, 1, 5, 2, 5, 2, 2, 0, 9, 2, 6, 6, 0, 1, 2, 0, 3, 0, 2, 5, 5, 7, 9, 5, 3, 0, 8, 9, 5, 0, 3, 2, 5, 9, 0, 8, 8, 4, 5, 8, 8, 4, 5, 4, 8, 5, 4, 9, 2, 2, 1, 2, 6, 8, 8, 7, 0, 3, 6, 6, 4, 3, 8, 8, 7, 2, 2, 0, 0, 9, 3, 9, 9, 1, 9, 8, 6, 6, 4, 2, 6, 9, 2, 8, 5, 4, 5, 7, 9, 9, 9, 2, 1, 8, 3, 4, 0, 7, 8, 3, 9, 3, 4, 6, 5, 6, 2, 3, 9, 2, 6, 0, 0, 6, 1, 2, 8, 7, 9, 8, 2, 0, 4, 7, 7, 5, 0, 5, 6, 4, 6, 7, 4, 3, 0, 7, 5, 0, 7, 4, 2, 0, 8, 9, 9, 4, 2, 4, 6, 7, 8, 7, 6, 9, 4, 1, 3, 7, 3, 0, 8, 8, 7, 6, 9, 3, 9, 2, 2, 9, 2, 1, 8, 3, 2, 9, 6, 8, 4, 0, 1, 2, 8, 4, 5, 2, 7, 8, 1, 1, 3, 0, 3, 5, 7, 0, 3, 1, 9, 3, 5, 3, 1, 7, 7, 3, 0, 8, 4, 8, 2, 6, 5, 2, 9, 7, 3, 9, 0, 9, 9, 6, 4, 2, 9, 7, 2, 1, 1, 6, 7, 4, 7, 5, 9, 0, 8, 2, 1, 4, 4, 5, 7, 6, 1, 3, 2, 5, 9, 9, 3, 6, 1, 1, 4, 6, 9, 7, 2, 1, 5, 1, 4, 6, 3, 8, 1, 1, 0, 3, 1, 6, 8, 4, 9, 0, 7, 3, 0, 2, 9, 0, 6, 6, 6, 3, 6, 7, 7, 2, 8, 6, 0, 8, 3, 0, 2, 9, 8, 3, 2, 5, 3, 9, 8, 0, 0, 1, 9, 5, 1, 3, 9, 6, 0, 1, 4, 1, 7, 1, 2, 3, 7, 9, 7, 4, 9, 9, 3, 9, 2, 8, 2, 7, 1, 8, 0, 9, 1, 0, 1, 7, 7, 9, 6, 9, 9, 9, 2, 1, 6, 1, 3, 5, 7, 1, 9, 7, 6, 4, 5, 7, 6, 6, 9, 9, 6, 3, 6, 2, 9, 8, 1, 2, 2, 5, 5, 2, 3, 7, 2, 1, 0, 1, 0, 4, 5, 2, 8, 2, 8, 3, 5, 1, 7, 8, 1, 1, 2, 9, 7, 8, 4, 0, 5, 0, 7, 8, 8, 4, 7, 7, 8, 5, 8, 4, 9, 8, 1, 3, 8, 0, 3, 1, 7, 8, 5, 5, 1, 6, 5, 7, 4, 9, 3, 5, 4, 7, 1, 2, 0, 8, 1, 6, 0, 7, 3, 4, 7, 3, 9, 6, 0, 8, 6, 4, 8, 7, 7, 9, 3, 8, 6, 9, 7, 2, 3, 4, 0, 2, 1, 0, 3, 5, 5, 7, 2, 4, 0, 7, 2, 8, 3, 0, 8, 7, 8, 4, 0, 8, 4, 4, 5, 8, 5, 6, 6, 3, 0, 9, 3, 7, 6, 8, 9, 3, 4, 9, 5, 8, 9, 1, 2, 8, 8, 6, 8, 1, 3, 7, 9, 0, 1, 1, 9, 7, 0, 8, 1, 7, 4, 5, 7, 1, 2, 1, 1, 3, 9, 6, 2, 1, 2, 8, 0, 7, 6, 6, 9, 3, 7, 0, 5, 2, 8, 0, 5, 4, 3, 8, 4, 6, 6, 2, 7, 9, 5, 1, 3, 2, 4, 3, 6, 1, 9, 4, 4, 7, 6, 5, 4, 1, 9, 9, 2, 7, 8, 0, 1, 3, 6, 1, 3, 4, 1, 1, 1, 5, 6, 0, 7, 0, 7, 2, 3, 2, 5, 2, 2, 9, 4, 9, 8, 1, 2, 1, 6, 1, 2, 7, 8, 0, 0, 0, 8, 2, 2, 9, 2, 2, 7, 9, 9, 2, 7, 5, 1, 3, 4, 9, 4, 1, 8, 5, 6, 2, 8, 3, 1, 2, 8, 4, 9, 9, 3, 7, 0, 7, 7, 2, 3, 2, 4, 0, 3, 9, 9, 8, 4, 1, 0, 6, 0, 9, 6, 8, 6, 1, 1, 9, 8, 9, 2, 3, 5, 5, 9, 4, 2, 1, 9, 4, 3, 9, 6, 0, 4, 0, 6, 0, 1, 2, 3, 4, 7, 8, 9, 0, 1, 2, 3, 4, 7, 8, 9, 0, 1, 2, 3, 4, 5, 6, 7, 8, 9, 8, 3, 4, 7, 8, 6, 3, 4, 0, 9, 7, 1, 9, 3, 8, 4, 7, 3, 0, 9, 1, 4, 5, 4, 6, 2, 0, 6, 2, 1, 1, 1, 1, 7, 2, 4, 7, 5, 2, 9, 4, 5, 8, 4, 2, 9, 7, 0, 0, 7, 5, 1, 1, 7, 6, 6, 6, 8, 2, 2, 7, 7, 4, 0, 2, 4, 2, 1, 8, 9, 6, 1, 0, 5, 9, 6, 9, 8, 0, 3, 0, 8, 3, 9, 6, 3, 0, 1, 2, 3, 4, 5, 6, 7, 0, 1, 2, 3, 4, 5, 6, 7, 8, 9, 0, 1, 2, 3, 4, 5, 6, 7, 8, 5, 4, 8, 7, 4, 7, 7, 3, 9, 8, 8, 3, 1, 5, 8, 2, 7, 4, 2, 1, 5, 4, 5, 5, 8, 6, 4, 4, 4, 1, 8, 7, 5, 5, 1, 8, 9, 1, 3, 6, 3, 3, 2, 2, 6, 9, 9, 6, 5, 5, 3, 3, 8, 1, 6, 5, 6, 8, 1, 9, 7, 6, 8, 3, 7, 4, 7, 0, 9, 0, 0, 3, 2, 9, 3, 0, 2, 0, 1, 0, 1, 0, 4, 0, 1, 0, 4, 7, 9, 6, 2, 6, 2, 2, 9, 9, 0, 1, 2, 3, 4, 5, 6, 7, 8, 9, 0, 1, 2, 3, 4, 5, 6, 7, 8, 9, 0, 1, 2, 3, 4, 5, 6, 7, 8, 9, 8, 0, 5, 6, 6, 0, 8, 0, 2, 3, 7, 9, 4, 7, 1, 9, 1, 7, 1, 4, 0, 0, 4, 1, 7, 5, 7, 1, 3, 3, 3, 1, 6, 9, 7, 4, 3, 0, 2, 5, 2, 6, 0, 8, 9, 4, 3, 5, 4, 8, 1, 5, 9, 0, 6, 4, 3, 6, 3, 3, 8, 1, 4, 7, 5, 7, 2, 2, 0, 0, 1, 7, 7, 9, 5, 9, 8, 9, 6, 8, 8, 2, 3, 6, 1, 2, 9, 8, 9, 5, 2, 6, 2, 4, 8, 4, 6, 5, 0, 1, 5, 6, 7, 8, 9, 0, 1, 2, 3, 4, 5, 6, 7, 8, 9, 0, 1, 2, 3, 4, 5, 6, 7, 8, 9, 7, 4, 2, 0, 9, 0, 1, 5, 8, 8, 0, 2, 7, 8, 4, 4, 6, 1, 0, 4, 5, 3, 9, 4, 2, 0, 5, 0, 1, 3, 2, 9, 1, 6, 0, 1, 1, 8, 0, 4, 7, 7, 6, 3, 6, 0, 7, 3, 5, 4, 2, 4, 1, 8, 3, 5, 6, 7, 0, 6, 7, 1, 2, 5, 8, 1, 9, 3, 8, 2, 8, 7, 6, 7, 1, 4, 6, 2, 9, 3, 0, 1, 2, 3, 4, 5, 6, 7, 0, 1, 2, 3, 4, 5, 0, 1, 2, 8, 9, 1, 4, 0, 9, 5, 0, 8, 0, 7, 7, 1, 1, 2, 9, 3, 6, 7, 2, 3, 8, 1, 2, 9, 8, 8, 7, 1, 7, 1, 1, 0, 3, 4, 2, 6, 4, 7, 4, 2, 7, 4, 9, 1, 0, 6, 8, 5, 5, 5, 3, 5, 9, 7, 4, 8, 5, 9, 6, 9, 3, 0, 3, 8, 9, 1, 8, 1, 6, 0, 0, 1, 2, 3, 4, 5, 6, 7, 8, 9, 0, 1, 2, 3, 4, 5, 6, 7, 8, 9, 0, 1, 2, 3, 4, 5, 6, 7, 8, 9, 3, 5, 3, 2, 9, 3, 2, 1, 4, 5, 5, 2, 3, 2, 1, 3, 9, 7, 2, 1, 2, 8, 9, 1, 8, 8, 7, 8, 1, 0, 0, 2, 7, 8, 7, 5, 0, 6, 1, 5, 7, 4, 6, 1, 2, 5, 0, 7, 9, 9, 0, 3, 8, 4, 4, 8, 1, 8, 6, 5, 9, 0, 0, 0, 3, 7, 1, 6, 4, 2, 6, 6, 0, 4, 5, 4, 1, 3, 8, 6, 3, 9, 9, 5, 9, 3, 7, 8, 5, 6, 4, 7, 6, 2, 2, 0, 9, 4, 0, 1, 2, 3, 4, 5, 6, 7, 8, 9, 0, 1, 2, 3, 5, 6, 0, 1, 2, 3, 4, 5, 6, 8, 7, 1, 3, 2, 8, 0, 7, 5, 9, 9, 6, 0, 9, 4, 1, 3, 2, 1, 2, 3, 8, 3, 2, 6, 5, 6, 8, 2, 7, 4, 8, 1, 8, 0, 5, 3, 9, 4, 1, 9, 2, 1, 9, 6, 7, 9, 0, 4, 6, 1, 7, 3, 8, 7, 2, 9, 6, 5, 8, 3, 9, 0, 5, 7, 1, 6, 1, 0, 9, 3, 3, 4, 4, 0, 6, 2, 5, 4, 2, 3, 4, 6, 0, 0, 2, 0, 1, 4, 5, 6, 7, 8, 9, 0, 1, 2, 3, 4, 5, 6, 7, 8, 0, 1, 2, 3, 4, 5, 6, 7, 8, 9, 8, 7, 1, 3, 7, 5, 2, 8, 0, 7, 5, 9, 9, 0, 9, 1, 1, 5, 8, 8, 6, 3, 2, 1, 8, 3, 2, 6, 5, 6, 7, 4, 1, 0, 5, 3, 1, 9, 2, 1, 9, 6, 0, 4, 6, 1, 7, 3, 8, 7, 2, 9, 6, 5, 8, 3, 5, 7, 1, 6, 1, 0, 9, 6, 2, 5, 4, 2, 3, 4, 4, 6, 0, 0, 2, 0, 1, 2, 3, 4, 3, 6, 7, 8, 9, 0, 1, 2, 3, 4, 5, 6, 7, 8, 9, 0, 1, 2, 8, 4, 5, 6, 7, 8, 9, 8, 6, 5, 0, 6, 8, 9, 4, 1, 9, 5, 3, 0, 4, 8, 9, 1, 4, 0, 5, 5, 2, 1, 5, 4, 0, 7, 6, 0, 1, 7, 0, 6, 8, 9, 5, 1, 7, 9, 8, 6, 0, 8, 1, 7, 7, 1, 3, 2, 3, 1, 4, 2, 0, 0, 7, 8, 4, 6, 4, 9, 3, 8, 4, 7, 2, 5, 6, 3, 6, 9, 6, 3, 2, 2, 4, 6, 9, 0, 2, 5, 5, 1, 3, 3, 9, 7, 8, 7, 2, 2, 5, 7, 9, 8, 2, 1, 3, 1, 3, 0, 1, 2, 3, 4, 5, 6, 7, 8, 9, 0, 1, 2, 3, 4, 5, 6, 7, 8, 9, 0, 1, 2, 3, 4, 5, 6, 7, 8, 9, 1, 2, 6, 5, 3, 0, 7, 0, 4, 1, 4, 3, 6, 7, 2, 3, 1, 2, 1, 2, 9, 6, 0, 1, 3, 0, 2, 7, 5, 7, 6, 2, 9, 1, 9, 0, 6, 0, 6, 0, 2, 0, 6, 1, 5, 8, 4, 3, 0, 1, 5, 4, 4, 8, 5, 7, 5, 7, 8, 3, 4, 8, 8, 5, 2, 9, 7, 1, 3, 8, 1, 0, 7, 5, 9, 6, 9, 4, 7, 7, 9, 9, 3, 4, 4, 3, 8, 6, 2, 0, 1, 2, 3, 4, 5, 6, 7, 8, 9, 0, 1, 2, 3, 4, 5, 6, 7, 8, 9, 0, 1, 2, 3, 4, 5, 6, 7, 8, 9, 0, 8, 3, 9, 5, 5, 2, 6, 8, 4, 9, 1, 7, 1, 2, 3, 5, 9, 6, 9, 1, 1, 1, 2, 9, 5, 6, 8, 1, 2, 0, 7, 7, 5, 8, 2, 9, 8, 9, 0, 4, 6, 7, 1, 3, 4, 5, 6, 0, 3, 6, 8, 7, 0, 4, 2, 7, 4, 7, 5, 4, 3, 4, 2, 8, 1, 5, 1, 2, 0, 2, 5, 6, 4, 3, 0, 0, 0, 3, 3, 5, 7, 0, 6, 4, 8, 8, 6, 3, 4, 6, 9, 9, 8, 2, 7, 7, 1, 0, 1, 2, 3, 4, 5, 6, 7, 8, 9, 0, 1, 2, 3, 4, 5, 6, 7, 8, 0, 1, 2, 3, 4, 5, 6, 7, 8, 2, 1, 7, 2, 5, 0, 8, 0, 2, 7, 8, 8, 3, 6, 0, 2, 7, 6, 6, 1, 2, 8, 8, 7, 7, 4, 7, 7, 3, 7, 4, 5, 4, 3, 3, 8, 4, 1, 1, 9, 7, 4, 3, 7, 3, 3, 0, 2, 5, 5, 6, 6, 3, 5, 2, 5, 9, 9, 8, 4, 1, 0, 6, 0, 9, 6, 8, 8, 5, 6, 1, 1, 9, 8, 9, 2, 3, 5, 5, 9, 4, 2, 1, 9, 3, 9, 2, 0, 6, 0, 4, 0, 0, 1, 2, 3, 4, 7, 8, 9, 0, 1, 2, 3, 7, 8, 9, 0, 1, 2, 3, 4, 7, 8, 9, 7, 3, 0, 3, 1, 8, 7, 6, 4, 0, 2, 6, 8, 3, 2, 8, 1, 2, 0, 7, 1, 0, 4, 4, 5, 8, 0, 6, 2, 3, 1, 5, 1, 8, 5, 9, 4, 0, 7, 5, 8, 8, 3, 8, 9, 2, 6, 2, 5, 3, 1, 7, 3, 9, 1, 9, 9, 6, 0, 3, 9, 2, 8, 1, 4, 3, 5, 2, 9, 2, 5, 8, 9, 5, 0, 1, 2, 4, 5, 6, 0, 1, 2, 3, 4, 5, 6, 7, 1, 2, 3, 4, 5, 1, 0, 4, 5, 6, 6, 3, 4, 4, 2, 8, 1, 0, 6, 4, 9, 7, 2, 3, 3, 9, 2, 0, 9, 3, 3, 9, 1, 5, 2, 3, 1, 7, 8, 4, 0, 2, 4, 0, 2, 4, 7, 8, 0, 7, 0, 6, 9, 3, 2, 8, 6, 7, 5, 7, 5, 1, 0, 8, 1, 6, 7, 2, 9, 7, 9, 5, 8, 6, 2, 6, 2, 8, 1, 7, 5, 0, 1, 1, 3, 8, 4, 9, 1, 8, 6, 8, 9, 0, 1, 2, 3, 4, 5, 6, 7, 8, 9, 0, 1, 2, 3, 4, 7, 8, 9, 8, 1, 7, 8, 9, 9, 8, 9, 8, 4, 1, 7, 7, 3, 3, 7, 6, 6, 6, 1, 9, 0, 1, 7, 6, 3, 2, 1, 7, 1, 3, 9, 1, 7, 6, 8, 4, 1, 4, 3, 6, 9, 6, 1, 4, 4, 7, 2, 4, 4, 0, 1, 2, 3, 4, 5, 6, 7, 8, 9, 0, 1, 2, 3, 4, 5, 6, 9, 0, 1, 2, 3, 4, 7, 8, 1, 3, 5, 1, 7, 7, 2, 1, 4, 8, 3, 4, 4, 3, 9, 7, 4, 1, 2, 3, 5, 9, 1, 6, 0, 1, 0, 0, 2, 8, 7, 1, 1, 4, 0, 4, 7, 3, 6, 8, 0, 3, 7, 4, 0, 6, 9, 2, 6, 5, 8, 6, 9, 0, 4, 0, 6, 1, 9, 2, 0, 9, 5, 1, 3, 7, 6, 9, 3, 0, 2, 2, 0, 1, 2, 3, 4, 5, 6, 7, 8, 9, 0, 1, 2, 3, 4, 5, 6, 7, 8, 9, 0, 1, 2, 3, 4, 5, 6, 7, 8, 9, 2, 1, 7, 2, 5, 0, 8, 0, 2, 7, 8, 8, 3, 0, 6, 0, 2, 7, 6, 6, 1, 2, 8, 8, 7, 7, 4, 7, 7, 3, 7, 4, 5, 4, 3, 3, 8, 4, 5, 4, 1, 1, 9, 7, 4, 3, 7, 3, 3, 0, 2, 5, 5, 6, 3, 1, 5, 2, 5, 9, 9, 8, 4, 1, 0, 6, 0, 9, 6, 8, 8, 5, 6, 1, 1, 9, 8, 9, 2, 3, 5, 5, 9, 4, 2, 1, 9, 4, 9, 1, 3, 9, 2, 0, 6, 0, 4, 0, 6, 0, 1, 2, 3, 4, 5, 6, 7, 8, 9, 0, 1, 2, 3, 4, 5, 6, 7, 8, 9, 0, 1, 2, 3, 4, 5, 6, 7, 8, 9, 3, 8, 0, 7, 1, 0, 7, 5, 5, 6, 9, 0, 1, 0, 0, 8, 3, 4, 3, 1, 5, 0, 0, 9, 5, 3, 4, 9, 3, 7, 6, 9, 2, 4, 5, 7, 2, 6, 4, 9, 4, 9, 4, 1, 2, 2, 5, 8, 1, 3, 2, 9, 4, 3, 8, 2, 2, 1, 2, 8, 6, 5, 1, 6, 7, 2, 1, 3, 9, 3, 8, 7, 5, 7, 0, 7, 4, 8, 8, 5, 0, 6, 6, 3, 7, 6, 9, 9, 4, 8, 4, 1, 0, 6, 6, 0, 1, 2, 3, 4, 5, 6, 7, 8, 9, 0, 1, 2, 3, 4, 5, 6, 7, 8, 9, 0, 1, 2, 3, 4, 5, 6, 7, 8, 9, 7, 4, 0, 4, 0, 1, 7, 9, 5, 1, 4, 2, 8, 9, 4, 3, 7, 8, 2, 4, 4, 3, 3, 6, 9, 9, 5, 8, 6, 7, 0, 6, 8, 2, 6, 3, 9, 3, 2, 8, 6, 1, 7, 4, 8, 8, 9, 0, 3, 3, 9, 0, 5, 2, 9, 4, 1, 0, 3, 7, 5, 8, 7, 7, 8, 2, 9, 7, 1, 2, 6, 4, 2, 5, 2, 3, 6, 6, 5, 0, 0, 2, 8, 1, 6, 1, 0, 4, 3, 1, 6, 1, 9, 0, 1, 4, 5, 6, 7, 8, 9, 1, 2, 3, 4, 5, 6, 7, 0, 1, 2, 3, 4, 5, 6, 7, 8, 9, 8, 4, 0, 0, 7, 2, 4, 3, 8, 6, 6, 3, 2, 6, 3, 3, 0, 1, 4, 7, 8, 0, 3, 1, 9, 0, 1, 9, 1, 2, 7, 0, 1, 3, 8, 2, 9, 2, 7, 6, 5, 5, 9, 9, 8, 2, 9, 1, 3, 2, 3, 4, 3, 1, 9, 0, 9, 3, 6, 8, 7, 0, 1, 0, 5, 8, 2, 7, 7, 0, 1, 2, 3, 4, 5, 6, 7, 8, 9, 0, 1, 2, 3, 4, 5, 6, 7, 8, 9, 0, 1, 2, 3, 4, 5, 6, 7, 8, 9, 1, 7, 4, 8, 1, 5, 6, 5, 7, 2, 8, 6, 3, 3, 8, 6, 5, 4, 0, 9, 1, 7, 2, 9, 1, 5, 1, 3, 2, 2, 3, 0, 6, 4, 3, 7, 6, 9, 0, 4, 8, 1, 4, 0, 6, 1, 2, 6, 9, 2, 2, 3, 5, 5, 1, 0, 7, 7, 9, 6, 2, 9, 4, 7, 0, 2, 3, 4, 0, 0, 8, 8, 8, 5, 1, 3, 7, 4, 9, 8, 8, 9, 0, 9, 8, 9, 0, 2, 6, 5, 6, 7, 4, 7, 5, 4, 1, 3, 5, 3, 1, 2, 3, 4, 5, 6, 1, 2, 3, 4, 6, 0, 1, 2, 4, 5, 6, 7, 8, 1, 7, 2, 4, 1, 4, 1, 4, 9, 6, 8, 4, 5, 3, 7, 8, 4, 3, 3, 5, 6, 7, 0, 6, 1, 6, 8, 7, 0, 1, 5, 0, 8, 5, 0, 1, 5, 8, 4, 2, 3, 9, 7, 6, 9, 1, 9, 0, 6, 7, 1, 2, 3, 9, 2, 4, 5, 5, 3, 7, 5, 3, 1, 8, 2, 2, 3, 0, 2, 9, 4, 9, 7, 0, 2, 7, 4, 9, 9, 2, 5, 9, 8, 3, 8, 6, 7, 0, 0, 1, 2, 3, 4, 5, 6, 7, 8, 9, 0, 1, 2, 3, 4, 5, 6, 7, 8, 9, 0, 1, 2, 3, 4, 5, 6, 7, 8, 9, 0, 0, 7, 2, 6, 5, 5, 3, 7, 8, 6, 6, 6, 6, 4, 3, 8, 8, 3, 0, 1, 9, 0, 5, 4, 1, 9, 1, 2, 7, 0, 1, 3, 8, 2, 9, 2, 7, 4, 2, 6, 5, 5, 9, 9, 1, 1, 5, 7, 6, 8, 2, 9, 4, 3, 1, 9, 0, 9, 3, 6, 8, 7, 0, 1, 0, 5, 8, 2, 7, 7, 0, 1, 2, 3, 4, 5, 6, 7, 8, 9, 0, 1, 2, 3, 4, 5, 8, 9, 0, 1, 2, 3, 4, 5, 6, 7, 8, 9, 2, 1, 2, 1, 3, 9, 9, 8, 5, 3, 7, 0, 7, 7, 5, 7, 9, 9, 4, 7, 0, 3, 4, 1, 5, 8, 1, 4, 8, 4, 1, 8, 6, 6, 4, 6, 0, 5, 5, 3, 3, 5, 7, 2, 5, 9, 6, 9, 2, 6, 2, 1, 2, 0, 8, 3, 8, 3, 0, 8, 7, 4, 9, 5, 0, 9, 7, 0, 0, 4, 6, 0, 9, 1, 6, 2, 7, 6, 8, 3, 5, 2, 1, 8, 3, 8, 6, 1, 0, 2, 1, 4, 0, 1, 2, 3, 4, 5, 6, 7, 8, 9, 0, 1, 2, 3, 4, 5, 6, 7, 8, 9, 0, 1, 2, 3, 4, 5, 6, 7, 8, 9, 7, 6, 4, 7, 6, 2, 3, 4, 8, 7, 8, 6, 9, 8, 3, 2, 2, 8, 4, 8, 5, 6, 5, 0, 2, 0, 1, 1, 2, 9, 6, 8, 2, 1, 0, 6, 5, 2, 9, 7, 5, 3, 9, 3, 7, 1, 8, 3, 8, 1, 9, 5, 5, 0, 1, 1, 9, 8, 2, 6, 0, 4, 5, 0, 3, 1, 8, 6, 7, 5, 9, 9, 3, 0, 3, 1, 4, 4, 0, 4, 9, 0, 1, 2, 3, 5, 6, 7, 8, 0, 1, 2, 3, 5, 6, 7, 8, 9, 0, 1, 2, 3, 5, 6, 7, 8, 9, 9, 7, 0, 9, 0, 1, 5, 8, 8, 0, 9, 3, 2, 7, 8, 4, 6, 1, 0, 4, 9, 4, 2, 0, 5, 0, 1, 6, 9, 3, 2, 9, 1, 6, 0, 1, 1, 8, 7, 7, 6, 3, 6, 0, 7, 2, 4, 1, 7, 0, 6, 8, 1, 2, 5, 8, 1, 8, 2, 8, 7, 6, 8, 7, 1, 6, 2, 9, 3, 0, 1, 2, 3, 4, 5, 6, 7, 8, 9, 0, 1, 2, 3, 4, 5, 6, 7, 8, 9, 0, 1, 2, 3, 4, 5, 6, 7, 8, 9, 8, 9, 5, 7, 0, 3, 1, 6, 8, 4, 1, 5, 6, 4, 2, 7, 8, 1, 3, 4, 3, 4, 7, 2, 0, 5, 0, 1, 9, 2, 3, 2, 3, 5, 5, 7, 8, 4, 9, 9, 7, 1, 1, 9, 0, 7, 8, 3, 4, 8, 6, 3, 8, 0, 9, 6, 2, 1, 0, 1, 0, 6, 2, 3, 8, 9, 0, 7, 2, 3, 4, 5, 5, 2, 8, 5, 4, 6, 6, 6, 7, 9, 1, 8, 2, 1, 5, 3, 4, 7, 9, 4, 0, 0, 0, 1, 2, 3, 4, 5, 6, 7, 8, 9, 0, 1, 2, 3, 4, 5, 6, 7, 8, 9, 0, 1, 2, 3, 4, 5, 6, 9, 0, 1, 3, 1, 5, 1, 2, 4, 9, 8, 4, 6, 8, 0, 1, 1, 9, 2, 6, 6, 8, 7, 4, 2, 9, 7, 0, 2, 1, 0, 3, 6, 0, 1, 2, 3, 4, 5, 6, 7, 8, 9, 0, 1, 2, 3, 4, 5, 6, 7, 8, 9, 0, 1, 2, 3, 4, 5, 6, 7, 8, 9, 8, 6, 5, 9, 7, 0, 2, 3, 4, 3, 8, 5, 1, 5, 2, 3, 0, 1, 2, 1, 3, 2, 6, 5, 3, 0, 7, 2, 7, 4, 6, 4, 0, 5, 9, 9, 8, 9, 5, 3, 1, 7, 4, 7, 6, 5, 4, 0, 0, 6, 6, 2, 0, 6, 3, 7, 7, 4, 4, 3, 9, 2, 8, 9, 6, 0, 9, 5, 3, 8, 8, 7, 1, 4, 0, 4, 8, 5, 2, 3, 9, 0, 1, 9, 1, 5, 1, 7, 4, 8, 6, 2, 1, 6, 8, 8, 0, 1, 2, 3, 4, 7, 8, 9, 0, 1, 2, 3, 4, 6, 7, 8, 9, 0, 1, 2, 3, 4, 7, 8, 9, 1, 4, 5, 3, 3, 0, 9, 5, 4, 3, 0, 8, 4, 6, 7, 0, 7, 7, 1, 6, 9, 1, 3, 6, 2, 3, 8, 2, 3, 8, 9, 5, 8, 8, 7, 1, 7, 1, 1, 0, 3, 4, 2, 6, 4, 7, 4, 2, 7, 4, 2, 9, 2, 7, 9, 2, 1, 0, 6, 5, 3, 4, 8, 5, 9, 6, 9, 0, 6, 3, 0, 8, 1, 6, 0, 0, 1, 2, 3, 4, 5, 6, 7, 0, 1, 2, 3, 4, 7, 8, 9, 0, 1, 2, 3, 4, 7, 2, 5, 1, 6, 4, 3, 9, 9, 0, 9, 7, 1, 6, 4, 3, 6, 2, 0, 9, 8, 6, 5, 7, 0, 0, 1, 7, 4, 3, 2, 4, 1, 3, 7, 6, 4, 7, 7, 7, 9, 8, 4, 3, 8, 2, 8, 3, 5, 8, 0, 5, 4, 7, 1, 3, 1, 7, 9, 6, 2, 0, 9, 1, 7, 3, 3, 9, 1, 6, 4, 3, 9, 8, 2, 1, 8, 6, 4, 1, 5, 5, 6, 5, 0, 1, 2, 3, 4, 5, 6, 7, 8, 9, 0, 1, 2, 3, 4, 5, 6, 7, 8, 9, 0, 1, 2, 3, 4, 5, 6, 7, 8, 9, 6, 9, 7, 0, 2, 3, 4, 3, 8, 5, 1, 3, 0, 1, 2, 1, 3, 2, 0, 7, 2, 6, 4, 0, 5, 9, 9, 8, 9, 5, 3, 1, 7, 4, 7, 0, 0, 6, 6, 6, 3, 7, 4, 2, 8, 9, 8, 7, 1, 4, 0, 4, 8, 5, 2, 3, 9, 0, 1, 9, 1, 5, 1, 7, 6, 1, 2, 1, 6, 8, 0, 1, 2, 3, 4, 5, 6, 7, 8, 9, 0, 1, 2, 3, 4, 5, 6, 7, 8, 0, 1, 2, 3, 5, 6, 7, 8, 1, 0, 4, 5, 6, 6, 3, 4, 4, 2, 8, 1, 0, 6, 4, 9, 7, 2, 9, 2, 0, 9, 3, 3, 9, 1, 5, 2, 3, 1, 6, 7, 3, 7, 8, 4, 0, 2, 4, 0, 2, 4, 7, 8, 0, 7, 0, 6, 9, 3, 2, 4, 8, 6, 0, 5, 7, 5, 1, 0, 8, 1, 6, 7, 2, 9, 7, 9, 5, 6, 5, 2, 6, 2, 8, 1, 7, 5, 5, 7, 3, 5, 0, 1, 1, 3, 8, 4, 9, 4, 5, 1, 8, 6, 8, 9, 0, 1, 2, 3, 4, 5, 6, 7, 8, 9, 0, 1, 2, 3, 4, 5, 6, 7, 8, 9, 0, 1, 2, 3, 4, 5, 6, 7, 8, 9, 3, 5, 3, 2, 9, 3, 2, 1, 4, 5, 5, 2, 3, 2, 1, 3, 9, 7, 2, 1, 2, 8, 9, 1, 8, 8, 7, 8, 1, 0, 0, 6, 7, 7, 8, 7, 5, 0, 6, 1, 5, 7, 4, 6, 1, 2, 5, 0, 7, 9, 9, 0, 3, 4, 4, 8, 4, 1, 8, 6, 5, 9, 0, 0, 0, 3, 7, 1, 6, 4, 6, 0, 4, 5, 4, 1, 3, 8, 6, 3, 9, 9, 5, 9, 3, 7, 8, 5, 6, 4, 7, 6, 2, 2, 0, 9, 4, 0, 1, 2, 3, 4, 5, 6, 7, 8, 9, 0, 1, 2, 3, 4, 5, 6, 7, 8, 9, 0, 1, 2, 3, 4, 5, 6, 7, 8, 9, 6, 4, 2, 6, 4, 7, 5, 5, 4, 7, 2, 9, 3, 9, 3, 8, 2, 0, 9, 5, 6, 0, 1, 0, 6, 5, 3, 5, 3, 8, 0, 0, 3, 4, 1, 5, 3, 0, 8, 3, 0, 6, 2, 7, 8, 1, 7, 1, 3, 8, 5, 4, 2, 0, 9, 7, 6, 7, 4, 1, 6, 2, 6, 7, 1, 9, 8, 0, 6, 9, 4, 9, 9, 6, 2, 3, 7, 1, 9, 2, 2, 5, 3, 7, 8, 0, 1, 2, 3, 4, 7, 8, 9, 0, 1, 2, 3, 4, 7, 8, 9, 0, 1, 7, 8, 9, 8, 9, 2, 6, 1, 3, 5, 4, 8, 2, 6, 4, 3, 4, 5, 9, 2, 0, 3, 9, 4, 9, 7, 3, 8, 7, 4, 4, 9, 8, 5, 8, 2, 6, 6, 2, 3, 1, 3, 2, 7, 3, 1, 9, 0, 1, 1, 3, 5, 0, 7, 8, 1, 5, 1, 4, 6, 0, 0, 4, 9, 1, 6, 6, 9, 0, 7, 6, 1, 1, 0, 1, 2, 3, 4, 2, 2, 3, 4, 5, 6, 2, 0, 1, 2, 2, 8, 6, 3, 9, 2, 1, 9, 3, 9, 6, 1, 7, 2, 4, 4, 5, 7, 0, 0, 1, 6, 6, 8, 2, 7, 7, 2, 4, 2, 1, 6, 1, 0, 6, 9, 8, 3, 9, 6, 3, 0, 1, 2, 3, 4, 5, 6, 7, 8, 9, 0, 1, 2, 3, 4, 5, 6, 7, 8, 9, 0, 1, 2, 3, 4, 5, 6, 7, 8, 9, 1, 6, 8, 9, 9, 0, 1, 2, 4, 4, 3, 7, 4, 4, 4, 0, 3, 8, 7, 5, 8, 2, 1, 7, 5, 3, 8, 5, 2, 5, 1, 1, 6, 2, 1, 3, 8, 6, 4, 2, 6, 2, 5, 5, 0, 2, 8, 0, 6, 8, 1, 7, 9, 1, 9, 2, 6, 7, 6, 6, 8, 7, 4, 9, 2, 1, 3, 3, 0, 5, 5, 8, 0, 3, 7, 9, 7, 0, 2, 7, 9, 1, 7, 8, 0, 3, 5, 3, 6, 0, 1, 2, 3, 4, 5, 6, 7, 8, 9, 0, 1, 2, 3, 4, 5, 6, 7, 8, 9, 0, 1, 2, 3, 4, 7, 8, 9, 6, 4, 2, 6, 4, 7, 8, 9, 2, 9, 3, 9, 3, 0, 0, 1, 0, 4, 2, 6, 3, 5, 3, 0, 3, 4, 1, 5, 3, 0, 8, 3, 0, 6, 1, 7, 8, 0, 9, 2, 6, 7, 1, 9, 6, 9, 4, 9, 9, 6, 7, 1, 2, 5, 3, 7, 8, 0, 1, 2, 4, 5, 6, 7, 8, 9, 0, 1, 3, 4, 5, 6, 7, 8, 0, 1, 3, 4, 7, 8, 9, 7, 5, 5, 1, 9, 9, 7, 1, 0, 0, 5, 9, 7, 1, 7, 2, 2, 3, 6, 8, 3, 2, 0, 0, 6, 1, 7, 5, 8, 6, 2, 9, 4, 8, 8, 7, 1, 0, 8, 7, 7, 5, 8, 5, 3, 4, 6, 1, 1, 5, 5, 0, 7, 2, 3, 6, 4, 1, 2, 4, 1, 5, 4, 2, 0, 4, 8, 6, 1, 9, 0, 2, 5, 6, 9, 3, 6, 3, 6, 0, 1, 2, 3, 4, 5, 6, 7, 8, 9, 0, 1, 2, 3, 4, 5, 6, 7, 8, 9, 0, 1, 2, 3, 5, 6, 7, 8, 1, 0, 9, 5, 7, 5, 1, 8, 6, 9, 0, 4, 1, 9, 3, 8, 4, 4, 7, 0, 1, 9, 2, 8, 7, 8, 2, 5, 9, 6, 0, 6, 5, 5, 3, 3, 3, 9, 8, 1, 1, 0, 6, 1, 0, 0, 6, 2, 1, 1, 3, 2, 7, 7, 8, 8, 7, 8, 4, 6, 0, 2, 0, 7, 0, 3, 6, 8, 7, 1, 5, 9, 9, 3, 7, 2, 4, 9, 4, 3, 6, 2, 2, 5, 3, 2, 5, 5, 9, 4, 1, 7, 2, 0, 1, 2, 3, 4, 5, 6, 7, 8, 9, 0, 1, 2, 3, 4, 5, 6, 7, 8, 9, 0, 1, 2, 3, 4, 5, 6, 7, 8, 9, 1, 0, 1, 2, 7, 5, 3, 4, 4, 0, 0, 6, 8, 6, 6, 5, 7, 2, 3, 4, 4, 9, 1, 4, 0, 7, 9, 5, 7, 2, 3, 1, 4, 4, 0, 9, 9, 6, 1, 8, 3, 3, 7, 3, 9, 8, 8, 4, 7, 7, 6, 2, 1, 9, 8, 7, 8, 8, 7, 2, 2, 3, 9, 3, 3, 5, 5, 0, 7, 4, 5, 6, 5, 1, 4, 1, 1, 2, 8, 2, 6, 1, 5, 0, 1, 2, 3, 4, 5, 6, 7, 8, 9, 0, 1, 2, 3, 4, 5, 6, 7, 8, 9, 0, 1, 2, 3, 4, 5, 6, 7, 8, 8, 0, 6, 0, 0, 2, 3, 7, 9, 4, 7, 1, 9, 1, 7, 1, 4, 0, 0, 1, 7, 5, 7, 1, 3, 3, 3, 1, 6, 9, 7, 1, 3, 0, 2, 6, 0, 8, 9, 4, 3, 5, 4, 8, 1, 5, 9, 0, 6, 3, 3, 8, 1, 4, 7, 5, 2, 0, 0, 1, 7, 8, 9, 6, 8, 8, 2, 3, 6, 1, 2, 9, 5, 2, 0, 1, 2, 3, 4, 5, 6, 7, 8, 9, 0, 1, 2, 3, 4, 5, 6, 7, 8, 9, 0, 1, 2, 3, 4, 6, 6, 7, 8, 9, 7, 4, 6, 1, 4, 0, 9, 9, 3, 7, 8, 4, 7, 5, 8, 5, 3, 2, 2, 0, 5, 8, 6, 0, 3, 8, 1, 0, 3, 0, 4, 7, 4, 9, 2, 9, 0, 7, 1, 7, 1, 6, 6, 5, 6, 2, 8, 7, 6, 4, 9, 9, 5, 3, 7, 4, 3, 0, 4, 6, 6, 1, 1, 3, 2, 1, 0, 0, 1, 2, 3, 4, 7, 8, 9, 0, 1, 2, 3, 4, 5, 6, 7, 8, 0, 1, 2, 3, 4, 7, 8, 9, 0, 8, 3, 9, 5, 5, 2, 6, 8, 4, 1, 7, 1, 2, 3, 5, 6, 9, 1, 1, 1, 2, 1, 2, 0, 7, 7, 5, 8, 2, 9, 8, 6, 7, 3, 4, 6, 8, 7, 0, 4, 2, 7, 7, 5, 4, 3, 4, 2, 8, 1, 5, 1, 2, 2, 3, 3, 5, 7, 0, 6, 8, 6, 3, 9, 9, 8, 2, 7, 7, 1, 0, 1, 7, 8, 9, 0, 1, 2, 3, 4, 5, 6, 7, 8, 0, 1, 2, 3, 4, 7, 8, 9, 7, 8, 6, 4, 1, 9, 3, 8, 4, 4, 7, 0, 1, 9, 2, 8, 7, 8, 2, 6, 0, 6, 5, 3, 3, 3, 9, 1, 4, 0, 6, 1, 0, 0, 6, 2, 1, 1, 7, 7, 8, 4, 6, 0, 7, 0, 3, 6, 8, 7, 1, 5, 2, 4, 9, 4, 3, 6, 4, 1, 7, 2, 6, 5, 0, 1, 2, 3, 4, 5, 6, 7, 8, 9, 0, 1, 2, 3, 4, 5, 6]\\n\"","     ]","    }","   ],","   \"source\": [","    \"# converting the prediction probabilities to class label for all test data points\\n\",","    \"Y_pred_labels = [np.argmax(i) for i in Y_pred]\\n\",","    \"print(Y_pred_labels)\"","   ]","  },","  {","   \"cell_type\": \"markdown\",","   \"id\": \"9561c0cb\",","   \"metadata\": {},","   \"source\": [","    \"Y_test  --\u003e  True labels\\n\",","    \"\\n\",","    \"Y_pred_labels  --\u003e  Predicted Labels\"","   ]","  },","  {","   \"cell_type\": \"markdown\",","   \"id\": \"45b88e09\",","   \"metadata\": {},","   \"source\": [","    \"**Confusin Matrix**\"","   ]","  },","  {","   \"cell_type\": \"code\",","   \"execution_count\": 35,","   \"id\": \"40c84457\",","   \"metadata\": {},","   \"outputs\": [],","   \"source\": [","    \"conf_mat = confusion_matrix(Y_test, Y_pred_labels)\"","   ]","  },","  {","   \"cell_type\": \"code\",","   \"execution_count\": 36,","   \"id\": \"65e2ee9a\",","   \"metadata\": {},","   \"outputs\": [","    {","     \"name\": \"stdout\",","     \"output_type\": \"stream\",","     \"text\": [","      \"tf.Tensor(\\n\",","      \"[[ 977    0    1    0    0    0    0    1    1    0]\\n\",","      \" [   0 1131    2    1    0    0    1    0    0    0]\\n\",","      \" [   1    0 1027    0    0    0    0    3    1    0]\\n\",","      \" [   0    0    1 1003    0    4    0    0    2    0]\\n\",","      \" [   0    0    0    0  976    0    3    0    0    3]\\n\",","      \" [   1    0    0    5    0  883    2    0    1    0]\\n\",","      \" [   6    2    0    1    1    2  945    0    1    0]\\n\",","      \" [   0    2   12    0    0    0    0 1010    2    2]\\n\",","      \" [   3    0    1    0    0    0    0    1  968    1]\\n\",","      \" [   1    1    0    0    7    3    0    0    4  993]], shape=(10, 10), dtype=int32)\\n\"","     ]","    }","   ],","   \"source\": [","    \"print(conf_mat)\"","   ]","  },","  {","   \"cell_type\": \"code\",","   \"execution_count\": 39,","   \"id\": \"037a9d20\",","   \"metadata\": {},","   \"outputs\": [","    {","     \"data\": {","      \"text/plain\": [","       \"Text(0.5, 42.0, 'Predicted Labels')\"","      ]","     },","     \"execution_count\": 39,","     \"metadata\": {},","     \"output_type\": \"execute_result\"","    },","    {","     \"data\": {","      \"image/png\": \"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\\n\",","      \"text/plain\": [","       \"\u003cFigure size 1080x504 with 2 Axes\u003e\"","      ]","     },","     \"metadata\": {","      \"needs_background\": \"light\"","     },","     \"output_type\": \"display_data\"","    }","   ],","   \"source\": [","    \"plt.figure(figsize=(15,7))\\n\",","    \"sns.heatmap(conf_mat, annot=True, fmt='d', cmap='Blues')\\n\",","    \"plt.ylabel('True Labels')\\n\",","    \"plt.xlabel('Predicted Labels')\"","   ]","  },","  {","   \"cell_type\": \"markdown\",","   \"id\": \"3fd3137e\",","   \"metadata\": {},","   \"source\": [","    \"Building a Predictive System\"","   ]","  },","  {","   \"cell_type\": \"code\",","   \"execution_count\": 145,","   \"id\": \"dc37e29c\",","   \"metadata\": {},","   \"outputs\": [],","   \"source\": [","    \"input_image_path = 'images/three.png'\\n\",","    \"\\n\",","    \"input_image = cv2.imread(input_image_path)\"","   ]","  },","  {","   \"cell_type\": \"code\",","   \"execution_count\": 146,","   \"id\": \"dea02d46\",","   \"metadata\": {},","   \"outputs\": [","    {","     \"data\": {","      \"text/plain\": [","       \"\u003cmatplotlib.image.AxesImage at 0x20fbf2dadf0\u003e\"","      ]","     },","     \"execution_count\": 146,","     \"metadata\": {},","     \"output_type\": \"execute_result\"","    },","    {","     \"data\": {","      \"image/png\": \"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\\n\",","      \"text/plain\": [","       \"\u003cFigure size 432x288 with 1 Axes\u003e\"","      ]","     },","     \"metadata\": {","      \"needs_background\": \"light\"","     },","     \"output_type\": \"display_data\"","    }","   ],","   \"source\": [","    \"plt.imshow(input_image)\"","   ]","  },","  {","   \"cell_type\": \"code\",","   \"execution_count\": 147,","   \"id\": \"e44b0440\",","   \"metadata\": {},","   \"outputs\": [","    {","     \"data\": {","      \"text/plain\": [","       \"(1788, 1636, 3)\"","      ]","     },","     \"execution_count\": 147,","     \"metadata\": {},","     \"output_type\": \"execute_result\"","    }","   ],","   \"source\": [","    \"input_image.shape\"","   ]","  },","  {","   \"cell_type\": \"code\",","   \"execution_count\": 148,","   \"id\": \"c6850dcb\",","   \"metadata\": {},","   \"outputs\": [],","   \"source\": [","    \"gray=cv2.cvtColor(input_image,cv2.COLOR_BGR2GRAY)\"","   ]","  },","  {","   \"cell_type\": \"code\",","   \"execution_count\": 149,","   \"id\": \"034cff59\",","   \"metadata\": {},","   \"outputs\": [","    {","     \"data\": {","      \"text/plain\": [","       \"(1788, 1636)\"","      ]","     },","     \"execution_count\": 149,","     \"metadata\": {},","     \"output_type\": \"execute_result\"","    }","   ],","   \"source\": [","    \"gray.shape\"","   ]","  },","  {","   \"cell_type\": \"code\",","   \"execution_count\": 150,","   \"id\": \"84b94abf\",","   \"metadata\": {},","   \"outputs\": [],","   \"source\": [","    \"resize=cv2.resize(gray,(28,28),interpolation=cv2.INTER_AREA)\"","   ]","  },","  {","   \"cell_type\": \"code\",","   \"execution_count\": 151,","   \"id\": \"03e3ea91\",","   \"metadata\": {},","   \"outputs\": [","    {","     \"data\": {","      \"text/plain\": [","       \"(28, 28)\"","      ]","     },","     \"execution_count\": 151,","     \"metadata\": {},","     \"output_type\": \"execute_result\"","    }","   ],","   \"source\": [","    \"resize.shape\"","   ]","  },","  {","   \"cell_type\": \"code\",","   \"execution_count\": 152,","   \"id\": \"c47b0026\",","   \"metadata\": {},","   \"outputs\": [],","   \"source\": [","    \"newimg=tf.keras.utils.normalize(resize,axis=1)\"","   ]","  },","  {","   \"cell_type\": \"code\",","   \"execution_count\": 153,","   \"id\": \"94c04657\",","   \"metadata\": {},","   \"outputs\": [],","   \"source\": [","    \"newimg=np.array(newimg).reshape(-1,28,28,1)\"","   ]","  },","  {","   \"cell_type\": \"code\",","   \"execution_count\": 154,","   \"id\": \"1ac23bf0\",","   \"metadata\": {},","   \"outputs\": [","    {","     \"data\": {","      \"text/plain\": [","       \"(1, 28, 28, 1)\"","      ]","     },","     \"execution_count\": 154,","     \"metadata\": {},","     \"output_type\": \"execute_result\"","    }","   ],","   \"source\": [","    \"newimg.shape\"","   ]","  },","  {","   \"cell_type\": \"code\",","   \"execution_count\": 155,","   \"id\": \"9e3416ba\",","   \"metadata\": {},","   \"outputs\": [","    {","     \"name\": \"stdout\",","     \"output_type\": \"stream\",","     \"text\": [","      \"1/1 [==============================] - 0s 77ms/step\\n\"","     ]","    }","   ],","   \"source\": [","    \"input_predictions=model.predict(newimg)\"","   ]","  },","  {","   \"cell_type\": \"code\",","   \"execution_count\": 156,","   \"id\": \"7df33dc2\",","   \"metadata\": {},","   \"outputs\": [","    {","     \"name\": \"stdout\",","     \"output_type\": \"stream\",","     \"text\": [","      \"3\\n\"","     ]","    }","   ],","   \"source\": [","    \"print(np.argmax(input_predictions))\"","   ]","  },","  {","   \"cell_type\": \"markdown\",","   \"id\": \"f8241dfb\",","   \"metadata\": {},","   \"source\": [","    \"**Video Demo**\"","   ]","  },","  {","   \"cell_type\": \"code\",","   \"execution_count\": 175,","   \"id\": \"61c38e23\",","   \"metadata\": {},","   \"outputs\": [","    {","     \"name\": \"stdout\",","     \"output_type\": \"stream\",","     \"text\": [","      \"1/1 [==============================] - 0s 63ms/step\\n\",","      \"4\\n\",","      \"\u003cclass 'numpy.int64'\u003e\\n\",","      \"1/1 [==============================] - 0s 20ms/step\\n\",","      \"4\\n\",","      \"\u003cclass 'numpy.int64'\u003e\\n\",","      \"1/1 [==============================] - 0s 22ms/step\\n\",","      \"4\\n\",","      \"\u003cclass 'numpy.int64'\u003e\\n\",","      \"1/1 [==============================] - 0s 20ms/step\\n\",","      \"4\\n\",","      \"\u003cclass 'numpy.int64'\u003e\\n\",","      \"1/1 [==============================] - 0s 19ms/step\\n\",","      \"4\\n\",","      \"\u003cclass 'numpy.int64'\u003e\\n\",","      \"1/1 [==============================] - 0s 21ms/step\\n\",","      \"4\\n\",","      \"\u003cclass 'numpy.int64'\u003e\\n\",","      \"1/1 [==============================] - 0s 22ms/step\\n\",","      \"4\\n\",","      \"\u003cclass 'numpy.int64'\u003e\\n\",","      \"1/1 [==============================] - 0s 21ms/step\\n\",","      \"4\\n\",","      \"\u003cclass 'numpy.int64'\u003e\\n\",","      \"1/1 [==============================] - 0s 19ms/step\\n\",","      \"4\\n\",","      \"\u003cclass 'numpy.int64'\u003e\\n\",","      \"1/1 [==============================] - 0s 19ms/step\\n\",","      \"4\\n\",","      \"\u003cclass 'numpy.int64'\u003e\\n\",","      \"1/1 [==============================] - 0s 19ms/step\\n\",","      \"4\\n\",","      \"\u003cclass 'numpy.int64'\u003e\\n\",","      \"1/1 [==============================] - 0s 19ms/step\\n\",","      \"4\\n\",","      \"\u003cclass 'numpy.int64'\u003e\\n\",","      \"1/1 [==============================] - 0s 21ms/step\\n\",","      \"4\\n\",","      \"\u003cclass 'numpy.int64'\u003e\\n\",","      \"1/1 [==============================] - 0s 23ms/step\\n\",","      \"4\\n\",","      \"\u003cclass 'numpy.int64'\u003e\\n\",","      \"1/1 [==============================] - 0s 19ms/step\\n\",","      \"4\\n\",","      \"\u003cclass 'numpy.int64'\u003e\\n\",","      \"1/1 [==============================] - 0s 21ms/step\\n\",","      \"4\\n\",","      \"\u003cclass 'numpy.int64'\u003e\\n\",","      \"1/1 [==============================] - 0s 20ms/step\\n\",","      \"4\\n\",","      \"\u003cclass 'numpy.int64'\u003e\\n\",","      \"1/1 [==============================] - 0s 20ms/step\\n\",","      \"4\\n\",","      \"\u003cclass 'numpy.int64'\u003e\\n\",","      \"1/1 [==============================] - 0s 20ms/step\\n\",","      \"4\\n\",","      \"\u003cclass 'numpy.int64'\u003e\\n\",","      \"1/1 [==============================] - 0s 20ms/step\\n\",","      \"4\\n\",","      \"\u003cclass 'numpy.int64'\u003e\\n\",","      \"1/1 [==============================] - 0s 20ms/step\\n\",","      \"4\\n\",","      \"\u003cclass 'numpy.int64'\u003e\\n\",","      \"1/1 [==============================] - 0s 20ms/step\\n\",","      \"4\\n\",","      \"\u003cclass 'numpy.int64'\u003e\\n\",","      \"1/1 [==============================] - 0s 19ms/step\\n\",","      \"4\\n\",","      \"\u003cclass 'numpy.int64'\u003e\\n\",","      \"1/1 [==============================] - 0s 24ms/step\\n\",","      \"4\\n\",","      \"\u003cclass 'numpy.int64'\u003e\\n\",","      \"1/1 [==============================] - 0s 21ms/step\\n\",","      \"4\\n\",","      \"\u003cclass 'numpy.int64'\u003e\\n\",","      \"1/1 [==============================] - 0s 18ms/step\\n\",","      \"4\\n\",","      \"\u003cclass 'numpy.int64'\u003e\\n\",","      \"1/1 [==============================] - 0s 19ms/step\\n\",","      \"4\\n\",","      \"\u003cclass 'numpy.int64'\u003e\\n\",","      \"1/1 [==============================] - 0s 20ms/step\\n\",","      \"4\\n\",","      \"\u003cclass 'numpy.int64'\u003e\\n\",","      \"1/1 [==============================] - 0s 19ms/step\\n\",","      \"4\\n\",","      \"\u003cclass 'numpy.int64'\u003e\\n\",","      \"1/1 [==============================] - 0s 22ms/step\\n\",","      \"4\\n\",","      \"\u003cclass 'numpy.int64'\u003e\\n\",","      \"1/1 [==============================] - 0s 20ms/step\\n\",","      \"4\\n\",","      \"\u003cclass 'numpy.int64'\u003e\\n\",","      \"1/1 [==============================] - 0s 21ms/step\\n\",","      \"4\\n\",","      \"\u003cclass 'numpy.int64'\u003e\\n\",","      \"1/1 [==============================] - 0s 20ms/step\\n\",","      \"4\\n\",","      \"\u003cclass 'numpy.int64'\u003e\\n\",","      \"1/1 [==============================] - 0s 19ms/step\\n\",","      \"4\\n\",","      \"\u003cclass 'numpy.int64'\u003e\\n\",","      \"1/1 [==============================] - 0s 21ms/step\\n\",","      \"4\\n\",","      \"\u003cclass 'numpy.int64'\u003e\\n\",","      \"1/1 [==============================] - 0s 21ms/step\\n\",","      \"4\\n\",","      \"\u003cclass 'numpy.int64'\u003e\\n\",","      \"1/1 [==============================] - 0s 20ms/step\\n\",","      \"4\\n\",","      \"\u003cclass 'numpy.int64'\u003e\\n\",","      \"1/1 [==============================] - 0s 22ms/step\\n\",","      \"4\\n\",","      \"\u003cclass 'numpy.int64'\u003e\\n\",","      \"1/1 [==============================] - 0s 21ms/step\\n\",","      \"4\\n\",","      \"\u003cclass 'numpy.int64'\u003e\\n\",","      \"1/1 [==============================] - 0s 21ms/step\\n\",","      \"4\\n\",","      \"\u003cclass 'numpy.int64'\u003e\\n\",","      \"1/1 [==============================] - 0s 23ms/step\\n\",","      \"4\\n\",","      \"\u003cclass 'numpy.int64'\u003e\\n\",","      \"1/1 [==============================] - 0s 24ms/step\\n\",","      \"4\\n\",","      \"\u003cclass 'numpy.int64'\u003e\\n\",","      \"1/1 [==============================] - 0s 23ms/step\\n\",","      \"4\\n\",","      \"\u003cclass 'numpy.int64'\u003e\\n\",","      \"1/1 [==============================] - 0s 25ms/step\\n\",","      \"4\\n\",","      \"\u003cclass 'numpy.int64'\u003e\\n\",","      \"1/1 [==============================] - 0s 24ms/step\\n\",","      \"4\\n\",","      \"\u003cclass 'numpy.int64'\u003e\\n\",","      \"1/1 [==============================] - 0s 26ms/step\\n\",","      \"4\\n\",","      \"\u003cclass 'numpy.int64'\u003e\\n\",","      \"1/1 [==============================] - 0s 24ms/step\\n\",","      \"4\\n\",","      \"\u003cclass 'numpy.int64'\u003e\\n\",","      \"1/1 [==============================] - 0s 25ms/step\\n\",","      \"4\\n\",","      \"\u003cclass 'numpy.int64'\u003e\\n\",","      \"1/1 [==============================] - 0s 23ms/step\\n\",","      \"4\\n\",","      \"\u003cclass 'numpy.int64'\u003e\\n\",","      \"1/1 [==============================] - 0s 24ms/step\\n\",","      \"4\\n\",","      \"\u003cclass 'numpy.int64'\u003e\\n\",","      \"1/1 [==============================] - 0s 25ms/step\\n\",","      \"4\\n\",","      \"\u003cclass 'numpy.int64'\u003e\\n\",","      \"1/1 [==============================] - 0s 29ms/step\\n\",","      \"4\\n\",","      \"\u003cclass 'numpy.int64'\u003e\\n\",","      \"1/1 [==============================] - 0s 24ms/step\\n\",","      \"4\\n\",","      \"\u003cclass 'numpy.int64'\u003e\\n\",","      \"1/1 [==============================] - 0s 27ms/step\\n\",","      \"4\\n\",","      \"\u003cclass 'numpy.int64'\u003e\\n\",","      \"1/1 [==============================] - 0s 29ms/step\\n\",","      \"4\\n\",","      \"\u003cclass 'numpy.int64'\u003e\\n\",","      \"1/1 [==============================] - 0s 22ms/step\\n\",","      \"4\\n\",","      \"\u003cclass 'numpy.int64'\u003e\\n\",","      \"1/1 [==============================] - 0s 27ms/step\\n\",","      \"4\\n\",","      \"\u003cclass 'numpy.int64'\u003e\\n\",","      \"1/1 [==============================] - 0s 20ms/step\\n\",","      \"4\\n\",","      \"\u003cclass 'numpy.int64'\u003e\\n\",","      \"1/1 [==============================] - 0s 19ms/step\\n\",","      \"4\\n\",","      \"\u003cclass 'numpy.int64'\u003e\\n\",","      \"1/1 [==============================] - 0s 20ms/step\\n\",","      \"4\\n\",","      \"\u003cclass 'numpy.int64'\u003e\\n\",","      \"1/1 [==============================] - 0s 19ms/step\\n\",","      \"4\\n\",","      \"\u003cclass 'numpy.int64'\u003e\\n\",","      \"1/1 [==============================] - 0s 19ms/step\\n\",","      \"4\\n\",","      \"\u003cclass 'numpy.int64'\u003e\\n\",","      \"1/1 [==============================] - 0s 20ms/step\\n\",","      \"4\\n\",","      \"\u003cclass 'numpy.int64'\u003e\\n\",","      \"1/1 [==============================] - 0s 20ms/step\\n\",","      \"4\\n\",","      \"\u003cclass 'numpy.int64'\u003e\\n\",","      \"1/1 [==============================] - 0s 22ms/step\\n\",","      \"4\\n\",","      \"\u003cclass 'numpy.int64'\u003e\\n\",","      \"1/1 [==============================] - 0s 22ms/step\\n\",","      \"4\\n\",","      \"\u003cclass 'numpy.int64'\u003e\\n\",","      \"1/1 [==============================] - 0s 21ms/step\\n\",","      \"4\\n\",","      \"\u003cclass 'numpy.int64'\u003e\\n\",","      \"1/1 [==============================] - 0s 20ms/step\\n\",","      \"4\\n\",","      \"\u003cclass 'numpy.int64'\u003e\\n\",","      \"1/1 [==============================] - 0s 20ms/step\\n\",","      \"4\\n\",","      \"\u003cclass 'numpy.int64'\u003e\\n\",","      \"1/1 [==============================] - 0s 22ms/step\\n\",","      \"4\\n\",","      \"\u003cclass 'numpy.int64'\u003e\\n\",","      \"1/1 [==============================] - 0s 20ms/step\\n\",","      \"4\\n\",","      \"\u003cclass 'numpy.int64'\u003e\\n\",","      \"1/1 [==============================] - 0s 19ms/step\\n\",","      \"4\\n\",","      \"\u003cclass 'numpy.int64'\u003e\\n\",","      \"1/1 [==============================] - 0s 20ms/step\\n\",","      \"4\\n\",","      \"\u003cclass 'numpy.int64'\u003e\\n\",","      \"1/1 [==============================] - 0s 20ms/step\\n\",","      \"4\\n\",","      \"\u003cclass 'numpy.int64'\u003e\\n\",","      \"1/1 [==============================] - 0s 19ms/step\\n\",","      \"4\\n\",","      \"\u003cclass 'numpy.int64'\u003e\\n\",","      \"1/1 [==============================] - 0s 20ms/step\\n\",","      \"4\\n\",","      \"\u003cclass 'numpy.int64'\u003e\\n\",","      \"1/1 [==============================] - 0s 20ms/step\\n\",","      \"4\\n\",","      \"\u003cclass 'numpy.int64'\u003e\\n\",","      \"1/1 [==============================] - 0s 21ms/step\\n\",","      \"4\\n\",","      \"\u003cclass 'numpy.int64'\u003e\\n\",","      \"1/1 [==============================] - 0s 21ms/step\\n\",","      \"4\\n\",","      \"\u003cclass 'numpy.int64'\u003e\\n\",","      \"1/1 [==============================] - 0s 21ms/step\\n\",","      \"4\\n\",","      \"\u003cclass 'numpy.int64'\u003e\\n\",","      \"1/1 [==============================] - 0s 19ms/step\\n\",","      \"4\\n\",","      \"\u003cclass 'numpy.int64'\u003e\\n\",","      \"1/1 [==============================] - 0s 19ms/step\\n\",","      \"4\\n\",","      \"\u003cclass 'numpy.int64'\u003e\\n\",","      \"1/1 [==============================] - 0s 29ms/step\\n\",","      \"4\\n\",","      \"\u003cclass 'numpy.int64'\u003e\\n\",","      \"1/1 [==============================] - 0s 21ms/step\\n\",","      \"4\\n\",","      \"\u003cclass 'numpy.int64'\u003e\\n\",","      \"1/1 [==============================] - 0s 20ms/step\\n\",","      \"4\\n\",","      \"\u003cclass 'numpy.int64'\u003e\\n\",","      \"1/1 [==============================] - 0s 20ms/step\\n\",","      \"4\\n\",","      \"\u003cclass 'numpy.int64'\u003e\\n\",","      \"1/1 [==============================] - 0s 20ms/step\\n\",","      \"4\\n\",","      \"\u003cclass 'numpy.int64'\u003e\\n\",","      \"1/1 [==============================] - 0s 20ms/step\\n\",","      \"4\\n\",","      \"\u003cclass 'numpy.int64'\u003e\\n\",","      \"1/1 [==============================] - 0s 21ms/step\\n\",","      \"4\\n\",","      \"\u003cclass 'numpy.int64'\u003e\\n\",","      \"1/1 [==============================] - 0s 19ms/step\\n\",","      \"4\\n\",","      \"\u003cclass 'numpy.int64'\u003e\\n\",","      \"1/1 [==============================] - 0s 21ms/step\\n\",","      \"4\\n\",","      \"\u003cclass 'numpy.int64'\u003e\\n\",","      \"1/1 [==============================] - 0s 20ms/step\\n\",","      \"4\\n\",","      \"\u003cclass 'numpy.int64'\u003e\\n\",","      \"1/1 [==============================] - 0s 21ms/step\\n\",","      \"4\\n\",","      \"\u003cclass 'numpy.int64'\u003e\\n\",","      \"1/1 [==============================] - 0s 21ms/step\\n\",","      \"4\\n\",","      \"\u003cclass 'numpy.int64'\u003e\\n\",","      \"1/1 [==============================] - 0s 21ms/step\\n\",","      \"4\\n\",","      \"\u003cclass 'numpy.int64'\u003e\\n\",","      \"1/1 [==============================] - 0s 21ms/step\\n\",","      \"4\\n\",","      \"\u003cclass 'numpy.int64'\u003e\\n\",","      \"1/1 [==============================] - 0s 21ms/step\\n\",","      \"4\\n\",","      \"\u003cclass 'numpy.int64'\u003e\\n\",","      \"1/1 [==============================] - 0s 19ms/step\\n\",","      \"4\\n\",","      \"\u003cclass 'numpy.int64'\u003e\\n\",","      \"1/1 [==============================] - 0s 20ms/step\\n\",","      \"4\\n\",","      \"\u003cclass 'numpy.int64'\u003e\\n\",","      \"1/1 [==============================] - 0s 21ms/step\\n\",","      \"4\\n\",","      \"\u003cclass 'numpy.int64'\u003e\\n\",","      \"1/1 [==============================] - 0s 20ms/step\\n\",","      \"4\\n\",","      \"\u003cclass 'numpy.int64'\u003e\\n\",","      \"1/1 [==============================] - 0s 20ms/step\\n\",","      \"4\\n\",","      \"\u003cclass 'numpy.int64'\u003e\\n\",","      \"1/1 [==============================] - 0s 28ms/step\\n\",","      \"4\\n\",","      \"\u003cclass 'numpy.int64'\u003e\\n\",","      \"1/1 [==============================] - 0s 19ms/step\\n\",","      \"4\\n\",","      \"\u003cclass 'numpy.int64'\u003e\\n\",","      \"1/1 [==============================] - 0s 19ms/step\\n\",","      \"4\\n\",","      \"\u003cclass 'numpy.int64'\u003e\\n\",","      \"1/1 [==============================] - 0s 19ms/step\\n\",","      \"4\\n\",","      \"\u003cclass 'numpy.int64'\u003e\\n\",","      \"1/1 [==============================] - 0s 20ms/step\\n\",","      \"4\\n\",","      \"\u003cclass 'numpy.int64'\u003e\\n\",","      \"1/1 [==============================] - 0s 19ms/step\\n\",","      \"4\\n\",","      \"\u003cclass 'numpy.int64'\u003e\\n\"","     ]","    },","    {","     \"name\": \"stdout\",","     \"output_type\": \"stream\",","     \"text\": [","      \"1/1 [==============================] - 0s 21ms/step\\n\",","      \"4\\n\",","      \"\u003cclass 'numpy.int64'\u003e\\n\",","      \"1/1 [==============================] - 0s 21ms/step\\n\",","      \"4\\n\",","      \"\u003cclass 'numpy.int64'\u003e\\n\",","      \"1/1 [==============================] - 0s 20ms/step\\n\",","      \"4\\n\",","      \"\u003cclass 'numpy.int64'\u003e\\n\",","      \"1/1 [==============================] - 0s 19ms/step\\n\",","      \"4\\n\",","      \"\u003cclass 'numpy.int64'\u003e\\n\",","      \"1/1 [==============================] - 0s 20ms/step\\n\",","      \"4\\n\",","      \"\u003cclass 'numpy.int64'\u003e\\n\",","      \"1/1 [==============================] - 0s 20ms/step\\n\",","      \"4\\n\",","      \"\u003cclass 'numpy.int64'\u003e\\n\",","      \"1/1 [==============================] - 0s 21ms/step\\n\",","      \"4\\n\",","      \"\u003cclass 'numpy.int64'\u003e\\n\",","      \"1/1 [==============================] - 0s 21ms/step\\n\",","      \"4\\n\",","      \"\u003cclass 'numpy.int64'\u003e\\n\",","      \"1/1 [==============================] - 0s 19ms/step\\n\",","      \"4\\n\",","      \"\u003cclass 'numpy.int64'\u003e\\n\",","      \"1/1 [==============================] - 0s 22ms/step\\n\",","      \"4\\n\",","      \"\u003cclass 'numpy.int64'\u003e\\n\",","      \"1/1 [==============================] - 0s 21ms/step\\n\",","      \"4\\n\",","      \"\u003cclass 'numpy.int64'\u003e\\n\",","      \"1/1 [==============================] - 0s 19ms/step\\n\",","      \"4\\n\",","      \"\u003cclass 'numpy.int64'\u003e\\n\",","      \"1/1 [==============================] - 0s 22ms/step\\n\",","      \"4\\n\",","      \"\u003cclass 'numpy.int64'\u003e\\n\",","      \"1/1 [==============================] - 0s 22ms/step\\n\",","      \"4\\n\",","      \"\u003cclass 'numpy.int64'\u003e\\n\",","      \"1/1 [==============================] - 0s 20ms/step\\n\",","      \"4\\n\",","      \"\u003cclass 'numpy.int64'\u003e\\n\",","      \"1/1 [==============================] - 0s 20ms/step\\n\",","      \"4\\n\",","      \"\u003cclass 'numpy.int64'\u003e\\n\",","      \"1/1 [==============================] - 0s 19ms/step\\n\",","      \"4\\n\",","      \"\u003cclass 'numpy.int64'\u003e\\n\",","      \"1/1 [==============================] - 0s 20ms/step\\n\",","      \"4\\n\",","      \"\u003cclass 'numpy.int64'\u003e\\n\",","      \"1/1 [==============================] - 0s 19ms/step\\n\",","      \"4\\n\",","      \"\u003cclass 'numpy.int64'\u003e\\n\",","      \"1/1 [==============================] - 0s 21ms/step\\n\",","      \"4\\n\",","      \"\u003cclass 'numpy.int64'\u003e\\n\",","      \"1/1 [==============================] - 0s 22ms/step\\n\",","      \"4\\n\",","      \"\u003cclass 'numpy.int64'\u003e\\n\",","      \"1/1 [==============================] - 0s 20ms/step\\n\",","      \"4\\n\",","      \"\u003cclass 'numpy.int64'\u003e\\n\",","      \"1/1 [==============================] - 0s 20ms/step\\n\",","      \"4\\n\",","      \"\u003cclass 'numpy.int64'\u003e\\n\",","      \"1/1 [==============================] - 0s 19ms/step\\n\",","      \"4\\n\",","      \"\u003cclass 'numpy.int64'\u003e\\n\",","      \"1/1 [==============================] - 0s 19ms/step\\n\",","      \"4\\n\",","      \"\u003cclass 'numpy.int64'\u003e\\n\",","      \"1/1 [==============================] - 0s 21ms/step\\n\",","      \"4\\n\",","      \"\u003cclass 'numpy.int64'\u003e\\n\",","      \"1/1 [==============================] - 0s 20ms/step\\n\",","      \"4\\n\",","      \"\u003cclass 'numpy.int64'\u003e\\n\",","      \"1/1 [==============================] - 0s 19ms/step\\n\",","      \"4\\n\",","      \"\u003cclass 'numpy.int64'\u003e\\n\",","      \"1/1 [==============================] - 0s 23ms/step\\n\",","      \"4\\n\",","      \"\u003cclass 'numpy.int64'\u003e\\n\",","      \"1/1 [==============================] - 0s 21ms/step\\n\",","      \"4\\n\",","      \"\u003cclass 'numpy.int64'\u003e\\n\",","      \"1/1 [==============================] - 0s 19ms/step\\n\",","      \"4\\n\",","      \"\u003cclass 'numpy.int64'\u003e\\n\",","      \"1/1 [==============================] - 0s 19ms/step\\n\",","      \"4\\n\",","      \"\u003cclass 'numpy.int64'\u003e\\n\",","      \"1/1 [==============================] - 0s 20ms/step\\n\",","      \"4\\n\",","      \"\u003cclass 'numpy.int64'\u003e\\n\",","      \"1/1 [==============================] - 0s 20ms/step\\n\",","      \"4\\n\",","      \"\u003cclass 'numpy.int64'\u003e\\n\",","      \"1/1 [==============================] - 0s 21ms/step\\n\",","      \"4\\n\",","      \"\u003cclass 'numpy.int64'\u003e\\n\",","      \"1/1 [==============================] - 0s 21ms/step\\n\",","      \"4\\n\",","      \"\u003cclass 'numpy.int64'\u003e\\n\",","      \"1/1 [==============================] - 0s 19ms/step\\n\",","      \"4\\n\",","      \"\u003cclass 'numpy.int64'\u003e\\n\",","      \"1/1 [==============================] - 0s 20ms/step\\n\",","      \"4\\n\",","      \"\u003cclass 'numpy.int64'\u003e\\n\",","      \"1/1 [==============================] - 0s 19ms/step\\n\",","      \"4\\n\",","      \"\u003cclass 'numpy.int64'\u003e\\n\",","      \"1/1 [==============================] - 0s 21ms/step\\n\",","      \"4\\n\",","      \"\u003cclass 'numpy.int64'\u003e\\n\",","      \"1/1 [==============================] - 0s 20ms/step\\n\",","      \"4\\n\",","      \"\u003cclass 'numpy.int64'\u003e\\n\",","      \"1/1 [==============================] - 0s 21ms/step\\n\",","      \"4\\n\",","      \"\u003cclass 'numpy.int64'\u003e\\n\",","      \"1/1 [==============================] - 0s 20ms/step\\n\",","      \"4\\n\",","      \"\u003cclass 'numpy.int64'\u003e\\n\",","      \"1/1 [==============================] - 0s 20ms/step\\n\",","      \"4\\n\",","      \"\u003cclass 'numpy.int64'\u003e\\n\",","      \"1/1 [==============================] - 0s 20ms/step\\n\",","      \"4\\n\",","      \"\u003cclass 'numpy.int64'\u003e\\n\",","      \"1/1 [==============================] - 0s 21ms/step\\n\",","      \"4\\n\",","      \"\u003cclass 'numpy.int64'\u003e\\n\",","      \"1/1 [==============================] - 0s 20ms/step\\n\",","      \"4\\n\",","      \"\u003cclass 'numpy.int64'\u003e\\n\",","      \"1/1 [==============================] - 0s 22ms/step\\n\",","      \"4\\n\",","      \"\u003cclass 'numpy.int64'\u003e\\n\",","      \"1/1 [==============================] - 0s 20ms/step\\n\",","      \"4\\n\",","      \"\u003cclass 'numpy.int64'\u003e\\n\",","      \"1/1 [==============================] - 0s 20ms/step\\n\",","      \"4\\n\",","      \"\u003cclass 'numpy.int64'\u003e\\n\",","      \"1/1 [==============================] - 0s 20ms/step\\n\",","      \"4\\n\",","      \"\u003cclass 'numpy.int64'\u003e\\n\",","      \"1/1 [==============================] - 0s 21ms/step\\n\",","      \"4\\n\",","      \"\u003cclass 'numpy.int64'\u003e\\n\",","      \"1/1 [==============================] - 0s 22ms/step\\n\",","      \"4\\n\",","      \"\u003cclass 'numpy.int64'\u003e\\n\",","      \"1/1 [==============================] - 0s 21ms/step\\n\",","      \"4\\n\",","      \"\u003cclass 'numpy.int64'\u003e\\n\",","      \"1/1 [==============================] - 0s 24ms/step\\n\",","      \"4\\n\",","      \"\u003cclass 'numpy.int64'\u003e\\n\",","      \"1/1 [==============================] - 0s 21ms/step\\n\",","      \"4\\n\",","      \"\u003cclass 'numpy.int64'\u003e\\n\",","      \"1/1 [==============================] - 0s 20ms/step\\n\",","      \"4\\n\",","      \"\u003cclass 'numpy.int64'\u003e\\n\",","      \"1/1 [==============================] - 0s 21ms/step\\n\",","      \"4\\n\",","      \"\u003cclass 'numpy.int64'\u003e\\n\",","      \"1/1 [==============================] - 0s 19ms/step\\n\",","      \"4\\n\",","      \"\u003cclass 'numpy.int64'\u003e\\n\",","      \"1/1 [==============================] - 0s 20ms/step\\n\",","      \"4\\n\",","      \"\u003cclass 'numpy.int64'\u003e\\n\",","      \"1/1 [==============================] - 0s 19ms/step\\n\",","      \"4\\n\",","      \"\u003cclass 'numpy.int64'\u003e\\n\",","      \"1/1 [==============================] - 0s 19ms/step\\n\",","      \"4\\n\",","      \"\u003cclass 'numpy.int64'\u003e\\n\",","      \"1/1 [==============================] - 0s 19ms/step\\n\",","      \"4\\n\",","      \"\u003cclass 'numpy.int64'\u003e\\n\",","      \"1/1 [==============================] - 0s 20ms/step\\n\",","      \"4\\n\",","      \"\u003cclass 'numpy.int64'\u003e\\n\",","      \"1/1 [==============================] - 0s 19ms/step\\n\",","      \"4\\n\",","      \"\u003cclass 'numpy.int64'\u003e\\n\",","      \"1/1 [==============================] - 0s 20ms/step\\n\",","      \"4\\n\",","      \"\u003cclass 'numpy.int64'\u003e\\n\",","      \"1/1 [==============================] - 0s 21ms/step\\n\",","      \"4\\n\",","      \"\u003cclass 'numpy.int64'\u003e\\n\",","      \"1/1 [==============================] - 0s 20ms/step\\n\",","      \"4\\n\",","      \"\u003cclass 'numpy.int64'\u003e\\n\",","      \"1/1 [==============================] - 0s 19ms/step\\n\",","      \"4\\n\",","      \"\u003cclass 'numpy.int64'\u003e\\n\",","      \"1/1 [==============================] - 0s 20ms/step\\n\",","      \"4\\n\",","      \"\u003cclass 'numpy.int64'\u003e\\n\",","      \"1/1 [==============================] - 0s 20ms/step\\n\",","      \"4\\n\",","      \"\u003cclass 'numpy.int64'\u003e\\n\",","      \"1/1 [==============================] - 0s 19ms/step\\n\",","      \"4\\n\",","      \"\u003cclass 'numpy.int64'\u003e\\n\",","      \"1/1 [==============================] - 0s 21ms/step\\n\",","      \"4\\n\",","      \"\u003cclass 'numpy.int64'\u003e\\n\",","      \"1/1 [==============================] - 0s 20ms/step\\n\",","      \"4\\n\",","      \"\u003cclass 'numpy.int64'\u003e\\n\",","      \"1/1 [==============================] - 0s 20ms/step\\n\",","      \"4\\n\",","      \"\u003cclass 'numpy.int64'\u003e\\n\",","      \"1/1 [==============================] - 0s 21ms/step\\n\",","      \"4\\n\",","      \"\u003cclass 'numpy.int64'\u003e\\n\",","      \"1/1 [==============================] - 0s 19ms/step\\n\",","      \"4\\n\",","      \"\u003cclass 'numpy.int64'\u003e\\n\",","      \"1/1 [==============================] - 0s 19ms/step\\n\",","      \"4\\n\",","      \"\u003cclass 'numpy.int64'\u003e\\n\",","      \"1/1 [==============================] - 0s 20ms/step\\n\",","      \"4\\n\",","      \"\u003cclass 'numpy.int64'\u003e\\n\",","      \"1/1 [==============================] - 0s 20ms/step\\n\",","      \"4\\n\",","      \"\u003cclass 'numpy.int64'\u003e\\n\",","      \"1/1 [==============================] - 0s 21ms/step\\n\",","      \"4\\n\",","      \"\u003cclass 'numpy.int64'\u003e\\n\",","      \"1/1 [==============================] - 0s 20ms/step\\n\",","      \"4\\n\",","      \"\u003cclass 'numpy.int64'\u003e\\n\",","      \"1/1 [==============================] - 0s 22ms/step\\n\",","      \"4\\n\",","      \"\u003cclass 'numpy.int64'\u003e\\n\",","      \"1/1 [==============================] - 0s 23ms/step\\n\",","      \"4\\n\",","      \"\u003cclass 'numpy.int64'\u003e\\n\"","     ]","    }","   ],","   \"source\": [","    \"import numpy as np\\n\",","    \"font_scale=1.5\\n\",","    \"font=cv2.FONT_HERSHEY_PLAIN\\n\",","    \"\\n\",","    \"cap=cv2.VideoCapture('handwritten_digit.mp4')\\n\",","    \"\\n\",","    \"if not cap.isOpened():\\n\",","    \"    cap=cv2.VideoCapture(0)\\n\",","    \"if not cap.isOpened():\\n\",","    \"    raise IOError('Cannot open Webcam')\\n\",","    \"    \\n\",","    \"text='Some text in a box!'\\n\",","    \"(text_width,text_height)=cv2.getTextSize(text,font,fontScale=font_scale,thickness=1)[0]\\n\",","    \"\\n\",","    \"text_offset_x=10\\n\",","    \"text_offset_y=img.shape[0]-25\\n\",","    \"\\n\",","    \"box_coords=((text_offset_x,text_offset_y),(text_offset_x + text_width + 2,text_offset_y - text_height-2))\\n\",","    \"\\n\",","    \"cntr=0\\n\",","    \"\\n\",","    \"while True: \\n\",","    \"    ret,frame=cap.read()\\n\",","    \"    cntr=cntr+1;\\n\",","    \"    if((cntr%2==0)):\\n\",","    \"        \\n\",","    \"        gray=cv2.cvtColor(input_image,cv2.COLOR_BGR2GRAY)\\n\",","    \"        resize=cv2.resize(gray,(28,28),interpolation=cv2.INTER_AREA)\\n\",","    \"        newimg=tf.keras.utils.normalize(resize,axis=1)\\n\",","    \"        newimg=np.array(newimg).reshape(-1,28,28,1)\\n\",","    \"        input_predictions=model.predict(newimg)\\n\",","    \"        status=np.argmax(input_predictions)\\n\",","    \"        \\n\",","    \"        print(status)\\n\",","    \"        print(type(status))\\n\",","    \"        \\n\",","    \"        x1,y1,w1,h1=0,0,175,175\\n\",","    \"        \\n\",","    \"        cv2.rectangle(frame,(x1,x1),(x1+w1,y1+h1),(0,255,0),-1)\\n\",","    \"        cv2.putText(frame,status.astype(str),(x1+int(w1/5),y1 + int(h1/2)),cv2.FONT_HERSHEY_SIMPLEX,0.7,(0,0,255),2)\\n\",","    \"        \\n\",","    \"        \\n\",","    \"        \\n\",","    \"        cv2.imshow('handwritten digit recognition',frame)\\n\",","    \"        \\n\",","    \"        if cv2.waitKey(2) \u0026 0xFF ==ord('d'):\\n\",","    \"            break;\\n\",","    \"            \\n\",","    \"cap.release()\\n\",","    \"cv2.destroyAllWindows()\"","   ]","  },","  {","   \"cell_type\": \"markdown\",","   \"id\": \"53dc4783\",","   \"metadata\": {},","   \"source\": [","    \"### Create GUI to predict digits\\n\"","   ]","  },","  {","   \"cell_type\": \"code\",","   \"execution_count\": 174,","   \"id\": \"a43809ed\",","   \"metadata\": {},","   \"outputs\": [","    {","     \"name\": \"stdout\",","     \"output_type\": \"stream\",","     \"text\": [","      \"1/1 [==============================] - 0s 61ms/step\\n\",","      \"1/1 [==============================] - 0s 29ms/step\\n\",","      \"1/1 [==============================] - 0s 20ms/step\\n\",","      \"1/1 [==============================] - 0s 19ms/step\\n\",","      \"1/1 [==============================] - 0s 20ms/step\\n\",","      \"1/1 [==============================] - 0s 21ms/step\\n\",","      \"1/1 [==============================] - 0s 19ms/step\\n\"","     ]","    }","   ],","   \"source\": [","    \"from keras.models import load_model\\n\",","    \"from tkinter import *\\n\",","    \"import tkinter as tk\\n\",","    \"import win32gui\\n\",","    \"from PIL import ImageGrab, Image\\n\",","    \"import numpy as np\\n\",","    \"\\n\",","    \"model = load_model('mnist.h5')\\n\",","    \"\\n\",","    \"def predict_digit(img):\\n\",","    \"    #resize image to 28x28 pixels\\n\",","    \"    img = img.resize((28,28))\\n\",","    \"    #convert rgb to grayscale\\n\",","    \"    img = img.convert('L')\\n\",","    \"    img = np.array(img)\\n\",","    \"    #reshaping to support our model input and normalizing\\n\",","    \"    img = img.reshape(1,28,28,1)\\n\",","    \"    img = img/255.0\\n\",","    \"    #predicting the class\\n\",","    \"    res = model.predict([img])[0]\\n\",","    \"    return np.argmax(res), max(res)\\n\",","    \"\\n\",","    \"class App(tk.Tk):\\n\",","    \"    def __init__(self):\\n\",","    \"        tk.Tk.__init__(self)\\n\",","    \"\\n\",","    \"        self.x = self.y = 0\\n\",","    \"\\n\",","    \"        # Creating elements\\n\",","    \"        self.canvas = tk.Canvas(self, width=300, height=300, bg = \\\"white\\\", cursor=\\\"cross\\\")\\n\",","    \"        self.label = tk.Label(self, text=\\\"Thinking..\\\", font=(\\\"Helvetica\\\", 48))\\n\",","    \"        self.classify_btn = tk.Button(self, text = \\\"Recognise\\\", command =         self.classify_handwriting) \\n\",","    \"        self.button_clear = tk.Button(self, text = \\\"Clear\\\", command = self.clear_all)\\n\",","    \"\\n\",","    \"        # Grid structure\\n\",","    \"        self.canvas.grid(row=0, column=0, pady=2, sticky=W, )\\n\",","    \"        self.label.grid(row=0, column=1,pady=2, padx=2)\\n\",","    \"        self.classify_btn.grid(row=1, column=1, pady=2, padx=2)\\n\",","    \"        self.button_clear.grid(row=1, column=0, pady=2)\\n\",","    \"\\n\",","    \"        #self.canvas.bind(\\\"\u003cMotion\u003e\\\", self.start_pos)\\n\",","    \"        self.canvas.bind(\\\"\u003cB1-Motion\u003e\\\", self.draw_lines)\\n\",","    \"\\n\",","    \"    def clear_all(self):\\n\",","    \"        self.canvas.delete(\\\"all\\\")\\n\",","    \"\\n\",","    \"    def classify_handwriting(self):\\n\",","    \"        HWND = self.canvas.winfo_id() # get the handle of the canvas\\n\",","    \"        rect = win32gui.GetWindowRect(HWND) # get the coordinate of the canvas\\n\",","    \"        im = ImageGrab.grab(rect)\\n\",","    \"\\n\",","    \"        digit, acc = predict_digit(im)\\n\",","    \"        self.label.configure(text= str(digit)+', '+ str(int(acc*100))+'%')\\n\",","    \"\\n\",","    \"    def draw_lines(self, event):\\n\",","    \"        self.x = event.x\\n\",","    \"        self.y = event.y\\n\",","    \"        r=8\\n\",","    \"        self.canvas.create_oval(self.x-r, self.y-r, self.x + r, self.y + r, fill='black')\\n\",","    \"\\n\",","    \"app = App()\\n\",","    \"mainloop()\"","   ]","  },","  {","   \"cell_type\": \"code\",","   \"execution_count\": null,","   \"id\": \"0b0e17b7\",","   \"metadata\": {},","   \"outputs\": [],","   \"source\": []","  },","  {","   \"cell_type\": \"code\",","   \"execution_count\": null,","   \"id\": \"297dc058\",","   \"metadata\": {},","   \"outputs\": [],","   \"source\": []","  },","  {","   \"cell_type\": \"code\",","   \"execution_count\": null,","   \"id\": \"b4162c83\",","   \"metadata\": {},","   \"outputs\": [],","   \"source\": []","  },","  {","   \"cell_type\": \"code\",","   \"execution_count\": null,","   \"id\": \"1e16d846\",","   \"metadata\": {},","   \"outputs\": [],","   \"source\": []","  },","  {","   \"cell_type\": \"code\",","   \"execution_count\": null,","   \"id\": \"dfbd72e2\",","   \"metadata\": {},","   \"outputs\": [],","   \"source\": []","  },","  {","   \"cell_type\": \"code\",","   \"execution_count\": null,","   \"id\": \"c7d9d82d\",","   \"metadata\": {},","   \"outputs\": [],","   \"source\": []","  },","  {","   \"cell_type\": \"code\",","   \"execution_count\": null,","   \"id\": \"5aea3769\",","   \"metadata\": {},","   \"outputs\": [],","   \"source\": []","  },","  {","   \"cell_type\": \"code\",","   \"execution_count\": null,","   \"id\": \"0bfdd2e2\",","   \"metadata\": {},","   \"outputs\": [],","   \"source\": []","  },","  {","   \"cell_type\": \"code\",","   \"execution_count\": null,","   \"id\": \"d42c9a15\",","   \"metadata\": {},","   \"outputs\": [],","   \"source\": []","  },","  {","   \"cell_type\": \"code\",","   \"execution_count\": null,","   \"id\": \"961a32fa\",","   \"metadata\": {},","   \"outputs\": [],","   \"source\": []","  },","  {","   \"cell_type\": \"code\",","   \"execution_count\": null,","   \"id\": \"6c72e17f\",","   \"metadata\": {},","   \"outputs\": [],","   \"source\": []","  },","  {","   \"cell_type\": \"code\",","   \"execution_count\": null,","   \"id\": \"7b6b9650\",","   \"metadata\": {},","   \"outputs\": [],","   \"source\": []","  },","  {","   \"cell_type\": \"code\",","   \"execution_count\": null,","   \"id\": \"75027c42\",","   \"metadata\": {},","   \"outputs\": [],","   \"source\": []","  },","  {","   \"cell_type\": \"code\",","   \"execution_count\": null,","   \"id\": \"a3195308\",","   \"metadata\": {},","   \"outputs\": [],","   \"source\": []","  },","  {","   \"cell_type\": \"code\",","   \"execution_count\": null,","   \"id\": \"b2e2efcb\",","   \"metadata\": {},","   \"outputs\": [],","   \"source\": []","  },","  {","   \"cell_type\": \"code\",","   \"execution_count\": null,","   \"id\": \"3e9c9c33\",","   \"metadata\": {},","   \"outputs\": [],","   \"source\": []","  },","  {","   \"cell_type\": \"code\",","   \"execution_count\": null,","   \"id\": \"059745e7\",","   \"metadata\": {},","   \"outputs\": [],","   \"source\": []","  }"," ],"," \"metadata\": {","  \"kernelspec\": {","   \"display_name\": \"Python 3\",","   \"language\": \"python\",","   \"name\": \"python3\"","  },","  \"language_info\": {","   \"codemirror_mode\": {","    \"name\": \"ipython\",","    \"version\": 3","   },","   \"file_extension\": \".py\",","   \"mimetype\": \"text/x-python\",","   \"name\": \"python\",","   \"nbconvert_exporter\": \"python\",","   \"pygments_lexer\": \"ipython3\",","   \"version\": \"3.8.8\"","  }"," },"," \"nbformat\": 4,"," \"nbformat_minor\": 5","}"],"stylingDirectives":null,"csv":null,"csvError":null,"dependabotInfo":{"showConfigurationBanner":null,"configFilePath":null,"networkDependabotPath":"/harshitasaini469/Handwritten_digit_classification/network/updates","dismissConfigurationNoticePath":"/settings/dismiss-notice/dependabot_configuration_notice","configurationNoticeDismissed":false,"repoAlertsPath":"/harshitasaini469/Handwritten_digit_classification/security/dependabot","repoSecurityAndAnalysisPath":"/harshitasaini469/Handwritten_digit_classification/settings/security_analysis","repoOwnerIsOrg":false,"currentUserCanAdminRepo":false},"displayName":"MNIST_Digit_Classification.ipynb","displayUrl":"https://notebooks.githubusercontent.com/view/ipynb?browser=chrome\u0026bypass_fastly=true\u0026color_mode=auto\u0026commit=c790fbe1c1cb7f81717a75ff4bf2d2abe8725ed1\u0026device=unknown_device\u0026docs_host=https%3A%2F%2Fdocs.github.com\u0026enc_url=68747470733a2f2f7261772e67697468756275736572636f6e74656e742e636f6d2f68617273686974617361696e693436392f48616e647772697474656e5f64696769745f636c617373696669636174696f6e2f633739306662653163316362376638313731376137356666346266326432616265383732356564312f4d4e4953545f44696769745f436c617373696669636174696f6e2e6970796e623f746f6b656e3d4159345454524e56504d5632495150545558415a514f33464c4e494359\u0026logged_in=true\u0026nwo=harshitasaini469%2FHandwritten_digit_classification\u0026path=MNIST_Digit_Classification.ipynb\u0026platform=windows\u0026repository_id=559847298\u0026repository_type=Repository\u0026version=119","headerInfo":{"blobSize":"145 KB","deleteInfo":{"deleteTooltip":"Delete this file"},"editInfo":{"editTooltip":"Edit this file"},"ghDesktopPath":"https://desktop.github.com","gitLfsPath":null,"onBranch":true,"shortPath":"bb161bb","siteNavLoginPath":"/login?return_to=https%3A%2F%2Fgithub.com%2Fharshitasaini469%2FHandwritten_digit_classification%2Fblob%2Fmain%2FMNIST_Digit_Classification.ipynb","isCSV":false,"isRichtext":false,"toc":null,"lineInfo":{"truncatedLoc":"2160","truncatedSloc":"2160"},"mode":"file"},"image":false,"isCodeownersFile":null,"isPlain":false,"isValidLegacyIssueTemplate":false,"issueTemplateHelpUrl":"https://docs.github.com/articles/about-issue-and-pull-request-templates","issueTemplate":null,"discussionTemplate":null,"language":"Jupyter Notebook","languageID":185,"large":false,"loggedIn":true,"newDiscussionPath":"/harshitasaini469/Handwritten_digit_classification/discussions/new","newIssuePath":"/harshitasaini469/Handwritten_digit_classification/issues/new","planSupportInfo":{"repoIsFork":null,"repoOwnedByCurrentUser":null,"requestFullPath":"/harshitasaini469/Handwritten_digit_classification/blob/main/MNIST_Digit_Classification.ipynb","showFreeOrgGatedFeatureMessage":null,"showPlanSupportBanner":null,"upgradeDataAttributes":null,"upgradePath":null},"publishBannersInfo":{"dismissActionNoticePath":"/settings/dismiss-notice/publish_action_from_dockerfile","dismissStackNoticePath":"/settings/dismiss-notice/publish_stack_from_file","releasePath":"/harshitasaini469/Handwritten_digit_classification/releases/new?marketplace=true","showPublishActionBanner":false,"showPublishStackBanner":false},"rawBlobUrl":"https://github.com/harshitasaini469/Handwritten_digit_classification/raw/main/MNIST_Digit_Classification.ipynb","renderImageOrRaw":false,"richText":null,"renderedFileInfo":{"identityUUID":"94aeaede-5b89-4d99-bb71-e1b26bcf832f","renderFileType":"ipynb","size":148381},"shortPath":null,"tabSize":8,"topBannersInfo":{"overridingGlobalFundingFile":false,"globalPreferredFundingPath":null,"repoOwner":"harshitasaini469","repoName":"Handwritten_digit_classification","showInvalidCitationWarning":false,"citationHelpUrl":"https://docs.github.com/en/github/creating-cloning-and-archiving-repositories/creating-a-repository-on-github/about-citation-files","showDependabotConfigurationBanner":null,"actionsOnboardingTip":null},"truncated":false,"viewable":true,"workflowRedirectUrl":null,"symbols":{"timedOut":false,"notAnalyzed":true,"symbols":[]}},"copilotInfo":{"documentationUrl":"https://docs.github.com/copilot/overview-of-github-copilot/about-github-copilot-for-individuals","notices":{"codeViewPopover":{"dismissed":false,"dismissPath":"/settings/dismiss-notice/code_view_copilot_popover"}},"userAccess":{"accessAllowed":false,"hasSubscriptionEnded":false,"orgHasCFBAccess":false,"userHasCFIAccess":false,"userHasOrgs":false,"userIsOrgAdmin":false,"userIsOrgMember":false,"business":null,"featureRequestInfo":null}},"copilotAccessAllowed":false,"csrf_tokens":{"/harshitasaini469/Handwritten_digit_classification/branches":{"post":"3UeWghAMMK4o2LuC3whwSydIFjG4rHto9KW9M0tKsAdd-o5nZrco8Np-4vr4P-nJOXEuZ6F2-zhxsjEsYX_yTQ"},"/repos/preferences":{"post":"9SvTNY2ZHq1QfZX3xckYhBvUpaPiLQYXsRJNicul8WIisXZG_2gdhvnXVqr4_SFZNGj9fsN6YOInrG79k2L6cg"}}},"title":"Handwritten_digit_classification/MNIST_Digit_Classification.ipynb at main · harshitasaini469/Handwritten_digit_classification","appPayload":{"helpUrl":"https://docs.github.com","findFileWorkerPath":"/assets-cdn/worker/find-file-worker-32bb159cc57c.js","findInFileWorkerPath":"/assets-cdn/worker/find-in-file-worker-ce6d5c15d2a1.js","githubDevUrl":"https://github.dev/","enabled_features":{"code_nav_ui_events":false,"copilot_conversational_ux":false,"copilot_conversational_ux_embedding_update":false,"copilot_conversational_ux_streaming":true,"copilot_popover_file_editor_header":true,"copilot_smell_icebreaker_ux":false,"binary_blob_renaming":false}}}</script>
  <div data-target="react-app.reactRoot"><style data-styled="true" data-styled-version="5.3.6">.fNPcqd{font-weight:600;font-size:32px;margin:0;font-size:14px;}/*!sc*/
.imcwCi{font-weight:600;font-size:32px;margin:0;font-size:16px;margin-left:8px;}/*!sc*/
.cgQnMS{font-weight:600;font-size:32px;margin:0;}/*!sc*/
.diwsLq{font-weight:600;font-size:32px;margin:0;font-weight:600;display:inline-block;max-width:100%;font-size:16px;}/*!sc*/
.jAEDJk{font-weight:600;font-size:32px;margin:0;font-weight:600;display:inline-block;max-width:100%;font-size:14px;}/*!sc*/
data-styled.g1[id="Heading__StyledHeading-sc-1c1dgg0-0"]{content:"fNPcqd,imcwCi,cgQnMS,diwsLq,jAEDJk,"}/*!sc*/
.fSWWem{padding:0;}/*!sc*/
.kPPmzM{max-width:100%;margin-left:auto;margin-right:auto;display:-webkit-box;display:-webkit-flex;display:-ms-flexbox;display:flex;-webkit-flex-wrap:wrap;-ms-flex-wrap:wrap;flex-wrap:wrap;}/*!sc*/
.cIAPDV{display:-webkit-box;display:-webkit-flex;display:-ms-flexbox;display:flex;-webkit-flex:1 1 100%;-ms-flex:1 1 100%;flex:1 1 100%;-webkit-flex-wrap:wrap;-ms-flex-wrap:wrap;flex-wrap:wrap;max-width:100%;}/*!sc*/
.gvCnwW{width:100%;}/*!sc*/
@media screen and (min-width:544px){.gvCnwW{width:100%;}}/*!sc*/
@media screen and (min-width:768px){.gvCnwW{width:auto;}}/*!sc*/
.ioxSsX{display:-webkit-box;display:-webkit-flex;display:-ms-flexbox;display:flex;-webkit-order:1;-ms-flex-order:1;order:1;width:100%;margin-left:0;margin-right:0;-webkit-flex-direction:column;-ms-flex-direction:column;flex-direction:column;margin-bottom:0;min-width:0;}/*!sc*/
@media screen and (min-width:544px){.ioxSsX{-webkit-flex-direction:column;-ms-flex-direction:column;flex-direction:column;}}/*!sc*/
@media screen and (min-width:768px){.ioxSsX{width:auto;margin-top:0 !important;margin-bottom:0 !important;position:-webkit-sticky;position:sticky;top:0px;max-height:var(--sticky-pane-height);-webkit-flex-direction:row-reverse;-ms-flex-direction:row-reverse;flex-direction:row-reverse;margin-right:0;}}/*!sc*/
@media screen and (min-width:769px){.ioxSsX{height:100vh;max-height:100vh !important;}}/*!sc*/
@media print,screen and (max-width:1011px) and (min-width:768px){.ioxSsX{display:none;}}/*!sc*/
.eUyHuk{margin-left:0;margin-right:0;display:none;margin-top:0;}/*!sc*/
@media screen and (min-width:768px){.eUyHuk{margin-left:0 !important;margin-right:0 !important;}}/*!sc*/
.hAeDYA{height:100%;position:relative;display:none;margin-left:0;}/*!sc*/
.ekKrwo{position:absolute;inset:0 -2px;cursor:col-resize;background-color:transparent;-webkit-transition-delay:0.1s;transition-delay:0.1s;}/*!sc*/
.ekKrwo:hover{background-color:rgba(175,184,193,0.2);}/*!sc*/
.gNdDUH{--pane-min-width:256px;--pane-max-width-diff:511px;--pane-max-width:calc(100vw - var(--pane-max-width-diff));width:100%;padding:0;}/*!sc*/
@media screen and (min-width:544px){}/*!sc*/
@media screen and (min-width:768px){.gNdDUH{width:clamp(var(--pane-min-width),var(--pane-width),var(--pane-max-width));overflow:auto;}}/*!sc*/
@media screen and (min-width:1280px){.gNdDUH{--pane-max-width-diff:959px;}}/*!sc*/
.jywUSN{max-height:100%;height:100%;display:-webkit-box;display:-webkit-flex;display:-ms-flexbox;display:flex;-webkit-flex-direction:column;-ms-flex-direction:column;flex-direction:column;}/*!sc*/
@media screen and (max-width:768px){.jywUSN{display:none;}}/*!sc*/
@media screen and (min-width:768px){.jywUSN{max-height:100vh;height:100vh;}}/*!sc*/
.hBSSUC{display:-webkit-box;display:-webkit-flex;display:-ms-flexbox;display:flex;-webkit-flex-direction:column;-ms-flex-direction:column;flex-direction:column;-webkit-align-items:center;-webkit-box-align:center;-ms-flex-align:center;align-items:center;padding-left:16px;padding-right:16px;padding-bottom:8px;padding-top:16px;}/*!sc*/
.iPurHz{display:-webkit-box;display:-webkit-flex;display:-ms-flexbox;display:flex;width:100%;margin-bottom:16px;-webkit-align-items:center;-webkit-box-align:center;-ms-flex-align:center;align-items:center;}/*!sc*/
.kkrdEu{-webkit-box-pack:center;-webkit-justify-content:center;-ms-flex-pack:center;justify-content:center;}/*!sc*/
.trpoQ{display:-webkit-box;display:-webkit-flex;display:-ms-flexbox;display:flex;pointer-events:none;}/*!sc*/
.hVHHYa{margin-left:24px;margin-right:24px;display:-webkit-box;display:-webkit-flex;display:-ms-flexbox;display:flex;width:100%;}/*!sc*/
.idZfsJ{-webkit-box-flex:1;-webkit-flex-grow:1;-ms-flex-positive:1;flex-grow:1;}/*!sc*/
.bKgizp{display:-webkit-box;display:-webkit-flex;display:-ms-flexbox;display:flex;width:100%;}/*!sc*/
.kYlvBX{margin-right:4px;color:#656d76;}/*!sc*/
.caeYDk{font-size:14px;min-width:0;overflow:hidden;text-overflow:ellipsis;white-space:nowrap;}/*!sc*/
.jahcnb{margin-left:8px;white-space:nowrap;}/*!sc*/
.jahcnb:hover button:not(:hover){border-left-color:var(--button-default-borderColor-hover,var(--color-btn-hover-border));}/*!sc*/
.ccToMy{margin-left:16px;margin-right:16px;margin-bottom:12px;}/*!sc*/
@media screen and (max-width:768px){.ccToMy{display:none;}}/*!sc*/
.cNvKlH{margin-right:-6px;}/*!sc*/
.cLfAnm{-webkit-box-flex:1;-webkit-flex-grow:1;-ms-flex-positive:1;flex-grow:1;max-height:100% !important;overflow-y:auto;-webkit-scrollbar-gutter:stable;-moz-scrollbar-gutter:stable;-ms-scrollbar-gutter:stable;scrollbar-gutter:stable;}/*!sc*/
@media screen and (max-width:768px){.cLfAnm{display:none;}}/*!sc*/
.erWCJP{padding-left:16px;padding-right:16px;padding-bottom:8px;}/*!sc*/
@media (min-height:600px) and (min-width:768px){.hwhShM{display:none;}}/*!sc*/
.cYPxpP{margin-top:8px;margin-left:16px;margin-right:16px;margin-bottom:12px;font-size:12px;-webkit-align-items:center;-webkit-box-align:center;-ms-flex-align:center;align-items:center;}/*!sc*/
@media (max-height:599px),(max-width:767px){.fBtiVT{display:none;}}/*!sc*/
.emFMJu{display:-webkit-box;display:-webkit-flex;display:-ms-flexbox;display:flex;-webkit-flex-direction:column;-ms-flex-direction:column;flex-direction:column;-webkit-order:2;-ms-flex-order:2;order:2;-webkit-flex-basis:0;-ms-flex-preferred-size:0;flex-basis:0;-webkit-box-flex:1;-webkit-flex-grow:1;-ms-flex-positive:1;flex-grow:1;-webkit-flex-shrink:1;-ms-flex-negative:1;flex-shrink:1;min-width:1px;margin-right:auto;}/*!sc*/
@media print{.emFMJu{display:-webkit-box !important;display:-webkit-flex !important;display:-ms-flexbox !important;display:flex !important;}}/*!sc*/
.hlUAHL{width:100%;max-width:100%;margin-left:auto;margin-right:auto;-webkit-box-flex:1;-webkit-flex-grow:1;-ms-flex-positive:1;flex-grow:1;padding:0;}/*!sc*/
.iStsmI{margin-left:auto;margin-right:auto;-webkit-flex-direction:column;-ms-flex-direction:column;flex-direction:column;padding-bottom:40px;max-width:100%;margin-top:0;}/*!sc*/
.eIgvIk{display:inherit;}/*!sc*/
.eVFfWF{width:100%;}/*!sc*/
.kgXdnT{padding:16px;padding-bottom:0;}/*!sc*/
.kzTa-dF{display:-webkit-box;display:-webkit-flex;display:-ms-flexbox;display:flex;-webkit-flex-direction:column;-ms-flex-direction:column;flex-direction:column;-webkit-box-pack:justify;-webkit-justify-content:space-between;-ms-flex-pack:justify;justify-content:space-between;gap:16px;width:100%;}/*!sc*/
.bbXCl{display:-webkit-box;display:-webkit-flex;display:-ms-flexbox;display:flex;-webkit-flex-direction:row;-ms-flex-direction:row;flex-direction:row;-webkit-align-items:start;-webkit-box-align:start;-ms-flex-align:start;align-items:start;-webkit-box-pack:justify;-webkit-justify-content:space-between;-ms-flex-pack:justify;justify-content:space-between;}/*!sc*/
.hGGMNu{display:-webkit-box;display:-webkit-flex;display:-ms-flexbox;display:flex;-webkit-flex-direction:row;-ms-flex-direction:row;flex-direction:row;-webkit-align-items:start;-webkit-box-align:start;-ms-flex-align:start;align-items:start;-webkit-box-pack:justify;-webkit-justify-content:space-between;-ms-flex-pack:justify;justify-content:space-between;justify-self:flex-end;}/*!sc*/
.eHRrYV{margin-left:8px;margin-right:8px;}/*!sc*/
.dKmYfk{font-size:14px;min-width:0;max-width:125px;overflow:hidden;text-overflow:ellipsis;white-space:nowrap;}/*!sc*/
.hSNzKh{justify-self:end;max-width:100%;}/*!sc*/
.eTvGbF{display:-webkit-box;display:-webkit-flex;display:-ms-flexbox;display:flex;-webkit-flex-direction:row;-ms-flex-direction:row;flex-direction:row;font-size:16px;min-width:0;-webkit-flex-shrink:1;-ms-flex-negative:1;flex-shrink:1;-webkit-flex-wrap:wrap;-ms-flex-wrap:wrap;flex-wrap:wrap;max-width:100%;-webkit-align-items:center;-webkit-box-align:center;-ms-flex-align:center;align-items:center;}/*!sc*/
.kzRgrI{max-width:100%;}/*!sc*/
.cmAPIB{max-width:100%;list-style:none;display:inline-block;}/*!sc*/
.jwXCBK{display:inline-block;max-width:100%;}/*!sc*/
.bDwCYs{padding:16px;padding-bottom:0;padding-left:16px;padding-right:16px;}/*!sc*/
.fywjmm{display:-webkit-box;display:-webkit-flex;display:-ms-flexbox;display:flex;gap:8px;-webkit-flex-direction:column;-ms-flex-direction:column;flex-direction:column;width:100%;}/*!sc*/
.dyczTK{display:-webkit-box;display:-webkit-flex;display:-ms-flexbox;display:flex;-webkit-align-items:start;-webkit-box-align:start;-ms-flex-align:start;align-items:start;-webkit-box-pack:justify;-webkit-justify-content:space-between;-ms-flex-pack:justify;justify-content:space-between;gap:8px;}/*!sc*/
.kszRgZ{-webkit-align-self:center;-ms-flex-item-align:center;align-self:center;display:-webkit-box;display:-webkit-flex;display:-ms-flexbox;display:flex;padding-right:8px;min-width:0;}/*!sc*/
.gtBUEp{min-height:32px;display:-webkit-box;display:-webkit-flex;display:-ms-flexbox;display:flex;-webkit-align-items:start;-webkit-box-align:start;-ms-flex-align:start;align-items:start;}/*!sc*/
.MERGN{margin-left:16px;margin-right:16px;}/*!sc*/
@media screen and (min-width:1440px){.MERGN{margin-left:16px;}}/*!sc*/
.cMYnca{display:-webkit-box;display:-webkit-flex;display:-ms-flexbox;display:flex;-webkit-flex-direction:column;-ms-flex-direction:column;flex-direction:column;}/*!sc*/
.kLxXov{display:-webkit-box;display:-webkit-flex;display:-ms-flexbox;display:flex;-webkit-flex-direction:column;-ms-flex-direction:column;flex-direction:column;border:1px solid;border-color:#d0d7de;border-radius:6px;margin-bottom:16px;}/*!sc*/
.eYedVD{display:-webkit-box;display:-webkit-flex;display:-ms-flexbox;display:flex;-webkit-flex-direction:row;-ms-flex-direction:row;flex-direction:row;-webkit-box-pack:justify;-webkit-justify-content:space-between;-ms-flex-pack:justify;justify-content:space-between;-webkit-align-items:center;-webkit-box-align:center;-ms-flex-align:center;align-items:center;gap:8px;min-width:273px;padding-right:8px;padding-left:16px;padding-top:8px;padding-bottom:8px;}/*!sc*/
.jGfYmh{display:-webkit-box;display:-webkit-flex;display:-ms-flexbox;display:flex;gap:8px;}/*!sc*/
.lhFvfi{display:-webkit-box;display:-webkit-flex;display:-ms-flexbox;display:flex;-webkit-align-items:center;-webkit-box-align:center;-ms-flex-align:center;align-items:center;}/*!sc*/
.bqgLjk{display:inherit;}/*!sc*/
@media screen and (min-width:544px){.bqgLjk{display:none;}}/*!sc*/
@media screen and (min-width:768px){.bqgLjk{display:none;}}/*!sc*/
.iJmJly{display:-webkit-box;display:-webkit-flex;display:-ms-flexbox;display:flex;-webkit-flex-direction:row;-ms-flex-direction:row;flex-direction:row;}/*!sc*/
.jACbi{width:100%;height:-webkit-fit-content;height:-moz-fit-content;height:fit-content;min-width:0;margin-right:0;}/*!sc*/
.bSdwWB{padding-left:4px;padding-bottom:16px;}/*!sc*/
.fleZSW{-webkit-align-items:center;-webkit-box-align:center;-ms-flex-align:center;align-items:center;}/*!sc*/
.bZpGqz{font-size:12px;-webkit-flex:auto;-ms-flex:auto;flex:auto;padding-right:16px;color:#656d76;min-width:0;}/*!sc*/
.gBKNLX{top:0px;z-index:1;background:var(--color-canvas-default);position:-webkit-sticky;position:sticky;}/*!sc*/
.ePiodO{display:-webkit-box;display:-webkit-flex;display:-ms-flexbox;display:flex;-webkit-flex-direction:column;-ms-flex-direction:column;flex-direction:column;width:100%;position:absolute;}/*!sc*/
.kQJlnf{display:none;min-width:0;padding-top:8px;padding-bottom:8px;}/*!sc*/
.gJICKO{margin-right:8px;margin-left:16px;text-overflow:ellipsis;overflow:hidden;display:-webkit-box;display:-webkit-flex;display:-ms-flexbox;display:flex;-webkit-flex-direction:row;-ms-flex-direction:row;flex-direction:row;-webkit-align-items:center;-webkit-box-align:center;-ms-flex-align:center;align-items:center;-webkit-box-pack:justify;-webkit-justify-content:space-between;-ms-flex-pack:justify;justify-content:space-between;width:100%;}/*!sc*/
.iZJewz{display:-webkit-box;display:-webkit-flex;display:-ms-flexbox;display:flex;-webkit-flex-direction:row;-ms-flex-direction:row;flex-direction:row;font-size:14px;min-width:0;-webkit-flex-shrink:1;-ms-flex-negative:1;flex-shrink:1;-webkit-flex-wrap:wrap;-ms-flex-wrap:wrap;flex-wrap:wrap;max-width:100%;-webkit-align-items:center;-webkit-box-align:center;-ms-flex-align:center;align-items:center;}/*!sc*/
.bvEDG{padding-left:8px;padding-top:8px;padding-bottom:8px;display:-webkit-box;display:-webkit-flex;display:-ms-flexbox;display:flex;-webkit-flex:1;-ms-flex:1;flex:1;-webkit-align-items:center;-webkit-box-align:center;-ms-flex-align:center;align-items:center;-webkit-box-pack:justify;-webkit-justify-content:space-between;-ms-flex-pack:justify;justify-content:space-between;background-color:#f6f8fa;border:1px solid var(--borderColor-default,var(--color-border-default));border-radius:6px 6px 0px 0px;}/*!sc*/
.bfkNRF{display:-webkit-box;display:-webkit-flex;display:-ms-flexbox;display:flex;-webkit-align-items:center;-webkit-box-align:center;-ms-flex-align:center;align-items:center;gap:8px;min-width:0;}/*!sc*/
.fXBLEV{display:block;position:relative;-webkit-box-flex:1;-webkit-flex-grow:1;-ms-flex-positive:1;flex-grow:1;margin-top:-1px;margin-bottom:-1px;--separator-color:transparent;}/*!sc*/
.fXBLEV:not(:last-child){margin-right:1px;}/*!sc*/
.fXBLEV:not(:last-child):after{background-color:var(--separator-color);content:"";position:absolute;right:-2px;top:8px;bottom:8px;width:1px;}/*!sc*/
.fXBLEV:focus-within:has(:focus-visible){--separator-color:transparent;}/*!sc*/
.fXBLEV:first-child{margin-left:-1px;}/*!sc*/
.fXBLEV:last-child{margin-right:-1px;}/*!sc*/
.jkTWSe{display:block;position:relative;-webkit-box-flex:1;-webkit-flex-grow:1;-ms-flex-positive:1;flex-grow:1;margin-top:-1px;margin-bottom:-1px;--separator-color:#d0d7de;}/*!sc*/
.jkTWSe:not(:last-child){margin-right:1px;}/*!sc*/
.jkTWSe:not(:last-child):after{background-color:var(--separator-color);content:"";position:absolute;right:-2px;top:8px;bottom:8px;width:1px;}/*!sc*/
.jkTWSe:focus-within:has(:focus-visible){--separator-color:transparent;}/*!sc*/
.jkTWSe:first-child{margin-left:-1px;}/*!sc*/
.jkTWSe:last-child{margin-right:-1px;}/*!sc*/
.iBylDf{display:-webkit-box;display:-webkit-flex;display:-ms-flexbox;display:flex;-webkit-align-items:center;-webkit-box-align:center;-ms-flex-align:center;align-items:center;gap:8px;margin-right:8px;}/*!sc*/
.kSGBPx{gap:8px;}/*!sc*/
.flDsrw{border:1px solid;border-top:none;border-color:#d0d7de;border-radius:0px 0px 6px 6px;min-width:273px;}/*!sc*/
.eJsjkT{background-color:var(--bgColor-default,var(--color-canvas-default));border:0px;border-width:0;border-radius:0px 0px 6px 6px;padding:0;min-width:0;margin-top:46px;overflow:auto;}/*!sc*/
.aZrVR{position:fixed;top:0;right:0;height:100%;width:15px;-webkit-transition:-webkit-transform 0.3s;-webkit-transition:transform 0.3s;transition:transform 0.3s;z-index:1;}/*!sc*/
.aZrVR:hover{-webkit-transform:scaleX(1.5);-ms-transform:scaleX(1.5);transform:scaleX(1.5);}/*!sc*/
.bAzdCq{display:-webkit-box;display:-webkit-flex;display:-ms-flexbox;display:flex;-webkit-flex-direction:column;-ms-flex-direction:column;flex-direction:column;-webkit-align-items:center;-webkit-box-align:center;-ms-flex-align:center;align-items:center;padding-top:16px;padding-bottom:16px;}/*!sc*/
data-styled.g2[id="Box-sc-g0xbh4-0"]{content:"fSWWem,kPPmzM,cIAPDV,gvCnwW,ioxSsX,eUyHuk,hAeDYA,ekKrwo,gNdDUH,jywUSN,hBSSUC,iPurHz,kkrdEu,trpoQ,hVHHYa,idZfsJ,bKgizp,kYlvBX,caeYDk,jahcnb,ccToMy,cNvKlH,cLfAnm,erWCJP,hwhShM,cYPxpP,fBtiVT,emFMJu,hlUAHL,iStsmI,eIgvIk,eVFfWF,kgXdnT,kzTa-dF,bbXCl,hGGMNu,eHRrYV,dKmYfk,hSNzKh,eTvGbF,kzRgrI,cmAPIB,jwXCBK,bDwCYs,fywjmm,dyczTK,kszRgZ,gtBUEp,MERGN,cMYnca,kLxXov,eYedVD,jGfYmh,lhFvfi,bqgLjk,iJmJly,jACbi,bSdwWB,fleZSW,bZpGqz,gBKNLX,ePiodO,kQJlnf,gJICKO,iZJewz,bvEDG,bfkNRF,fXBLEV,jkTWSe,iBylDf,kSGBPx,flDsrw,eJsjkT,aZrVR,bAzdCq,"}/*!sc*/
.rTZSs{position:absolute;width:1px;height:1px;padding:0;margin:-1px;overflow:hidden;-webkit-clip:rect(0,0,0,0);clip:rect(0,0,0,0);white-space:nowrap;border-width:0;}/*!sc*/
data-styled.g4[id="_VisuallyHidden__VisuallyHidden-sc-11jhm7a-0"]{content:"rTZSs,"}/*!sc*/
.fUpWeN{display:inline-block;overflow:hidden;text-overflow:ellipsis;vertical-align:top;white-space:nowrap;max-width:125px;max-width:100%;}/*!sc*/
data-styled.g6[id="Truncate__StyledTruncate-sc-23o1d2-0"]{content:"fUpWeN,"}/*!sc*/
.fIqerb{color:#0969da;-webkit-text-decoration:none;text-decoration:none;}/*!sc*/
.fIqerb:hover{-webkit-text-decoration:underline;text-decoration:underline;}/*!sc*/
.fIqerb:is(button){display:inline-block;padding:0;font-size:inherit;white-space:nowrap;cursor:pointer;-webkit-user-select:none;-moz-user-select:none;-ms-user-select:none;user-select:none;background-color:transparent;border:0;-webkit-appearance:none;-moz-appearance:none;appearance:none;}/*!sc*/
.eVjWum{color:#0969da;-webkit-text-decoration:none;text-decoration:none;font-weight:600;}/*!sc*/
.eVjWum:hover{-webkit-text-decoration:underline;text-decoration:underline;}/*!sc*/
.eVjWum:is(button){display:inline-block;padding:0;font-size:inherit;white-space:nowrap;cursor:pointer;-webkit-user-select:none;-moz-user-select:none;-ms-user-select:none;user-select:none;background-color:transparent;border:0;-webkit-appearance:none;-moz-appearance:none;appearance:none;}/*!sc*/
data-styled.g8[id="Link__StyledLink-sc-14289xe-0"]{content:"fIqerb,eVjWum,"}/*!sc*/
.hPEVNM{-webkit-animation:rotate-keyframes 1s linear infinite;animation:rotate-keyframes 1s linear infinite;}/*!sc*/
@-webkit-keyframes rotate-keyframes{100%{-webkit-transform:rotate(360deg);-ms-transform:rotate(360deg);transform:rotate(360deg);}}/*!sc*/
@keyframes rotate-keyframes{100%{-webkit-transform:rotate(360deg);-ms-transform:rotate(360deg);transform:rotate(360deg);}}/*!sc*/
data-styled.g25[id="Spinner__StyledSpinner-sc-1knt686-0"]{content:"hPEVNM,"}/*!sc*/
.cgNHBf{font-size:14px;line-height:20px;color:#1F2328;vertical-align:middle;background-color:#ffffff;border:1px solid var(--control-borderColor-rest,#d0d7de);border-radius:6px;outline:none;box-shadow:inset 0 1px 0 rgba(208,215,222,0.2);display:-webkit-inline-box;display:-webkit-inline-flex;display:-ms-inline-flexbox;display:inline-flex;-webkit-align-items:stretch;-webkit-box-align:stretch;-ms-flex-align:stretch;align-items:stretch;min-height:32px;display:-webkit-box;display:-webkit-flex;display:-ms-flexbox;display:flex;min-width:200px;}/*!sc*/
.cgNHBf input,.cgNHBf textarea{cursor:text;}/*!sc*/
.cgNHBf select{cursor:pointer;}/*!sc*/
.cgNHBf::-webkit-input-placeholder{color:#6e7781;}/*!sc*/
.cgNHBf::-moz-placeholder{color:#6e7781;}/*!sc*/
.cgNHBf:-ms-input-placeholder{color:#6e7781;}/*!sc*/
.cgNHBf::placeholder{color:#6e7781;}/*!sc*/
.cgNHBf:focus-within{border-color:#0969da;outline:none;box-shadow:inset 0 0 0 1px #0969da;}/*!sc*/
.cgNHBf > textarea{padding:12px;}/*!sc*/
@media (min-width:768px){.cgNHBf{font-size:14px;}}/*!sc*/
data-styled.g26[id="TextInputWrapper__TextInputBaseWrapper-sc-1mqhpbi-0"]{content:"cgNHBf,"}/*!sc*/
.hDoBEw{background-repeat:no-repeat;background-position:right 8px center;padding-left:12px;padding-right:12px;display:-webkit-box;display:-webkit-flex;display:-ms-flexbox;display:flex;min-width:200px;}/*!sc*/
.hDoBEw > :not(:last-child){margin-right:8px;}/*!sc*/
.hDoBEw .TextInput-icon,.hDoBEw .TextInput-action{-webkit-align-self:center;-ms-flex-item-align:center;align-self:center;color:#656d76;-webkit-flex-shrink:0;-ms-flex-negative:0;flex-shrink:0;}/*!sc*/
.hDoBEw > input,.hDoBEw > select{padding-left:0;padding-right:0;}/*!sc*/
data-styled.g27[id="TextInputWrapper-sc-1mqhpbi-1"]{content:"hDoBEw,"}/*!sc*/
.CtaSm{border-radius:6px;border:1px solid;border-color:transparent;font-family:inherit;font-weight:500;font-size:14px;cursor:pointer;-webkit-appearance:none;-moz-appearance:none;appearance:none;-webkit-user-select:none;-moz-user-select:none;-ms-user-select:none;user-select:none;-webkit-text-decoration:none;text-decoration:none;text-align:center;display:-webkit-box;display:-webkit-flex;display:-ms-flexbox;display:flex;-webkit-align-items:center;-webkit-box-align:center;-ms-flex-align:center;align-items:center;-webkit-box-pack:justify;-webkit-justify-content:space-between;-ms-flex-pack:justify;justify-content:space-between;height:32px;padding:0 12px;gap:8px;min-width:-webkit-max-content;min-width:-moz-max-content;min-width:max-content;-webkit-transition:80ms cubic-bezier(0.65,0,0.35,1);transition:80ms cubic-bezier(0.65,0,0.35,1);-webkit-transition-property:color,fill,background-color,border-color;transition-property:color,fill,background-color,border-color;color:#24292f;background-color:transparent;box-shadow:none;}/*!sc*/
.CtaSm:focus:not(:disabled){box-shadow:none;outline:2px solid #0969da;outline-offset:-2px;}/*!sc*/
.CtaSm:focus:not(:disabled):not(:focus-visible){outline:solid 1px transparent;}/*!sc*/
.CtaSm:focus-visible:not(:disabled){box-shadow:none;outline:2px solid #0969da;outline-offset:-2px;}/*!sc*/
.CtaSm[href]{display:-webkit-inline-box;display:-webkit-inline-flex;display:-ms-inline-flexbox;display:inline-flex;}/*!sc*/
.CtaSm[href]:hover{-webkit-text-decoration:none;text-decoration:none;}/*!sc*/
.CtaSm:hover{-webkit-transition-duration:80ms;transition-duration:80ms;}/*!sc*/
.CtaSm:active{-webkit-transition:none;transition:none;}/*!sc*/
.CtaSm:disabled{cursor:not-allowed;box-shadow:none;color:#8c959f;}/*!sc*/
.CtaSm:disabled [data-component=ButtonCounter],.CtaSm:disabled [data-component="leadingVisual"],.CtaSm:disabled [data-component="trailingAction"]{color:inherit;}/*!sc*/
@media (forced-colors:active){.CtaSm:focus{outline:solid 1px transparent;}}/*!sc*/
.CtaSm [data-component=ButtonCounter]{font-size:12px;}/*!sc*/
.CtaSm[data-component=IconButton]{display:inline-grid;padding:unset;place-content:center;width:32px;min-width:unset;}/*!sc*/
.CtaSm[data-size="small"]{padding:0 8px;height:28px;gap:4px;font-size:12px;}/*!sc*/
.CtaSm[data-size="small"] [data-component="text"]{line-height:calc(20 / 12);}/*!sc*/
.CtaSm[data-size="small"] [data-component=ButtonCounter]{font-size:12px;}/*!sc*/
.CtaSm[data-size="small"] [data-component="buttonContent"] > :not(:last-child){margin-right:4px;}/*!sc*/
.CtaSm[data-size="small"][data-component=IconButton]{width:28px;padding:unset;}/*!sc*/
.CtaSm[data-size="large"]{padding:0 16px;height:40px;gap:8px;}/*!sc*/
.CtaSm[data-size="large"] [data-component="buttonContent"] > :not(:last-child){margin-right:8px;}/*!sc*/
.CtaSm[data-size="large"][data-component=IconButton]{width:40px;padding:unset;}/*!sc*/
.CtaSm[data-block="block"]{width:100%;}/*!sc*/
.CtaSm [data-component="leadingVisual"]{grid-area:leadingVisual;color:#656d76;}/*!sc*/
.CtaSm [data-component="text"]{grid-area:text;line-height:calc(20/14);white-space:nowrap;}/*!sc*/
.CtaSm [data-component="trailingVisual"]{grid-area:trailingVisual;}/*!sc*/
.CtaSm [data-component="trailingAction"]{margin-right:-4px;color:#656d76;}/*!sc*/
.CtaSm [data-component="buttonContent"]{-webkit-flex:1 0 auto;-ms-flex:1 0 auto;flex:1 0 auto;display:grid;grid-template-areas:"leadingVisual text trailingVisual";grid-template-columns:min-content minmax(0,auto) min-content;-webkit-align-items:center;-webkit-box-align:center;-ms-flex-align:center;align-items:center;-webkit-align-content:center;-ms-flex-line-pack:center;align-content:center;}/*!sc*/
.CtaSm [data-component="buttonContent"] > :not(:last-child){margin-right:8px;}/*!sc*/
.CtaSm:hover:not([disabled]){background-color:rgba(208,215,222,0.32);}/*!sc*/
.CtaSm:active:not([disabled]){background-color:rgba(208,215,222,0.48);}/*!sc*/
.CtaSm[aria-expanded=true]{background-color:rgba(208,215,222,0.24);}/*!sc*/
.CtaSm[data-component="IconButton"][data-no-visuals]{color:#656d76;}/*!sc*/
.CtaSm[data-no-visuals]{color:#0969da;}/*!sc*/
.CtaSm:has([data-component="ButtonCounter"]){color:#24292f;}/*!sc*/
.CtaSm:disabled[data-no-visuals]{color:#8c959f;}/*!sc*/
.CtaSm:disabled[data-no-visuals] [data-component=ButtonCounter]{color:inherit;}/*!sc*/
.CtaSm{color:#656d76;padding-left:8px;padding-right:8px;display:none;}/*!sc*/
@media screen and (max-width:768px){.CtaSm{display:block;}}/*!sc*/
.edBXBM{border-radius:6px;border:1px solid;border-color:transparent;font-family:inherit;font-weight:500;font-size:14px;cursor:pointer;-webkit-appearance:none;-moz-appearance:none;appearance:none;-webkit-user-select:none;-moz-user-select:none;-ms-user-select:none;user-select:none;-webkit-text-decoration:none;text-decoration:none;text-align:center;display:-webkit-box;display:-webkit-flex;display:-ms-flexbox;display:flex;-webkit-align-items:center;-webkit-box-align:center;-ms-flex-align:center;align-items:center;-webkit-box-pack:justify;-webkit-justify-content:space-between;-ms-flex-pack:justify;justify-content:space-between;height:32px;padding:0 12px;gap:8px;min-width:-webkit-max-content;min-width:-moz-max-content;min-width:max-content;-webkit-transition:80ms cubic-bezier(0.65,0,0.35,1);transition:80ms cubic-bezier(0.65,0,0.35,1);-webkit-transition-property:color,fill,background-color,border-color;transition-property:color,fill,background-color,border-color;color:#24292f;background-color:transparent;box-shadow:none;}/*!sc*/
.edBXBM:focus:not(:disabled){box-shadow:none;outline:2px solid #0969da;outline-offset:-2px;}/*!sc*/
.edBXBM:focus:not(:disabled):not(:focus-visible){outline:solid 1px transparent;}/*!sc*/
.edBXBM:focus-visible:not(:disabled){box-shadow:none;outline:2px solid #0969da;outline-offset:-2px;}/*!sc*/
.edBXBM[href]{display:-webkit-inline-box;display:-webkit-inline-flex;display:-ms-inline-flexbox;display:inline-flex;}/*!sc*/
.edBXBM[href]:hover{-webkit-text-decoration:none;text-decoration:none;}/*!sc*/
.edBXBM:hover{-webkit-transition-duration:80ms;transition-duration:80ms;}/*!sc*/
.edBXBM:active{-webkit-transition:none;transition:none;}/*!sc*/
.edBXBM:disabled{cursor:not-allowed;box-shadow:none;color:#8c959f;}/*!sc*/
.edBXBM:disabled [data-component=ButtonCounter],.edBXBM:disabled [data-component="leadingVisual"],.edBXBM:disabled [data-component="trailingAction"]{color:inherit;}/*!sc*/
@media (forced-colors:active){.edBXBM:focus{outline:solid 1px transparent;}}/*!sc*/
.edBXBM [data-component=ButtonCounter]{font-size:12px;}/*!sc*/
.edBXBM[data-component=IconButton]{display:inline-grid;padding:unset;place-content:center;width:32px;min-width:unset;}/*!sc*/
.edBXBM[data-size="small"]{padding:0 8px;height:28px;gap:4px;font-size:12px;}/*!sc*/
.edBXBM[data-size="small"] [data-component="text"]{line-height:calc(20 / 12);}/*!sc*/
.edBXBM[data-size="small"] [data-component=ButtonCounter]{font-size:12px;}/*!sc*/
.edBXBM[data-size="small"] [data-component="buttonContent"] > :not(:last-child){margin-right:4px;}/*!sc*/
.edBXBM[data-size="small"][data-component=IconButton]{width:28px;padding:unset;}/*!sc*/
.edBXBM[data-size="large"]{padding:0 16px;height:40px;gap:8px;}/*!sc*/
.edBXBM[data-size="large"] [data-component="buttonContent"] > :not(:last-child){margin-right:8px;}/*!sc*/
.edBXBM[data-size="large"][data-component=IconButton]{width:40px;padding:unset;}/*!sc*/
.edBXBM[data-block="block"]{width:100%;}/*!sc*/
.edBXBM [data-component="leadingVisual"]{grid-area:leadingVisual;color:#656d76;}/*!sc*/
.edBXBM [data-component="text"]{grid-area:text;line-height:calc(20/14);white-space:nowrap;}/*!sc*/
.edBXBM [data-component="trailingVisual"]{grid-area:trailingVisual;}/*!sc*/
.edBXBM [data-component="trailingAction"]{margin-right:-4px;color:#656d76;}/*!sc*/
.edBXBM [data-component="buttonContent"]{-webkit-flex:1 0 auto;-ms-flex:1 0 auto;flex:1 0 auto;display:grid;grid-template-areas:"leadingVisual text trailingVisual";grid-template-columns:min-content minmax(0,auto) min-content;-webkit-align-items:center;-webkit-box-align:center;-ms-flex-align:center;align-items:center;-webkit-align-content:center;-ms-flex-line-pack:center;align-content:center;}/*!sc*/
.edBXBM [data-component="buttonContent"] > :not(:last-child){margin-right:8px;}/*!sc*/
.edBXBM:hover:not([disabled]){background-color:rgba(208,215,222,0.32);}/*!sc*/
.edBXBM:active:not([disabled]){background-color:rgba(208,215,222,0.48);}/*!sc*/
.edBXBM[aria-expanded=true]{background-color:rgba(208,215,222,0.24);}/*!sc*/
.edBXBM[data-component="IconButton"][data-no-visuals]{color:#656d76;}/*!sc*/
.edBXBM[data-no-visuals]{color:#656d76;height:32px;position:relative;}/*!sc*/
@media screen and (max-width:768px){.edBXBM[data-no-visuals]{display:none;}}/*!sc*/
.edBXBM:has([data-component="ButtonCounter"]){color:#24292f;}/*!sc*/
.edBXBM:disabled[data-no-visuals]{color:#8c959f;}/*!sc*/
.edBXBM:disabled[data-no-visuals] [data-component=ButtonCounter]{color:inherit;}/*!sc*/
.woUrt{border-radius:6px;border:1px solid;border-color:var(--button-default-borderColor-rest,rgba(31,35,40,0.15));font-family:inherit;font-weight:500;font-size:14px;cursor:pointer;-webkit-appearance:none;-moz-appearance:none;appearance:none;-webkit-user-select:none;-moz-user-select:none;-ms-user-select:none;user-select:none;-webkit-text-decoration:none;text-decoration:none;text-align:center;display:-webkit-box;display:-webkit-flex;display:-ms-flexbox;display:flex;-webkit-align-items:center;-webkit-box-align:center;-ms-flex-align:center;align-items:center;-webkit-box-pack:justify;-webkit-justify-content:space-between;-ms-flex-pack:justify;justify-content:space-between;height:32px;padding:0 12px;gap:8px;min-width:-webkit-max-content;min-width:-moz-max-content;min-width:max-content;-webkit-transition:80ms cubic-bezier(0.65,0,0.35,1);transition:80ms cubic-bezier(0.65,0,0.35,1);-webkit-transition-property:color,fill,background-color,border-color;transition-property:color,fill,background-color,border-color;color:#24292f;background-color:#f6f8fa;box-shadow:0 1px 0 rgba(31,35,40,0.04),inset 0 1px 0 rgba(255,255,255,0.25);}/*!sc*/
.woUrt:focus:not(:disabled){box-shadow:none;outline:2px solid #0969da;outline-offset:-2px;}/*!sc*/
.woUrt:focus:not(:disabled):not(:focus-visible){outline:solid 1px transparent;}/*!sc*/
.woUrt:focus-visible:not(:disabled){box-shadow:none;outline:2px solid #0969da;outline-offset:-2px;}/*!sc*/
.woUrt[href]{display:-webkit-inline-box;display:-webkit-inline-flex;display:-ms-inline-flexbox;display:inline-flex;}/*!sc*/
.woUrt[href]:hover{-webkit-text-decoration:none;text-decoration:none;}/*!sc*/
.woUrt:hover{-webkit-transition-duration:80ms;transition-duration:80ms;}/*!sc*/
.woUrt:active{-webkit-transition:none;transition:none;}/*!sc*/
.woUrt:disabled{cursor:not-allowed;box-shadow:none;color:#8c959f;}/*!sc*/
.woUrt:disabled [data-component=ButtonCounter]{color:inherit;}/*!sc*/
@media (forced-colors:active){.woUrt:focus{outline:solid 1px transparent;}}/*!sc*/
.woUrt [data-component=ButtonCounter]{font-size:12px;}/*!sc*/
.woUrt[data-component=IconButton]{display:inline-grid;padding:unset;place-content:center;width:32px;min-width:unset;}/*!sc*/
.woUrt[data-size="small"]{padding:0 8px;height:28px;gap:4px;font-size:12px;}/*!sc*/
.woUrt[data-size="small"] [data-component="text"]{line-height:calc(20 / 12);}/*!sc*/
.woUrt[data-size="small"] [data-component=ButtonCounter]{font-size:12px;}/*!sc*/
.woUrt[data-size="small"] [data-component="buttonContent"] > :not(:last-child){margin-right:4px;}/*!sc*/
.woUrt[data-size="small"][data-component=IconButton]{width:28px;padding:unset;}/*!sc*/
.woUrt[data-size="large"]{padding:0 16px;height:40px;gap:8px;}/*!sc*/
.woUrt[data-size="large"] [data-component="buttonContent"] > :not(:last-child){margin-right:8px;}/*!sc*/
.woUrt[data-size="large"][data-component=IconButton]{width:40px;padding:unset;}/*!sc*/
.woUrt[data-block="block"]{width:100%;}/*!sc*/
.woUrt [data-component="leadingVisual"]{grid-area:leadingVisual;}/*!sc*/
.woUrt [data-component="text"]{grid-area:text;line-height:calc(20/14);white-space:nowrap;}/*!sc*/
.woUrt [data-component="trailingVisual"]{grid-area:trailingVisual;}/*!sc*/
.woUrt [data-component="trailingAction"]{margin-right:-4px;}/*!sc*/
.woUrt [data-component="buttonContent"]{-webkit-flex:1 0 auto;-ms-flex:1 0 auto;flex:1 0 auto;display:grid;grid-template-areas:"leadingVisual text trailingVisual";grid-template-columns:min-content minmax(0,auto) min-content;-webkit-align-items:center;-webkit-box-align:center;-ms-flex-align:center;align-items:center;-webkit-align-content:center;-ms-flex-line-pack:center;align-content:center;}/*!sc*/
.woUrt [data-component="buttonContent"] > :not(:last-child){margin-right:8px;}/*!sc*/
.woUrt:hover:not([disabled]){background-color:#f3f4f6;border-color:var(--button-default-borderColor-hover,rgba(31,35,40,0.15));}/*!sc*/
.woUrt:active:not([disabled]){background-color:hsla(220,14%,93%,1);border-color:var(--button-default-borderColor-active,rgba(31,35,40,0.15));}/*!sc*/
.woUrt[aria-expanded=true]{background-color:hsla(220,14%,93%,1);border-color:var(--button-default-borderColor-active,rgba(31,35,40,0.15));}/*!sc*/
.woUrt [data-component="leadingVisual"],.woUrt [data-component="trailingVisual"],.woUrt [data-component="trailingAction"]{color:var(--button-color,#656d76);}/*!sc*/
.woUrt{display:-webkit-box;display:-webkit-flex;display:-ms-flexbox;display:flex;min-width:0;}/*!sc*/
.woUrt svg{color:#656d76;}/*!sc*/
.woUrt > span{width:inherit;}/*!sc*/
.jikjkp{border-radius:6px;border:1px solid;border-color:var(--button-default-borderColor-rest,rgba(31,35,40,0.15));font-family:inherit;font-weight:500;font-size:14px;cursor:pointer;-webkit-appearance:none;-moz-appearance:none;appearance:none;-webkit-user-select:none;-moz-user-select:none;-ms-user-select:none;user-select:none;-webkit-text-decoration:none;text-decoration:none;text-align:center;display:-webkit-box;display:-webkit-flex;display:-ms-flexbox;display:flex;-webkit-align-items:center;-webkit-box-align:center;-ms-flex-align:center;align-items:center;-webkit-box-pack:justify;-webkit-justify-content:space-between;-ms-flex-pack:justify;justify-content:space-between;height:32px;padding:0 12px;gap:8px;min-width:-webkit-max-content;min-width:-moz-max-content;min-width:max-content;-webkit-transition:80ms cubic-bezier(0.65,0,0.35,1);transition:80ms cubic-bezier(0.65,0,0.35,1);-webkit-transition-property:color,fill,background-color,border-color;transition-property:color,fill,background-color,border-color;color:#24292f;background-color:#f6f8fa;box-shadow:0 1px 0 rgba(31,35,40,0.04),inset 0 1px 0 rgba(255,255,255,0.25);}/*!sc*/
.jikjkp:focus:not(:disabled){box-shadow:none;outline:2px solid #0969da;outline-offset:-2px;}/*!sc*/
.jikjkp:focus:not(:disabled):not(:focus-visible){outline:solid 1px transparent;}/*!sc*/
.jikjkp:focus-visible:not(:disabled){box-shadow:none;outline:2px solid #0969da;outline-offset:-2px;}/*!sc*/
.jikjkp[href]{display:-webkit-inline-box;display:-webkit-inline-flex;display:-ms-inline-flexbox;display:inline-flex;}/*!sc*/
.jikjkp[href]:hover{-webkit-text-decoration:none;text-decoration:none;}/*!sc*/
.jikjkp:hover{-webkit-transition-duration:80ms;transition-duration:80ms;}/*!sc*/
.jikjkp:active{-webkit-transition:none;transition:none;}/*!sc*/
.jikjkp:disabled{cursor:not-allowed;box-shadow:none;color:#8c959f;}/*!sc*/
.jikjkp:disabled [data-component=ButtonCounter]{color:inherit;}/*!sc*/
@media (forced-colors:active){.jikjkp:focus{outline:solid 1px transparent;}}/*!sc*/
.jikjkp [data-component=ButtonCounter]{font-size:12px;}/*!sc*/
.jikjkp[data-component=IconButton]{display:inline-grid;padding:unset;place-content:center;width:32px;min-width:unset;}/*!sc*/
.jikjkp[data-size="small"]{padding:0 8px;height:28px;gap:4px;font-size:12px;}/*!sc*/
.jikjkp[data-size="small"] [data-component="text"]{line-height:calc(20 / 12);}/*!sc*/
.jikjkp[data-size="small"] [data-component=ButtonCounter]{font-size:12px;}/*!sc*/
.jikjkp[data-size="small"] [data-component="buttonContent"] > :not(:last-child){margin-right:4px;}/*!sc*/
.jikjkp[data-size="small"][data-component=IconButton]{width:28px;padding:unset;}/*!sc*/
.jikjkp[data-size="large"]{padding:0 16px;height:40px;gap:8px;}/*!sc*/
.jikjkp[data-size="large"] [data-component="buttonContent"] > :not(:last-child){margin-right:8px;}/*!sc*/
.jikjkp[data-size="large"][data-component=IconButton]{width:40px;padding:unset;}/*!sc*/
.jikjkp[data-block="block"]{width:100%;}/*!sc*/
.jikjkp [data-component="leadingVisual"]{grid-area:leadingVisual;}/*!sc*/
.jikjkp [data-component="text"]{grid-area:text;line-height:calc(20/14);white-space:nowrap;}/*!sc*/
.jikjkp [data-component="trailingVisual"]{grid-area:trailingVisual;}/*!sc*/
.jikjkp [data-component="trailingAction"]{margin-right:-4px;}/*!sc*/
.jikjkp [data-component="buttonContent"]{-webkit-flex:1 0 auto;-ms-flex:1 0 auto;flex:1 0 auto;display:grid;grid-template-areas:"leadingVisual text trailingVisual";grid-template-columns:min-content minmax(0,auto) min-content;-webkit-align-items:center;-webkit-box-align:center;-ms-flex-align:center;align-items:center;-webkit-align-content:center;-ms-flex-line-pack:center;align-content:center;}/*!sc*/
.jikjkp [data-component="buttonContent"] > :not(:last-child){margin-right:8px;}/*!sc*/
.jikjkp:hover:not([disabled]){background-color:#f3f4f6;border-color:var(--button-default-borderColor-hover,rgba(31,35,40,0.15));}/*!sc*/
.jikjkp:active:not([disabled]){background-color:hsla(220,14%,93%,1);border-color:var(--button-default-borderColor-active,rgba(31,35,40,0.15));}/*!sc*/
.jikjkp[aria-expanded=true]{background-color:hsla(220,14%,93%,1);border-color:var(--button-default-borderColor-active,rgba(31,35,40,0.15));}/*!sc*/
.jikjkp [data-component="leadingVisual"],.jikjkp [data-component="trailingVisual"],.jikjkp [data-component="trailingAction"]{color:var(--button-color,#656d76);}/*!sc*/
.jikjkp[data-no-visuals]{color:#6e7781;border-top-right-radius:0;border-bottom-right-radius:0;border-right:0;}/*!sc*/
.jGImdP{border-radius:6px;border:1px solid;border-color:var(--button-default-borderColor-rest,rgba(31,35,40,0.15));font-family:inherit;font-weight:500;font-size:14px;cursor:pointer;-webkit-appearance:none;-moz-appearance:none;appearance:none;-webkit-user-select:none;-moz-user-select:none;-ms-user-select:none;user-select:none;-webkit-text-decoration:none;text-decoration:none;text-align:center;display:-webkit-box;display:-webkit-flex;display:-ms-flexbox;display:flex;-webkit-align-items:center;-webkit-box-align:center;-ms-flex-align:center;align-items:center;-webkit-box-pack:justify;-webkit-justify-content:space-between;-ms-flex-pack:justify;justify-content:space-between;height:32px;padding:0 12px;gap:8px;min-width:-webkit-max-content;min-width:-moz-max-content;min-width:max-content;-webkit-transition:80ms cubic-bezier(0.65,0,0.35,1);transition:80ms cubic-bezier(0.65,0,0.35,1);-webkit-transition-property:color,fill,background-color,border-color;transition-property:color,fill,background-color,border-color;color:#24292f;background-color:#f6f8fa;box-shadow:0 1px 0 rgba(31,35,40,0.04),inset 0 1px 0 rgba(255,255,255,0.25);}/*!sc*/
.jGImdP:focus:not(:disabled){box-shadow:none;outline:2px solid #0969da;outline-offset:-2px;}/*!sc*/
.jGImdP:focus:not(:disabled):not(:focus-visible){outline:solid 1px transparent;}/*!sc*/
.jGImdP:focus-visible:not(:disabled){box-shadow:none;outline:2px solid #0969da;outline-offset:-2px;}/*!sc*/
.jGImdP[href]{display:-webkit-inline-box;display:-webkit-inline-flex;display:-ms-inline-flexbox;display:inline-flex;}/*!sc*/
.jGImdP[href]:hover{-webkit-text-decoration:none;text-decoration:none;}/*!sc*/
.jGImdP:hover{-webkit-transition-duration:80ms;transition-duration:80ms;}/*!sc*/
.jGImdP:active{-webkit-transition:none;transition:none;}/*!sc*/
.jGImdP:disabled{cursor:not-allowed;box-shadow:none;color:#8c959f;}/*!sc*/
.jGImdP:disabled [data-component=ButtonCounter]{color:inherit;}/*!sc*/
@media (forced-colors:active){.jGImdP:focus{outline:solid 1px transparent;}}/*!sc*/
.jGImdP [data-component=ButtonCounter]{font-size:12px;}/*!sc*/
.jGImdP[data-component=IconButton]{display:inline-grid;padding:unset;place-content:center;width:32px;min-width:unset;}/*!sc*/
.jGImdP[data-size="small"]{padding:0 8px;height:28px;gap:4px;font-size:12px;}/*!sc*/
.jGImdP[data-size="small"] [data-component="text"]{line-height:calc(20 / 12);}/*!sc*/
.jGImdP[data-size="small"] [data-component=ButtonCounter]{font-size:12px;}/*!sc*/
.jGImdP[data-size="small"] [data-component="buttonContent"] > :not(:last-child){margin-right:4px;}/*!sc*/
.jGImdP[data-size="small"][data-component=IconButton]{width:28px;padding:unset;}/*!sc*/
.jGImdP[data-size="large"]{padding:0 16px;height:40px;gap:8px;}/*!sc*/
.jGImdP[data-size="large"] [data-component="buttonContent"] > :not(:last-child){margin-right:8px;}/*!sc*/
.jGImdP[data-size="large"][data-component=IconButton]{width:40px;padding:unset;}/*!sc*/
.jGImdP[data-block="block"]{width:100%;}/*!sc*/
.jGImdP [data-component="leadingVisual"]{grid-area:leadingVisual;}/*!sc*/
.jGImdP [data-component="text"]{grid-area:text;line-height:calc(20/14);white-space:nowrap;}/*!sc*/
.jGImdP [data-component="trailingVisual"]{grid-area:trailingVisual;}/*!sc*/
.jGImdP [data-component="trailingAction"]{margin-right:-4px;}/*!sc*/
.jGImdP [data-component="buttonContent"]{-webkit-flex:1 0 auto;-ms-flex:1 0 auto;flex:1 0 auto;display:grid;grid-template-areas:"leadingVisual text trailingVisual";grid-template-columns:min-content minmax(0,auto) min-content;-webkit-align-items:center;-webkit-box-align:center;-ms-flex-align:center;align-items:center;-webkit-align-content:center;-ms-flex-line-pack:center;align-content:center;}/*!sc*/
.jGImdP [data-component="buttonContent"] > :not(:last-child){margin-right:8px;}/*!sc*/
.jGImdP:hover:not([disabled]){background-color:#f3f4f6;border-color:var(--button-default-borderColor-hover,rgba(31,35,40,0.15));}/*!sc*/
.jGImdP:active:not([disabled]){background-color:hsla(220,14%,93%,1);border-color:var(--button-default-borderColor-active,rgba(31,35,40,0.15));}/*!sc*/
.jGImdP[aria-expanded=true]{background-color:hsla(220,14%,93%,1);border-color:var(--button-default-borderColor-active,rgba(31,35,40,0.15));}/*!sc*/
.jGImdP [data-component="leadingVisual"],.jGImdP [data-component="trailingVisual"],.jGImdP [data-component="trailingAction"]{color:var(--button-color,#656d76);}/*!sc*/
.jGImdP[data-no-visuals]{color:#6e7781;font-size:14px;font-weight:400;-webkit-flex-shrink:0;-ms-flex-negative:0;flex-shrink:0;border-top-left-radius:0;border-bottom-left-radius:0;}/*!sc*/
.hgfMvt{border-radius:6px;border:1px solid;border-color:var(--button-default-borderColor-rest,rgba(31,35,40,0.15));font-family:inherit;font-weight:500;font-size:14px;cursor:pointer;-webkit-appearance:none;-moz-appearance:none;appearance:none;-webkit-user-select:none;-moz-user-select:none;-ms-user-select:none;user-select:none;-webkit-text-decoration:none;text-decoration:none;text-align:center;display:-webkit-box;display:-webkit-flex;display:-ms-flexbox;display:flex;-webkit-align-items:center;-webkit-box-align:center;-ms-flex-align:center;align-items:center;-webkit-box-pack:justify;-webkit-justify-content:space-between;-ms-flex-pack:justify;justify-content:space-between;height:32px;padding:0 12px;gap:8px;min-width:-webkit-max-content;min-width:-moz-max-content;min-width:max-content;-webkit-transition:80ms cubic-bezier(0.65,0,0.35,1);transition:80ms cubic-bezier(0.65,0,0.35,1);-webkit-transition-property:color,fill,background-color,border-color;transition-property:color,fill,background-color,border-color;color:#24292f;background-color:#f6f8fa;box-shadow:0 1px 0 rgba(31,35,40,0.04),inset 0 1px 0 rgba(255,255,255,0.25);}/*!sc*/
.hgfMvt:focus:not(:disabled){box-shadow:none;outline:2px solid #0969da;outline-offset:-2px;}/*!sc*/
.hgfMvt:focus:not(:disabled):not(:focus-visible){outline:solid 1px transparent;}/*!sc*/
.hgfMvt:focus-visible:not(:disabled){box-shadow:none;outline:2px solid #0969da;outline-offset:-2px;}/*!sc*/
.hgfMvt[href]{display:-webkit-inline-box;display:-webkit-inline-flex;display:-ms-inline-flexbox;display:inline-flex;}/*!sc*/
.hgfMvt[href]:hover{-webkit-text-decoration:none;text-decoration:none;}/*!sc*/
.hgfMvt:hover{-webkit-transition-duration:80ms;transition-duration:80ms;}/*!sc*/
.hgfMvt:active{-webkit-transition:none;transition:none;}/*!sc*/
.hgfMvt:disabled{cursor:not-allowed;box-shadow:none;color:#8c959f;}/*!sc*/
.hgfMvt:disabled [data-component=ButtonCounter]{color:inherit;}/*!sc*/
@media (forced-colors:active){.hgfMvt:focus{outline:solid 1px transparent;}}/*!sc*/
.hgfMvt [data-component=ButtonCounter]{font-size:12px;}/*!sc*/
.hgfMvt[data-component=IconButton]{display:inline-grid;padding:unset;place-content:center;width:32px;min-width:unset;}/*!sc*/
.hgfMvt[data-size="small"]{padding:0 8px;height:28px;gap:4px;font-size:12px;}/*!sc*/
.hgfMvt[data-size="small"] [data-component="text"]{line-height:calc(20 / 12);}/*!sc*/
.hgfMvt[data-size="small"] [data-component=ButtonCounter]{font-size:12px;}/*!sc*/
.hgfMvt[data-size="small"] [data-component="buttonContent"] > :not(:last-child){margin-right:4px;}/*!sc*/
.hgfMvt[data-size="small"][data-component=IconButton]{width:28px;padding:unset;}/*!sc*/
.hgfMvt[data-size="large"]{padding:0 16px;height:40px;gap:8px;}/*!sc*/
.hgfMvt[data-size="large"] [data-component="buttonContent"] > :not(:last-child){margin-right:8px;}/*!sc*/
.hgfMvt[data-size="large"][data-component=IconButton]{width:40px;padding:unset;}/*!sc*/
.hgfMvt[data-block="block"]{width:100%;}/*!sc*/
.hgfMvt [data-component="leadingVisual"]{grid-area:leadingVisual;}/*!sc*/
.hgfMvt [data-component="text"]{grid-area:text;line-height:calc(20/14);white-space:nowrap;}/*!sc*/
.hgfMvt [data-component="trailingVisual"]{grid-area:trailingVisual;}/*!sc*/
.hgfMvt [data-component="trailingAction"]{margin-right:-4px;}/*!sc*/
.hgfMvt [data-component="buttonContent"]{-webkit-flex:1 0 auto;-ms-flex:1 0 auto;flex:1 0 auto;display:grid;grid-template-areas:"leadingVisual text trailingVisual";grid-template-columns:min-content minmax(0,auto) min-content;-webkit-align-items:center;-webkit-box-align:center;-ms-flex-align:center;align-items:center;-webkit-align-content:center;-ms-flex-line-pack:center;align-content:center;}/*!sc*/
.hgfMvt [data-component="buttonContent"] > :not(:last-child){margin-right:8px;}/*!sc*/
.hgfMvt:hover:not([disabled]){background-color:#f3f4f6;border-color:var(--button-default-borderColor-hover,rgba(31,35,40,0.15));}/*!sc*/
.hgfMvt:active:not([disabled]){background-color:hsla(220,14%,93%,1);border-color:var(--button-default-borderColor-active,rgba(31,35,40,0.15));}/*!sc*/
.hgfMvt[aria-expanded=true]{background-color:hsla(220,14%,93%,1);border-color:var(--button-default-borderColor-active,rgba(31,35,40,0.15));}/*!sc*/
.hgfMvt [data-component="leadingVisual"],.hgfMvt [data-component="trailingVisual"],.hgfMvt [data-component="trailingAction"]{color:var(--button-color,#656d76);}/*!sc*/
.hgfMvt{display:-webkit-box;display:-webkit-flex;display:-ms-flexbox;display:flex;}/*!sc*/
.hgfMvt svg{color:#656d76;}/*!sc*/
.hgfMvt > span{width:inherit;}/*!sc*/
.iwEpzF{border-radius:6px;border:1px solid;border-color:var(--button-default-borderColor-rest,rgba(31,35,40,0.15));font-family:inherit;font-weight:500;font-size:14px;cursor:pointer;-webkit-appearance:none;-moz-appearance:none;appearance:none;-webkit-user-select:none;-moz-user-select:none;-ms-user-select:none;user-select:none;-webkit-text-decoration:none;text-decoration:none;text-align:center;display:-webkit-box;display:-webkit-flex;display:-ms-flexbox;display:flex;-webkit-align-items:center;-webkit-box-align:center;-ms-flex-align:center;align-items:center;-webkit-box-pack:justify;-webkit-justify-content:space-between;-ms-flex-pack:justify;justify-content:space-between;height:32px;padding:0 12px;gap:8px;min-width:-webkit-max-content;min-width:-moz-max-content;min-width:max-content;-webkit-transition:80ms cubic-bezier(0.65,0,0.35,1);transition:80ms cubic-bezier(0.65,0,0.35,1);-webkit-transition-property:color,fill,background-color,border-color;transition-property:color,fill,background-color,border-color;color:#24292f;background-color:#f6f8fa;box-shadow:0 1px 0 rgba(31,35,40,0.04),inset 0 1px 0 rgba(255,255,255,0.25);}/*!sc*/
.iwEpzF:focus:not(:disabled){box-shadow:none;outline:2px solid #0969da;outline-offset:-2px;}/*!sc*/
.iwEpzF:focus:not(:disabled):not(:focus-visible){outline:solid 1px transparent;}/*!sc*/
.iwEpzF:focus-visible:not(:disabled){box-shadow:none;outline:2px solid #0969da;outline-offset:-2px;}/*!sc*/
.iwEpzF[href]{display:-webkit-inline-box;display:-webkit-inline-flex;display:-ms-inline-flexbox;display:inline-flex;}/*!sc*/
.iwEpzF[href]:hover{-webkit-text-decoration:none;text-decoration:none;}/*!sc*/
.iwEpzF:hover{-webkit-transition-duration:80ms;transition-duration:80ms;}/*!sc*/
.iwEpzF:active{-webkit-transition:none;transition:none;}/*!sc*/
.iwEpzF:disabled{cursor:not-allowed;box-shadow:none;color:#8c959f;}/*!sc*/
.iwEpzF:disabled [data-component=ButtonCounter]{color:inherit;}/*!sc*/
@media (forced-colors:active){.iwEpzF:focus{outline:solid 1px transparent;}}/*!sc*/
.iwEpzF [data-component=ButtonCounter]{font-size:12px;}/*!sc*/
.iwEpzF[data-component=IconButton]{display:inline-grid;padding:unset;place-content:center;width:32px;min-width:unset;}/*!sc*/
.iwEpzF[data-size="small"]{padding:0 8px;height:28px;gap:4px;font-size:12px;}/*!sc*/
.iwEpzF[data-size="small"] [data-component="text"]{line-height:calc(20 / 12);}/*!sc*/
.iwEpzF[data-size="small"] [data-component=ButtonCounter]{font-size:12px;}/*!sc*/
.iwEpzF[data-size="small"] [data-component="buttonContent"] > :not(:last-child){margin-right:4px;}/*!sc*/
.iwEpzF[data-size="small"][data-component=IconButton]{width:28px;padding:unset;}/*!sc*/
.iwEpzF[data-size="large"]{padding:0 16px;height:40px;gap:8px;}/*!sc*/
.iwEpzF[data-size="large"] [data-component="buttonContent"] > :not(:last-child){margin-right:8px;}/*!sc*/
.iwEpzF[data-size="large"][data-component=IconButton]{width:40px;padding:unset;}/*!sc*/
.iwEpzF[data-block="block"]{width:100%;}/*!sc*/
.iwEpzF [data-component="leadingVisual"]{grid-area:leadingVisual;}/*!sc*/
.iwEpzF [data-component="text"]{grid-area:text;line-height:calc(20/14);white-space:nowrap;}/*!sc*/
.iwEpzF [data-component="trailingVisual"]{grid-area:trailingVisual;}/*!sc*/
.iwEpzF [data-component="trailingAction"]{margin-right:-4px;}/*!sc*/
.iwEpzF [data-component="buttonContent"]{-webkit-flex:1 0 auto;-ms-flex:1 0 auto;flex:1 0 auto;display:grid;grid-template-areas:"leadingVisual text trailingVisual";grid-template-columns:min-content minmax(0,auto) min-content;-webkit-align-items:center;-webkit-box-align:center;-ms-flex-align:center;align-items:center;-webkit-align-content:center;-ms-flex-line-pack:center;align-content:center;}/*!sc*/
.iwEpzF [data-component="buttonContent"] > :not(:last-child){margin-right:8px;}/*!sc*/
.iwEpzF:hover:not([disabled]){background-color:#f3f4f6;border-color:var(--button-default-borderColor-hover,rgba(31,35,40,0.15));}/*!sc*/
.iwEpzF:active:not([disabled]){background-color:hsla(220,14%,93%,1);border-color:var(--button-default-borderColor-active,rgba(31,35,40,0.15));}/*!sc*/
.iwEpzF[aria-expanded=true]{background-color:hsla(220,14%,93%,1);border-color:var(--button-default-borderColor-active,rgba(31,35,40,0.15));}/*!sc*/
.iwEpzF [data-component="leadingVisual"],.iwEpzF [data-component="trailingVisual"],.iwEpzF [data-component="trailingAction"]{color:var(--button-color,#656d76);}/*!sc*/
.iwEpzF[data-no-visuals]{border-top-left-radius:0;border-bottom-left-radius:0;display:none;}/*!sc*/
.bNMwOz{border-radius:6px;border:1px solid;border-color:var(--button-default-borderColor-rest,rgba(31,35,40,0.15));font-family:inherit;font-weight:500;font-size:14px;cursor:pointer;-webkit-appearance:none;-moz-appearance:none;appearance:none;-webkit-user-select:none;-moz-user-select:none;-ms-user-select:none;user-select:none;-webkit-text-decoration:none;text-decoration:none;text-align:center;display:-webkit-box;display:-webkit-flex;display:-ms-flexbox;display:flex;-webkit-align-items:center;-webkit-box-align:center;-ms-flex-align:center;align-items:center;-webkit-box-pack:justify;-webkit-justify-content:space-between;-ms-flex-pack:justify;justify-content:space-between;height:32px;padding:0 12px;gap:8px;min-width:-webkit-max-content;min-width:-moz-max-content;min-width:max-content;-webkit-transition:80ms cubic-bezier(0.65,0,0.35,1);transition:80ms cubic-bezier(0.65,0,0.35,1);-webkit-transition-property:color,fill,background-color,border-color;transition-property:color,fill,background-color,border-color;color:#24292f;background-color:#f6f8fa;box-shadow:0 1px 0 rgba(31,35,40,0.04),inset 0 1px 0 rgba(255,255,255,0.25);}/*!sc*/
.bNMwOz:focus:not(:disabled){box-shadow:none;outline:2px solid #0969da;outline-offset:-2px;}/*!sc*/
.bNMwOz:focus:not(:disabled):not(:focus-visible){outline:solid 1px transparent;}/*!sc*/
.bNMwOz:focus-visible:not(:disabled){box-shadow:none;outline:2px solid #0969da;outline-offset:-2px;}/*!sc*/
.bNMwOz[href]{display:-webkit-inline-box;display:-webkit-inline-flex;display:-ms-inline-flexbox;display:inline-flex;}/*!sc*/
.bNMwOz[href]:hover{-webkit-text-decoration:none;text-decoration:none;}/*!sc*/
.bNMwOz:hover{-webkit-transition-duration:80ms;transition-duration:80ms;}/*!sc*/
.bNMwOz:active{-webkit-transition:none;transition:none;}/*!sc*/
.bNMwOz:disabled{cursor:not-allowed;box-shadow:none;color:#8c959f;}/*!sc*/
.bNMwOz:disabled [data-component=ButtonCounter]{color:inherit;}/*!sc*/
@media (forced-colors:active){.bNMwOz:focus{outline:solid 1px transparent;}}/*!sc*/
.bNMwOz [data-component=ButtonCounter]{font-size:12px;}/*!sc*/
.bNMwOz[data-component=IconButton]{display:inline-grid;padding:unset;place-content:center;width:32px;min-width:unset;}/*!sc*/
.bNMwOz[data-size="small"]{padding:0 8px;height:28px;gap:4px;font-size:12px;}/*!sc*/
.bNMwOz[data-size="small"] [data-component="text"]{line-height:calc(20 / 12);}/*!sc*/
.bNMwOz[data-size="small"] [data-component=ButtonCounter]{font-size:12px;}/*!sc*/
.bNMwOz[data-size="small"] [data-component="buttonContent"] > :not(:last-child){margin-right:4px;}/*!sc*/
.bNMwOz[data-size="small"][data-component=IconButton]{width:28px;padding:unset;}/*!sc*/
.bNMwOz[data-size="large"]{padding:0 16px;height:40px;gap:8px;}/*!sc*/
.bNMwOz[data-size="large"] [data-component="buttonContent"] > :not(:last-child){margin-right:8px;}/*!sc*/
.bNMwOz[data-size="large"][data-component=IconButton]{width:40px;padding:unset;}/*!sc*/
.bNMwOz[data-block="block"]{width:100%;}/*!sc*/
.bNMwOz [data-component="leadingVisual"]{grid-area:leadingVisual;}/*!sc*/
.bNMwOz [data-component="text"]{grid-area:text;line-height:calc(20/14);white-space:nowrap;}/*!sc*/
.bNMwOz [data-component="trailingVisual"]{grid-area:trailingVisual;}/*!sc*/
.bNMwOz [data-component="trailingAction"]{margin-right:-4px;}/*!sc*/
.bNMwOz [data-component="buttonContent"]{-webkit-flex:1 0 auto;-ms-flex:1 0 auto;flex:1 0 auto;display:grid;grid-template-areas:"leadingVisual text trailingVisual";grid-template-columns:min-content minmax(0,auto) min-content;-webkit-align-items:center;-webkit-box-align:center;-ms-flex-align:center;align-items:center;-webkit-align-content:center;-ms-flex-line-pack:center;align-content:center;}/*!sc*/
.bNMwOz [data-component="buttonContent"] > :not(:last-child){margin-right:8px;}/*!sc*/
.bNMwOz:hover:not([disabled]){background-color:#f3f4f6;border-color:var(--button-default-borderColor-hover,rgba(31,35,40,0.15));}/*!sc*/
.bNMwOz:active:not([disabled]){background-color:hsla(220,14%,93%,1);border-color:var(--button-default-borderColor-active,rgba(31,35,40,0.15));}/*!sc*/
.bNMwOz[aria-expanded=true]{background-color:hsla(220,14%,93%,1);border-color:var(--button-default-borderColor-active,rgba(31,35,40,0.15));}/*!sc*/
.bNMwOz [data-component="leadingVisual"],.bNMwOz [data-component="trailingVisual"],.bNMwOz [data-component="trailingAction"]{color:var(--button-color,#656d76);}/*!sc*/
.bNMwOz[data-no-visuals]{color:#656d76;}/*!sc*/
.bLPynQ{border-radius:6px;border:1px solid;border-color:transparent;font-family:inherit;font-weight:500;font-size:14px;cursor:pointer;-webkit-appearance:none;-moz-appearance:none;appearance:none;-webkit-user-select:none;-moz-user-select:none;-ms-user-select:none;user-select:none;-webkit-text-decoration:none;text-decoration:none;text-align:center;display:-webkit-box;display:-webkit-flex;display:-ms-flexbox;display:flex;-webkit-align-items:center;-webkit-box-align:center;-ms-flex-align:center;align-items:center;-webkit-box-pack:justify;-webkit-justify-content:space-between;-ms-flex-pack:justify;justify-content:space-between;height:32px;padding:0 12px;gap:8px;min-width:-webkit-max-content;min-width:-moz-max-content;min-width:max-content;-webkit-transition:80ms cubic-bezier(0.65,0,0.35,1);transition:80ms cubic-bezier(0.65,0,0.35,1);-webkit-transition-property:color,fill,background-color,border-color;transition-property:color,fill,background-color,border-color;color:#24292f;background-color:transparent;box-shadow:none;}/*!sc*/
.bLPynQ:focus:not(:disabled){box-shadow:none;outline:2px solid #0969da;outline-offset:-2px;}/*!sc*/
.bLPynQ:focus:not(:disabled):not(:focus-visible){outline:solid 1px transparent;}/*!sc*/
.bLPynQ:focus-visible:not(:disabled){box-shadow:none;outline:2px solid #0969da;outline-offset:-2px;}/*!sc*/
.bLPynQ[href]{display:-webkit-inline-box;display:-webkit-inline-flex;display:-ms-inline-flexbox;display:inline-flex;}/*!sc*/
.bLPynQ[href]:hover{-webkit-text-decoration:none;text-decoration:none;}/*!sc*/
.bLPynQ:hover{-webkit-transition-duration:80ms;transition-duration:80ms;}/*!sc*/
.bLPynQ:active{-webkit-transition:none;transition:none;}/*!sc*/
.bLPynQ:disabled{cursor:not-allowed;box-shadow:none;color:#8c959f;}/*!sc*/
.bLPynQ:disabled [data-component=ButtonCounter],.bLPynQ:disabled [data-component="leadingVisual"],.bLPynQ:disabled [data-component="trailingAction"]{color:inherit;}/*!sc*/
@media (forced-colors:active){.bLPynQ:focus{outline:solid 1px transparent;}}/*!sc*/
.bLPynQ [data-component=ButtonCounter]{font-size:12px;}/*!sc*/
.bLPynQ[data-component=IconButton]{display:inline-grid;padding:unset;place-content:center;width:32px;min-width:unset;}/*!sc*/
.bLPynQ[data-size="small"]{padding:0 8px;height:28px;gap:4px;font-size:12px;}/*!sc*/
.bLPynQ[data-size="small"] [data-component="text"]{line-height:calc(20 / 12);}/*!sc*/
.bLPynQ[data-size="small"] [data-component=ButtonCounter]{font-size:12px;}/*!sc*/
.bLPynQ[data-size="small"] [data-component="buttonContent"] > :not(:last-child){margin-right:4px;}/*!sc*/
.bLPynQ[data-size="small"][data-component=IconButton]{width:28px;padding:unset;}/*!sc*/
.bLPynQ[data-size="large"]{padding:0 16px;height:40px;gap:8px;}/*!sc*/
.bLPynQ[data-size="large"] [data-component="buttonContent"] > :not(:last-child){margin-right:8px;}/*!sc*/
.bLPynQ[data-size="large"][data-component=IconButton]{width:40px;padding:unset;}/*!sc*/
.bLPynQ[data-block="block"]{width:100%;}/*!sc*/
.bLPynQ [data-component="leadingVisual"]{grid-area:leadingVisual;color:#656d76;}/*!sc*/
.bLPynQ [data-component="text"]{grid-area:text;line-height:calc(20/14);white-space:nowrap;}/*!sc*/
.bLPynQ [data-component="trailingVisual"]{grid-area:trailingVisual;}/*!sc*/
.bLPynQ [data-component="trailingAction"]{margin-right:-4px;color:#656d76;}/*!sc*/
.bLPynQ [data-component="buttonContent"]{-webkit-flex:1 0 auto;-ms-flex:1 0 auto;flex:1 0 auto;display:grid;grid-template-areas:"leadingVisual text trailingVisual";grid-template-columns:min-content minmax(0,auto) min-content;-webkit-align-items:center;-webkit-box-align:center;-ms-flex-align:center;align-items:center;-webkit-align-content:center;-ms-flex-line-pack:center;align-content:center;}/*!sc*/
.bLPynQ [data-component="buttonContent"] > :not(:last-child){margin-right:8px;}/*!sc*/
.bLPynQ:hover:not([disabled]){background-color:rgba(208,215,222,0.32);}/*!sc*/
.bLPynQ:active:not([disabled]){background-color:rgba(208,215,222,0.48);}/*!sc*/
.bLPynQ[aria-expanded=true]{background-color:rgba(208,215,222,0.24);}/*!sc*/
.bLPynQ[data-component="IconButton"][data-no-visuals]{color:#656d76;}/*!sc*/
.bLPynQ[data-no-visuals]{color:#0969da;}/*!sc*/
.bLPynQ:has([data-component="ButtonCounter"]){color:#24292f;}/*!sc*/
.bLPynQ:disabled[data-no-visuals]{color:#8c959f;}/*!sc*/
.bLPynQ:disabled[data-no-visuals] [data-component=ButtonCounter]{color:inherit;}/*!sc*/
.bLPynQ[data-size="small"][data-no-visuals]{margin-left:8px;}/*!sc*/
.fNmgkb{border-radius:6px;border:1px solid;border-color:transparent;font-family:inherit;font-weight:500;font-size:14px;cursor:pointer;-webkit-appearance:none;-moz-appearance:none;appearance:none;-webkit-user-select:none;-moz-user-select:none;-ms-user-select:none;user-select:none;-webkit-text-decoration:none;text-decoration:none;text-align:center;display:-webkit-box;display:-webkit-flex;display:-ms-flexbox;display:flex;-webkit-align-items:center;-webkit-box-align:center;-ms-flex-align:center;align-items:center;-webkit-box-pack:justify;-webkit-justify-content:space-between;-ms-flex-pack:justify;justify-content:space-between;height:32px;padding:0 12px;gap:8px;min-width:-webkit-max-content;min-width:-moz-max-content;min-width:max-content;-webkit-transition:80ms cubic-bezier(0.65,0,0.35,1);transition:80ms cubic-bezier(0.65,0,0.35,1);-webkit-transition-property:color,fill,background-color,border-color;transition-property:color,fill,background-color,border-color;color:#1F2328;background-color:transparent;box-shadow:none;}/*!sc*/
.fNmgkb:focus:not(:disabled){box-shadow:none;outline:2px solid #0969da;outline-offset:-2px;}/*!sc*/
.fNmgkb:focus:not(:disabled):not(:focus-visible){outline:solid 1px transparent;}/*!sc*/
.fNmgkb:focus-visible:not(:disabled){box-shadow:none;outline:2px solid #0969da;outline-offset:-2px;}/*!sc*/
.fNmgkb[href]{display:-webkit-inline-box;display:-webkit-inline-flex;display:-ms-inline-flexbox;display:inline-flex;}/*!sc*/
.fNmgkb[href]:hover{-webkit-text-decoration:none;text-decoration:none;}/*!sc*/
.fNmgkb:hover{-webkit-transition-duration:80ms;transition-duration:80ms;}/*!sc*/
.fNmgkb:active{-webkit-transition:none;transition:none;}/*!sc*/
.fNmgkb:disabled{cursor:not-allowed;box-shadow:none;color:#8c959f;}/*!sc*/
.fNmgkb:disabled [data-component=ButtonCounter],.fNmgkb:disabled [data-component="leadingVisual"],.fNmgkb:disabled [data-component="trailingAction"]{color:inherit;}/*!sc*/
@media (forced-colors:active){.fNmgkb:focus{outline:solid 1px transparent;}}/*!sc*/
.fNmgkb [data-component=ButtonCounter]{font-size:12px;}/*!sc*/
.fNmgkb[data-component=IconButton]{display:inline-grid;padding:unset;place-content:center;width:32px;min-width:unset;}/*!sc*/
.fNmgkb[data-size="small"]{padding:0 8px;height:28px;gap:4px;font-size:12px;}/*!sc*/
.fNmgkb[data-size="small"] [data-component="text"]{line-height:calc(20 / 12);}/*!sc*/
.fNmgkb[data-size="small"] [data-component=ButtonCounter]{font-size:12px;}/*!sc*/
.fNmgkb[data-size="small"] [data-component="buttonContent"] > :not(:last-child){margin-right:4px;}/*!sc*/
.fNmgkb[data-size="small"][data-component=IconButton]{width:28px;padding:unset;}/*!sc*/
.fNmgkb[data-size="large"]{padding:0 16px;height:40px;gap:8px;}/*!sc*/
.fNmgkb[data-size="large"] [data-component="buttonContent"] > :not(:last-child){margin-right:8px;}/*!sc*/
.fNmgkb[data-size="large"][data-component=IconButton]{width:40px;padding:unset;}/*!sc*/
.fNmgkb[data-block="block"]{width:100%;}/*!sc*/
.fNmgkb [data-component="leadingVisual"]{grid-area:leadingVisual;color:#656d76;}/*!sc*/
.fNmgkb [data-component="text"]{grid-area:text;line-height:calc(20/14);white-space:nowrap;}/*!sc*/
.fNmgkb [data-component="trailingVisual"]{grid-area:trailingVisual;}/*!sc*/
.fNmgkb [data-component="trailingAction"]{margin-right:-4px;color:#656d76;}/*!sc*/
.fNmgkb [data-component="buttonContent"]{-webkit-flex:1 0 auto;-ms-flex:1 0 auto;flex:1 0 auto;display:grid;grid-template-areas:"leadingVisual text trailingVisual";grid-template-columns:min-content minmax(0,auto) min-content;-webkit-align-items:center;-webkit-box-align:center;-ms-flex-align:center;align-items:center;-webkit-align-content:center;-ms-flex-line-pack:center;align-content:center;}/*!sc*/
.fNmgkb [data-component="buttonContent"] > :not(:last-child){margin-right:8px;}/*!sc*/
.fNmgkb:hover:not([disabled]){background-color:rgba(208,215,222,0.32);-webkit-text-decoration:none;text-decoration:none;}/*!sc*/
.fNmgkb:active:not([disabled]){background-color:rgba(208,215,222,0.48);-webkit-text-decoration:none;text-decoration:none;}/*!sc*/
.fNmgkb[aria-expanded=true]{background-color:rgba(208,215,222,0.24);}/*!sc*/
.fNmgkb[data-component="IconButton"][data-no-visuals]{color:#656d76;}/*!sc*/
.fNmgkb[data-no-visuals]{color:#0969da;}/*!sc*/
.fNmgkb:has([data-component="ButtonCounter"]){color:#24292f;}/*!sc*/
.fNmgkb:disabled[data-no-visuals]{color:#8c959f;}/*!sc*/
.fNmgkb:disabled[data-no-visuals] [data-component=ButtonCounter]{color:inherit;}/*!sc*/
.fNmgkb:focus:not([disabled]){-webkit-text-decoration:none;text-decoration:none;}/*!sc*/
.dQTpqF{border-radius:6px;border:1px solid;border-color:transparent;font-family:inherit;font-weight:500;font-size:14px;cursor:pointer;-webkit-appearance:none;-moz-appearance:none;appearance:none;-webkit-user-select:none;-moz-user-select:none;-ms-user-select:none;user-select:none;-webkit-text-decoration:none;text-decoration:none;text-align:center;display:-webkit-box;display:-webkit-flex;display:-ms-flexbox;display:flex;-webkit-align-items:center;-webkit-box-align:center;-ms-flex-align:center;align-items:center;-webkit-box-pack:justify;-webkit-justify-content:space-between;-ms-flex-pack:justify;justify-content:space-between;height:32px;padding:0 12px;gap:8px;min-width:-webkit-max-content;min-width:-moz-max-content;min-width:max-content;-webkit-transition:80ms cubic-bezier(0.65,0,0.35,1);transition:80ms cubic-bezier(0.65,0,0.35,1);-webkit-transition-property:color,fill,background-color,border-color;transition-property:color,fill,background-color,border-color;color:#24292f;background-color:transparent;box-shadow:none;}/*!sc*/
.dQTpqF:focus:not(:disabled){box-shadow:none;outline:2px solid #0969da;outline-offset:-2px;}/*!sc*/
.dQTpqF:focus:not(:disabled):not(:focus-visible){outline:solid 1px transparent;}/*!sc*/
.dQTpqF:focus-visible:not(:disabled){box-shadow:none;outline:2px solid #0969da;outline-offset:-2px;}/*!sc*/
.dQTpqF[href]{display:-webkit-inline-box;display:-webkit-inline-flex;display:-ms-inline-flexbox;display:inline-flex;}/*!sc*/
.dQTpqF[href]:hover{-webkit-text-decoration:none;text-decoration:none;}/*!sc*/
.dQTpqF:hover{-webkit-transition-duration:80ms;transition-duration:80ms;}/*!sc*/
.dQTpqF:active{-webkit-transition:none;transition:none;}/*!sc*/
.dQTpqF:disabled{cursor:not-allowed;box-shadow:none;color:#8c959f;}/*!sc*/
.dQTpqF:disabled [data-component=ButtonCounter],.dQTpqF:disabled [data-component="leadingVisual"],.dQTpqF:disabled [data-component="trailingAction"]{color:inherit;}/*!sc*/
@media (forced-colors:active){.dQTpqF:focus{outline:solid 1px transparent;}}/*!sc*/
.dQTpqF [data-component=ButtonCounter]{font-size:12px;}/*!sc*/
.dQTpqF[data-component=IconButton]{display:inline-grid;padding:unset;place-content:center;width:32px;min-width:unset;}/*!sc*/
.dQTpqF[data-size="small"]{padding:0 8px;height:28px;gap:4px;font-size:12px;color:#1F2328;display:none;}/*!sc*/
.dQTpqF[data-size="small"] [data-component="text"]{line-height:calc(20 / 12);}/*!sc*/
.dQTpqF[data-size="small"] [data-component=ButtonCounter]{font-size:12px;}/*!sc*/
.dQTpqF[data-size="small"] [data-component="buttonContent"] > :not(:last-child){margin-right:4px;}/*!sc*/
.dQTpqF[data-size="small"][data-component=IconButton]{width:28px;padding:unset;}/*!sc*/
@media screen and (min-width:544px){.dQTpqF[data-size="small"]{display:none;}}/*!sc*/
@media screen and (min-width:768px){.dQTpqF[data-size="small"]{display:none;}}/*!sc*/
@media screen and (min-width:1012px){.dQTpqF[data-size="small"]{display:none;}}/*!sc*/
@media screen and (min-width:1280px){.dQTpqF[data-size="small"]{display:block;}}/*!sc*/
.dQTpqF[data-size="large"]{padding:0 16px;height:40px;gap:8px;}/*!sc*/
.dQTpqF[data-size="large"] [data-component="buttonContent"] > :not(:last-child){margin-right:8px;}/*!sc*/
.dQTpqF[data-size="large"][data-component=IconButton]{width:40px;padding:unset;}/*!sc*/
.dQTpqF[data-block="block"]{width:100%;}/*!sc*/
.dQTpqF [data-component="leadingVisual"]{grid-area:leadingVisual;color:#656d76;}/*!sc*/
.dQTpqF [data-component="text"]{grid-area:text;line-height:calc(20/14);white-space:nowrap;}/*!sc*/
.dQTpqF [data-component="trailingVisual"]{grid-area:trailingVisual;}/*!sc*/
.dQTpqF [data-component="trailingAction"]{margin-right:-4px;color:#656d76;}/*!sc*/
.dQTpqF [data-component="buttonContent"]{-webkit-flex:1 0 auto;-ms-flex:1 0 auto;flex:1 0 auto;display:grid;grid-template-areas:"leadingVisual text trailingVisual";grid-template-columns:min-content minmax(0,auto) min-content;-webkit-align-items:center;-webkit-box-align:center;-ms-flex-align:center;align-items:center;-webkit-align-content:center;-ms-flex-line-pack:center;align-content:center;}/*!sc*/
.dQTpqF [data-component="buttonContent"] > :not(:last-child){margin-right:8px;}/*!sc*/
.dQTpqF:hover:not([disabled]){background-color:rgba(208,215,222,0.32);}/*!sc*/
.dQTpqF:active:not([disabled]){background-color:rgba(208,215,222,0.48);}/*!sc*/
.dQTpqF[aria-expanded=true]{background-color:rgba(208,215,222,0.24);}/*!sc*/
.dQTpqF[data-component="IconButton"][data-no-visuals]{color:#656d76;}/*!sc*/
.dQTpqF[data-no-visuals]{color:#0969da;}/*!sc*/
.dQTpqF:has([data-component="ButtonCounter"]){color:#24292f;}/*!sc*/
.dQTpqF:disabled[data-no-visuals]{color:#8c959f;}/*!sc*/
.dQTpqF:disabled[data-no-visuals] [data-component=ButtonCounter]{color:inherit;}/*!sc*/
.cpKQnD{border-radius:6px;border:1px solid;border-color:transparent;font-family:inherit;font-weight:500;font-size:14px;cursor:pointer;-webkit-appearance:none;-moz-appearance:none;appearance:none;-webkit-user-select:none;-moz-user-select:none;-ms-user-select:none;user-select:none;-webkit-text-decoration:none;text-decoration:none;text-align:center;display:-webkit-box;display:-webkit-flex;display:-ms-flexbox;display:flex;-webkit-align-items:center;-webkit-box-align:center;-ms-flex-align:center;align-items:center;-webkit-box-pack:justify;-webkit-justify-content:space-between;-ms-flex-pack:justify;justify-content:space-between;height:32px;padding:0 12px;gap:8px;min-width:-webkit-max-content;min-width:-moz-max-content;min-width:max-content;-webkit-transition:80ms cubic-bezier(0.65,0,0.35,1);transition:80ms cubic-bezier(0.65,0,0.35,1);-webkit-transition-property:color,fill,background-color,border-color;transition-property:color,fill,background-color,border-color;color:#24292f;background-color:transparent;box-shadow:none;}/*!sc*/
.cpKQnD:focus:not(:disabled){box-shadow:none;outline:2px solid #0969da;outline-offset:-2px;}/*!sc*/
.cpKQnD:focus:not(:disabled):not(:focus-visible){outline:solid 1px transparent;}/*!sc*/
.cpKQnD:focus-visible:not(:disabled){box-shadow:none;outline:2px solid #0969da;outline-offset:-2px;}/*!sc*/
.cpKQnD[href]{display:-webkit-inline-box;display:-webkit-inline-flex;display:-ms-inline-flexbox;display:inline-flex;}/*!sc*/
.cpKQnD[href]:hover{-webkit-text-decoration:none;text-decoration:none;}/*!sc*/
.cpKQnD:hover{-webkit-transition-duration:80ms;transition-duration:80ms;}/*!sc*/
.cpKQnD:active{-webkit-transition:none;transition:none;}/*!sc*/
.cpKQnD:disabled{cursor:not-allowed;box-shadow:none;color:#8c959f;}/*!sc*/
.cpKQnD:disabled [data-component=ButtonCounter],.cpKQnD:disabled [data-component="leadingVisual"],.cpKQnD:disabled [data-component="trailingAction"]{color:inherit;}/*!sc*/
@media (forced-colors:active){.cpKQnD:focus{outline:solid 1px transparent;}}/*!sc*/
.cpKQnD [data-component=ButtonCounter]{font-size:12px;}/*!sc*/
.cpKQnD[data-component=IconButton]{display:inline-grid;padding:unset;place-content:center;width:32px;min-width:unset;}/*!sc*/
.cpKQnD[data-size="small"]{padding:0 8px;height:28px;gap:4px;font-size:12px;color:#1F2328;margin-left:8px;}/*!sc*/
.cpKQnD[data-size="small"] [data-component="text"]{line-height:calc(20 / 12);}/*!sc*/
.cpKQnD[data-size="small"] [data-component=ButtonCounter]{font-size:12px;}/*!sc*/
.cpKQnD[data-size="small"] [data-component="buttonContent"] > :not(:last-child){margin-right:4px;}/*!sc*/
.cpKQnD[data-size="small"][data-component=IconButton]{width:28px;padding:unset;}/*!sc*/
.cpKQnD[data-size="large"]{padding:0 16px;height:40px;gap:8px;}/*!sc*/
.cpKQnD[data-size="large"] [data-component="buttonContent"] > :not(:last-child){margin-right:8px;}/*!sc*/
.cpKQnD[data-size="large"][data-component=IconButton]{width:40px;padding:unset;}/*!sc*/
.cpKQnD[data-block="block"]{width:100%;}/*!sc*/
.cpKQnD [data-component="leadingVisual"]{grid-area:leadingVisual;color:#656d76;}/*!sc*/
.cpKQnD [data-component="text"]{grid-area:text;line-height:calc(20/14);white-space:nowrap;}/*!sc*/
.cpKQnD [data-component="trailingVisual"]{grid-area:trailingVisual;}/*!sc*/
.cpKQnD [data-component="trailingAction"]{margin-right:-4px;color:#656d76;}/*!sc*/
.cpKQnD [data-component="buttonContent"]{-webkit-flex:1 0 auto;-ms-flex:1 0 auto;flex:1 0 auto;display:grid;grid-template-areas:"leadingVisual text trailingVisual";grid-template-columns:min-content minmax(0,auto) min-content;-webkit-align-items:center;-webkit-box-align:center;-ms-flex-align:center;align-items:center;-webkit-align-content:center;-ms-flex-line-pack:center;align-content:center;}/*!sc*/
.cpKQnD [data-component="buttonContent"] > :not(:last-child){margin-right:8px;}/*!sc*/
.cpKQnD:hover:not([disabled]){background-color:rgba(208,215,222,0.32);}/*!sc*/
.cpKQnD:active:not([disabled]){background-color:rgba(208,215,222,0.48);}/*!sc*/
.cpKQnD[aria-expanded=true]{background-color:rgba(208,215,222,0.24);}/*!sc*/
.cpKQnD[data-component="IconButton"][data-no-visuals]{color:#656d76;}/*!sc*/
.cpKQnD[data-no-visuals]{color:#0969da;}/*!sc*/
.cpKQnD:has([data-component="ButtonCounter"]){color:#24292f;}/*!sc*/
.cpKQnD:disabled[data-no-visuals]{color:#8c959f;}/*!sc*/
.cpKQnD:disabled[data-no-visuals] [data-component=ButtonCounter]{color:inherit;}/*!sc*/
.guoGbh{border-radius:6px;border:1px solid;border-color:var(--button-default-borderColor-rest,rgba(31,35,40,0.15));font-family:inherit;font-weight:500;font-size:14px;cursor:pointer;-webkit-appearance:none;-moz-appearance:none;appearance:none;-webkit-user-select:none;-moz-user-select:none;-ms-user-select:none;user-select:none;-webkit-text-decoration:none;text-decoration:none;text-align:center;display:-webkit-box;display:-webkit-flex;display:-ms-flexbox;display:flex;-webkit-align-items:center;-webkit-box-align:center;-ms-flex-align:center;align-items:center;-webkit-box-pack:justify;-webkit-justify-content:space-between;-ms-flex-pack:justify;justify-content:space-between;height:32px;padding:0 12px;gap:8px;min-width:-webkit-max-content;min-width:-moz-max-content;min-width:max-content;-webkit-transition:80ms cubic-bezier(0.65,0,0.35,1);transition:80ms cubic-bezier(0.65,0,0.35,1);-webkit-transition-property:color,fill,background-color,border-color;transition-property:color,fill,background-color,border-color;color:#24292f;background-color:#f6f8fa;box-shadow:0 1px 0 rgba(31,35,40,0.04),inset 0 1px 0 rgba(255,255,255,0.25);padding-left:8px;padding-right:8px;}/*!sc*/
.guoGbh:focus:not(:disabled){box-shadow:none;outline:2px solid #0969da;outline-offset:-2px;}/*!sc*/
.guoGbh:focus:not(:disabled):not(:focus-visible){outline:solid 1px transparent;}/*!sc*/
.guoGbh:focus-visible:not(:disabled){box-shadow:none;outline:2px solid #0969da;outline-offset:-2px;}/*!sc*/
.guoGbh[href]{display:-webkit-inline-box;display:-webkit-inline-flex;display:-ms-inline-flexbox;display:inline-flex;}/*!sc*/
.guoGbh[href]:hover{-webkit-text-decoration:none;text-decoration:none;}/*!sc*/
.guoGbh:hover{-webkit-transition-duration:80ms;transition-duration:80ms;}/*!sc*/
.guoGbh:active{-webkit-transition:none;transition:none;}/*!sc*/
.guoGbh:disabled{cursor:not-allowed;box-shadow:none;color:#8c959f;}/*!sc*/
.guoGbh:disabled [data-component=ButtonCounter]{color:inherit;}/*!sc*/
@media (forced-colors:active){.guoGbh:focus{outline:solid 1px transparent;}}/*!sc*/
.guoGbh [data-component=ButtonCounter]{font-size:12px;}/*!sc*/
.guoGbh[data-component=IconButton]{display:inline-grid;padding:unset;place-content:center;width:32px;min-width:unset;}/*!sc*/
.guoGbh[data-size="small"]{padding:0 8px;height:28px;gap:4px;font-size:12px;}/*!sc*/
.guoGbh[data-size="small"] [data-component="text"]{line-height:calc(20 / 12);}/*!sc*/
.guoGbh[data-size="small"] [data-component=ButtonCounter]{font-size:12px;}/*!sc*/
.guoGbh[data-size="small"] [data-component="buttonContent"] > :not(:last-child){margin-right:4px;}/*!sc*/
.guoGbh[data-size="small"][data-component=IconButton]{width:28px;padding:unset;}/*!sc*/
.guoGbh[data-size="large"]{padding:0 16px;height:40px;gap:8px;}/*!sc*/
.guoGbh[data-size="large"] [data-component="buttonContent"] > :not(:last-child){margin-right:8px;}/*!sc*/
.guoGbh[data-size="large"][data-component=IconButton]{width:40px;padding:unset;}/*!sc*/
.guoGbh[data-block="block"]{width:100%;}/*!sc*/
.guoGbh [data-component="leadingVisual"]{grid-area:leadingVisual;}/*!sc*/
.guoGbh [data-component="text"]{grid-area:text;line-height:calc(20/14);white-space:nowrap;}/*!sc*/
.guoGbh [data-component="trailingVisual"]{grid-area:trailingVisual;}/*!sc*/
.guoGbh [data-component="trailingAction"]{margin-right:-4px;}/*!sc*/
.guoGbh [data-component="buttonContent"]{-webkit-flex:1 0 auto;-ms-flex:1 0 auto;flex:1 0 auto;display:grid;grid-template-areas:"leadingVisual text trailingVisual";grid-template-columns:min-content minmax(0,auto) min-content;-webkit-align-items:center;-webkit-box-align:center;-ms-flex-align:center;align-items:center;-webkit-align-content:center;-ms-flex-line-pack:center;align-content:center;}/*!sc*/
.guoGbh [data-component="buttonContent"] > :not(:last-child){margin-right:8px;}/*!sc*/
.guoGbh:hover:not([disabled]){background-color:#f3f4f6;border-color:var(--button-default-borderColor-hover,rgba(31,35,40,0.15));}/*!sc*/
.guoGbh:active:not([disabled]){background-color:hsla(220,14%,93%,1);border-color:var(--button-default-borderColor-active,rgba(31,35,40,0.15));}/*!sc*/
.guoGbh[aria-expanded=true]{background-color:hsla(220,14%,93%,1);border-color:var(--button-default-borderColor-active,rgba(31,35,40,0.15));}/*!sc*/
.guoGbh [data-component="leadingVisual"],.guoGbh [data-component="trailingVisual"],.guoGbh [data-component="trailingAction"]{color:var(--button-color,#656d76);}/*!sc*/
.guoGbh linkButtonSx:hover:not([disabled]){-webkit-text-decoration:none;text-decoration:none;}/*!sc*/
.guoGbh linkButtonSx:focus:not([disabled]){-webkit-text-decoration:none;text-decoration:none;}/*!sc*/
.guoGbh linkButtonSx:active:not([disabled]){-webkit-text-decoration:none;text-decoration:none;}/*!sc*/
.iTETFQ{border-radius:6px;border:1px solid;border-color:var(--button-default-borderColor-rest,rgba(31,35,40,0.15));font-family:inherit;font-weight:500;font-size:14px;cursor:pointer;-webkit-appearance:none;-moz-appearance:none;appearance:none;-webkit-user-select:none;-moz-user-select:none;-ms-user-select:none;user-select:none;-webkit-text-decoration:none;text-decoration:none;text-align:center;display:-webkit-box;display:-webkit-flex;display:-ms-flexbox;display:flex;-webkit-align-items:center;-webkit-box-align:center;-ms-flex-align:center;align-items:center;-webkit-box-pack:justify;-webkit-justify-content:space-between;-ms-flex-pack:justify;justify-content:space-between;height:32px;padding:0 12px;gap:8px;min-width:-webkit-max-content;min-width:-moz-max-content;min-width:max-content;-webkit-transition:80ms cubic-bezier(0.65,0,0.35,1);transition:80ms cubic-bezier(0.65,0,0.35,1);-webkit-transition-property:color,fill,background-color,border-color;transition-property:color,fill,background-color,border-color;color:#24292f;background-color:#f6f8fa;box-shadow:0 1px 0 rgba(31,35,40,0.04),inset 0 1px 0 rgba(255,255,255,0.25);}/*!sc*/
.iTETFQ:focus:not(:disabled){box-shadow:none;outline:2px solid #0969da;outline-offset:-2px;}/*!sc*/
.iTETFQ:focus:not(:disabled):not(:focus-visible){outline:solid 1px transparent;}/*!sc*/
.iTETFQ:focus-visible:not(:disabled){box-shadow:none;outline:2px solid #0969da;outline-offset:-2px;}/*!sc*/
.iTETFQ[href]{display:-webkit-inline-box;display:-webkit-inline-flex;display:-ms-inline-flexbox;display:inline-flex;}/*!sc*/
.iTETFQ[href]:hover{-webkit-text-decoration:none;text-decoration:none;}/*!sc*/
.iTETFQ:hover{-webkit-transition-duration:80ms;transition-duration:80ms;}/*!sc*/
.iTETFQ:active{-webkit-transition:none;transition:none;}/*!sc*/
.iTETFQ:disabled{cursor:not-allowed;box-shadow:none;color:#8c959f;}/*!sc*/
.iTETFQ:disabled [data-component=ButtonCounter]{color:inherit;}/*!sc*/
@media (forced-colors:active){.iTETFQ:focus{outline:solid 1px transparent;}}/*!sc*/
.iTETFQ [data-component=ButtonCounter]{font-size:12px;}/*!sc*/
.iTETFQ[data-component=IconButton]{display:inline-grid;padding:unset;place-content:center;width:32px;min-width:unset;}/*!sc*/
.iTETFQ[data-size="small"]{padding:0 8px;height:28px;gap:4px;font-size:12px;}/*!sc*/
.iTETFQ[data-size="small"] [data-component="text"]{line-height:calc(20 / 12);}/*!sc*/
.iTETFQ[data-size="small"] [data-component=ButtonCounter]{font-size:12px;}/*!sc*/
.iTETFQ[data-size="small"] [data-component="buttonContent"] > :not(:last-child){margin-right:4px;}/*!sc*/
.iTETFQ[data-size="small"][data-component=IconButton]{width:28px;padding:unset;}/*!sc*/
.iTETFQ[data-size="large"]{padding:0 16px;height:40px;gap:8px;}/*!sc*/
.iTETFQ[data-size="large"] [data-component="buttonContent"] > :not(:last-child){margin-right:8px;}/*!sc*/
.iTETFQ[data-size="large"][data-component=IconButton]{width:40px;padding:unset;}/*!sc*/
.iTETFQ[data-block="block"]{width:100%;}/*!sc*/
.iTETFQ [data-component="leadingVisual"]{grid-area:leadingVisual;}/*!sc*/
.iTETFQ [data-component="text"]{grid-area:text;line-height:calc(20/14);white-space:nowrap;}/*!sc*/
.iTETFQ [data-component="trailingVisual"]{grid-area:trailingVisual;}/*!sc*/
.iTETFQ [data-component="trailingAction"]{margin-right:-4px;}/*!sc*/
.iTETFQ [data-component="buttonContent"]{-webkit-flex:1 0 auto;-ms-flex:1 0 auto;flex:1 0 auto;display:grid;grid-template-areas:"leadingVisual text trailingVisual";grid-template-columns:min-content minmax(0,auto) min-content;-webkit-align-items:center;-webkit-box-align:center;-ms-flex-align:center;align-items:center;-webkit-align-content:center;-ms-flex-line-pack:center;align-content:center;}/*!sc*/
.iTETFQ [data-component="buttonContent"] > :not(:last-child){margin-right:8px;}/*!sc*/
.iTETFQ:hover:not([disabled]){background-color:#f3f4f6;border-color:var(--button-default-borderColor-hover,rgba(31,35,40,0.15));}/*!sc*/
.iTETFQ:active:not([disabled]){background-color:hsla(220,14%,93%,1);border-color:var(--button-default-borderColor-active,rgba(31,35,40,0.15));}/*!sc*/
.iTETFQ[aria-expanded=true]{background-color:hsla(220,14%,93%,1);border-color:var(--button-default-borderColor-active,rgba(31,35,40,0.15));}/*!sc*/
.iTETFQ [data-component="leadingVisual"],.iTETFQ [data-component="trailingVisual"],.iTETFQ [data-component="trailingAction"]{color:var(--button-color,#656d76);}/*!sc*/
.cGEhqE{border-radius:6px;border:1px solid;border-color:var(--button-default-borderColor-rest,rgba(31,35,40,0.15));font-family:inherit;font-weight:500;font-size:14px;cursor:pointer;-webkit-appearance:none;-moz-appearance:none;appearance:none;-webkit-user-select:none;-moz-user-select:none;-ms-user-select:none;user-select:none;-webkit-text-decoration:none;text-decoration:none;text-align:center;display:-webkit-box;display:-webkit-flex;display:-ms-flexbox;display:flex;-webkit-align-items:center;-webkit-box-align:center;-ms-flex-align:center;align-items:center;-webkit-box-pack:justify;-webkit-justify-content:space-between;-ms-flex-pack:justify;justify-content:space-between;height:32px;padding:0 12px;gap:8px;min-width:-webkit-max-content;min-width:-moz-max-content;min-width:max-content;-webkit-transition:80ms cubic-bezier(0.65,0,0.35,1);transition:80ms cubic-bezier(0.65,0,0.35,1);-webkit-transition-property:color,fill,background-color,border-color;transition-property:color,fill,background-color,border-color;color:#24292f;background-color:#f6f8fa;box-shadow:0 1px 0 rgba(31,35,40,0.04),inset 0 1px 0 rgba(255,255,255,0.25);}/*!sc*/
.cGEhqE:focus:not(:disabled){box-shadow:none;outline:2px solid #0969da;outline-offset:-2px;}/*!sc*/
.cGEhqE:focus:not(:disabled):not(:focus-visible){outline:solid 1px transparent;}/*!sc*/
.cGEhqE:focus-visible:not(:disabled){box-shadow:none;outline:2px solid #0969da;outline-offset:-2px;}/*!sc*/
.cGEhqE[href]{display:-webkit-inline-box;display:-webkit-inline-flex;display:-ms-inline-flexbox;display:inline-flex;}/*!sc*/
.cGEhqE[href]:hover{-webkit-text-decoration:none;text-decoration:none;}/*!sc*/
.cGEhqE:hover{-webkit-transition-duration:80ms;transition-duration:80ms;}/*!sc*/
.cGEhqE:active{-webkit-transition:none;transition:none;}/*!sc*/
.cGEhqE:disabled{cursor:not-allowed;box-shadow:none;color:#8c959f;}/*!sc*/
.cGEhqE:disabled [data-component=ButtonCounter]{color:inherit;}/*!sc*/
@media (forced-colors:active){.cGEhqE:focus{outline:solid 1px transparent;}}/*!sc*/
.cGEhqE [data-component=ButtonCounter]{font-size:12px;}/*!sc*/
.cGEhqE[data-component=IconButton]{display:inline-grid;padding:unset;place-content:center;width:32px;min-width:unset;}/*!sc*/
.cGEhqE[data-size="small"]{padding:0 8px;height:28px;gap:4px;font-size:12px;}/*!sc*/
.cGEhqE[data-size="small"] [data-component="text"]{line-height:calc(20 / 12);}/*!sc*/
.cGEhqE[data-size="small"] [data-component=ButtonCounter]{font-size:12px;}/*!sc*/
.cGEhqE[data-size="small"] [data-component="buttonContent"] > :not(:last-child){margin-right:4px;}/*!sc*/
.cGEhqE[data-size="small"][data-component=IconButton]{width:28px;padding:unset;}/*!sc*/
.cGEhqE[data-size="large"]{padding:0 16px;height:40px;gap:8px;}/*!sc*/
.cGEhqE[data-size="large"] [data-component="buttonContent"] > :not(:last-child){margin-right:8px;}/*!sc*/
.cGEhqE[data-size="large"][data-component=IconButton]{width:40px;padding:unset;}/*!sc*/
.cGEhqE[data-block="block"]{width:100%;}/*!sc*/
.cGEhqE [data-component="leadingVisual"]{grid-area:leadingVisual;}/*!sc*/
.cGEhqE [data-component="text"]{grid-area:text;line-height:calc(20/14);white-space:nowrap;}/*!sc*/
.cGEhqE [data-component="trailingVisual"]{grid-area:trailingVisual;}/*!sc*/
.cGEhqE [data-component="trailingAction"]{margin-right:-4px;}/*!sc*/
.cGEhqE [data-component="buttonContent"]{-webkit-flex:1 0 auto;-ms-flex:1 0 auto;flex:1 0 auto;display:grid;grid-template-areas:"leadingVisual text trailingVisual";grid-template-columns:min-content minmax(0,auto) min-content;-webkit-align-items:center;-webkit-box-align:center;-ms-flex-align:center;align-items:center;-webkit-align-content:center;-ms-flex-line-pack:center;align-content:center;}/*!sc*/
.cGEhqE [data-component="buttonContent"] > :not(:last-child){margin-right:8px;}/*!sc*/
.cGEhqE:hover:not([disabled]){background-color:#f3f4f6;border-color:var(--button-default-borderColor-hover,rgba(31,35,40,0.15));}/*!sc*/
.cGEhqE:active:not([disabled]){background-color:hsla(220,14%,93%,1);border-color:var(--button-default-borderColor-active,rgba(31,35,40,0.15));}/*!sc*/
.cGEhqE[aria-expanded=true]{background-color:hsla(220,14%,93%,1);border-color:var(--button-default-borderColor-active,rgba(31,35,40,0.15));}/*!sc*/
.cGEhqE [data-component="leadingVisual"],.cGEhqE [data-component="trailingVisual"],.cGEhqE [data-component="trailingAction"]{color:var(--button-color,#656d76);}/*!sc*/
.cGEhqE[data-size="small"][data-no-visuals]{border-top-left-radius:0;border-bottom-left-radius:0;}/*!sc*/
.jtzLHK{border-radius:6px;border:1px solid;border-color:var(--button-default-borderColor-rest,rgba(31,35,40,0.15));font-family:inherit;font-weight:500;font-size:14px;cursor:pointer;-webkit-appearance:none;-moz-appearance:none;appearance:none;-webkit-user-select:none;-moz-user-select:none;-ms-user-select:none;user-select:none;-webkit-text-decoration:none;text-decoration:none;text-align:center;display:-webkit-box;display:-webkit-flex;display:-ms-flexbox;display:flex;-webkit-align-items:center;-webkit-box-align:center;-ms-flex-align:center;align-items:center;-webkit-box-pack:justify;-webkit-justify-content:space-between;-ms-flex-pack:justify;justify-content:space-between;height:32px;padding:0 12px;gap:8px;min-width:-webkit-max-content;min-width:-moz-max-content;min-width:max-content;-webkit-transition:80ms cubic-bezier(0.65,0,0.35,1);transition:80ms cubic-bezier(0.65,0,0.35,1);-webkit-transition-property:color,fill,background-color,border-color;transition-property:color,fill,background-color,border-color;color:#24292f;background-color:#f6f8fa;box-shadow:0 1px 0 rgba(31,35,40,0.04),inset 0 1px 0 rgba(255,255,255,0.25);}/*!sc*/
.jtzLHK:focus:not(:disabled){box-shadow:none;outline:2px solid #0969da;outline-offset:-2px;}/*!sc*/
.jtzLHK:focus:not(:disabled):not(:focus-visible){outline:solid 1px transparent;}/*!sc*/
.jtzLHK:focus-visible:not(:disabled){box-shadow:none;outline:2px solid #0969da;outline-offset:-2px;}/*!sc*/
.jtzLHK[href]{display:-webkit-inline-box;display:-webkit-inline-flex;display:-ms-inline-flexbox;display:inline-flex;}/*!sc*/
.jtzLHK[href]:hover{-webkit-text-decoration:none;text-decoration:none;}/*!sc*/
.jtzLHK:hover{-webkit-transition-duration:80ms;transition-duration:80ms;}/*!sc*/
.jtzLHK:active{-webkit-transition:none;transition:none;}/*!sc*/
.jtzLHK:disabled{cursor:not-allowed;box-shadow:none;color:#8c959f;}/*!sc*/
.jtzLHK:disabled [data-component=ButtonCounter]{color:inherit;}/*!sc*/
@media (forced-colors:active){.jtzLHK:focus{outline:solid 1px transparent;}}/*!sc*/
.jtzLHK [data-component=ButtonCounter]{font-size:12px;}/*!sc*/
.jtzLHK[data-component=IconButton]{display:inline-grid;padding:unset;place-content:center;width:32px;min-width:unset;}/*!sc*/
.jtzLHK[data-size="small"]{padding:0 8px;height:28px;gap:4px;font-size:12px;}/*!sc*/
.jtzLHK[data-size="small"] [data-component="text"]{line-height:calc(20 / 12);}/*!sc*/
.jtzLHK[data-size="small"] [data-component=ButtonCounter]{font-size:12px;}/*!sc*/
.jtzLHK[data-size="small"] [data-component="buttonContent"] > :not(:last-child){margin-right:4px;}/*!sc*/
.jtzLHK[data-size="small"][data-component=IconButton]{width:28px;padding:unset;}/*!sc*/
.jtzLHK[data-size="large"]{padding:0 16px;height:40px;gap:8px;}/*!sc*/
.jtzLHK[data-size="large"] [data-component="buttonContent"] > :not(:last-child){margin-right:8px;}/*!sc*/
.jtzLHK[data-size="large"][data-component=IconButton]{width:40px;padding:unset;}/*!sc*/
.jtzLHK[data-block="block"]{width:100%;}/*!sc*/
.jtzLHK [data-component="leadingVisual"]{grid-area:leadingVisual;}/*!sc*/
.jtzLHK [data-component="text"]{grid-area:text;line-height:calc(20/14);white-space:nowrap;}/*!sc*/
.jtzLHK [data-component="trailingVisual"]{grid-area:trailingVisual;}/*!sc*/
.jtzLHK [data-component="trailingAction"]{margin-right:-4px;}/*!sc*/
.jtzLHK [data-component="buttonContent"]{-webkit-flex:1 0 auto;-ms-flex:1 0 auto;flex:1 0 auto;display:grid;grid-template-areas:"leadingVisual text trailingVisual";grid-template-columns:min-content minmax(0,auto) min-content;-webkit-align-items:center;-webkit-box-align:center;-ms-flex-align:center;align-items:center;-webkit-align-content:center;-ms-flex-line-pack:center;align-content:center;}/*!sc*/
.jtzLHK [data-component="buttonContent"] > :not(:last-child){margin-right:8px;}/*!sc*/
.jtzLHK:hover:not([disabled]){background-color:#f3f4f6;border-color:var(--button-default-borderColor-hover,rgba(31,35,40,0.15));}/*!sc*/
.jtzLHK:active:not([disabled]){background-color:hsla(220,14%,93%,1);border-color:var(--button-default-borderColor-active,rgba(31,35,40,0.15));}/*!sc*/
.jtzLHK[aria-expanded=true]{background-color:hsla(220,14%,93%,1);border-color:var(--button-default-borderColor-active,rgba(31,35,40,0.15));}/*!sc*/
.jtzLHK [data-component="leadingVisual"],.jtzLHK [data-component="trailingVisual"],.jtzLHK [data-component="trailingAction"]{color:var(--button-color,#656d76);}/*!sc*/
.jtzLHK[data-size="small"][data-no-visuals]{border-top-right-radius:0;border-bottom-right-radius:0;border-right-width:0;}/*!sc*/
.jtzLHK[data-size="small"][data-no-visuals]:hover:not([disabled]){-webkit-text-decoration:none;text-decoration:none;}/*!sc*/
.jtzLHK[data-size="small"][data-no-visuals]:focus:not([disabled]){-webkit-text-decoration:none;text-decoration:none;}/*!sc*/
.jtzLHK[data-size="small"][data-no-visuals]:active:not([disabled]){-webkit-text-decoration:none;text-decoration:none;}/*!sc*/
.dObcAW{border-radius:6px;border:1px solid;border-color:transparent;font-family:inherit;font-weight:500;font-size:14px;cursor:pointer;-webkit-appearance:none;-moz-appearance:none;appearance:none;-webkit-user-select:none;-moz-user-select:none;-ms-user-select:none;user-select:none;-webkit-text-decoration:none;text-decoration:none;text-align:center;display:-webkit-box;display:-webkit-flex;display:-ms-flexbox;display:flex;-webkit-align-items:center;-webkit-box-align:center;-ms-flex-align:center;align-items:center;-webkit-box-pack:justify;-webkit-justify-content:space-between;-ms-flex-pack:justify;justify-content:space-between;height:32px;padding:0 12px;gap:8px;min-width:-webkit-max-content;min-width:-moz-max-content;min-width:max-content;-webkit-transition:80ms cubic-bezier(0.65,0,0.35,1);transition:80ms cubic-bezier(0.65,0,0.35,1);-webkit-transition-property:color,fill,background-color,border-color;transition-property:color,fill,background-color,border-color;color:#24292f;background-color:transparent;box-shadow:none;}/*!sc*/
.dObcAW:focus:not(:disabled){box-shadow:none;outline:2px solid #0969da;outline-offset:-2px;}/*!sc*/
.dObcAW:focus:not(:disabled):not(:focus-visible){outline:solid 1px transparent;}/*!sc*/
.dObcAW:focus-visible:not(:disabled){box-shadow:none;outline:2px solid #0969da;outline-offset:-2px;}/*!sc*/
.dObcAW[href]{display:-webkit-inline-box;display:-webkit-inline-flex;display:-ms-inline-flexbox;display:inline-flex;}/*!sc*/
.dObcAW[href]:hover{-webkit-text-decoration:none;text-decoration:none;}/*!sc*/
.dObcAW:hover{-webkit-transition-duration:80ms;transition-duration:80ms;}/*!sc*/
.dObcAW:active{-webkit-transition:none;transition:none;}/*!sc*/
.dObcAW:disabled{cursor:not-allowed;box-shadow:none;color:#8c959f;}/*!sc*/
.dObcAW:disabled [data-component=ButtonCounter],.dObcAW:disabled [data-component="leadingVisual"],.dObcAW:disabled [data-component="trailingAction"]{color:inherit;}/*!sc*/
@media (forced-colors:active){.dObcAW:focus{outline:solid 1px transparent;}}/*!sc*/
.dObcAW [data-component=ButtonCounter]{font-size:12px;}/*!sc*/
.dObcAW[data-component=IconButton]{display:inline-grid;padding:unset;place-content:center;width:32px;min-width:unset;}/*!sc*/
.dObcAW[data-size="small"]{padding:0 8px;height:28px;gap:4px;font-size:12px;}/*!sc*/
.dObcAW[data-size="small"] [data-component="text"]{line-height:calc(20 / 12);}/*!sc*/
.dObcAW[data-size="small"] [data-component=ButtonCounter]{font-size:12px;}/*!sc*/
.dObcAW[data-size="small"] [data-component="buttonContent"] > :not(:last-child){margin-right:4px;}/*!sc*/
.dObcAW[data-size="small"][data-component=IconButton]{width:28px;padding:unset;}/*!sc*/
.dObcAW[data-size="large"]{padding:0 16px;height:40px;gap:8px;}/*!sc*/
.dObcAW[data-size="large"] [data-component="buttonContent"] > :not(:last-child){margin-right:8px;}/*!sc*/
.dObcAW[data-size="large"][data-component=IconButton]{width:40px;padding:unset;}/*!sc*/
.dObcAW[data-block="block"]{width:100%;}/*!sc*/
.dObcAW [data-component="leadingVisual"]{grid-area:leadingVisual;color:#656d76;}/*!sc*/
.dObcAW [data-component="text"]{grid-area:text;line-height:calc(20/14);white-space:nowrap;}/*!sc*/
.dObcAW [data-component="trailingVisual"]{grid-area:trailingVisual;}/*!sc*/
.dObcAW [data-component="trailingAction"]{margin-right:-4px;color:#656d76;}/*!sc*/
.dObcAW [data-component="buttonContent"]{-webkit-flex:1 0 auto;-ms-flex:1 0 auto;flex:1 0 auto;display:grid;grid-template-areas:"leadingVisual text trailingVisual";grid-template-columns:min-content minmax(0,auto) min-content;-webkit-align-items:center;-webkit-box-align:center;-ms-flex-align:center;align-items:center;-webkit-align-content:center;-ms-flex-line-pack:center;align-content:center;}/*!sc*/
.dObcAW [data-component="buttonContent"] > :not(:last-child){margin-right:8px;}/*!sc*/
.dObcAW:hover:not([disabled]){background-color:rgba(208,215,222,0.32);}/*!sc*/
.dObcAW:active:not([disabled]){background-color:rgba(208,215,222,0.48);}/*!sc*/
.dObcAW[aria-expanded=true]{background-color:rgba(208,215,222,0.24);}/*!sc*/
.dObcAW[data-component="IconButton"][data-no-visuals]{color:#656d76;}/*!sc*/
.dObcAW[data-no-visuals]{color:#0969da;}/*!sc*/
.dObcAW:has([data-component="ButtonCounter"]){color:#24292f;}/*!sc*/
.dObcAW:disabled[data-no-visuals]{color:#8c959f;}/*!sc*/
.dObcAW:disabled[data-no-visuals] [data-component=ButtonCounter]{color:inherit;}/*!sc*/
.dObcAW[data-size="small"][data-no-visuals]{color:#656d76;}/*!sc*/
data-styled.g28[id="types__StyledButton-sc-ws60qy-0"]{content:"CtaSm,edBXBM,woUrt,jikjkp,jGImdP,hgfMvt,iwEpzF,bNMwOz,bLPynQ,fNmgkb,dQTpqF,cpKQnD,guoGbh,iTETFQ,cGEhqE,jtzLHK,dObcAW,"}/*!sc*/
.cXRxE{position:relative;display:inline-block;}/*!sc*/
.cXRxE::before{position:absolute;z-index:1000001;display:none;width:0px;height:0px;color:#24292f;pointer-events:none;content:'';border:6px solid transparent;opacity:0;}/*!sc*/
.cXRxE::after{position:absolute;z-index:1000000;display:none;padding:0.5em 0.75em;font:normal normal 11px/1.5 -apple-system,BlinkMacSystemFont,"Segoe UI","Noto Sans",Helvetica,Arial,sans-serif,"Apple Color Emoji","Segoe UI Emoji";-webkit-font-smoothing:subpixel-antialiased;color:#ffffff;text-align:center;-webkit-text-decoration:none;text-decoration:none;text-shadow:none;text-transform:none;-webkit-letter-spacing:normal;-moz-letter-spacing:normal;-ms-letter-spacing:normal;letter-spacing:normal;word-wrap:break-word;white-space:pre;pointer-events:none;content:attr(aria-label);background:#24292f;border-radius:3px;opacity:0;}/*!sc*/
@-webkit-keyframes tooltip-appear{from{opacity:0;}to{opacity:1;}}/*!sc*/
@keyframes tooltip-appear{from{opacity:0;}to{opacity:1;}}/*!sc*/
.cXRxE:hover::before,.cXRxE:active::before,.cXRxE:focus::before,.cXRxE:focus-within::before,.cXRxE:hover::after,.cXRxE:active::after,.cXRxE:focus::after,.cXRxE:focus-within::after{display:inline-block;-webkit-text-decoration:none;text-decoration:none;-webkit-animation-name:tooltip-appear;animation-name:tooltip-appear;-webkit-animation-duration:0.1s;animation-duration:0.1s;-webkit-animation-fill-mode:forwards;animation-fill-mode:forwards;-webkit-animation-timing-function:ease-in;animation-timing-function:ease-in;-webkit-animation-delay:0.4s;animation-delay:0.4s;}/*!sc*/
.cXRxE.tooltipped-no-delay:hover::before,.cXRxE.tooltipped-no-delay:active::before,.cXRxE.tooltipped-no-delay:focus::before,.cXRxE.tooltipped-no-delay:focus-within::before,.cXRxE.tooltipped-no-delay:hover::after,.cXRxE.tooltipped-no-delay:active::after,.cXRxE.tooltipped-no-delay:focus::after,.cXRxE.tooltipped-no-delay:focus-within::after{-webkit-animation-delay:0s;animation-delay:0s;}/*!sc*/
.cXRxE.tooltipped-multiline:hover::after,.cXRxE.tooltipped-multiline:active::after,.cXRxE.tooltipped-multiline:focus::after,.cXRxE.tooltipped-multiline:focus-within::after{display:table-cell;}/*!sc*/
.cXRxE.tooltipped-s::after,.cXRxE.tooltipped-se::after,.cXRxE.tooltipped-sw::after{top:100%;right:50%;margin-top:6px;}/*!sc*/
.cXRxE.tooltipped-s::before,.cXRxE.tooltipped-se::before,.cXRxE.tooltipped-sw::before{top:auto;right:50%;bottom:-7px;margin-right:-6px;border-bottom-color:#24292f;}/*!sc*/
.cXRxE.tooltipped-se::after{right:auto;left:50%;margin-left:-16px;}/*!sc*/
.cXRxE.tooltipped-sw::after{margin-right:-16px;}/*!sc*/
.cXRxE.tooltipped-n::after,.cXRxE.tooltipped-ne::after,.cXRxE.tooltipped-nw::after{right:50%;bottom:100%;margin-bottom:6px;}/*!sc*/
.cXRxE.tooltipped-n::before,.cXRxE.tooltipped-ne::before,.cXRxE.tooltipped-nw::before{top:-7px;right:50%;bottom:auto;margin-right:-6px;border-top-color:#24292f;}/*!sc*/
.cXRxE.tooltipped-ne::after{right:auto;left:50%;margin-left:-16px;}/*!sc*/
.cXRxE.tooltipped-nw::after{margin-right:-16px;}/*!sc*/
.cXRxE.tooltipped-s::after,.cXRxE.tooltipped-n::after{-webkit-transform:translateX(50%);-ms-transform:translateX(50%);transform:translateX(50%);}/*!sc*/
.cXRxE.tooltipped-w::after{right:100%;bottom:50%;margin-right:6px;-webkit-transform:translateY(50%);-ms-transform:translateY(50%);transform:translateY(50%);}/*!sc*/
.cXRxE.tooltipped-w::before{top:50%;bottom:50%;left:-7px;margin-top:-6px;border-left-color:#24292f;}/*!sc*/
.cXRxE.tooltipped-e::after{bottom:50%;left:100%;margin-left:6px;-webkit-transform:translateY(50%);-ms-transform:translateY(50%);transform:translateY(50%);}/*!sc*/
.cXRxE.tooltipped-e::before{top:50%;right:-7px;bottom:50%;margin-top:-6px;border-right-color:#24292f;}/*!sc*/
.cXRxE.tooltipped-multiline::after{width:-webkit-max-content;width:-moz-max-content;width:max-content;max-width:250px;word-wrap:break-word;white-space:pre-line;border-collapse:separate;}/*!sc*/
.cXRxE.tooltipped-multiline.tooltipped-s::after,.cXRxE.tooltipped-multiline.tooltipped-n::after{right:auto;left:50%;-webkit-transform:translateX(-50%);-ms-transform:translateX(-50%);transform:translateX(-50%);}/*!sc*/
.cXRxE.tooltipped-multiline.tooltipped-w::after,.cXRxE.tooltipped-multiline.tooltipped-e::after{right:100%;}/*!sc*/
.cXRxE.tooltipped-align-right-2::after{right:0;margin-right:0;}/*!sc*/
.cXRxE.tooltipped-align-right-2::before{right:15px;}/*!sc*/
.cXRxE.tooltipped-align-left-2::after{left:0;margin-left:0;}/*!sc*/
.cXRxE.tooltipped-align-left-2::before{left:10px;}/*!sc*/
data-styled.g29[id="Tooltip__TooltipBase-sc-17tf59c-0"]{content:"cXRxE,"}/*!sc*/
.cDLBls{border:0;font-size:inherit;font-family:inherit;background-color:transparent;-webkit-appearance:none;color:inherit;width:100%;}/*!sc*/
.cDLBls:focus{outline:0;}/*!sc*/
data-styled.g30[id="UnstyledTextInput-sc-14ypya-0"]{content:"cDLBls,"}/*!sc*/
.bOMzPg{min-width:0;}/*!sc*/
.ivLLle{padding-left:4px;padding-right:4px;font-weight:400;color:#656d76;font-size:16px;}/*!sc*/
.ghRVGj{color:#1F2328;}/*!sc*/
.dZAxGI{padding-left:4px;padding-right:4px;font-weight:400;color:#656d76;font-size:14px;}/*!sc*/
data-styled.g34[id="Text-sc-17v1xeu-0"]{content:"bOMzPg,ivLLle,ghRVGj,gPDEWA,dZAxGI,"}/*!sc*/
.cjbBGq{display:-webkit-inline-box;display:-webkit-inline-flex;display:-ms-inline-flexbox;display:inline-flex;vertical-align:middle;isolation:isolate;}/*!sc*/
.cjbBGq.cjbBGq > *{margin-inline-end:-1px;position:relative;border-radius:0;}/*!sc*/
.cjbBGq.cjbBGq > *:first-child{border-top-left-radius:6px;border-bottom-left-radius:6px;}/*!sc*/
.cjbBGq.cjbBGq > *:last-child{border-top-right-radius:6px;border-bottom-right-radius:6px;}/*!sc*/
.cjbBGq.cjbBGq > *:focus,.cjbBGq.cjbBGq > *:active,.cjbBGq.cjbBGq > *:hover{z-index:1;}/*!sc*/
data-styled.g71[id="ButtonGroup-sc-1gxhls1-0"]{content:"cjbBGq,"}/*!sc*/
.bDmUQT{--segmented-control-button-inner-padding:12px;--segmented-control-button-bg-inset:4px;--segmented-control-outer-radius:6px;background-color:transparent;border-color:transparent;border-radius:var(--segmented-control-outer-radius);border-width:0;color:currentColor;cursor:pointer;font-family:inherit;font-size:inherit;font-weight:600;padding:0;height:100%;width:100%;}/*!sc*/
.bDmUQT .segmentedControl-content{-webkit-align-items:center;-webkit-box-align:center;-ms-flex-align:center;align-items:center;background-color:#ffffff;border-color:#8c959f;border-style:solid;border-width:1px;border-radius:var(--segmented-control-outer-radius);display:-webkit-box;display:-webkit-flex;display:-ms-flexbox;display:flex;height:100%;-webkit-box-pack:center;-webkit-justify-content:center;-ms-flex-pack:center;justify-content:center;padding-left:var(--segmented-control-button-inner-padding);padding-right:var(--segmented-control-button-inner-padding);}/*!sc*/
.bDmUQT svg{fill:#656d76;}/*!sc*/
.bDmUQT:focus:focus-visible:not(:last-child):after{width:0;}/*!sc*/
.bDmUQT .segmentedControl-text:after{content:"Preview";display:block;font-weight:600;height:0;overflow:hidden;pointer-events:none;-webkit-user-select:none;-moz-user-select:none;-ms-user-select:none;user-select:none;visibility:hidden;}/*!sc*/
@media (pointer:coarse){.bDmUQT:before{content:"";position:absolute;left:0;right:0;-webkit-transform:translateY(-50%);-ms-transform:translateY(-50%);transform:translateY(-50%);top:50%;min-height:44px;}}/*!sc*/
.fzMylw{--segmented-control-button-inner-padding:12px;--segmented-control-button-bg-inset:4px;--segmented-control-outer-radius:6px;background-color:transparent;border-color:transparent;border-radius:var(--segmented-control-outer-radius);border-width:0;color:currentColor;cursor:pointer;font-family:inherit;font-size:inherit;font-weight:400;padding:var(--segmented-control-button-bg-inset);height:100%;width:100%;}/*!sc*/
.fzMylw .segmentedControl-content{-webkit-align-items:center;-webkit-box-align:center;-ms-flex-align:center;align-items:center;background-color:transparent;border-color:transparent;border-style:solid;border-width:1px;border-radius:calc(var(--segmented-control-outer-radius) - var(--segmented-control-button-bg-inset) / 2);display:-webkit-box;display:-webkit-flex;display:-ms-flexbox;display:flex;height:100%;-webkit-box-pack:center;-webkit-justify-content:center;-ms-flex-pack:center;justify-content:center;padding-left:calc(var(--segmented-control-button-inner-padding) - var(--segmented-control-button-bg-inset));padding-right:calc(var(--segmented-control-button-inner-padding) - var(--segmented-control-button-bg-inset));}/*!sc*/
.fzMylw svg{fill:#656d76;}/*!sc*/
.fzMylw:hover .segmentedControl-content{background-color:rgba(175,184,193,0.2);}/*!sc*/
.fzMylw:active .segmentedControl-content{background-color:rgba(175,184,193,0.4);}/*!sc*/
.fzMylw:focus:focus-visible:not(:last-child):after{width:0;}/*!sc*/
.fzMylw .segmentedControl-text:after{content:"Code";display:block;font-weight:600;height:0;overflow:hidden;pointer-events:none;-webkit-user-select:none;-moz-user-select:none;-ms-user-select:none;user-select:none;visibility:hidden;}/*!sc*/
@media (pointer:coarse){.fzMylw:before{content:"";position:absolute;left:0;right:0;-webkit-transform:translateY(-50%);-ms-transform:translateY(-50%);transform:translateY(-50%);top:50%;min-height:44px;}}/*!sc*/
.hBvGcq{--segmented-control-button-inner-padding:12px;--segmented-control-button-bg-inset:4px;--segmented-control-outer-radius:6px;background-color:transparent;border-color:transparent;border-radius:var(--segmented-control-outer-radius);border-width:0;color:currentColor;cursor:pointer;font-family:inherit;font-size:inherit;font-weight:400;padding:var(--segmented-control-button-bg-inset);height:100%;width:100%;}/*!sc*/
.hBvGcq .segmentedControl-content{-webkit-align-items:center;-webkit-box-align:center;-ms-flex-align:center;align-items:center;background-color:transparent;border-color:transparent;border-style:solid;border-width:1px;border-radius:calc(var(--segmented-control-outer-radius) - var(--segmented-control-button-bg-inset) / 2);display:-webkit-box;display:-webkit-flex;display:-ms-flexbox;display:flex;height:100%;-webkit-box-pack:center;-webkit-justify-content:center;-ms-flex-pack:center;justify-content:center;padding-left:calc(var(--segmented-control-button-inner-padding) - var(--segmented-control-button-bg-inset));padding-right:calc(var(--segmented-control-button-inner-padding) - var(--segmented-control-button-bg-inset));}/*!sc*/
.hBvGcq svg{fill:#656d76;}/*!sc*/
.hBvGcq:hover .segmentedControl-content{background-color:rgba(175,184,193,0.2);}/*!sc*/
.hBvGcq:active .segmentedControl-content{background-color:rgba(175,184,193,0.4);}/*!sc*/
.hBvGcq:focus:focus-visible:not(:last-child):after{width:0;}/*!sc*/
.hBvGcq .segmentedControl-text:after{content:"Blame";display:block;font-weight:600;height:0;overflow:hidden;pointer-events:none;-webkit-user-select:none;-moz-user-select:none;-ms-user-select:none;user-select:none;visibility:hidden;}/*!sc*/
@media (pointer:coarse){.hBvGcq:before{content:"";position:absolute;left:0;right:0;-webkit-transform:translateY(-50%);-ms-transform:translateY(-50%);transform:translateY(-50%);top:50%;min-height:44px;}}/*!sc*/
data-styled.g95[id="SegmentedControlButton__SegmentedControlButtonStyled-sc-8lkgxl-0"]{content:"bDmUQT,fzMylw,hBvGcq,"}/*!sc*/
.iYVwMz{background-color:#eaeef2;border-radius:6px;display:-webkit-inline-box;display:-webkit-inline-flex;display:-ms-inline-flexbox;display:inline-flex;font-size:14px;height:28px;margin:0;padding:0;}/*!sc*/
data-styled.g97[id="SegmentedControl__SegmentedControlList-sc-1rzig82-0"]{content:"iYVwMz,"}/*!sc*/
body[data-page-layout-dragging="true"]{cursor:col-resize;}/*!sc*/
body[data-page-layout-dragging="true"] *{-webkit-user-select:none;-moz-user-select:none;-ms-user-select:none;user-select:none;}/*!sc*/
data-styled.g101[id="sc-global-gbKrvU1"]{content:"sc-global-gbKrvU1,"}/*!sc*/
.gtekST{list-style:none;padding:0;margin:0;}/*!sc*/
.gtekST .PRIVATE_TreeView-item{outline:none;}/*!sc*/
.gtekST .PRIVATE_TreeView-item:focus-visible > div,.gtekST .PRIVATE_TreeView-item.focus-visible > div{box-shadow:inset 0 0 0 2px #0969da;}/*!sc*/
@media (forced-colors:active){.gtekST .PRIVATE_TreeView-item:focus-visible > div,.gtekST .PRIVATE_TreeView-item.focus-visible > div{outline:2px solid HighlightText;outline-offset:-2;}}/*!sc*/
.gtekST .PRIVATE_TreeView-item-container{--level:1;--toggle-width:1rem;position:relative;display:grid;grid-template-columns:calc(calc(var(--level) - 1) * (var(--toggle-width) / 2)) var(--toggle-width) 1fr;grid-template-areas:'spacer toggle content';width:100%;min-height:2rem;font-size:14px;color:#1F2328;border-radius:6px;cursor:pointer;}/*!sc*/
.gtekST .PRIVATE_TreeView-item-container:hover{background-color:rgba(208,215,222,0.32);}/*!sc*/
@media (forced-colors:active){.gtekST .PRIVATE_TreeView-item-container:hover{outline:2px solid transparent;outline-offset:-2px;}}/*!sc*/
@media (pointer:coarse){.gtekST .PRIVATE_TreeView-item-container{--toggle-width:1.5rem;min-height:2.75rem;}}/*!sc*/
.gtekST .PRIVATE_TreeView-item-container:has(.PRIVATE_TreeView-item-skeleton):hover{background-color:transparent;cursor:default;}/*!sc*/
@media (forced-colors:active){.gtekST .PRIVATE_TreeView-item-container:has(.PRIVATE_TreeView-item-skeleton):hover{outline:none;}}/*!sc*/
.gtekST[data-omit-spacer='true'] .PRIVATE_TreeView-item-container{grid-template-columns:0 0 1fr;}/*!sc*/
.gtekST .PRIVATE_TreeView-item[aria-current='true'] > .PRIVATE_TreeView-item-container{background-color:rgba(208,215,222,0.24);}/*!sc*/
.gtekST .PRIVATE_TreeView-item[aria-current='true'] > .PRIVATE_TreeView-item-container::after{content:'';position:absolute;top:calc(50% - 0.75rem);left:-8px;width:0.25rem;height:1.5rem;background-color:#0969da;border-radius:6px;}/*!sc*/
@media (forced-colors:active){.gtekST .PRIVATE_TreeView-item[aria-current='true'] > .PRIVATE_TreeView-item-container::after{background-color:HighlightText;}}/*!sc*/
.gtekST .PRIVATE_TreeView-item-toggle{grid-area:toggle;display:-webkit-box;display:-webkit-flex;display:-ms-flexbox;display:flex;-webkit-align-items:center;-webkit-box-align:center;-ms-flex-align:center;align-items:center;-webkit-box-pack:center;-webkit-justify-content:center;-ms-flex-pack:center;justify-content:center;height:100%;color:#656d76;}/*!sc*/
.gtekST .PRIVATE_TreeView-item-toggle--hover:hover{background-color:rgba(208,215,222,0.32);}/*!sc*/
.gtekST .PRIVATE_TreeView-item-toggle--end{border-top-left-radius:6px;border-bottom-left-radius:6px;}/*!sc*/
.gtekST .PRIVATE_TreeView-item-content{grid-area:content;display:-webkit-box;display:-webkit-flex;display:-ms-flexbox;display:flex;-webkit-align-items:center;-webkit-box-align:center;-ms-flex-align:center;align-items:center;height:100%;padding:0 8px;gap:8px;}/*!sc*/
.gtekST .PRIVATE_TreeView-item-content-text{-webkit-flex:1 1 auto;-ms-flex:1 1 auto;flex:1 1 auto;width:0;overflow:hidden;white-space:nowrap;text-overflow:ellipsis;}/*!sc*/
.gtekST .PRIVATE_TreeView-item-visual{display:-webkit-box;display:-webkit-flex;display:-ms-flexbox;display:flex;color:#656d76;}/*!sc*/
.gtekST .PRIVATE_TreeView-item-level-line{width:100%;height:100%;border-right:1px solid;border-color:rgba(31,35,40,0.15);}/*!sc*/
@media (hover:hover){.gtekST .PRIVATE_TreeView-item-level-line{border-color:transparent;}.gtekST:hover .PRIVATE_TreeView-item-level-line,.gtekST:focus-within .PRIVATE_TreeView-item-level-line{border-color:rgba(31,35,40,0.15);}}/*!sc*/
.gtekST .PRIVATE_TreeView-directory-icon{display:grid;color:#54aeff;}/*!sc*/
.gtekST .PRIVATE_VisuallyHidden{position:absolute;width:1px;height:1px;padding:0;margin:-1px;overflow:hidden;-webkit-clip:rect(0,0,0,0);clip:rect(0,0,0,0);white-space:nowrap;border-width:0;}/*!sc*/
data-styled.g108[id="TreeView__UlBox-sc-4ex6b6-0"]{content:"gtekST,"}/*!sc*/
</style><meta data-hydrostats="publish"/> <!-- --> <!-- --> <!-- --> <button hidden="" data-testid="header-permalink-button" data-hotkey-scope="read-only-cursor-text-area"></button><button hidden=""></button><div class="Box-sc-g0xbh4-0"><div style="--sticky-pane-height:100vh" class="Box-sc-g0xbh4-0 fSWWem"><div class="Box-sc-g0xbh4-0 kPPmzM"><div class="Box-sc-g0xbh4-0 cIAPDV"><div tabindex="0" class="Box-sc-g0xbh4-0 gvCnwW"><div class="Box-sc-g0xbh4-0 ioxSsX"><div class="Box-sc-g0xbh4-0 eUyHuk"></div><div class="Box-sc-g0xbh4-0 hAeDYA"><div role="separator" class="Box-sc-g0xbh4-0 ekKrwo"></div></div><div style="--pane-width:320px" class="Box-sc-g0xbh4-0 gNdDUH"><div class="Box-sc-g0xbh4-0 react-tree-pane-contents"><div id="repos-file-tree" class="Box-sc-g0xbh4-0 jywUSN"><div class="Box-sc-g0xbh4-0 hBSSUC"><div class="Box-sc-g0xbh4-0 iPurHz"><h2 class="Heading__StyledHeading-sc-1c1dgg0-0 fNPcqd"><button style="--button-color:fg.muted" type="button" aria-label="Expand side panel" data-testid="expand-file-tree-button-mobile" class="types__StyledButton-sc-ws60qy-0 CtaSm"><span data-component="buttonContent" class="Box-sc-g0xbh4-0 kkrdEu"><span data-component="leadingVisual" class="Box-sc-g0xbh4-0 trpoQ"><svg aria-hidden="true" focusable="false" role="img" class="octicon octicon-arrow-left" viewBox="0 0 16 16" width="16" height="16" fill="currentColor" style="display:inline-block;user-select:none;vertical-align:text-bottom;overflow:visible"><path d="M7.78 12.53a.75.75 0 0 1-1.06 0L2.47 8.28a.75.75 0 0 1 0-1.06l4.25-4.25a.751.751 0 0 1 1.042.018.751.751 0 0 1 .018 1.042L4.81 7h7.44a.75.75 0 0 1 0 1.5H4.81l2.97 2.97a.75.75 0 0 1 0 1.06Z"></path></svg></span><span data-component="text">Files</span></span></button><button data-component="IconButton" type="button" data-testid="collapse-file-tree-button" aria-label="Side panel" aria-expanded="true" aria-controls="repos-file-tree" class="types__StyledButton-sc-ws60qy-0 edBXBM" data-no-visuals="true"><svg aria-hidden="true" focusable="false" role="img" class="octicon octicon-sidebar-expand" viewBox="0 0 16 16" width="16" height="16" fill="currentColor" style="display:inline-block;user-select:none;vertical-align:text-bottom;overflow:visible"><path d="m4.177 7.823 2.396-2.396A.25.25 0 0 1 7 5.604v4.792a.25.25 0 0 1-.427.177L4.177 8.177a.25.25 0 0 1 0-.354Z"></path><path d="M0 1.75C0 .784.784 0 1.75 0h12.5C15.216 0 16 .784 16 1.75v12.5A1.75 1.75 0 0 1 14.25 16H1.75A1.75 1.75 0 0 1 0 14.25Zm1.75-.25a.25.25 0 0 0-.25.25v12.5c0 .138.112.25.25.25H9.5v-13Zm12.5 13a.25.25 0 0 0 .25-.25V1.75a.25.25 0 0 0-.25-.25H11v13Z"></path></svg></button><button hidden="" data-testid="" data-hotkey-scope="read-only-cursor-text-area"></button></h2><h2 class="Heading__StyledHeading-sc-1c1dgg0-0 imcwCi">Files</h2></div><div class="Box-sc-g0xbh4-0 hVHHYa"><div class="Box-sc-g0xbh4-0 idZfsJ"><button type="button" id="branch-picker-repos-header-ref-selector" aria-haspopup="true" tabindex="0" aria-label="main branch" data-testid="anchor-button" class="types__StyledButton-sc-ws60qy-0 woUrt react-repos-tree-pane-ref-selector width-full ref-selector-class"><span data-component="buttonContent" class="Box-sc-g0xbh4-0 kkrdEu"><span data-component="text"><div class="Box-sc-g0xbh4-0 bKgizp"><div class="Box-sc-g0xbh4-0 kYlvBX"><svg aria-hidden="true" focusable="false" role="img" class="octicon octicon-git-branch" viewBox="0 0 16 16" width="16" height="16" fill="currentColor" style="display:inline-block;user-select:none;vertical-align:text-bottom;overflow:visible"><path d="M9.5 3.25a2.25 2.25 0 1 1 3 2.122V6A2.5 2.5 0 0 1 10 8.5H6a1 1 0 0 0-1 1v1.128a2.251 2.251 0 1 1-1.5 0V5.372a2.25 2.25 0 1 1 1.5 0v1.836A2.493 2.493 0 0 1 6 7h4a1 1 0 0 0 1-1v-.628A2.25 2.25 0 0 1 9.5 3.25Zm-6 0a.75.75 0 1 0 1.5 0 .75.75 0 0 0-1.5 0Zm8.25-.75a.75.75 0 1 0 0 1.5.75.75 0 0 0 0-1.5ZM4.25 12a.75.75 0 1 0 0 1.5.75.75 0 0 0 0-1.5Z"></path></svg></div><div class="Box-sc-g0xbh4-0 caeYDk"><span class="Text-sc-17v1xeu-0 bOMzPg"> <!-- -->main</span></div></div></span><span data-component="trailingVisual" class="Box-sc-g0xbh4-0 trpoQ"><svg aria-hidden="true" focusable="false" role="img" class="octicon octicon-triangle-down" viewBox="0 0 16 16" width="16" height="16" fill="currentColor" style="display:inline-block;user-select:none;vertical-align:text-bottom;overflow:visible"><path d="m4.427 7.427 3.396 3.396a.25.25 0 0 0 .354 0l3.396-3.396A.25.25 0 0 0 11.396 7H4.604a.25.25 0 0 0-.177.427Z"></path></svg></span></span></button><button hidden="" data-hotkey-scope="read-only-cursor-text-area"></button></div><div class="Box-sc-g0xbh4-0 jahcnb"><span role="tooltip" aria-label="Add file" class="Tooltip__TooltipBase-sc-17tf59c-0 cXRxE tooltipped-s"><a sx="[object Object]" data-component="IconButton" type="button" aria-label="Add file" data-no-visuals="true" class="types__StyledButton-sc-ws60qy-0 jikjkp" href="/harshitasaini469/Handwritten_digit_classification/new/main"><svg aria-hidden="true" focusable="false" role="img" class="octicon octicon-plus" viewBox="0 0 16 16" width="16" height="16" fill="currentColor" style="display:inline-block;user-select:none;vertical-align:text-bottom;overflow:visible"><path d="M7.75 2a.75.75 0 0 1 .75.75V7h4.25a.75.75 0 0 1 0 1.5H8.5v4.25a.75.75 0 0 1-1.5 0V8.5H2.75a.75.75 0 0 1 0-1.5H7V2.75A.75.75 0 0 1 7.75 2Z"></path></svg></a></span><button data-component="IconButton" type="button" aria-label="Search this repository" data-no-visuals="true" class="types__StyledButton-sc-ws60qy-0 jGImdP"><svg aria-hidden="true" focusable="false" role="img" class="octicon octicon-search" viewBox="0 0 16 16" width="16" height="16" fill="currentColor" style="display:inline-block;user-select:none;vertical-align:text-bottom;overflow:visible"><path d="M10.68 11.74a6 6 0 0 1-7.922-8.982 6 6 0 0 1 8.982 7.922l3.04 3.04a.749.749 0 0 1-.326 1.275.749.749 0 0 1-.734-.215ZM11.5 7a4.499 4.499 0 1 0-8.997 0A4.499 4.499 0 0 0 11.5 7Z"></path></svg></button><button hidden="" data-testid="" data-hotkey-scope="read-only-cursor-text-area"></button></div></div></div><div class="Box-sc-g0xbh4-0 ccToMy"><button hidden="" data-testid="" data-hotkey-scope="read-only-cursor-text-area"></button><button hidden=""></button><span class="TextInputWrapper__TextInputBaseWrapper-sc-1mqhpbi-0 TextInputWrapper-sc-1mqhpbi-1 cgNHBf hDoBEw TextInput-wrapper" aria-busy="false"><span class="TextInput-icon"><svg aria-hidden="true" focusable="false" role="img" class="octicon octicon-search" viewBox="0 0 16 16" width="16" height="16" fill="currentColor" style="display:inline-block;user-select:none;vertical-align:text-bottom;overflow:visible"><path d="M10.68 11.74a6 6 0 0 1-7.922-8.982 6 6 0 0 1 8.982 7.922l3.04 3.04a.749.749 0 0 1-.326 1.275.749.749 0 0 1-.734-.215ZM11.5 7a4.499 4.499 0 1 0-8.997 0A4.499 4.499 0 0 0 11.5 7Z"></path></svg></span><input type="text" aria-label="Go to file" role="combobox" aria-controls="file-results-list" aria-expanded="false" aria-haspopup="dialog" autoCorrect="off" spellcheck="false" placeholder="Go to file" data-component="input" class="UnstyledTextInput-sc-14ypya-0 cDLBls" value=""/><span class="TextInput-icon"><div class="Box-sc-g0xbh4-0 cNvKlH"><kbd>t</kbd></div></span></span></div><div class="Box-sc-g0xbh4-0 cLfAnm"><div class="react-tree-show-tree-items"><div data-testid="repos-file-tree-container" class="Box-sc-g0xbh4-0 erWCJP"><nav aria-label="File Tree Navigation"><span role="status" aria-live="polite" aria-atomic="true" class="_VisuallyHidden__VisuallyHidden-sc-11jhm7a-0 rTZSs"></span><ul role="tree" aria-label="Files" class="TreeView__UlBox-sc-4ex6b6-0 gtekST"><li class="PRIVATE_TreeView-item" tabindex="0" id="images-item" role="treeitem" aria-labelledby=":Rqcfdjal5:" aria-describedby=":Rqcfdjal5H1: :Rqcfdjal5H2:" aria-level="1" aria-expanded="false" aria-selected="false"><div class="PRIVATE_TreeView-item-container" style="--level:1;content-visibility:auto;contain-intrinsic-size:auto 2rem"><div style="grid-area:spacer;display:flex"><div style="width:100%;display:flex"></div></div><div class="PRIVATE_TreeView-item-toggle PRIVATE_TreeView-item-toggle--hover PRIVATE_TreeView-item-toggle--end"><svg aria-hidden="true" focusable="false" role="img" class="octicon octicon-chevron-right" viewBox="0 0 12 12" width="12" height="12" fill="currentColor" style="display:inline-block;user-select:none;vertical-align:text-bottom;overflow:visible"><path d="M4.7 10c-.2 0-.4-.1-.5-.2-.3-.3-.3-.8 0-1.1L6.9 6 4.2 3.3c-.3-.3-.3-.8 0-1.1.3-.3.8-.3 1.1 0l3.3 3.2c.3.3.3.8 0 1.1L5.3 9.7c-.2.2-.4.3-.6.3Z"></path></svg></div><div id=":Rqcfdjal5:" class="PRIVATE_TreeView-item-content"><div class="PRIVATE_VisuallyHidden" aria-hidden="true" id=":Rqcfdjal5H1:"></div><div class="PRIVATE_TreeView-item-visual" aria-hidden="true"><div class="PRIVATE_TreeView-directory-icon"><svg aria-hidden="true" focusable="false" role="img" class="octicon octicon-file-directory-fill" viewBox="0 0 16 16" width="16" height="16" fill="currentColor" style="display:inline-block;user-select:none;vertical-align:text-bottom;overflow:visible"><path d="M1.75 1A1.75 1.75 0 0 0 0 2.75v10.5C0 14.216.784 15 1.75 15h12.5A1.75 1.75 0 0 0 16 13.25v-8.5A1.75 1.75 0 0 0 14.25 3H7.5a.25.25 0 0 1-.2-.1l-.9-1.2C6.07 1.26 5.55 1 5 1H1.75Z"></path></svg></div></div><span class="PRIVATE_TreeView-item-content-text"><span>images</span></span></div></div></li><li class="PRIVATE_TreeView-item" tabindex="0" id="MNIST_Digit_Classification.ipynb-item" role="treeitem" aria-labelledby=":R1acfdjal5:" aria-describedby=":R1acfdjal5H1: :R1acfdjal5H2:" aria-level="1" aria-current="true" aria-selected="false"><div class="PRIVATE_TreeView-item-container" style="--level:1"><div style="grid-area:spacer;display:flex"><div style="width:100%;display:flex"></div></div><div id=":R1acfdjal5:" class="PRIVATE_TreeView-item-content"><div class="PRIVATE_VisuallyHidden" aria-hidden="true" id=":R1acfdjal5H1:"></div><div class="PRIVATE_TreeView-item-visual" aria-hidden="true"><svg aria-hidden="true" focusable="false" role="img" class="octicon octicon-file" viewBox="0 0 16 16" width="16" height="16" fill="currentColor" style="display:inline-block;user-select:none;vertical-align:text-bottom;overflow:visible"><path d="M2 1.75C2 .784 2.784 0 3.75 0h6.586c.464 0 .909.184 1.237.513l2.914 2.914c.329.328.513.773.513 1.237v9.586A1.75 1.75 0 0 1 13.25 16h-9.5A1.75 1.75 0 0 1 2 14.25Zm1.75-.25a.25.25 0 0 0-.25.25v12.5c0 .138.112.25.25.25h9.5a.25.25 0 0 0 .25-.25V6h-2.75A1.75 1.75 0 0 1 9 4.25V1.5Zm6.75.062V4.25c0 .138.112.25.25.25h2.688l-.011-.013-2.914-2.914-.013-.011Z"></path></svg></div><span class="PRIVATE_TreeView-item-content-text"><span>MNIST_Digit_Classification.ipynb</span></span></div></div></li><li class="PRIVATE_TreeView-item" tabindex="0" id="README.md-item" role="treeitem" aria-labelledby=":R1qcfdjal5:" aria-describedby=":R1qcfdjal5H1: :R1qcfdjal5H2:" aria-level="1" aria-selected="false"><div class="PRIVATE_TreeView-item-container" style="--level:1;content-visibility:auto;contain-intrinsic-size:auto 2rem"><div style="grid-area:spacer;display:flex"><div style="width:100%;display:flex"></div></div><div id=":R1qcfdjal5:" class="PRIVATE_TreeView-item-content"><div class="PRIVATE_VisuallyHidden" aria-hidden="true" id=":R1qcfdjal5H1:"></div><div class="PRIVATE_TreeView-item-visual" aria-hidden="true"><svg aria-hidden="true" focusable="false" role="img" class="octicon octicon-file" viewBox="0 0 16 16" width="16" height="16" fill="currentColor" style="display:inline-block;user-select:none;vertical-align:text-bottom;overflow:visible"><path d="M2 1.75C2 .784 2.784 0 3.75 0h6.586c.464 0 .909.184 1.237.513l2.914 2.914c.329.328.513.773.513 1.237v9.586A1.75 1.75 0 0 1 13.25 16h-9.5A1.75 1.75 0 0 1 2 14.25Zm1.75-.25a.25.25 0 0 0-.25.25v12.5c0 .138.112.25.25.25h9.5a.25.25 0 0 0 .25-.25V6h-2.75A1.75 1.75 0 0 1 9 4.25V1.5Zm6.75.062V4.25c0 .138.112.25.25.25h2.688l-.011-.013-2.914-2.914-.013-.011Z"></path></svg></div><span class="PRIVATE_TreeView-item-content-text"><span>README.md</span></span></div></div></li><li class="PRIVATE_TreeView-item" tabindex="0" id="handwritten_digit.mp4-item" role="treeitem" aria-labelledby=":R2acfdjal5:" aria-describedby=":R2acfdjal5H1: :R2acfdjal5H2:" aria-level="1" aria-selected="false"><div class="PRIVATE_TreeView-item-container" style="--level:1;content-visibility:auto;contain-intrinsic-size:auto 2rem"><div style="grid-area:spacer;display:flex"><div style="width:100%;display:flex"></div></div><div id=":R2acfdjal5:" class="PRIVATE_TreeView-item-content"><div class="PRIVATE_VisuallyHidden" aria-hidden="true" id=":R2acfdjal5H1:"></div><div class="PRIVATE_TreeView-item-visual" aria-hidden="true"><svg aria-hidden="true" focusable="false" role="img" class="octicon octicon-file" viewBox="0 0 16 16" width="16" height="16" fill="currentColor" style="display:inline-block;user-select:none;vertical-align:text-bottom;overflow:visible"><path d="M2 1.75C2 .784 2.784 0 3.75 0h6.586c.464 0 .909.184 1.237.513l2.914 2.914c.329.328.513.773.513 1.237v9.586A1.75 1.75 0 0 1 13.25 16h-9.5A1.75 1.75 0 0 1 2 14.25Zm1.75-.25a.25.25 0 0 0-.25.25v12.5c0 .138.112.25.25.25h9.5a.25.25 0 0 0 .25-.25V6h-2.75A1.75 1.75 0 0 1 9 4.25V1.5Zm6.75.062V4.25c0 .138.112.25.25.25h2.688l-.011-.013-2.914-2.914-.013-.011Z"></path></svg></div><span class="PRIVATE_TreeView-item-content-text"><span>handwritten_digit.mp4</span></span></div></div></li></ul></nav></div></div><div class="Box-sc-g0xbh4-0 hwhShM"><div class="Box-sc-g0xbh4-0 cYPxpP"><a href="https://docs.github.com/repositories/working-with-files/using-files/navigating-code-on-github" target="_blank" class="Link__StyledLink-sc-14289xe-0 fIqerb">Documentation</a> • <a href="https://github.com/orgs/community/discussions/54546" target="_blank" class="Link__StyledLink-sc-14289xe-0 fIqerb">Share feedback</a></div></div></div><div class="Box-sc-g0xbh4-0 fBtiVT"><div class="Box-sc-g0xbh4-0 cYPxpP"><a href="https://docs.github.com/repositories/working-with-files/using-files/navigating-code-on-github" target="_blank" class="Link__StyledLink-sc-14289xe-0 fIqerb">Documentation</a> • <a href="https://github.com/orgs/community/discussions/54546" target="_blank" class="Link__StyledLink-sc-14289xe-0 fIqerb">Share feedback</a></div></div></div></div><span class="_VisuallyHidden__VisuallyHidden-sc-11jhm7a-0 rTZSs"><form><label for=":Rdjal5:-width-input">Pane width</label><p id=":Rdjal5:-input-hint">Use a value between <!-- -->0<!-- -->% and <!-- -->0<!-- -->%</p><input id=":Rdjal5:-width-input" aria-describedby=":Rdjal5:-input-hint" name="pane-width" inputMode="numeric" pattern="[0-9]*" autoCorrect="off" autoComplete="off" type="text" value=""/><button type="submit">Change width</button></form></span></div></div></div><div class="Box-sc-g0xbh4-0 emFMJu"><div class="Box-sc-g0xbh4-0"></div><div class="Box-sc-g0xbh4-0 hlUAHL"><div data-selector="repos-split-pane-content" tabindex="0" class="Box-sc-g0xbh4-0 iStsmI"><div class="Box-sc-g0xbh4-0 eIgvIk"><div class="Box-sc-g0xbh4-0 eVFfWF container"><div class="Box-sc-g0xbh4-0 kgXdnT react-code-view-header--narrow"><div class="Box-sc-g0xbh4-0 kzTa-dF"><div class="Box-sc-g0xbh4-0 bbXCl"><h2 class="Heading__StyledHeading-sc-1c1dgg0-0 fNPcqd"><button style="--button-color:fg.muted" type="button" aria-label="Expand side panel" data-testid="expand-file-tree-button-mobile" class="types__StyledButton-sc-ws60qy-0 CtaSm"><span data-component="buttonContent" class="Box-sc-g0xbh4-0 kkrdEu"><span data-component="leadingVisual" class="Box-sc-g0xbh4-0 trpoQ"><svg aria-hidden="true" focusable="false" role="img" class="octicon octicon-arrow-left" viewBox="0 0 16 16" width="16" height="16" fill="currentColor" style="display:inline-block;user-select:none;vertical-align:text-bottom;overflow:visible"><path d="M7.78 12.53a.75.75 0 0 1-1.06 0L2.47 8.28a.75.75 0 0 1 0-1.06l4.25-4.25a.751.751 0 0 1 1.042.018.751.751 0 0 1 .018 1.042L4.81 7h7.44a.75.75 0 0 1 0 1.5H4.81l2.97 2.97a.75.75 0 0 1 0 1.06Z"></path></svg></span><span data-component="text">Files</span></span></button><button data-component="IconButton" type="button" data-testid="collapse-file-tree-button" aria-label="Side panel" aria-expanded="true" aria-controls="repos-file-tree" class="types__StyledButton-sc-ws60qy-0 edBXBM" data-no-visuals="true"><svg aria-hidden="true" focusable="false" role="img" class="octicon octicon-sidebar-expand" viewBox="0 0 16 16" width="16" height="16" fill="currentColor" style="display:inline-block;user-select:none;vertical-align:text-bottom;overflow:visible"><path d="m4.177 7.823 2.396-2.396A.25.25 0 0 1 7 5.604v4.792a.25.25 0 0 1-.427.177L4.177 8.177a.25.25 0 0 1 0-.354Z"></path><path d="M0 1.75C0 .784.784 0 1.75 0h12.5C15.216 0 16 .784 16 1.75v12.5A1.75 1.75 0 0 1 14.25 16H1.75A1.75 1.75 0 0 1 0 14.25Zm1.75-.25a.25.25 0 0 0-.25.25v12.5c0 .138.112.25.25.25H9.5v-13Zm12.5 13a.25.25 0 0 0 .25-.25V1.75a.25.25 0 0 0-.25-.25H11v13Z"></path></svg></button><button hidden="" data-testid="" data-hotkey-scope="read-only-cursor-text-area"></button></h2><div class="Box-sc-g0xbh4-0 hGGMNu"><div class="Box-sc-g0xbh4-0 eHRrYV"><button type="button" id="branch-picker-repos-header-ref-selector-narrow" aria-haspopup="true" tabindex="0" aria-label="main branch" data-testid="anchor-button" class="types__StyledButton-sc-ws60qy-0 hgfMvt ref-selector-class"><span data-component="buttonContent" class="Box-sc-g0xbh4-0 kkrdEu"><span data-component="text"><div class="Box-sc-g0xbh4-0 bKgizp"><div class="Box-sc-g0xbh4-0 kYlvBX"><svg aria-hidden="true" focusable="false" role="img" class="octicon octicon-git-branch" viewBox="0 0 16 16" width="16" height="16" fill="currentColor" style="display:inline-block;user-select:none;vertical-align:text-bottom;overflow:visible"><path d="M9.5 3.25a2.25 2.25 0 1 1 3 2.122V6A2.5 2.5 0 0 1 10 8.5H6a1 1 0 0 0-1 1v1.128a2.251 2.251 0 1 1-1.5 0V5.372a2.25 2.25 0 1 1 1.5 0v1.836A2.493 2.493 0 0 1 6 7h4a1 1 0 0 0 1-1v-.628A2.25 2.25 0 0 1 9.5 3.25Zm-6 0a.75.75 0 1 0 1.5 0 .75.75 0 0 0-1.5 0Zm8.25-.75a.75.75 0 1 0 0 1.5.75.75 0 0 0 0-1.5ZM4.25 12a.75.75 0 1 0 0 1.5.75.75 0 0 0 0-1.5Z"></path></svg></div><div class="Box-sc-g0xbh4-0 dKmYfk"><span class="Text-sc-17v1xeu-0 bOMzPg"> <!-- -->main</span></div></div></span><span data-component="trailingVisual" class="Box-sc-g0xbh4-0 trpoQ"><svg aria-hidden="true" focusable="false" role="img" class="octicon octicon-triangle-down" viewBox="0 0 16 16" width="16" height="16" fill="currentColor" style="display:inline-block;user-select:none;vertical-align:text-bottom;overflow:visible"><path d="m4.427 7.427 3.396 3.396a.25.25 0 0 0 .354 0l3.396-3.396A.25.25 0 0 0 11.396 7H4.604a.25.25 0 0 0-.177.427Z"></path></svg></span></span></button><button hidden="" data-hotkey-scope="read-only-cursor-text-area"></button></div> <button type="button" data-no-visuals="true" class="types__StyledButton-sc-ws60qy-0 iwEpzF"><span data-component="buttonContent" class="Box-sc-g0xbh4-0 kkrdEu"><span data-component="text">Blame</span></span></button><button hidden="" data-testid="" data-hotkey-scope="read-only-cursor-text-area"></button><button data-component="IconButton" type="button" aria-label="More file actions" class="types__StyledButton-sc-ws60qy-0 bNMwOz js-blob-dropdown-click" title="More file actions" data-testid="more-file-actions-button" id=":R9aaqjal5:" aria-haspopup="true" tabindex="0" data-no-visuals="true"><svg aria-hidden="true" focusable="false" role="img" class="octicon octicon-kebab-horizontal" viewBox="0 0 16 16" width="16" height="16" fill="currentColor" style="display:inline-block;user-select:none;vertical-align:text-bottom;overflow:visible"><path d="M8 9a1.5 1.5 0 1 0 0-3 1.5 1.5 0 0 0 0 3ZM1.5 9a1.5 1.5 0 1 0 0-3 1.5 1.5 0 0 0 0 3Zm13 0a1.5 1.5 0 1 0 0-3 1.5 1.5 0 0 0 0 3Z"></path></svg></button> </div></div><div class="Box-sc-g0xbh4-0 hSNzKh"><div class="Box-sc-g0xbh4-0 eTvGbF"><nav data-testid="breadcrumbs" aria-labelledby="repos-header-breadcrumb-mobile-heading" id="repos-header-breadcrumb-mobile" class="Box-sc-g0xbh4-0 kzRgrI"><h2 class="Heading__StyledHeading-sc-1c1dgg0-0 cgQnMS sr-only" data-testid="screen-reader-heading" id="repos-header-breadcrumb-mobile-heading">Breadcrumbs</h2><ol class="Box-sc-g0xbh4-0 cmAPIB"><li class="Box-sc-g0xbh4-0 jwXCBK"><a sx="[object Object]" data-testid="breadcrumbs-repo-link" class="Link__StyledLink-sc-14289xe-0 eVjWum" href="/harshitasaini469/Handwritten_digit_classification/tree/main">Handwritten_digit_classification</a></li></ol></nav><div data-testid="breadcrumbs-filename" class="Box-sc-g0xbh4-0 jwXCBK"><span aria-hidden="true" class="Text-sc-17v1xeu-0 ivLLle">/</span><h1 tabindex="-1" id="file-name-id-mobile" class="Heading__StyledHeading-sc-1c1dgg0-0 diwsLq">MNIST_Digit_Classification.ipynb</h1></div><button data-component="IconButton" type="button" aria-label="Copy path" data-testid="breadcrumb-copy-path-button" data-size="small" data-no-visuals="true" class="types__StyledButton-sc-ws60qy-0 bLPynQ"><svg aria-hidden="true" focusable="false" role="img" class="octicon octicon-copy" viewBox="0 0 16 16" width="16" height="16" fill="currentColor" style="display:inline-block;user-select:none;vertical-align:text-bottom;overflow:visible"><path d="M0 6.75C0 5.784.784 5 1.75 5h1.5a.75.75 0 0 1 0 1.5h-1.5a.25.25 0 0 0-.25.25v7.5c0 .138.112.25.25.25h7.5a.25.25 0 0 0 .25-.25v-1.5a.75.75 0 0 1 1.5 0v1.5A1.75 1.75 0 0 1 9.25 16h-7.5A1.75 1.75 0 0 1 0 14.25Z"></path><path d="M5 1.75C5 .784 5.784 0 6.75 0h7.5C15.216 0 16 .784 16 1.75v7.5A1.75 1.75 0 0 1 14.25 11h-7.5A1.75 1.75 0 0 1 5 9.25Zm1.75-.25a.25.25 0 0 0-.25.25v7.5c0 .138.112.25.25.25h7.5a.25.25 0 0 0 .25-.25v-7.5a.25.25 0 0 0-.25-.25Z"></path></svg></button></div></div></div></div><div id="StickyHeader" class="Box-sc-g0xbh4-0 bDwCYs react-code-view-header--wide"><div class="Box-sc-g0xbh4-0 fywjmm"><div class="Box-sc-g0xbh4-0 dyczTK"><div class="Box-sc-g0xbh4-0 kszRgZ"><div class="Box-sc-g0xbh4-0 eTvGbF"><nav data-testid="breadcrumbs" aria-labelledby="repos-header-breadcrumb-wide-heading" id="repos-header-breadcrumb-wide" class="Box-sc-g0xbh4-0 kzRgrI"><h2 class="Heading__StyledHeading-sc-1c1dgg0-0 cgQnMS sr-only" data-testid="screen-reader-heading" id="repos-header-breadcrumb-wide-heading">Breadcrumbs</h2><ol class="Box-sc-g0xbh4-0 cmAPIB"><li class="Box-sc-g0xbh4-0 jwXCBK"><a sx="[object Object]" data-testid="breadcrumbs-repo-link" class="Link__StyledLink-sc-14289xe-0 eVjWum" href="/harshitasaini469/Handwritten_digit_classification/tree/main">Handwritten_digit_classification</a></li></ol></nav><div data-testid="breadcrumbs-filename" class="Box-sc-g0xbh4-0 jwXCBK"><span aria-hidden="true" class="Text-sc-17v1xeu-0 ivLLle">/</span><h1 tabindex="-1" id="file-name-id-wide" class="Heading__StyledHeading-sc-1c1dgg0-0 diwsLq">MNIST_Digit_Classification.ipynb</h1></div><button data-component="IconButton" type="button" aria-label="Copy path" data-testid="breadcrumb-copy-path-button" data-size="small" data-no-visuals="true" class="types__StyledButton-sc-ws60qy-0 bLPynQ"><svg aria-hidden="true" focusable="false" role="img" class="octicon octicon-copy" viewBox="0 0 16 16" width="16" height="16" fill="currentColor" style="display:inline-block;user-select:none;vertical-align:text-bottom;overflow:visible"><path d="M0 6.75C0 5.784.784 5 1.75 5h1.5a.75.75 0 0 1 0 1.5h-1.5a.25.25 0 0 0-.25.25v7.5c0 .138.112.25.25.25h7.5a.25.25 0 0 0 .25-.25v-1.5a.75.75 0 0 1 1.5 0v1.5A1.75 1.75 0 0 1 9.25 16h-7.5A1.75 1.75 0 0 1 0 14.25Z"></path><path d="M5 1.75C5 .784 5.784 0 6.75 0h7.5C15.216 0 16 .784 16 1.75v7.5A1.75 1.75 0 0 1 14.25 11h-7.5A1.75 1.75 0 0 1 5 9.25Zm1.75-.25a.25.25 0 0 0-.25.25v7.5c0 .138.112.25.25.25h7.5a.25.25 0 0 0 .25-.25v-7.5a.25.25 0 0 0-.25-.25Z"></path></svg></button></div></div><div class="Box-sc-g0xbh4-0 gtBUEp"><div class="d-flex gap-2"> <button type="button" data-no-visuals="true" class="types__StyledButton-sc-ws60qy-0 iwEpzF"><span data-component="buttonContent" class="Box-sc-g0xbh4-0 kkrdEu"><span data-component="text">Blame</span></span></button><button hidden="" data-testid="" data-hotkey-scope="read-only-cursor-text-area"></button><button data-component="IconButton" type="button" aria-label="More file actions" class="types__StyledButton-sc-ws60qy-0 bNMwOz js-blob-dropdown-click" title="More file actions" data-testid="more-file-actions-button" id=":R9pkqjal5:" aria-haspopup="true" tabindex="0" data-no-visuals="true"><svg aria-hidden="true" focusable="false" role="img" class="octicon octicon-kebab-horizontal" viewBox="0 0 16 16" width="16" height="16" fill="currentColor" style="display:inline-block;user-select:none;vertical-align:text-bottom;overflow:visible"><path d="M8 9a1.5 1.5 0 1 0 0-3 1.5 1.5 0 0 0 0 3ZM1.5 9a1.5 1.5 0 1 0 0-3 1.5 1.5 0 0 0 0 3Zm13 0a1.5 1.5 0 1 0 0-3 1.5 1.5 0 0 0 0 3Z"></path></svg></button> </div></div></div></div></div></div></div><div class="Box-sc-g0xbh4-0 MERGN react-code-view-bottom-padding"> <div class="Box-sc-g0xbh4-0 cMYnca"></div><div class="Box-sc-g0xbh4-0"></div> <!-- --> <!-- --> </div><div class="Box-sc-g0xbh4-0 MERGN"> <!-- --> <!-- --> <div class="Box-sc-g0xbh4-0 kLxXov"><div class="Box-sc-g0xbh4-0 eYedVD"><h2 class="Heading__StyledHeading-sc-1c1dgg0-0 cgQnMS sr-only" data-testid="screen-reader-heading">Latest commit</h2><div style="width:120px" class="Skeleton Skeleton--text" data-testid="loading"> </div><div class="Box-sc-g0xbh4-0 jGfYmh"><div data-testid="latest-commit-details" class="Box-sc-g0xbh4-0 lhFvfi"></div><h2 class="Heading__StyledHeading-sc-1c1dgg0-0 cgQnMS sr-only" data-testid="screen-reader-heading">History</h2><a aria-label="Commit history" class="types__StyledButton-sc-ws60qy-0 fNmgkb react-last-commit-history-group" href="/harshitasaini469/Handwritten_digit_classification/commits/main/MNIST_Digit_Classification.ipynb" data-size="small"><span data-component="buttonContent" class="Box-sc-g0xbh4-0 kkrdEu"><span data-component="leadingVisual" class="Box-sc-g0xbh4-0 trpoQ"><svg aria-hidden="true" focusable="false" role="img" class="octicon octicon-history" viewBox="0 0 16 16" width="16" height="16" fill="currentColor" style="display:inline-block;user-select:none;vertical-align:text-bottom;overflow:visible"><path d="m.427 1.927 1.215 1.215a8.002 8.002 0 1 1-1.6 5.685.75.75 0 1 1 1.493-.154 6.5 6.5 0 1 0 1.18-4.458l1.358 1.358A.25.25 0 0 1 3.896 6H.25A.25.25 0 0 1 0 5.75V2.104a.25.25 0 0 1 .427-.177ZM7.75 4a.75.75 0 0 1 .75.75v2.992l2.028.812a.75.75 0 0 1-.557 1.392l-2.5-1A.751.751 0 0 1 7 8.25v-3.5A.75.75 0 0 1 7.75 4Z"></path></svg></span><span data-component="text"><span class="Text-sc-17v1xeu-0 ghRVGj">History</span></span></span></a><div class="Box-sc-g0xbh4-0 bqgLjk"></div><span role="tooltip" aria-label="Commit history" class="Tooltip__TooltipBase-sc-17tf59c-0 cXRxE tooltipped-n"><a aria-label="Commit history" class="types__StyledButton-sc-ws60qy-0 fNmgkb react-last-commit-history-icon" href="/harshitasaini469/Handwritten_digit_classification/commits/main/MNIST_Digit_Classification.ipynb"><span data-component="buttonContent" class="Box-sc-g0xbh4-0 kkrdEu"><span data-component="leadingVisual" class="Box-sc-g0xbh4-0 trpoQ"><svg aria-hidden="true" focusable="false" role="img" class="octicon octicon-history" viewBox="0 0 16 16" width="16" height="16" fill="currentColor" style="display:inline-block;user-select:none;vertical-align:text-bottom;overflow:visible"><path d="m.427 1.927 1.215 1.215a8.002 8.002 0 1 1-1.6 5.685.75.75 0 1 1 1.493-.154 6.5 6.5 0 1 0 1.18-4.458l1.358 1.358A.25.25 0 0 1 3.896 6H.25A.25.25 0 0 1 0 5.75V2.104a.25.25 0 0 1 .427-.177ZM7.75 4a.75.75 0 0 1 .75.75v2.992l2.028.812a.75.75 0 0 1-.557 1.392l-2.5-1A.751.751 0 0 1 7 8.25v-3.5A.75.75 0 0 1 7.75 4Z"></path></svg></span></span></a></span></div></div></div><div class="Box-sc-g0xbh4-0 iJmJly"><div class="Box-sc-g0xbh4-0 jACbi container"><div class="Box-sc-g0xbh4-0 bSdwWB react-code-size-details-banner"><div class="Box-sc-g0xbh4-0 fleZSW react-code-size-details-banner"><div class="Box-sc-g0xbh4-0 bZpGqz text-mono"><div title="145 KB" data-testid="blob-size" class="Truncate__StyledTruncate-sc-23o1d2-0 fUpWeN"><span class="Text-sc-17v1xeu-0 gPDEWA">2160 lines (2160 loc) · 145 KB</span></div></div></div><div class="Box-sc-g0xbh4-0 react-code-size-details-banner"><button style="--button-color:fg.default" type="button" id=":R2bqlajal5:" aria-haspopup="true" tabindex="0" data-testid="copilot-popover-button" data-size="small" class="types__StyledButton-sc-ws60qy-0 dQTpqF"><span data-component="buttonContent" class="Box-sc-g0xbh4-0 kkrdEu"><span data-component="leadingVisual" class="Box-sc-g0xbh4-0 trpoQ"><svg aria-hidden="true" focusable="false" role="img" class="octicon octicon-copilot" viewBox="0 0 16 16" width="16" height="16" fill="currentColor" style="display:inline-block;user-select:none;vertical-align:text-bottom;overflow:visible"><path d="M6.25 9a.75.75 0 0 1 .75.75v1.5a.75.75 0 0 1-1.5 0v-1.5A.75.75 0 0 1 6.25 9Zm4.25.75a.75.75 0 0 0-1.5 0v1.5a.75.75 0 0 0 1.5 0v-1.5Z"></path><path d="M7.86 1.77c.05.053.097.107.14.164.043-.057.09-.111.14-.164.681-.731 1.737-.9 2.943-.765 1.23.136 2.145.527 2.724 1.26.566.716.693 1.614.693 2.485 0 .572-.053 1.147-.254 1.655l.168.838.066.033A2.75 2.75 0 0 1 16 9.736V11c0 .24-.086.438-.156.567-.073.131-.16.253-.259.366-.18.21-.404.413-.605.58a10.19 10.19 0 0 1-.792.597l-.015.01-.006.004-.028.018a8.849 8.849 0 0 1-.456.281c-.307.177-.749.41-1.296.642C11.296 14.528 9.756 15 8 15c-1.756 0-3.296-.472-4.387-.935a12.28 12.28 0 0 1-1.296-.641 8.849 8.849 0 0 1-.456-.281l-.028-.02-.006-.003-.015-.01a10.593 10.593 0 0 1-.792-.596 5.264 5.264 0 0 1-.605-.58 2.133 2.133 0 0 1-.259-.367A1.189 1.189 0 0 1 0 11V9.736a2.75 2.75 0 0 1 1.52-2.46l.067-.033.167-.838C1.553 5.897 1.5 5.322 1.5 4.75c0-.87.127-1.77.693-2.485.579-.733 1.494-1.124 2.724-1.26 1.206-.134 2.262.034 2.944.765ZM3 7.824v4.261c.02.013.043.025.065.038.264.152.65.356 1.134.562.972.412 2.307.815 3.801.815 1.494 0 2.83-.403 3.8-.815.412-.174.813-.375 1.2-.6v-4.26l-.023-.116c-.49.21-1.075.291-1.727.291-1.146 0-2.06-.328-2.71-.991A3.233 3.233 0 0 1 8 6.266c-.144.269-.321.52-.54.743C6.81 7.672 5.896 8 4.75 8c-.652 0-1.236-.082-1.726-.291L3 7.824Zm6.237-5.031c-.204.218-.359.678-.242 1.614.091.726.303 1.23.618 1.553.299.304.784.54 1.638.54.922 0 1.28-.199 1.442-.38.179-.2.308-.578.308-1.37 0-.765-.123-1.242-.37-1.555-.233-.296-.693-.586-1.713-.7-1.044-.116-1.488.091-1.681.298Zm-2.472 0c-.193-.207-.637-.414-1.681-.298-1.02.114-1.48.404-1.713.7-.247.313-.37.79-.37 1.555 0 .792.129 1.17.308 1.37.162.181.52.38 1.442.38.854 0 1.339-.236 1.638-.54.315-.323.527-.827.618-1.553.117-.936-.038-1.396-.242-1.614Z"></path></svg></span><span data-component="text">Code 55% faster with GitHub Copilot</span></span></button></div></div><div class="Box-sc-g0xbh4-0 gBKNLX react-blob-view-header-sticky" id="repos-sticky-header"><div class="Box-sc-g0xbh4-0 ePiodO"><div class="Box-sc-g0xbh4-0 react-blob-sticky-header"><div class="Box-sc-g0xbh4-0 kQJlnf"><div class="Box-sc-g0xbh4-0 gJICKO"><div class="Box-sc-g0xbh4-0 iZJewz"><nav data-testid="breadcrumbs" aria-labelledby="sticky-breadcrumb-heading" id="sticky-breadcrumb" class="Box-sc-g0xbh4-0 kzRgrI"><h2 class="Heading__StyledHeading-sc-1c1dgg0-0 cgQnMS sr-only" data-testid="screen-reader-heading" id="sticky-breadcrumb-heading">Breadcrumbs</h2><ol class="Box-sc-g0xbh4-0 cmAPIB"><li class="Box-sc-g0xbh4-0 jwXCBK"><a sx="[object Object]" data-testid="breadcrumbs-repo-link" class="Link__StyledLink-sc-14289xe-0 eVjWum" href="/harshitasaini469/Handwritten_digit_classification/tree/main">Handwritten_digit_classification</a></li></ol></nav><div data-testid="breadcrumbs-filename" class="Box-sc-g0xbh4-0 jwXCBK"><span aria-hidden="true" class="Text-sc-17v1xeu-0 dZAxGI">/</span><h1 tabindex="-1" id="sticky-file-name-id" class="Heading__StyledHeading-sc-1c1dgg0-0 jAEDJk">MNIST_Digit_Classification.ipynb</h1></div></div><button style="--button-color:fg.default" type="button" data-size="small" class="types__StyledButton-sc-ws60qy-0 cpKQnD"><span data-component="buttonContent" class="Box-sc-g0xbh4-0 kkrdEu"><span data-component="leadingVisual" class="Box-sc-g0xbh4-0 trpoQ"><svg aria-hidden="true" focusable="false" role="img" class="octicon octicon-arrow-up" viewBox="0 0 16 16" width="16" height="16" fill="currentColor" style="display:inline-block;user-select:none;vertical-align:text-bottom;overflow:visible"><path d="M3.47 7.78a.75.75 0 0 1 0-1.06l4.25-4.25a.75.75 0 0 1 1.06 0l4.25 4.25a.751.751 0 0 1-.018 1.042.751.751 0 0 1-1.042.018L9 4.81v7.44a.75.75 0 0 1-1.5 0V4.81L4.53 7.78a.75.75 0 0 1-1.06 0Z"></path></svg></span><span data-component="text">Top</span></span></button></div></div></div><div class="Box-sc-g0xbh4-0 bvEDG"><h2 class="Heading__StyledHeading-sc-1c1dgg0-0 cgQnMS sr-only" data-testid="screen-reader-heading">File metadata and controls</h2><div class="Box-sc-g0xbh4-0 bfkNRF"><ul aria-label="File view" class="SegmentedControl__SegmentedControlList-sc-1rzig82-0 iYVwMz"><li class="Box-sc-g0xbh4-0 fXBLEV"><button aria-current="true" class="SegmentedControlButton__SegmentedControlButtonStyled-sc-8lkgxl-0 bDmUQT"><span class="segmentedControl-content"><div class="Box-sc-g0xbh4-0 segmentedControl-text">Preview</div></span></button></li><li class="Box-sc-g0xbh4-0 jkTWSe"><button aria-current="false" class="SegmentedControlButton__SegmentedControlButtonStyled-sc-8lkgxl-0 fzMylw"><span class="segmentedControl-content"><div class="Box-sc-g0xbh4-0 segmentedControl-text">Code</div></span></button></li><li class="Box-sc-g0xbh4-0 jkTWSe"><button aria-current="false" class="SegmentedControlButton__SegmentedControlButtonStyled-sc-8lkgxl-0 hBvGcq"><span class="segmentedControl-content"><div class="Box-sc-g0xbh4-0 segmentedControl-text">Blame</div></span></button></li></ul><button hidden="" data-testid="" data-hotkey-scope="read-only-cursor-text-area"></button><button hidden="" data-testid="" data-hotkey-scope="read-only-cursor-text-area"></button><button hidden="" data-testid="" data-hotkey-scope="read-only-cursor-text-area"></button><div class="Box-sc-g0xbh4-0 fleZSW react-code-size-details-in-header"><div class="Box-sc-g0xbh4-0 bZpGqz text-mono"><div title="145 KB" data-testid="blob-size" class="Truncate__StyledTruncate-sc-23o1d2-0 fUpWeN"><span class="Text-sc-17v1xeu-0 gPDEWA">2160 lines (2160 loc) · 145 KB</span></div></div></div><div class="Box-sc-g0xbh4-0 react-code-size-details-in-header"><button style="--button-color:fg.default" type="button" id=":R79jqlajal5:" aria-haspopup="true" tabindex="0" data-testid="copilot-popover-button" data-size="small" class="types__StyledButton-sc-ws60qy-0 dQTpqF"><span data-component="buttonContent" class="Box-sc-g0xbh4-0 kkrdEu"><span data-component="leadingVisual" class="Box-sc-g0xbh4-0 trpoQ"><svg aria-hidden="true" focusable="false" role="img" class="octicon octicon-copilot" viewBox="0 0 16 16" width="16" height="16" fill="currentColor" style="display:inline-block;user-select:none;vertical-align:text-bottom;overflow:visible"><path d="M6.25 9a.75.75 0 0 1 .75.75v1.5a.75.75 0 0 1-1.5 0v-1.5A.75.75 0 0 1 6.25 9Zm4.25.75a.75.75 0 0 0-1.5 0v1.5a.75.75 0 0 0 1.5 0v-1.5Z"></path><path d="M7.86 1.77c.05.053.097.107.14.164.043-.057.09-.111.14-.164.681-.731 1.737-.9 2.943-.765 1.23.136 2.145.527 2.724 1.26.566.716.693 1.614.693 2.485 0 .572-.053 1.147-.254 1.655l.168.838.066.033A2.75 2.75 0 0 1 16 9.736V11c0 .24-.086.438-.156.567-.073.131-.16.253-.259.366-.18.21-.404.413-.605.58a10.19 10.19 0 0 1-.792.597l-.015.01-.006.004-.028.018a8.849 8.849 0 0 1-.456.281c-.307.177-.749.41-1.296.642C11.296 14.528 9.756 15 8 15c-1.756 0-3.296-.472-4.387-.935a12.28 12.28 0 0 1-1.296-.641 8.849 8.849 0 0 1-.456-.281l-.028-.02-.006-.003-.015-.01a10.593 10.593 0 0 1-.792-.596 5.264 5.264 0 0 1-.605-.58 2.133 2.133 0 0 1-.259-.367A1.189 1.189 0 0 1 0 11V9.736a2.75 2.75 0 0 1 1.52-2.46l.067-.033.167-.838C1.553 5.897 1.5 5.322 1.5 4.75c0-.87.127-1.77.693-2.485.579-.733 1.494-1.124 2.724-1.26 1.206-.134 2.262.034 2.944.765ZM3 7.824v4.261c.02.013.043.025.065.038.264.152.65.356 1.134.562.972.412 2.307.815 3.801.815 1.494 0 2.83-.403 3.8-.815.412-.174.813-.375 1.2-.6v-4.26l-.023-.116c-.49.21-1.075.291-1.727.291-1.146 0-2.06-.328-2.71-.991A3.233 3.233 0 0 1 8 6.266c-.144.269-.321.52-.54.743C6.81 7.672 5.896 8 4.75 8c-.652 0-1.236-.082-1.726-.291L3 7.824Zm6.237-5.031c-.204.218-.359.678-.242 1.614.091.726.303 1.23.618 1.553.299.304.784.54 1.638.54.922 0 1.28-.199 1.442-.38.179-.2.308-.578.308-1.37 0-.765-.123-1.242-.37-1.555-.233-.296-.693-.586-1.713-.7-1.044-.116-1.488.091-1.681.298Zm-2.472 0c-.193-.207-.637-.414-1.681-.298-1.02.114-1.48.404-1.713.7-.247.313-.37.79-.37 1.555 0 .792.129 1.17.308 1.37.162.181.52.38 1.442.38.854 0 1.339-.236 1.638-.54.315-.323.527-.827.618-1.553.117-.936-.038-1.396-.242-1.614Z"></path></svg></span><span data-component="text">Code 55% faster with GitHub Copilot</span></span></button></div></div><div class="Box-sc-g0xbh4-0 iBylDf"><div class="Box-sc-g0xbh4-0 kSGBPx react-blob-header-edit-and-raw-actions"><div class="ButtonGroup-sc-1gxhls1-0 cjbBGq"><a href="https://github.com/harshitasaini469/Handwritten_digit_classification/raw/main/MNIST_Digit_Classification.ipynb" data-testid="raw-button" data-size="small" data-no-visuals="true" class="types__StyledButton-sc-ws60qy-0 guoGbh"><span data-component="buttonContent" class="Box-sc-g0xbh4-0 kkrdEu"><span data-component="text">Raw</span></span></a><button data-component="IconButton" type="button" aria-label="Copy raw content" data-testid="copy-raw-button" data-size="small" data-no-visuals="true" class="types__StyledButton-sc-ws60qy-0 iTETFQ"><svg aria-hidden="true" focusable="false" role="img" class="octicon octicon-copy" viewBox="0 0 16 16" width="16" height="16" fill="currentColor" style="display:inline-block;user-select:none;vertical-align:text-bottom;overflow:visible"><path d="M0 6.75C0 5.784.784 5 1.75 5h1.5a.75.75 0 0 1 0 1.5h-1.5a.25.25 0 0 0-.25.25v7.5c0 .138.112.25.25.25h7.5a.25.25 0 0 0 .25-.25v-1.5a.75.75 0 0 1 1.5 0v1.5A1.75 1.75 0 0 1 9.25 16h-7.5A1.75 1.75 0 0 1 0 14.25Z"></path><path d="M5 1.75C5 .784 5.784 0 6.75 0h7.5C15.216 0 16 .784 16 1.75v7.5A1.75 1.75 0 0 1 14.25 11h-7.5A1.75 1.75 0 0 1 5 9.25Zm1.75-.25a.25.25 0 0 0-.25.25v7.5c0 .138.112.25.25.25h7.5a.25.25 0 0 0 .25-.25v-7.5a.25.25 0 0 0-.25-.25Z"></path></svg></button><span role="tooltip" aria-label="Download raw file" class="Tooltip__TooltipBase-sc-17tf59c-0 cXRxE tooltipped-n"><button data-component="IconButton" type="button" aria-label="Download raw content" data-testid="download-raw-button" data-size="small" data-no-visuals="true" class="types__StyledButton-sc-ws60qy-0 cGEhqE"><svg aria-hidden="true" focusable="false" role="img" class="octicon octicon-download" viewBox="0 0 16 16" width="16" height="16" fill="currentColor" style="display:inline-block;user-select:none;vertical-align:text-bottom;overflow:visible"><path d="M2.75 14A1.75 1.75 0 0 1 1 12.25v-2.5a.75.75 0 0 1 1.5 0v2.5c0 .138.112.25.25.25h10.5a.25.25 0 0 0 .25-.25v-2.5a.75.75 0 0 1 1.5 0v2.5A1.75 1.75 0 0 1 13.25 14Z"></path><path d="M7.25 7.689V2a.75.75 0 0 1 1.5 0v5.689l1.97-1.969a.749.749 0 1 1 1.06 1.06l-3.25 3.25a.749.749 0 0 1-1.06 0L4.22 6.78a.749.749 0 1 1 1.06-1.06l1.97 1.969Z"></path></svg></button></span></div><button hidden="" data-testid="raw-button-shortcut" data-hotkey-scope="read-only-cursor-text-area"></button><button hidden="" data-testid="copy-raw-button-shortcut" data-hotkey-scope="read-only-cursor-text-area"></button><button hidden="" data-testid="download-raw-button-shortcut" data-hotkey-scope="read-only-cursor-text-area"></button><a class="Link__StyledLink-sc-14289xe-0 fIqerb js-github-dev-shortcut d-none" href="https://github.dev/"></a><button hidden="" data-testid="" data-hotkey-scope="read-only-cursor-text-area"></button><a class="Link__StyledLink-sc-14289xe-0 fIqerb js-github-dev-new-tab-shortcut d-none" href="https://github.dev/" target="_blank"></a><button hidden="" data-testid="" data-hotkey-scope="read-only-cursor-text-area"></button><div class="ButtonGroup-sc-1gxhls1-0 cjbBGq"><span role="tooltip" aria-label="Edit this file" class="Tooltip__TooltipBase-sc-17tf59c-0 cXRxE tooltipped-nw"><a sx="[object Object]" data-component="IconButton" type="button" aria-label="Edit file" data-testid="edit-button" data-size="small" data-no-visuals="true" class="types__StyledButton-sc-ws60qy-0 jtzLHK" href="/harshitasaini469/Handwritten_digit_classification/edit/main/MNIST_Digit_Classification.ipynb"><svg aria-hidden="true" focusable="false" role="img" class="octicon octicon-pencil" viewBox="0 0 16 16" width="16" height="16" fill="currentColor" style="display:inline-block;user-select:none;vertical-align:text-bottom;overflow:visible"><path d="M11.013 1.427a1.75 1.75 0 0 1 2.474 0l1.086 1.086a1.75 1.75 0 0 1 0 2.474l-8.61 8.61c-.21.21-.47.364-.756.445l-3.251.93a.75.75 0 0 1-.927-.928l.929-3.25c.081-.286.235-.547.445-.758l8.61-8.61Zm.176 4.823L9.75 4.81l-6.286 6.287a.253.253 0 0 0-.064.108l-.558 1.953 1.953-.558a.253.253 0 0 0 .108-.064Zm1.238-3.763a.25.25 0 0 0-.354 0L10.811 3.75l1.439 1.44 1.263-1.263a.25.25 0 0 0 0-.354Z"></path></svg></a></span><button data-component="IconButton" type="button" aria-label="More edit options" data-testid="more-edit-button" id=":Rl9pjqlajal5:" aria-haspopup="true" tabindex="0" data-size="small" data-no-visuals="true" class="types__StyledButton-sc-ws60qy-0 iTETFQ"><svg aria-hidden="true" focusable="false" role="img" class="octicon octicon-triangle-down" viewBox="0 0 16 16" width="16" height="16" fill="currentColor" style="display:inline-block;user-select:none;vertical-align:text-bottom;overflow:visible"><path d="m4.427 7.427 3.396 3.396a.25.25 0 0 0 .354 0l3.396-3.396A.25.25 0 0 0 11.396 7H4.604a.25.25 0 0 0-.177.427Z"></path></svg></button></div><button hidden="" data-testid="" data-hotkey="e,E" data-hotkey-scope="read-only-cursor-text-area"></button></div><div class="Box-sc-g0xbh4-0 react-blob-header-edit-and-raw-actions-combined"><button data-component="IconButton" type="button" aria-label="Edit and raw actions" class="types__StyledButton-sc-ws60qy-0 dObcAW js-blob-dropdown-click" title="More file actions" data-testid="more-file-actions-button" id=":R1fpjqlajal5:" aria-haspopup="true" tabindex="0" data-size="small" data-no-visuals="true"><svg aria-hidden="true" focusable="false" role="img" class="octicon octicon-kebab-horizontal" viewBox="0 0 16 16" width="16" height="16" fill="currentColor" style="display:inline-block;user-select:none;vertical-align:text-bottom;overflow:visible"><path d="M8 9a1.5 1.5 0 1 0 0-3 1.5 1.5 0 0 0 0 3ZM1.5 9a1.5 1.5 0 1 0 0-3 1.5 1.5 0 0 0 0 3Zm13 0a1.5 1.5 0 1 0 0-3 1.5 1.5 0 0 0 0 3Z"></path></svg></button></div></div></div></div><div class="Box-sc-g0xbh4-0"></div></div><div class="Box-sc-g0xbh4-0 flDsrw"><section aria-labelledby="file-name-id-wide file-name-id-mobile" class="Box-sc-g0xbh4-0 eJsjkT"><!--$!--><template></template><div data-testid="suspense-spinner" class="Box-sc-g0xbh4-0 bAzdCq"><svg height="32px" width="32px" viewBox="0 0 16 16" fill="none" aria-label="Loading" class="Spinner__StyledSpinner-sc-1knt686-0 hPEVNM"><circle cx="8" cy="8" r="7" stroke="currentColor" stroke-opacity="0.25" stroke-width="2" vector-effect="non-scaling-stroke"></circle><path d="M15 8a7.002 7.002 0 00-7-7" stroke="currentColor" stroke-width="2" stroke-linecap="round" vector-effect="non-scaling-stroke"></path></svg></div><!--/$--></section></div></div></div> <!-- --> <!-- --> </div></div></div><div class="Box-sc-g0xbh4-0"></div></div></div></div></div><div id="find-result-marks-container" class="Box-sc-g0xbh4-0 aZrVR"></div><button hidden="" data-testid="" data-hotkey-scope="read-only-cursor-text-area"></button><button hidden=""></button></div> <!-- --> <!-- --> <!-- --> <script type="application/json" id="__PRIMER_DATA__">{"resolvedServerColorMode":"day"}</script></div>
</react-app>
</turbo-frame>



  </div>

</turbo-frame>

    </main>
  </div>

  </div>

          <footer class="footer width-full container-xl p-responsive" role="contentinfo">
  <h2 class='sr-only'>Footer</h2>

  <div class="position-relative d-flex flex-items-center pb-2 f6 color-fg-muted border-top color-border-muted flex-column-reverse flex-lg-row flex-wrap flex-lg-nowrap mt-6 pt-6">
    <div class="list-style-none d-flex flex-wrap col-0 col-lg-2 flex-justify-start flex-lg-justify-between mb-2 mb-lg-0">
      <div class="mt-2 mt-lg-0 d-flex flex-items-center">
        <a aria-label="Homepage" title="GitHub" class="footer-octicon mr-2" href="https://github.com">
          <svg aria-hidden="true" height="24" viewBox="0 0 16 16" version="1.1" width="24" data-view-component="true" class="octicon octicon-mark-github">
    <path d="M8 0c4.42 0 8 3.58 8 8a8.013 8.013 0 0 1-5.45 7.59c-.4.08-.55-.17-.55-.38 0-.27.01-1.13.01-2.2 0-.75-.25-1.23-.54-1.48 1.78-.2 3.65-.88 3.65-3.95 0-.88-.31-1.59-.82-2.15.08-.2.36-1.02-.08-2.12 0 0-.67-.22-2.2.82-.64-.18-1.32-.27-2-.27-.68 0-1.36.09-2 .27-1.53-1.03-2.2-.82-2.2-.82-.44 1.1-.16 1.92-.08 2.12-.51.56-.82 1.28-.82 2.15 0 3.06 1.86 3.75 3.64 3.95-.23.2-.44.55-.51 1.07-.46.21-1.61.55-2.33-.66-.15-.24-.6-.83-1.23-.82-.67.01-.27.38.01.53.34.19.73.9.82 1.13.16.45.68 1.31 2.69.94 0 .67.01 1.3.01 1.49 0 .21-.15.45-.55.38A7.995 7.995 0 0 1 0 8c0-4.42 3.58-8 8-8Z"></path>
</svg>
</a>        <span>
        &copy; 2023 GitHub, Inc.
        </span>
      </div>
    </div>

    <nav aria-label='Footer' class="col-12 col-lg-8">
      <h3 class='sr-only' id='sr-footer-heading'>Footer navigation</h3>
      <ul class="list-style-none d-flex flex-wrap col-12 flex-justify-center flex-lg-justify-between mb-2 mb-lg-0" aria-labelledby='sr-footer-heading'>
          <li class="mr-3 mr-lg-0"><a href="https://docs.github.com/site-policy/github-terms/github-terms-of-service" data-analytics-event="{&quot;category&quot;:&quot;Footer&quot;,&quot;action&quot;:&quot;go to terms&quot;,&quot;label&quot;:&quot;text:terms&quot;}">Terms</a></li>
          <li class="mr-3 mr-lg-0"><a href="https://docs.github.com/site-policy/privacy-policies/github-privacy-statement" data-analytics-event="{&quot;category&quot;:&quot;Footer&quot;,&quot;action&quot;:&quot;go to privacy&quot;,&quot;label&quot;:&quot;text:privacy&quot;}">Privacy</a></li>
          <li class="mr-3 mr-lg-0"><a data-analytics-event="{&quot;category&quot;:&quot;Footer&quot;,&quot;action&quot;:&quot;go to security&quot;,&quot;label&quot;:&quot;text:security&quot;}" href="https://github.com/security">Security</a></li>
          <li class="mr-3 mr-lg-0"><a href="https://www.githubstatus.com/" data-analytics-event="{&quot;category&quot;:&quot;Footer&quot;,&quot;action&quot;:&quot;go to status&quot;,&quot;label&quot;:&quot;text:status&quot;}">Status</a></li>
          <li class="mr-3 mr-lg-0"><a data-ga-click="Footer, go to help, text:Docs" href="https://docs.github.com">Docs</a></li>
          <li class="mr-3 mr-lg-0"><a href="https://support.github.com?tags=dotcom-footer" data-analytics-event="{&quot;category&quot;:&quot;Footer&quot;,&quot;action&quot;:&quot;go to contact&quot;,&quot;label&quot;:&quot;text:contact&quot;}">Contact GitHub</a></li>
          <li class="mr-3 mr-lg-0"><a href="https://github.com/pricing" data-analytics-event="{&quot;category&quot;:&quot;Footer&quot;,&quot;action&quot;:&quot;go to Pricing&quot;,&quot;label&quot;:&quot;text:Pricing&quot;}">Pricing</a></li>
        <li class="mr-3 mr-lg-0"><a href="https://docs.github.com" data-analytics-event="{&quot;category&quot;:&quot;Footer&quot;,&quot;action&quot;:&quot;go to api&quot;,&quot;label&quot;:&quot;text:api&quot;}">API</a></li>
        <li class="mr-3 mr-lg-0"><a href="https://services.github.com" data-analytics-event="{&quot;category&quot;:&quot;Footer&quot;,&quot;action&quot;:&quot;go to training&quot;,&quot;label&quot;:&quot;text:training&quot;}">Training</a></li>
          <li class="mr-3 mr-lg-0"><a href="https://github.blog" data-analytics-event="{&quot;category&quot;:&quot;Footer&quot;,&quot;action&quot;:&quot;go to blog&quot;,&quot;label&quot;:&quot;text:blog&quot;}">Blog</a></li>
          <li><a data-ga-click="Footer, go to about, text:about" href="https://github.com/about">About</a></li>
      </ul>
    </nav>
  </div>

  <div class="d-flex flex-justify-center pb-6">
    <span class="f6 color-fg-muted"></span>
  </div>
</footer>




  <div id="ajax-error-message" class="ajax-error-message flash flash-error" hidden>
    <svg aria-hidden="true" height="16" viewBox="0 0 16 16" version="1.1" width="16" data-view-component="true" class="octicon octicon-alert">
    <path d="M6.457 1.047c.659-1.234 2.427-1.234 3.086 0l6.082 11.378A1.75 1.75 0 0 1 14.082 15H1.918a1.75 1.75 0 0 1-1.543-2.575Zm1.763.707a.25.25 0 0 0-.44 0L1.698 13.132a.25.25 0 0 0 .22.368h12.164a.25.25 0 0 0 .22-.368Zm.53 3.996v2.5a.75.75 0 0 1-1.5 0v-2.5a.75.75 0 0 1 1.5 0ZM9 11a1 1 0 1 1-2 0 1 1 0 0 1 2 0Z"></path>
</svg>
    <button type="button" class="flash-close js-ajax-error-dismiss" aria-label="Dismiss error">
      <svg aria-hidden="true" height="16" viewBox="0 0 16 16" version="1.1" width="16" data-view-component="true" class="octicon octicon-x">
    <path d="M3.72 3.72a.75.75 0 0 1 1.06 0L8 6.94l3.22-3.22a.749.749 0 0 1 1.275.326.749.749 0 0 1-.215.734L9.06 8l3.22 3.22a.749.749 0 0 1-.326 1.275.749.749 0 0 1-.734-.215L8 9.06l-3.22 3.22a.751.751 0 0 1-1.042-.018.751.751 0 0 1-.018-1.042L6.94 8 3.72 4.78a.75.75 0 0 1 0-1.06Z"></path>
</svg>
    </button>
    You can’t perform that action at this time.
  </div>

    <template id="site-details-dialog">
  <details class="details-reset details-overlay details-overlay-dark lh-default color-fg-default hx_rsm" open>
    <summary role="button" aria-label="Close dialog"></summary>
    <details-dialog class="Box Box--overlay d-flex flex-column anim-fade-in fast hx_rsm-dialog hx_rsm-modal">
      <button class="Box-btn-octicon m-0 btn-octicon position-absolute right-0 top-0" type="button" aria-label="Close dialog" data-close-dialog>
        <svg aria-hidden="true" height="16" viewBox="0 0 16 16" version="1.1" width="16" data-view-component="true" class="octicon octicon-x">
    <path d="M3.72 3.72a.75.75 0 0 1 1.06 0L8 6.94l3.22-3.22a.749.749 0 0 1 1.275.326.749.749 0 0 1-.215.734L9.06 8l3.22 3.22a.749.749 0 0 1-.326 1.275.749.749 0 0 1-.734-.215L8 9.06l-3.22 3.22a.751.751 0 0 1-1.042-.018.751.751 0 0 1-.018-1.042L6.94 8 3.72 4.78a.75.75 0 0 1 0-1.06Z"></path>
</svg>
      </button>
      <div class="octocat-spinner my-6 js-details-dialog-spinner"></div>
    </details-dialog>
  </details>
</template>

    <div class="Popover js-hovercard-content position-absolute" style="display: none; outline: none;" tabindex="0">
  <div class="Popover-message Popover-message--bottom-left Popover-message--large Box color-shadow-large" style="width:360px;">
  </div>
</div>

    <template id="snippet-clipboard-copy-button">
  <div class="zeroclipboard-container position-absolute right-0 top-0">
    <clipboard-copy aria-label="Copy" class="ClipboardButton btn js-clipboard-copy m-2 p-0 tooltipped-no-delay" data-copy-feedback="Copied!" data-tooltip-direction="w">
      <svg aria-hidden="true" height="16" viewBox="0 0 16 16" version="1.1" width="16" data-view-component="true" class="octicon octicon-copy js-clipboard-copy-icon m-2">
    <path d="M0 6.75C0 5.784.784 5 1.75 5h1.5a.75.75 0 0 1 0 1.5h-1.5a.25.25 0 0 0-.25.25v7.5c0 .138.112.25.25.25h7.5a.25.25 0 0 0 .25-.25v-1.5a.75.75 0 0 1 1.5 0v1.5A1.75 1.75 0 0 1 9.25 16h-7.5A1.75 1.75 0 0 1 0 14.25Z"></path><path d="M5 1.75C5 .784 5.784 0 6.75 0h7.5C15.216 0 16 .784 16 1.75v7.5A1.75 1.75 0 0 1 14.25 11h-7.5A1.75 1.75 0 0 1 5 9.25Zm1.75-.25a.25.25 0 0 0-.25.25v7.5c0 .138.112.25.25.25h7.5a.25.25 0 0 0 .25-.25v-7.5a.25.25 0 0 0-.25-.25Z"></path>
</svg>
      <svg aria-hidden="true" height="16" viewBox="0 0 16 16" version="1.1" width="16" data-view-component="true" class="octicon octicon-check js-clipboard-check-icon color-fg-success d-none m-2">
    <path d="M13.78 4.22a.75.75 0 0 1 0 1.06l-7.25 7.25a.75.75 0 0 1-1.06 0L2.22 9.28a.751.751 0 0 1 .018-1.042.751.751 0 0 1 1.042-.018L6 10.94l6.72-6.72a.75.75 0 0 1 1.06 0Z"></path>
</svg>
    </clipboard-copy>
  </div>
</template>
<template id="snippet-clipboard-copy-button-unpositioned">
  <div class="zeroclipboard-container">
    <clipboard-copy aria-label="Copy" class="ClipboardButton btn btn-invisible js-clipboard-copy m-2 p-0 tooltipped-no-delay d-flex flex-justify-center flex-items-center" data-copy-feedback="Copied!" data-tooltip-direction="w">
      <svg aria-hidden="true" height="16" viewBox="0 0 16 16" version="1.1" width="16" data-view-component="true" class="octicon octicon-copy js-clipboard-copy-icon">
    <path d="M0 6.75C0 5.784.784 5 1.75 5h1.5a.75.75 0 0 1 0 1.5h-1.5a.25.25 0 0 0-.25.25v7.5c0 .138.112.25.25.25h7.5a.25.25 0 0 0 .25-.25v-1.5a.75.75 0 0 1 1.5 0v1.5A1.75 1.75 0 0 1 9.25 16h-7.5A1.75 1.75 0 0 1 0 14.25Z"></path><path d="M5 1.75C5 .784 5.784 0 6.75 0h7.5C15.216 0 16 .784 16 1.75v7.5A1.75 1.75 0 0 1 14.25 11h-7.5A1.75 1.75 0 0 1 5 9.25Zm1.75-.25a.25.25 0 0 0-.25.25v7.5c0 .138.112.25.25.25h7.5a.25.25 0 0 0 .25-.25v-7.5a.25.25 0 0 0-.25-.25Z"></path>
</svg>
      <svg aria-hidden="true" height="16" viewBox="0 0 16 16" version="1.1" width="16" data-view-component="true" class="octicon octicon-check js-clipboard-check-icon color-fg-success d-none">
    <path d="M13.78 4.22a.75.75 0 0 1 0 1.06l-7.25 7.25a.75.75 0 0 1-1.06 0L2.22 9.28a.751.751 0 0 1 .018-1.042.751.751 0 0 1 1.042-.018L6 10.94l6.72-6.72a.75.75 0 0 1 1.06 0Z"></path>
</svg>
    </clipboard-copy>
  </div>
</template>


    <style>
      .user-mention[href$="/MeghnaNa06"] {
        color: var(--color-user-mention-fg);
        background-color: var(--color-user-mention-bg);
        border-radius: 2px;
        margin-left: -2px;
        margin-right: -2px;
        padding: 0 2px;
      }
    </style>


    </div>

    <div id="js-global-screen-reader-notice" class="sr-only" aria-live="polite" aria-atomic="true" ></div>
    <div id="js-global-screen-reader-notice-assertive" class="sr-only" aria-live="assertive" aria-atomic="true"></div>
  </body>
</html>

